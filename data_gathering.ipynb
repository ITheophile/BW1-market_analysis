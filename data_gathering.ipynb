{
 "cells": [
  {
   "cell_type": "code",
   "execution_count": 13,
   "metadata": {},
   "outputs": [],
   "source": [
    "import requests\n",
    "from bs4  import BeautifulSoup\n",
    "import pandas as pd\n",
    "\n",
    "from time import sleep\n",
    "from random import randint\n",
    "from warnings import warn\n",
    "from IPython.core.display import clear_output\n",
    "from time import time"
   ]
  },
  {
   "cell_type": "markdown",
   "metadata": {},
   "source": [
    "# Data Needed\n",
    "name 1 webscraping    \n",
    "Price range, reflected in € symbol ($= under $10. $$=11-30. $$$=31-60. $$$$= over $61) convert to euro.  1 webscraping    \n",
    "Rating  1 webscraping  \n",
    "Number of reviews  1 webscraping   \n",
    "Category (List)  1 webscraping \n",
    "Neighborhood   \n",
    "\n",
    "Location (any way to check proximity to popular places?)  2 webscraping  \n",
    "Opening and closing time  2 webscraping  \n",
    "Number of photos  2 webscraping  \n",
    "Website 2 webscraping    \n",
    "Features (List)  2 webscraping  \n",
    "  \n",
    "\n"
   ]
  },
  {
   "cell_type": "markdown",
   "metadata": {},
   "source": [
    "## Restaurants"
   ]
  },
  {
   "cell_type": "code",
   "execution_count": 150,
   "metadata": {},
   "outputs": [],
   "source": [
    "url = f\"https://www.yelp.com/search?find_desc=Restaurant&find_loc=Barcelona%2C+Spain&start=0\"\n",
    "response = requests.get(url)\n"
   ]
  },
  {
   "cell_type": "code",
   "execution_count": 26,
   "metadata": {},
   "outputs": [],
   "source": [
    "#  1 webscraping Hotels\n",
    "# Monitoring of the loop\n",
    "# start_time = time()\n",
    "# request = 0\n",
    "\n",
    "# # Dictionary for storing web content\n",
    "# soup_r = {}\n",
    "# for start_num in range(0, 240, 10):\n",
    "\n",
    "#     # Make a request\n",
    "#     url = f\"https://www.yelp.com/search?find_desc=Restaurant&find_loc=Barcelona%2C+Spain&start={start_num}\"\n",
    "#     response = requests.get(url)\n",
    "\n",
    "#     # Pause the loop\n",
    "#     sleep(randint(8,15))\n",
    "#     print(response)\n",
    "#     page = BeautifulSoup(response.content, 'html.parser')\n",
    "#     soup_r[start_num] = page\n",
    "\n",
    "\n",
    "#     # Monitor the requests\n",
    "#     request += 1\n",
    "#     elapsed_time = time() - start_time\n",
    "#     print('Request:{}; Frequency: {} requests/s'.format(request, request/elapsed_time))\n",
    "#     clear_output(wait = True)\n",
    "\n",
    "#     # Throw a warning if request wasn't successful\n",
    "#     if response.status_code != 200:\n",
    "#         warn('Request: {}; Status code: {}'.format(request, response.status_code))"
   ]
  },
  {
   "cell_type": "code",
   "execution_count": 55,
   "metadata": {},
   "outputs": [],
   "source": [
    "# save to csv\n",
    "pd.DataFrame([soup_r]).to_csv('restaurant_soup.csv')"
   ]
  },
  {
   "cell_type": "code",
   "execution_count": 46,
   "metadata": {},
   "outputs": [],
   "source": [
    "# Study case with first restaurant\n",
    "# link to more information about each business\n",
    "\n",
    "\n",
    "# accessing each business through its link in the name\n",
    "first_page = pd.read_csv('restaurant_soup').drop(columns='Unnamed: 0').squeeze()[0]\n",
    "first_page = BeautifulSoup(first_page, 'html.parser')\n",
    "first_resto = first_page.select('.css-1egxyvc .css-1m051bw')[0]\n",
    "link = first_resto['href']\n",
    "url = f'https://wwww.yelp.com{link}'\n",
    "response = requests.get(url)\n",
    "details = BeautifulSoup(response.content, 'html.parser')\n"
   ]
  },
  {
   "cell_type": "code",
   "execution_count": 159,
   "metadata": {},
   "outputs": [],
   "source": [
    "# details about each business\n",
    "# request = 0\n",
    "# start_time = time()\n",
    "\n",
    "# soup_r2 = pd.DataFrame() \n",
    "# ser = pd.read_csv('restaurant_soup').drop(columns='Unnamed: 0').squeeze()\n",
    "# for row in ser:\n",
    "#     page = BeautifulSoup(row, 'html.parser')\n",
    "#     a_tags = page.select('.css-1egxyvc .css-1m051bw')\n",
    "#     for tag in a_tags:\n",
    "#         # print(tag)\n",
    "#         name = tag.text\n",
    "#         link = tag['href']\n",
    "#         url = f'https://wwww.yelp.com{link}'\n",
    "#         response = requests.get(url)\n",
    "\n",
    "#         # Pause the loop\n",
    "#         sleep(randint(8,15))\n",
    "#         print(response)\n",
    "#         page = BeautifulSoup(response.content, 'html.parser')\n",
    "#         soup_r2[name] = [page]\n",
    "\n",
    "#         # Monitor the requests\n",
    "#         request += 1\n",
    "#         elapsed_time = time() - start_time\n",
    "#         print('Request:{}; Frequency: {} requests/s'.format(request, request/elapsed_time))\n",
    "\n",
    "#         # Throw a warning if request wasn't successful\n",
    "#         if response.status_code != 200:\n",
    "#             warn('Request: {}; Status code: {}'.format(request, response.status_code))"
   ]
  },
  {
   "cell_type": "code",
   "execution_count": 162,
   "metadata": {},
   "outputs": [
    {
     "data": {
      "text/plain": [
       "Cerveseria Catalana             <!DOCTYPE html>\\n<html lang=\"en-US\" prefix=\"og...\n",
       "My Fucking Restaurant           <!DOCTYPE html>\\n<html lang=\"en-US\" prefix=\"og...\n",
       "Ciutat Comtal                   <!DOCTYPE html>\\n<html lang=\"en-US\" prefix=\"og...\n",
       "Tapeo                           <!DOCTYPE html>\\n<html lang=\"en-US\" prefix=\"og...\n",
       "Arume                           <!DOCTYPE html>\\n<html lang=\"en-US\" prefix=\"og...\n",
       "                                                      ...                        \n",
       "Casa Dorita                     <!DOCTYPE html>\\n<html lang=\"en-US\" prefix=\"og...\n",
       "Palmito Beach Bar               <!DOCTYPE html>\\n<html lang=\"en-US\" prefix=\"og...\n",
       "Takumi Sapporo Ramen Kitchen    <!DOCTYPE html>\\n<html lang=\"en-US\" prefix=\"og...\n",
       "Bosque Palermo                  <!DOCTYPE html>\\n<html lang=\"en-US\" prefix=\"og...\n",
       "Son Hao                         <!DOCTYPE html>\\n<html lang=\"en-US\" prefix=\"og...\n",
       "Name: 0, Length: 207, dtype: object"
      ]
     },
     "execution_count": 162,
     "metadata": {},
     "output_type": "execute_result"
    }
   ],
   "source": [
    "# soup_r2.to_csv('restaurant_soup2.csv')"
   ]
  },
  {
   "cell_type": "code",
   "execution_count": 164,
   "metadata": {},
   "outputs": [],
   "source": [
    "res_soup2 = pd.read_csv('restaurant_soup2.csv').drop(columns='Unnamed: 0').squeeze()\n",
    "\n"
   ]
  },
  {
   "cell_type": "code",
   "execution_count": 166,
   "metadata": {},
   "outputs": [
    {
     "data": {
      "text/plain": [
       "Index(['Cerveseria Catalana', 'My Fucking Restaurant', 'Ciutat Comtal',\n",
       "       'Tapeo', 'Arume', 'Taquerías Tamarindo', 'Vinitus', 'Somorrostro',\n",
       "       'Cañete', 'Firebug',\n",
       "       ...\n",
       "       'Chez Cocó', 'Portolés', 'Bo de Gracia', 'Margherita', 'Bar Nolla',\n",
       "       'Casa Dorita', 'Palmito Beach Bar', 'Takumi Sapporo Ramen Kitchen',\n",
       "       'Bosque Palermo', 'Son Hao'],\n",
       "      dtype='object', length=207)"
      ]
     },
     "execution_count": 166,
     "metadata": {},
     "output_type": "execute_result"
    }
   ],
   "source": [
    "overloaded = soup_r2.squeeze()\n",
    "res_soup2.index"
   ]
  },
  {
   "cell_type": "code",
   "execution_count": 175,
   "metadata": {},
   "outputs": [
    {
     "data": {
      "text/plain": [
       "Index(['Hotel 1898', 'W Barcelona', 'Hotel Continental Barcelona',\n",
       "       'Pulitzer Barcelona', 'Le Méridien Barcelona', 'Hotel Cotton House',\n",
       "       'Hotel Ayre Roselon', 'Hotel Majestic', 'Renaissance Barcelona Hotel',\n",
       "       'Villa Emilia',\n",
       "       ...\n",
       "       'Hotel Ciutat Barcelona', 'Tryp Apolo Hotel', 'Franquesa Malaguti',\n",
       "       'Petit Palace Boqueria Garden', 'Hotel Casa Camper',\n",
       "       'Holiday Inn Express', 'Siete Cero DOS Limpiezas Gestionadas',\n",
       "       'Hotel Apsis Porta Marina', 'Hotel Catalonia', 'Banquetes Reunidos'],\n",
       "      dtype='object', length=162)"
      ]
     },
     "execution_count": 175,
     "metadata": {},
     "output_type": "execute_result"
    }
   ],
   "source": [
    "overloaded.index[208:]"
   ]
  },
  {
   "cell_type": "code",
   "execution_count": 181,
   "metadata": {},
   "outputs": [
    {
     "data": {
      "text/plain": [
       "Index(['230', '220', '210', '200', '190', '180', '170', '160', '150', '140'], dtype='object')"
      ]
     },
     "execution_count": 181,
     "metadata": {},
     "output_type": "execute_result"
    }
   ],
   "source": [
    "pd.read_csv('hotel_soup.csv').drop(columns='Unnamed: 0').squeeze().index[::-1][:10]"
   ]
  },
  {
   "cell_type": "code",
   "execution_count": 149,
   "metadata": {},
   "outputs": [
    {
     "data": {
      "text/plain": [
       "'Carrer de Mallorca, 236 ;08008 Barcelona ;Spain ;'"
      ]
     },
     "execution_count": 149,
     "metadata": {},
     "output_type": "execute_result"
    }
   ],
   "source": [
    "# Example, extracting location\n",
    "location = ''\n",
    "for adress in soup_r2['Cerveseria Catalana'][0].select('address .raw__09f24__T4Ezm'):\n",
    "    location += adress.text + ';'\n",
    "\n",
    "\n",
    "location"
   ]
  },
  {
   "cell_type": "code",
   "execution_count": 134,
   "metadata": {},
   "outputs": [
    {
     "data": {
      "text/plain": [
       "La Paradeta               5\n",
       "Paella Bar                2\n",
       "El Xampanyet              2\n",
       "Kamasot                   2\n",
       "Obe Restaurant            2\n",
       "                         ..\n",
       "Ciutat Comtal             1\n",
       "Can Paixano               1\n",
       "Gata Mala                 1\n",
       "La Cuina d’ en Garriga    1\n",
       "Rosa Negra                1\n",
       "Length: 207, dtype: int64"
      ]
     },
     "execution_count": 134,
     "metadata": {},
     "output_type": "execute_result"
    }
   ],
   "source": [
    "names = []\n",
    "ser = pd.read_csv('restaurant_soup').drop(columns='Unnamed: 0').squeeze()\n",
    "for row in ser:\n",
    "    soup = BeautifulSoup(row, 'html.parser')\n",
    "    result = soup.select('.css-1egxyvc .css-1m051bw')\n",
    "    for tag in result:\n",
    "        names.append(tag.text)\n",
    "\n",
    "pd.Series(names).value_counts()"
   ]
  },
  {
   "cell_type": "markdown",
   "metadata": {},
   "source": [
    "## Hotels"
   ]
  },
  {
   "cell_type": "code",
   "execution_count": 14,
   "metadata": {},
   "outputs": [
    {
     "name": "stdout",
     "output_type": "stream",
     "text": [
      "<Response [200]>\n",
      "Request:24; Frequency: 0.07495654273124801 requests/s\n"
     ]
    }
   ],
   "source": [
    "#  1 webscraping Hotels\n",
    "# Monitoring of the loop\n",
    "# start_time = time()\n",
    "# request = 0\n",
    "\n",
    "# # Dictionary for storing web content\n",
    "# soup_h = {}\n",
    "# for start_num in range(0, 240, 10):\n",
    "\n",
    "#     # Make a request\n",
    "#     url = f\"https://www.yelp.com/search?find_desc=Hotels&find_loc=Barcelona%2C+Spain&start={start_num}\"\n",
    "#     response = requests.get(url)\n",
    "\n",
    "#     # Pause the loop\n",
    "#     sleep(randint(8,15))\n",
    "#     print(response)\n",
    "#     page = BeautifulSoup(response.content, 'html.parser')\n",
    "#     soup_h[start_num] = page\n",
    "\n",
    "\n",
    "#     # Monitor the requests\n",
    "#     request += 1\n",
    "#     elapsed_time = time() - start_time\n",
    "#     print('Request:{}; Frequency: {} requests/s'.format(request, request/elapsed_time))\n",
    "#     clear_output(wait = True)\n",
    "\n",
    "#     # Throw a warning if request wasn't successful\n",
    "#     if response.status_code != 200:\n",
    "#         warn('Request: {}; Status code: {}'.format(request, response.status_code))\n"
   ]
  },
  {
   "cell_type": "code",
   "execution_count": 22,
   "metadata": {},
   "outputs": [],
   "source": [
    "# save soup_h\n",
    "pd.DataFrame([soup_h]).to_csv('hotel_soup.csv')"
   ]
  },
  {
   "cell_type": "code",
   "execution_count": 115,
   "metadata": {},
   "outputs": [
    {
     "data": {
      "text/plain": [
       "['Barceló Raval',\n",
       " 'Hotel 1898',\n",
       " 'W Barcelona',\n",
       " 'Hotel Continental Barcelona',\n",
       " 'Pulitzer Barcelona',\n",
       " 'Le Méridien Barcelona',\n",
       " 'Hotel Cotton House',\n",
       " 'Hotel Ayre Roselon',\n",
       " 'Hotel Majestic',\n",
       " 'Renaissance Barcelona Hotel',\n",
       " 'Villa Emilia',\n",
       " 'Hotel Arts Barcelona',\n",
       " 'Mandarin Oriental',\n",
       " 'Hotel Jazz',\n",
       " 'K+K Hotel Picasso Barcelona',\n",
       " 'Hotel Europark',\n",
       " 'Grand Hotel Central',\n",
       " 'Hotel Barcelona 1882',\n",
       " 'Alma Barcelona',\n",
       " 'Novotel Barcelona City',\n",
       " 'Casa Fuster',\n",
       " 'The Barcelona EDITION',\n",
       " 'Hotel Barcelona Universal',\n",
       " 'Hotel NH Collection Barcelona Gran Hotel Calderón',\n",
       " 'H10 Madison',\n",
       " 'Claris',\n",
       " 'Alexandra Barcelona Hotel',\n",
       " 'Hilton Barcelona Hotel',\n",
       " 'Hotel Duquesa de Cardona',\n",
       " 'Hotel Mercer',\n",
       " 'Casa Bonay',\n",
       " 'El Palace',\n",
       " 'Hotel Praktik',\n",
       " 'Hotel U232',\n",
       " 'Soho House',\n",
       " 'Hotel Catalonia Born',\n",
       " 'Hotel Condes de Barcelona',\n",
       " 'Hotel Sofia',\n",
       " 'Olivia Balmes',\n",
       " 'Colonial',\n",
       " 'Best Western Premier Hotel Dante',\n",
       " 'Arc la Rambla',\n",
       " 'Vividora',\n",
       " 'Hotel Colón',\n",
       " 'H10 Port Vell',\n",
       " 'Barcelona Airport Hotel',\n",
       " 'Hotel España Ramblas',\n",
       " 'Hotel Ohla',\n",
       " 'AC Hotel Diagonal L’iIlla',\n",
       " 'The Wittmore',\n",
       " 'Hilton Diagonal Mar',\n",
       " 'The One',\n",
       " 'Hotel Catalonia Port',\n",
       " 'Hotel Barcelona Catedral',\n",
       " 'The Serras',\n",
       " 'Sir Victor Hotel',\n",
       " 'Room Mate Carla Hotel',\n",
       " 'Gallery Hotel',\n",
       " 'Iberostar Selection Paseo de Gracia',\n",
       " 'Hostal Grau Barcelona',\n",
       " 'Renaissance Barcelona Fira Hotel',\n",
       " 'Do',\n",
       " 'AC Hotel by Marriott Irla',\n",
       " 'Axel',\n",
       " 'Hotel Sagrada Familia',\n",
       " 'Hotel Turin',\n",
       " 'Hotel NH Collection Barcelona Pódium',\n",
       " 'Eurostars Grand Marina',\n",
       " 'Neri',\n",
       " 'Millenni',\n",
       " 'Hotel Cram',\n",
       " 'Sallés Hotel',\n",
       " 'Hotel Catalonia Eixample 1864',\n",
       " 'Hotel Sixty Two',\n",
       " 'Hotel Condal',\n",
       " 'Rafaelhoteles Badalona',\n",
       " 'Ayre Hotel Rosellón',\n",
       " 'Andante Hotel',\n",
       " 'Gaudi Hotel Barcelona',\n",
       " 'H10 Catalunya Plaza',\n",
       " 'Siresa Europea',\n",
       " 'Gotico Hotel',\n",
       " 'Majestic Residence',\n",
       " 'Hotel Catalonia Park Guell',\n",
       " 'Nobu Hotel Barcelona',\n",
       " 'Royal Ramblas Hotel',\n",
       " 'H10 Casa Mimosa',\n",
       " 'Praktik Rambla',\n",
       " 'Constanza',\n",
       " 'Hotel Occidental Atenea Mar',\n",
       " 'Olivia Plaza Hotel',\n",
       " 'Barcelona Nouvel Hotel',\n",
       " 'Ayre Hotel Caspe',\n",
       " 'Avenida Palace',\n",
       " 'The Mirror Hotel',\n",
       " 'Equity Point Centric',\n",
       " 'Hotel Medium Prisma',\n",
       " 'Hotel Curious',\n",
       " 'Hotel Lleó',\n",
       " 'Le Palacete',\n",
       " 'Hotel Catalonia 505',\n",
       " 'Ramblas 108',\n",
       " 'Hotel Regencia Colon',\n",
       " 'Hotel Del Mar',\n",
       " 'Room Mate Pau Hotel',\n",
       " 'Alimara',\n",
       " 'Hotel Catalonia Diagonal Centro',\n",
       " 'Park Hotel',\n",
       " 'Hotel Crowne Plaza Fira Center',\n",
       " 'AC Hotel by Marriott Barcelona Forum',\n",
       " 'Hotel 54 Barceloneta',\n",
       " 'Hotel Balmes',\n",
       " 'Jorsu Catalana',\n",
       " 'Senator Barcelona',\n",
       " 'Gaudi Hotel Barcelona',\n",
       " 'Gaudí',\n",
       " 'Ibis',\n",
       " 'The Corner Hotel',\n",
       " 'Hotel Nouvel',\n",
       " 'Motel One',\n",
       " 'Campanile Barcelona Sud-Cornella',\n",
       " 'Royal',\n",
       " 'Monument Hotel',\n",
       " 'Room Mate Anna Hotel',\n",
       " 'Hotel Acta Splendid',\n",
       " 'NH Constanza',\n",
       " 'AC Hotel by Marriott Sants',\n",
       " 'hotels barcelona spain',\n",
       " 'Soho Barcelona',\n",
       " 'Hostalin Barcelona',\n",
       " 'Casa Marcelo',\n",
       " 'AC Hotel by Marriott Victoria Suites',\n",
       " 'Colors',\n",
       " 'Hesperia Presidente',\n",
       " 'Hotel Miramar',\n",
       " 'Hotel Medicis',\n",
       " 'Hotel NH Porta Barcelona',\n",
       " 'Hotel Ciutadella Barcelona',\n",
       " 'St. Christopher’s Inn',\n",
       " 'B Hotel',\n",
       " 'Catalonia Barcelona Golf',\n",
       " 'Mihlton',\n",
       " 'Ilunion Almirante',\n",
       " 'Hotel Peninsular',\n",
       " 'Banys Oriental',\n",
       " 'Hotel Capri by Fraser',\n",
       " 'Hotel Granados 83',\n",
       " 'Hotel Oasis',\n",
       " 'Ámister Art Hotel',\n",
       " 'Hotel Regina',\n",
       " 'St. Christopher’s Inn',\n",
       " 'Silken Concordia',\n",
       " 'H10 Art Gallery',\n",
       " 'Gran Hotel Havana',\n",
       " 'AC Hotel by Marriott Som',\n",
       " 'Hotel Ciutat Barcelona',\n",
       " 'Tryp Apolo Hotel',\n",
       " 'Franquesa Malaguti',\n",
       " 'Petit Palace Boqueria Garden',\n",
       " 'Hotel Casa Camper',\n",
       " 'Holiday Inn Express',\n",
       " 'Siete Cero DOS Limpiezas Gestionadas',\n",
       " 'Hotel Apsis Porta Marina',\n",
       " 'Hotel Catalonia',\n",
       " 'Banquetes Reunidos',\n",
       " 'Fonda Espanya',\n",
       " 'Exe Laietana Palace',\n",
       " 'Hotel H10',\n",
       " 'H10 Metropolitan',\n",
       " 'Hotel Ohla Eixample',\n",
       " 'Well and Come',\n",
       " 'Hotel La Casa del Sol',\n",
       " 'Meliá Barcelona',\n",
       " 'Hotel Del Compte',\n",
       " 'NH Eixample',\n",
       " 'HCC Montblanc',\n",
       " 'Hotel Bagués',\n",
       " 'Hotel Porta Fira',\n",
       " 'Santa Marta',\n",
       " 'Petit Palace Museum',\n",
       " 'Two Hotel',\n",
       " 'Ibis Barcelona Centro',\n",
       " 'Ficfrei',\n",
       " 'H10 Cubik',\n",
       " 'Fedasosa',\n",
       " 'Hotel Advance',\n",
       " 'Praktik Garden',\n",
       " 'Hotel Barcelona House',\n",
       " 'Hotel NH Barcelona Les Corts',\n",
       " 'Four Points by Sheraton Barcelona Diagonal',\n",
       " 'Four Points by Sheraton Barcelona Diagonal',\n",
       " 'Hotel Apsis Sant Angelo',\n",
       " 'ABaC Hotel',\n",
       " 'Hotel Nuñez Urgel Comte D’urgell, 232',\n",
       " 'Silken Sant Gervasi',\n",
       " 'Wilson',\n",
       " 'Hostemplo',\n",
       " 'Gestion Hotelera Ballester',\n",
       " 'Hotel Pelayo',\n",
       " 'Sunotel BCN',\n",
       " 'Acta Mimic',\n",
       " 'Marin Gonzalez Gabriel',\n",
       " 'Hotel America',\n",
       " 'Hotel Abba Garden',\n",
       " 'Hotel Catalonia Portal de l’Angel',\n",
       " 'City Park Hotel Sant Just',\n",
       " 'Mercer Hoteles',\n",
       " 'Hotel Reding',\n",
       " 'Acta BCN 40',\n",
       " 'OD Barcelona',\n",
       " 'Acta BCN 40',\n",
       " 'OD Barcelona',\n",
       " 'Pullman',\n",
       " 'Hotel NH Barcelona Entenza',\n",
       " 'Hoteles Solvasa',\n",
       " 'Hotel Ibis',\n",
       " 'Fairmont Rey Juan Carlos I',\n",
       " 'Intown Europe',\n",
       " 'Rey Don Jaime I',\n",
       " 'Vincci Gala 4',\n",
       " 'H10 Montcada',\n",
       " 'Almanac',\n",
       " 'Hotel Denit',\n",
       " 'Hotel Midmost',\n",
       " 'Hotel Front Maritim',\n",
       " 'Hotel Granvía',\n",
       " 'roig cerrudo,ana 000950091r slne',\n",
       " 'Sabor Intens',\n",
       " 'Aparthotel Silver',\n",
       " 'Chic&Basic Velvet',\n",
       " 'Chic&Basic Velvet',\n",
       " 'Hotel Catalonia Plaza Catalunya',\n",
       " 'Omnium',\n",
       " 'Ibis Styles',\n",
       " 'Patacolls',\n",
       " 'Hotel Fira Congress',\n",
       " 'ANBA Bed And Breakfast',\n",
       " 'Chic & Basic Lemon Boutique',\n",
       " 'Tres Torres Atiram',\n",
       " 'Abba Rambla']"
      ]
     },
     "execution_count": 115,
     "metadata": {},
     "output_type": "execute_result"
    }
   ],
   "source": [
    "# scraping from saved dataframe\n",
    "names = []\n",
    "ser = pd.read_csv('hotel_soup.csv').drop(columns='Unnamed: 0').squeeze()\n",
    "for row in ser:\n",
    "    soup = BeautifulSoup(row, 'html.parser')\n",
    "    result = soup.select('.css-1egxyvc .css-1m051bw')\n",
    "    for tag in result:\n",
    "        names.append(tag.text)\n",
    "\n",
    "names"
   ]
  },
  {
   "cell_type": "code",
   "execution_count": 190,
   "metadata": {},
   "outputs": [
    {
     "data": {
      "text/plain": [
       "Index(['230', '220', '210', '200', '190', '180', '170', '160', '150', '140'], dtype='object')"
      ]
     },
     "execution_count": 190,
     "metadata": {},
     "output_type": "execute_result"
    }
   ],
   "source": [
    "pd.read_csv('hotel_soup.csv').drop(columns='Unnamed: 0').squeeze()[:13:-1].index"
   ]
  },
  {
   "cell_type": "code",
   "execution_count": 155,
   "metadata": {},
   "outputs": [],
   "source": [
    "# details about each business\n",
    "request = 0\n",
    "start_time = time()\n",
    "\n",
    "soup_h2 = pd.DataFrame() \n",
    "ser = pd.read_csv('hotel_soup.csv').drop(columns='Unnamed: 0').squeeze()\n",
    "for row in ser[:13:-1]:\n",
    "    page = BeautifulSoup(row, 'html.parser')\n",
    "    a_tags = page.select('.css-1egxyvc .css-1m051bw')\n",
    "    for tag in a_tags:\n",
    "        # print(tag)\n",
    "        name = tag.text\n",
    "        link = tag['href']\n",
    "        url = f'https://wwww.yelp.com{link}'\n",
    "        response = requests.get(url)\n",
    "\n",
    "        # Pause the loop\n",
    "        sleep(randint(8,15))\n",
    "        print(response)\n",
    "        page = BeautifulSoup(response.content, 'html.parser')\n",
    "        soup_h2[name] = [page]\n",
    "\n",
    "        # Monitor the requests\n",
    "        request += 1\n",
    "        elapsed_time = time() - start_time\n",
    "        print('Request:{}; Frequency: {} requests/s'.format(request, request/elapsed_time))\n",
    "\n",
    "        # Throw a warning if request wasn't successful\n",
    "        if response.status_code != 200:\n",
    "            warn('Request: {}; Status code: {}'.format(request, response.status_code))"
   ]
  },
  {
   "cell_type": "code",
   "execution_count": 158,
   "metadata": {},
   "outputs": [
    {
     "data": {
      "text/plain": [
       "Index(['Cerveseria Catalana', 'My Fucking Restaurant', 'Ciutat Comtal',\n",
       "       'Tapeo', 'Arume', 'Taquerías Tamarindo', 'Vinitus', 'Somorrostro',\n",
       "       'Cañete', 'Firebug',\n",
       "       ...\n",
       "       'Hotel Ciutat Barcelona', 'Tryp Apolo Hotel', 'Franquesa Malaguti',\n",
       "       'Petit Palace Boqueria Garden', 'Hotel Casa Camper',\n",
       "       'Holiday Inn Express', 'Siete Cero DOS Limpiezas Gestionadas',\n",
       "       'Hotel Apsis Porta Marina', 'Hotel Catalonia', 'Banquetes Reunidos'],\n",
       "      dtype='object', length=370)"
      ]
     },
     "execution_count": 158,
     "metadata": {},
     "output_type": "execute_result"
    }
   ],
   "source": []
  },
  {
   "cell_type": "markdown",
   "metadata": {},
   "source": [
    "## Pubs"
   ]
  },
  {
   "cell_type": "code",
   "execution_count": 156,
   "metadata": {},
   "outputs": [
    {
     "data": {
      "text/plain": [
       "Index([], dtype='object')"
      ]
     },
     "execution_count": 156,
     "metadata": {},
     "output_type": "execute_result"
    }
   ],
   "source": [
    "soup_h2.keys()"
   ]
  },
  {
   "cell_type": "code",
   "execution_count": 20,
   "metadata": {},
   "outputs": [
    {
     "name": "stdout",
     "output_type": "stream",
     "text": [
      "<Response [200]>\n",
      "Request:24; Frequency: 0.07382303659802342 requests/s\n"
     ]
    }
   ],
   "source": [
    "#  1 webscraping Hotels\n",
    "# Monitoring of the loop\n",
    "# start_time = time()\n",
    "# request = 0\n",
    "\n",
    "# # Dictionary for storing web content\n",
    "# soup_p = {}\n",
    "# for start_num in range(0, 240, 10):\n",
    "\n",
    "#     # Make a request\n",
    "#     url = f\"https://www.yelp.com/search?find_desc=Pubs&find_loc=Barcelona%2C+Spain&start={start_num}\"\n",
    "#     response = requests.get(url)\n",
    "\n",
    "#     # Pause the loop\n",
    "#     sleep(randint(8,15))\n",
    "#     print(response)\n",
    "#     page = BeautifulSoup(response.content, 'html.parser')\n",
    "#     soup_p[start_num] = page\n",
    "\n",
    "\n",
    "#     # Monitor the requests\n",
    "#     request += 1\n",
    "#     elapsed_time = time() - start_time\n",
    "#     print('Request:{}; Frequency: {} requests/s'.format(request, request/elapsed_time))\n",
    "#     clear_output(wait = True)\n",
    "\n",
    "#     # Throw a warning if request wasn't successful\n",
    "#     if response.status_code != 200:\n",
    "#         warn('Request: {}; Status code: {}'.format(request, response.status_code))"
   ]
  },
  {
   "cell_type": "code",
   "execution_count": 23,
   "metadata": {},
   "outputs": [],
   "source": [
    "# save soup_p\n",
    "pd.DataFrame([soup_p]).to_csv('pub_soup.csv')"
   ]
  },
  {
   "cell_type": "code",
   "execution_count": 110,
   "metadata": {},
   "outputs": [],
   "source": [
    "# scraping from saved dataframe\n",
    "names = []\n",
    "ser = pd.read_csv('pub_soup.csv').drop(columns='Unnamed: 0').squeeze()\n",
    "for row in ser:\n",
    "    soup = BeautifulSoup(row, 'html.parser')\n",
    "    result = soup.select('.css-1egxyvc .css-1m051bw')\n",
    "    for tag in result:\n",
    "        names.append(tag.text)\n",
    "        # names.append(tag.text.split('.')[1].replace('\\xa0', ''))\n",
    "\n",
    "# names"
   ]
  }
 ],
 "metadata": {
  "interpreter": {
   "hash": "db4d94f7962dcc818ea238f62a69636fa41bd28f5daf8a9f9234f6ae986cf5d4"
  },
  "kernelspec": {
   "display_name": "Python 3.8.12 ('strive')",
   "language": "python",
   "name": "python3"
  },
  "language_info": {
   "codemirror_mode": {
    "name": "ipython",
    "version": 3
   },
   "file_extension": ".py",
   "mimetype": "text/x-python",
   "name": "python",
   "nbconvert_exporter": "python",
   "pygments_lexer": "ipython3",
   "version": "3.8.12"
  },
  "orig_nbformat": 4
 },
 "nbformat": 4,
 "nbformat_minor": 2
}
