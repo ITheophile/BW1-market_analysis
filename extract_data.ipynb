{
 "cells": [
  {
   "cell_type": "code",
   "execution_count": 3,
   "metadata": {},
   "outputs": [],
   "source": [
    "import pandas as pd\n",
    "from bs4  import BeautifulSoup\n",
    "import numpy as np"
   ]
  },
  {
   "cell_type": "markdown",
   "metadata": {},
   "source": [
    "# Restaurants"
   ]
  },
  {
   "cell_type": "code",
   "execution_count": 4,
   "metadata": {},
   "outputs": [],
   "source": [
    "resto_soup = pd.read_csv('restaurant_soup').drop(columns='Unnamed: 0').squeeze()\n",
    "resto_soup2 = pd.read_csv('restaurant_soup2.csv').drop(columns='Unnamed: 0').squeeze()"
   ]
  },
  {
   "cell_type": "code",
   "execution_count": 5,
   "metadata": {},
   "outputs": [
    {
     "data": {
      "text/plain": [
       "Index(['Cerveseria Catalana', 'My Fucking Restaurant', 'Ciutat Comtal',\n",
       "       'Tapeo', 'Arume', 'Taquerías Tamarindo', 'Vinitus', 'Somorrostro',\n",
       "       'Cañete', 'Firebug',\n",
       "       ...\n",
       "       'Chez Cocó', 'Portolés', 'Bo de Gracia', 'Margherita', 'Bar Nolla',\n",
       "       'Casa Dorita', 'Palmito Beach Bar', 'Takumi Sapporo Ramen Kitchen',\n",
       "       'Bosque Palermo', 'Son Hao'],\n",
       "      dtype='object', length=207)"
      ]
     },
     "execution_count": 5,
     "metadata": {},
     "output_type": "execute_result"
    }
   ],
   "source": [
    "resto_soup2.index"
   ]
  },
  {
   "cell_type": "code",
   "execution_count": 6,
   "metadata": {},
   "outputs": [
    {
     "data": {
      "text/plain": [
       "Index(['0', '10', '20', '30', '40', '50', '60', '70', '80', '90', '100', '110',\n",
       "       '120', '130', '140', '150', '160', '170', '180', '190', '200', '210',\n",
       "       '220', '230'],\n",
       "      dtype='object')"
      ]
     },
     "execution_count": 6,
     "metadata": {},
     "output_type": "execute_result"
    }
   ],
   "source": [
    "resto_soup.index\n"
   ]
  },
  {
   "cell_type": "code",
   "execution_count": 7,
   "metadata": {},
   "outputs": [],
   "source": [
    "# restaurant name\n",
    "r_name = []\n",
    "for row in resto_soup:  # row contain 10 restaurants\n",
    "    soup = BeautifulSoup(row, 'html.parser')\n",
    "    result = soup.select('.css-1egxyvc .css-1m051bw')\n",
    "    for tag in result:\n",
    "        # print(tag.text)\n",
    "        r_name.append(tag.text)"
   ]
  },
  {
   "cell_type": "code",
   "execution_count": 8,
   "metadata": {},
   "outputs": [
    {
     "data": {
      "text/plain": [
       "La Paradeta                    5\n",
       "Estimar                        2\n",
       "Els Sortidors del Parlament    2\n",
       "Eden                           2\n",
       "Federal                        2\n",
       "                              ..\n",
       "Las Sorrentinas                1\n",
       "Luigi                          1\n",
       "Chen Ji                        1\n",
       "El Quim de la Boqueria         1\n",
       "Son Hao                        1\n",
       "Length: 207, dtype: int64"
      ]
     },
     "execution_count": 8,
     "metadata": {},
     "output_type": "execute_result"
    }
   ],
   "source": [
    "# It's like there are duplicates\n",
    "pd.Series(r_name).value_counts()"
   ]
  },
  {
   "cell_type": "code",
   "execution_count": 9,
   "metadata": {},
   "outputs": [],
   "source": [
    "price_range = []\n",
    "container_class = 'container__09f24__mpR8_ hoverable__09f24__wQ_on margin-t3__09f24__riq4X margin-b3__09f24__l9v5d padding-t3__09f24__TMrIW padding-r3__09f24__eaF7p padding-b3__09f24__S8R2d padding-l3__09f24__IOjKY border--top__09f24__exYYb border--right__09f24__X7Tln border--bottom__09f24___mg5X border--left__09f24__DMOkM border-color--default__09f24__NPAKY'\n",
    "for row in resto_soup:\n",
    "    soup = BeautifulSoup(row, 'html.parser')\n",
    "    result = soup.find_all(class_ = container_class)\n",
    "    for tag in result:\n",
    "        header_text = tag.div.div.div.nextSibling.div\n",
    "        price = header_text.select_one('.css-1s7bx9e')\n",
    "        if price is not None:\n",
    "            price_range.append(price.text)\n",
    "        else:\n",
    "            price_range.append(np.nan)\n",
    "\n",
    "        # print(   pd.Series(header_text).str.extract(r'(€+)').squeeze()   )\n",
    "        # print('-'*100)\n",
    "    "
   ]
  },
  {
   "cell_type": "code",
   "execution_count": 34,
   "metadata": {},
   "outputs": [
    {
     "data": {
      "text/plain": [
       "[]"
      ]
     },
     "execution_count": 34,
     "metadata": {},
     "output_type": "execute_result"
    }
   ],
   "source": [
    "# ratings = []\n",
    "# for row in resto_soup:\n",
    "#     soup = BeautifulSoup(row, 'html.parser')\n",
    "#     result = soup.find_all(class_ = container_class)\n",
    "#     for tag in result:\n",
    "#         header_text = tag.div.div.div.nextSibling.div.div.div.nextSibling.div.div.div.span.div\n",
    "#         rating = header_text.select('aria_label')\n",
    "#         for r in rating:\n",
    "#             print(r.find_next_sibling.text())\n",
    "#         # if rating is not None:\n",
    "#         #     ratings.append(rating)\n",
    "#         # else:\n",
    "#         #     rating.append(np.nan)\n",
    "\n",
    "# rating"
   ]
  },
  {
   "cell_type": "code",
   "execution_count": 11,
   "metadata": {},
   "outputs": [],
   "source": [
    "review_count = []\n",
    "\n",
    "for row in resto_soup:\n",
    "    soup = BeautifulSoup(row, 'html.parser')\n",
    "    result = soup.find_all(class_ = container_class)\n",
    "    for tag in result:\n",
    "        header_text = tag.div.div.div.nextSibling.div\n",
    "        reviews = header_text.select_one('.css-chan6m')\n",
    "        if reviews is not None:\n",
    "            review_count.append(reviews.text)\n",
    "        else:\n",
    "            review_count.append(np.nan)"
   ]
  },
  {
   "cell_type": "code",
   "execution_count": 19,
   "metadata": {},
   "outputs": [],
   "source": [
    "category_list = []\n",
    "\n",
    "for row in resto_soup:\n",
    "    soup = BeautifulSoup(row, 'html.parser')\n",
    "    result = soup.find_all(class_ = container_class)\n",
    "    for tag in result:\n",
    "        header_text = tag.div.div.div.nextSibling.div\n",
    "        category = header_text.select_one('.css-dd1rsv')\n",
    "        if category is not None:\n",
    "            category_list.append(category.text)\n",
    "        else:\n",
    "            category_list.append(np.nan)\n",
    "\n"
   ]
  },
  {
   "cell_type": "code",
   "execution_count": 21,
   "metadata": {},
   "outputs": [],
   "source": [
    "neighbourhood_list = []\n",
    "for row in resto_soup:\n",
    "    soup = BeautifulSoup(row, 'html.parser')\n",
    "    result = soup.find_all(class_ = container_class)\n",
    "    for tag in result:\n",
    "        header_text = tag.div.div.div.nextSibling.div\n",
    "        neighbourhood = header_text.select_one('.css-dzq7l1 .css-chan6m')\n",
    "        if neighbourhood is not None:\n",
    "            neighbourhood_list.append(neighbourhood.text)\n",
    "        else:\n",
    "            neighbourhood_list.append(np.nan)\n"
   ]
  },
  {
   "cell_type": "code",
   "execution_count": 35,
   "metadata": {},
   "outputs": [
    {
     "name": "stdout",
     "output_type": "stream",
     "text": [
      "Cerveseria Catalana €€ 1279 Spanish L'Eixample\n",
      "My Fucking Restaurant €€€ 89 Catalan El Raval\n",
      "Ciutat Comtal €€ 1120 Tapas Bars L'Eixample\n",
      "Tapeo €€ 451 Tapas Bars Sant Pere, Santa Caterina i la Ribera-Born\n",
      "Arume €€ 633 Mediterranean El Raval\n",
      "Taquerías Tamarindo € 208 Mexican L'Eixample\n",
      "Vinitus €€ 304 Tapas Bars L'Eixample\n",
      "Somorrostro €€ 368 Catalan Barceloneta\n",
      "Cañete €€€ 392 Tapas/Small Plates El Raval\n",
      "Firebug €€ 125 Tapas Bars L'Eixample\n",
      "El Nacional €€ 330 Seafood L'Eixample\n",
      "Firebug €€ 125 Tapas Bars L'Eixample\n",
      "Tucco Real Food Born € 618 Argentine Sant Pere, Santa Caterina i la Ribera-Born\n",
      "Disfrutar €€€€ 110 Modern European L'Eixample\n",
      "Tosca €€ 240 Spanish Sant Pere, Santa Caterina i la Ribera-Born\n",
      "Brunch & Cake €€ 852 Breakfast & Brunch L'Eixample\n",
      "Can Paixano € 378 Tapas/Small Plates Sant Pere, Santa Caterina i la Ribera-Born\n",
      "El Pintxo de Petritxol €€ 109 Basque Barri Gòtic\n",
      "Boa-Bao nan 6 Cocktail Bars L'Eixample\n",
      "El Asador de Aranda €€€ 28 Steakhouses L'Eixample\n",
      "El Asador de Aranda €€€ 28 Steakhouses L'Eixample\n",
      "Restaurant La Tasqueta de Blai € 230 Tapas Bars El Poble-sec\n",
      "Telefèric €€ 178 Tapas/Small Plates L'Eixample\n",
      "Arcano €€€ 292 Spanish Sant Pere, Santa Caterina i la Ribera-Born\n",
      "Tickets €€€€ 195 Tapas Bars L'Eixample\n",
      "El Jardín del Edén nan 16 Tapas Bars El Raval\n",
      "Cera 23 €€ 555 Spanish El Raval\n",
      "A Tu Bola € 79 Tapas/Small Plates El Raval\n",
      "Guell €€ 64 Tapas/Small Plates El Raval\n",
      "Bar Mut €€€ 149 Wine Bars L'Eixample\n",
      "Buenos Aires €€ 55 Steakhouses L'Eixample\n",
      "Le Romane nan 12 Italian L'Eixample\n",
      "La Pepita €€ 514 Tapas Bars Gràcia\n",
      "Bar Mut €€€ 149 Wine Bars L'Eixample\n",
      "Cachitos €€ 98 Tapas Bars L'Eixample\n",
      "2254 €€€ 62 French L'Eixample\n",
      "Federal € 55 Cafeteria Barri Gòtic\n",
      "A Tu Bola € 79 Tapas/Small Plates El Raval\n",
      "Lizarran € 52 Tapas Bars L'Eixample\n",
      "Momo €€ 23 Spanish Barri Gòtic\n",
      "Paradiso €€ 105 Spanish Sant Pere, Santa Caterina i la Ribera-Born\n",
      "Sensi €€ 377 Tapas/Small Plates Barri Gòtic\n",
      "Alsur Café € 325 Breakfast & Brunch L'Eixample\n",
      "2254 €€€ 62 French L'Eixample\n",
      "Maitea €€ 128 Spanish L'Eixample\n",
      "Federal € 55 Cafeteria Barri Gòtic\n",
      "Betlem €€ 61 Gastropubs L'Eixample\n",
      "Llamber €€€ 133 Spanish Sant Pere, Santa Caterina i la Ribera-Born\n",
      "Micu Maku € 13 Arroceria / Paella L'Eixample\n",
      "O’Toxo 3 Hermanos €€ 92 Spanish El Raval\n",
      "Bilbao Berria €€ 152 Spanish Barri Gòtic\n",
      "La Cuina de Laietana €€ 23 Mediterranean Barri Gòtic\n",
      "Macchina € 32 Bars L'Eixample\n",
      "Bo de Boqueria nan 15 Spanish El Raval\n",
      "Caravelle €€ 223 Breakfast & Brunch El Raval\n",
      "La Bodegueta €€€ 36 Spanish L'Eixample\n",
      "Raó nan 32 Mediterranean El Raval\n",
      "Terrace la Isabela €€€ 2 Spanish El Raval\n",
      "El Vaso de Oro €€ 178 Tapas Bars Barceloneta\n",
      "9 Nine €€€ 45 Mediterranean L'Eixample\n",
      "Paco Alcalde €€ 41 Seafood Barceloneta\n",
      "Xian nan 11 Chinese Barri Gòtic\n",
      "Casa Alfonso €€ 108 Tapas Bars L'Eixample\n",
      "La Caravana € 15 Middle Eastern Gràcia\n",
      "Mosquito € 144 Asian Fusion Sant Pere, Santa Caterina i la Ribera-Born\n",
      "Nubar nan 4 Spanish L'Eixample\n",
      "Quimet & Quimet €€ 454 Tapas Bars El Poble-sec\n",
      "La Bombeta €€ 84 Tapas Bars Barceloneta\n",
      "Billy Brunch nan 42 Breakfast & Brunch L'Eixample\n",
      "Citizen Café €€ 53 Breakfast & Brunch L'Eixample\n",
      "Pinotxo Bar €€ 218 Spanish El Raval\n",
      "Gata Mala € 140 Tapas Bars Gràcia\n",
      "Elsa y Fred €€ 149 Breakfast & Brunch Sant Pere, Santa Caterina i la Ribera-Born\n",
      "Flax & Kale €€ 265 Spanish El Raval\n",
      "La Tagliatella €€ 72 Italian L'Eixample\n",
      "Milk Bar & Bistro €€ 431 American (Traditional) Barri Gòtic\n",
      "Eat My Trip €€ 73 Breakfast & Brunch L'Eixample\n",
      "Chongqing Liuyishou Hotpot nan 5 Chinese L'Eixample\n",
      "Benzina nan 13 Italian L'Eixample\n",
      "El Arbol Brunch €€ 39 Modern European L'Eixample\n",
      "Las Sorrentinas € 44 Italian Sant Pere, Santa Caterina i la Ribera-Born\n",
      "Eat My Trip €€ 73 Breakfast & Brunch L'Eixample\n",
      "Luigi €€ 43 Pizza L'Eixample\n",
      "Billy Brunch nan 42 Breakfast & Brunch L'Eixample\n",
      "Chen Ji € 98 Chinese L'Eixample\n",
      "El Quim de la Boqueria €€ 253 Tapas Bars El Raval\n",
      "Rosa Negra €€ 230 Mexican Sant Pere, Santa Caterina i la Ribera-Born\n",
      "La Paradeta €€€ 44 Seafood L'Eixample\n",
      "Babula nan 2 Cocktail Bars L'Eixample\n",
      "La Paradeta €€ 155 Seafood Sant Pere, Santa Caterina i la Ribera-Born\n",
      "Batuar €€€€ 8 Mediterranean L'Eixample\n",
      "La Alcoba Azul €€ 132 Tapas Bars Barri Gòtic\n",
      "Doña Rosa nan 2 Mediterranean El Raval\n",
      "Lasarte €€€€ 67 Spanish L'Eixample\n",
      "Paella Bar €€ 44 Spanish El Raval\n",
      "La Lluna €€ 28 Spanish Barri Gòtic\n",
      "La Paradeta €€€ 44 Seafood L'Eixample\n",
      "Tantarantana €€ 63 Spanish Sant Pere, Santa Caterina i la Ribera-Born\n",
      "Pepito €€€ 27 Spanish L'Eixample\n",
      "Tandoori Nights € 48 Indian El Raval\n",
      "Eden €€ 118 Pizza L'Eixample\n",
      "Doña Rosa nan 2 Mediterranean El Raval\n",
      "Botafumeiro €€€€ 169 Seafood Gràcia\n",
      "L’Amfora Barcelona €€€ 30 Mediterranean L'Eixample\n",
      "Los Pergaminos €€ 84 Tapas Bars Barri Gòtic\n",
      "La Pineda €€ 24 Spanish Barri Gòtic\n",
      "Restaurante Bodega Joan €€ 35 Tapas Bars L'Eixample\n",
      "Els Pollos de Llull €€ 21 Spanish Parc i Llacuna del Poblenou\n",
      "Bella Italia €€ 9 Italian L'Eixample\n",
      "El Boliche del Gordo Cabrera €€ 18 Latin American L'Eixample\n",
      "La Fermata € 56 Pizza L'Eixample\n",
      "El Xampanyet €€ 279 Tapas Bars Sant Pere, Santa Caterina i la Ribera-Born\n",
      "La Paradeta €€ 155 Seafood Sant Pere, Santa Caterina i la Ribera-Born\n",
      "Salterio €€ 66 Tea Rooms Barri Gòtic\n",
      "Cremat 11 nan 15 Breakfast & Brunch Sant Pere, Santa Caterina i la Ribera-Born\n",
      "Cecconi’s €€€ 26 Italian Barri Gòtic\n",
      "Rosat’s € 2 Spanish Sants\n",
      "Eden €€ 118 Pizza L'Eixample\n",
      "Pirineu en Boca €€ 14 Spanish L'Eixample\n",
      "Gaudim €€€ 53 Tapas Bars L'Eixample\n",
      "El Xampanyet €€ 279 Tapas Bars Sant Pere, Santa Caterina i la Ribera-Born\n",
      "Le Cucine Mandarosso €€ 73 Italian Sant Pere, Santa Caterina i la Ribera-Born\n",
      "Bella Istanbul € 2 Turkish L'Eixample\n",
      "Abirradero €€ 27 Beer Bar El Poble-sec\n",
      "Paella Bar €€ 44 Spanish El Raval\n",
      "Cremat 11 nan 15 Breakfast & Brunch Sant Pere, Santa Caterina i la Ribera-Born\n",
      "Pirineu en Boca €€ 14 Spanish L'Eixample\n",
      "Salterio €€ 66 Tea Rooms Barri Gòtic\n",
      "Bodega La Puntual €€ 57 Catalan Sant Pere, Santa Caterina i la Ribera-Born\n",
      "The Ranch Smokehouse nan 9 American (Traditional) L'Eixample\n",
      "Alsur Café & Backdoor Bar € 20 Cocktail Bars Sant Pere, Santa Caterina i la Ribera-Born\n",
      "La Paradeta €€ 206 Seafood L'Eixample\n",
      "Lluritu nan 5 Seafood Gràcia\n",
      "Bonavida € 10 Pubs L'Eixample\n",
      "Morryssom € 54 Tapas Bars L'Eixample\n",
      "La Esquina €€ 31 Cafeteria L'Eixample\n",
      "Sagardi BCN Gòtic €€ 125 Basque Sant Pere, Santa Caterina i la Ribera-Born\n",
      "Mastica nan 6 Pizza El Raval\n",
      "Bar Rubí € 38 Spanish Sant Pere, Santa Caterina i la Ribera-Born\n",
      "Foc i Oli €€ 91 Sandwiches L'Eixample\n",
      "Bell e Buon €€€ 30 Pizza Horta-Guinardó\n",
      "La Plata € 126 Tapas/Small Plates Barri Gòtic\n",
      "Roast Club Cafe €€ 16 Cafeteria L'Eixample\n",
      "Brasayleña nan 2 Brazilian Parc i Llacuna del Poblenou\n",
      "Somewhere € 28 Breakfast & Brunch L'Eixample\n",
      "Can Ros € 10 Tapas/Small Plates Gràcia\n",
      "The Fish & Chips Shop € 44 Fish & Chips L'Eixample\n",
      "Tabarlot €€ 44 Catalan El Raval\n",
      "Bar But €€ 11 Bars Gràcia\n",
      "Bacaro €€ 19 Italian El Raval\n",
      "Zarautz €€ 122 Basque Sants\n",
      "Sol Soler € 56 Tapas Bars Gràcia\n",
      "Amarre 69 €€ 14 Tapas Bars Barceloneta\n",
      "Uma nan 16 Signature Cuisine L'Eixample\n",
      "Brunch & Cake €€ 54 Desserts L'Eixample\n",
      "TAPS € 31 Tapas Bars El Poble-sec\n",
      "Bodega La Palma €€ 37 Wine Bars Barri Gòtic\n",
      "El Brunch del Majestic nan 1 Mediterranean L'Eixample\n",
      "Rosat’s € 2 Spanish Sants\n",
      "Viet Kitchen nan 5 Vietnamese L'Eixample\n",
      "Hänsel € 73 Breakfast & Brunch L'Eixample\n",
      "Maestró €€ 33 Beer Bar L'Eixample\n",
      "210 Grammi nan 2 Italian Parc i Llacuna del Poblenou\n",
      "Pulpería A Gudiña €€ 46 Spanish L'Eixample\n",
      "Miño €€ 194 Seafood El Raval\n",
      "Café Emma €€ 30 French L'Eixample\n",
      "Marina Bay €€ 35 Seafood La Vila Olímpica\n",
      "El Chigre 1769 €€€ 25 Tapas/Small Plates Sant Pere, Santa Caterina i la Ribera-Born\n",
      "Macchina € 82 Italian Gràcia\n",
      "Taverna Iberia € 20 Spanish Barceloneta\n",
      "Maccaroni €€ 57 Italian Sant Pere, Santa Caterina i la Ribera-Born\n",
      "Pizzeria Da Nanni nan 22 Pizza Barri Gòtic\n",
      "Informal €€€ 27 Catalan Barri Gòtic\n",
      "El Bitxo €€ 44 Tapas/Small Plates Sant Pere, Santa Caterina i la Ribera-Born\n",
      "Cinco Jotas €€ 15 Spanish L'Eixample\n",
      "Ribs €€ 3 American (Traditional) Sarrià - Sant Gervasi\n",
      "Agust €€ 44 Mediterranean L'Eixample\n",
      "La Taverna de L’Eixample € 12 Mediterranean L'Eixample\n",
      "9 Reinas €€€ 53 Argentine L'Eixample\n",
      "Sintonia nan 2 Cocktail Bars L'Eixample\n",
      "Honest Greens nan 22 Vegetarian L'Eixample\n",
      "Estimar €€€€ 19 Seafood Sant Pere, Santa Caterina i la Ribera-Born\n",
      "CDLC €€€ 87 Asian Fusion Barceloneta\n",
      "173 nan 4 Cocktail Bars El Poble-sec\n",
      "Mazah nan 10 Lebanese L'Eixample\n",
      "Viena € 72 Coffee & Tea El Raval\n",
      "Angle €€€€ 15 Catalan L'Eixample\n",
      "La Cova Fumada €€ 118 Tapas/Small Plates Barceloneta\n",
      "Solomillo €€€€ 10 Spanish L'Eixample\n",
      "Obe Restaurant €€ 35 Italian Sant Pere, Santa Caterina i la Ribera-Born\n",
      "Thai Zaap nan 7 Thai L'Eixample\n",
      "Els Sortidors del Parlament €€ 18 Tapas Bars L'Eixample\n",
      "Red Ant € 66 Thai Sant Pere, Santa Caterina i la Ribera-Born\n",
      "Alaire €€ 6 Tapas Bars L'Eixample\n",
      "Season Tapas Restaurante nan 5 Spanish L'Eixample\n",
      "Kamasot €€ 9 Korean L'Eixample\n",
      "Modu Korean Bowl nan 7 Korean Gràcia\n",
      "Lonja de Tapas € 23 Spanish Barri Gòtic\n",
      "PORK… boig per tu €€ 34 Spanish Sant Pere, Santa Caterina i la Ribera-Born\n",
      "Norte € 9 Spanish L'Eixample\n",
      "Honest Greens nan 22 Vegetarian L'Eixample\n",
      "Taco Alto € 50 Mexican Sant Pere, Santa Caterina i la Ribera-Born\n",
      "Els Sortidors del Parlament €€ 18 Tapas Bars L'Eixample\n",
      "Equilibrium Cafè € 10 Coffee & Tea L'Eixample\n",
      "Marina Bay €€ 35 Seafood La Vila Olímpica\n",
      "Norte € 9 Spanish L'Eixample\n",
      "Bar Ramón €€ 44 Spanish L'Eixample\n",
      "Ugot Bruncherie €€ 84 Coffee & Tea L'Eixample\n",
      "CruiX €€€ 11 Tapas Bars L'Eixample\n",
      "Obe Restaurant €€ 35 Italian Sant Pere, Santa Caterina i la Ribera-Born\n",
      "Petit Bangkok €€€ 7 Thai L'Eixample\n",
      "Kamasot €€ 9 Korean L'Eixample\n",
      "Palosanto €€€ 25 Signature Cuisine Barri Gòtic\n",
      "Solomillo €€€€ 10 Spanish L'Eixample\n",
      "Modu Korean Bowl nan 7 Korean Gràcia\n",
      "Bar del Pla €€ 133 Tapas Bars Sant Pere, Santa Caterina i la Ribera-Born\n",
      "Elisabets € 75 Tapas Bars El Raval\n",
      "Maná 75 €€€ 3 Mediterranean Barceloneta\n",
      "Viena € 72 Coffee & Tea El Raval\n",
      "La Cuina d’ en Garriga €€€ 23 Tapas Bars L'Eixample\n",
      "La Hacienda € 17 Mexican Sant Pere, Santa Caterina i la Ribera-Born\n",
      "Hummus €€ 30 Vegetarian L'Eixample\n",
      "Slow & Low nan 5 Spanish L'Eixample\n",
      "El Pachuco € 128 Mexican El Raval\n",
      "El Venezia € 9 Gastropubs L'Eixample\n",
      "El Rincón del Artista €€ 23 Spanish El Raval\n",
      "Chalito nan 12 Argentine L'Eixample\n",
      "Pau Claris 190 €€€ 34 Mediterranean L'Eixample\n",
      "Estimar €€€€ 19 Seafood Sant Pere, Santa Caterina i la Ribera-Born\n",
      "Chez Cocó €€ 23 Spanish L'Eixample\n",
      "Portolés € 12 Mediterranean L'Eixample\n",
      "Bo de Gracia nan 12 Tapas/Small Plates L'Eixample\n",
      "Margherita €€ 89 Pizza L'Eixample\n",
      "Bar Nolla €€€ 35 Mediterranean L'Eixample\n",
      "Casa Dorita nan 16 Spanish L'Eixample\n",
      "Palmito Beach Bar €€ 5 Beach Bars Barceloneta\n",
      "La Cova Fumada €€ 118 Tapas/Small Plates Barceloneta\n",
      "Takumi Sapporo Ramen Kitchen nan 3 Ramen Sant Pere, Santa Caterina i la Ribera-Born\n",
      "Bosque Palermo €€ 193 Spanish L'Eixample\n",
      "Son Hao nan 8 Chinese L'Eixample\n"
     ]
    }
   ],
   "source": [
    "# test\n",
    "for name, price, reviews, category, neighbourhood in zip(r_name, price_range, review_count, category_list, neighbourhood_list):\n",
    "    print(name, price, reviews, category, neighbourhood)\n"
   ]
  },
  {
   "cell_type": "code",
   "execution_count": null,
   "metadata": {},
   "outputs": [],
   "source": []
  }
 ],
 "metadata": {
  "interpreter": {
   "hash": "db4d94f7962dcc818ea238f62a69636fa41bd28f5daf8a9f9234f6ae986cf5d4"
  },
  "kernelspec": {
   "display_name": "Python 3.8.12 ('strive')",
   "language": "python",
   "name": "python3"
  },
  "language_info": {
   "codemirror_mode": {
    "name": "ipython",
    "version": 3
   },
   "file_extension": ".py",
   "mimetype": "text/x-python",
   "name": "python",
   "nbconvert_exporter": "python",
   "pygments_lexer": "ipython3",
   "version": "3.9.7"
  },
  "orig_nbformat": 4
 },
 "nbformat": 4,
 "nbformat_minor": 2
}
