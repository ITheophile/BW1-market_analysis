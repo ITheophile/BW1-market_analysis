{
 "cells": [
  {
   "cell_type": "code",
   "execution_count": 92,
   "metadata": {},
   "outputs": [],
   "source": [
    "import pandas as pd\n",
    "from bs4  import BeautifulSoup\n",
    "import numpy as np\n",
    "import plotly.express as px"
   ]
  },
  {
   "cell_type": "markdown",
   "metadata": {},
   "source": [
    "# Restaurants"
   ]
  },
  {
   "cell_type": "code",
   "execution_count": 2,
   "metadata": {},
   "outputs": [],
   "source": [
    "resto_soup = pd.read_csv('restaurant_soup').drop(columns='Unnamed: 0').squeeze()\n",
    "resto_soup2 = pd.read_csv('restaurant_soup2.csv').drop(columns='Unnamed: 0').squeeze()"
   ]
  },
  {
   "cell_type": "code",
   "execution_count": 3,
   "metadata": {},
   "outputs": [
    {
     "data": {
      "text/plain": [
       "Index(['Cerveseria Catalana', 'My Fucking Restaurant', 'Ciutat Comtal',\n",
       "       'Tapeo', 'Arume', 'Taquerías Tamarindo', 'Vinitus', 'Somorrostro',\n",
       "       'Cañete', 'Firebug',\n",
       "       ...\n",
       "       'Chez Cocó', 'Portolés', 'Bo de Gracia', 'Margherita', 'Bar Nolla',\n",
       "       'Casa Dorita', 'Palmito Beach Bar', 'Takumi Sapporo Ramen Kitchen',\n",
       "       'Bosque Palermo', 'Son Hao'],\n",
       "      dtype='object', length=207)"
      ]
     },
     "execution_count": 3,
     "metadata": {},
     "output_type": "execute_result"
    }
   ],
   "source": [
    "resto_soup2.index"
   ]
  },
  {
   "cell_type": "code",
   "execution_count": 4,
   "metadata": {},
   "outputs": [
    {
     "data": {
      "text/plain": [
       "Index(['0', '10', '20', '30', '40', '50', '60', '70', '80', '90', '100', '110',\n",
       "       '120', '130', '140', '150', '160', '170', '180', '190', '200', '210',\n",
       "       '220', '230'],\n",
       "      dtype='object')"
      ]
     },
     "execution_count": 4,
     "metadata": {},
     "output_type": "execute_result"
    }
   ],
   "source": [
    "resto_soup.index\n"
   ]
  },
  {
   "cell_type": "markdown",
   "metadata": {},
   "source": [
    "#### Name"
   ]
  },
  {
   "cell_type": "code",
   "execution_count": 5,
   "metadata": {},
   "outputs": [],
   "source": [
    "# restaurant name\n",
    "name = []\n",
    "for row in resto_soup:  # row contain 10 restaurants\n",
    "    soup = BeautifulSoup(row, 'html.parser')\n",
    "    result = soup.select('.css-1egxyvc .css-1m051bw')\n",
    "    for tag in result:\n",
    "        # print(tag.text)\n",
    "        name.append(tag.text)"
   ]
  },
  {
   "cell_type": "code",
   "execution_count": 6,
   "metadata": {},
   "outputs": [
    {
     "data": {
      "text/plain": [
       "La Paradeta        5\n",
       "Macchina           2\n",
       "Pirineu en Boca    2\n",
       "Kamasot            2\n",
       "Obe Restaurant     2\n",
       "                  ..\n",
       "Cecconi’s          1\n",
       "Ugot Bruncherie    1\n",
       "Arume              1\n",
       "Hummus             1\n",
       "El Venezia         1\n",
       "Length: 207, dtype: int64"
      ]
     },
     "execution_count": 6,
     "metadata": {},
     "output_type": "execute_result"
    }
   ],
   "source": [
    "# It's like there are duplicates\n",
    "pd.Series(name).value_counts()"
   ]
  },
  {
   "cell_type": "markdown",
   "metadata": {},
   "source": [
    "#### Price range"
   ]
  },
  {
   "cell_type": "code",
   "execution_count": 7,
   "metadata": {},
   "outputs": [],
   "source": [
    "price_range = []\n",
    "container_class = 'container__09f24__mpR8_ hoverable__09f24__wQ_on margin-t3__09f24__riq4X margin-b3__09f24__l9v5d padding-t3__09f24__TMrIW padding-r3__09f24__eaF7p padding-b3__09f24__S8R2d padding-l3__09f24__IOjKY border--top__09f24__exYYb border--right__09f24__X7Tln border--bottom__09f24___mg5X border--left__09f24__DMOkM border-color--default__09f24__NPAKY'\n",
    "for row in resto_soup:\n",
    "    soup = BeautifulSoup(row, 'html.parser')\n",
    "    result = soup.find_all(class_ = container_class)\n",
    "    for tag in result:\n",
    "        header_text = tag.div.div.div.nextSibling.div\n",
    "        price = header_text.select_one('.css-1s7bx9e')\n",
    "        if price is not None:\n",
    "            price_range.append(price.text)\n",
    "        else:\n",
    "            price_range.append(np.nan)\n"
   ]
  },
  {
   "cell_type": "code",
   "execution_count": 8,
   "metadata": {},
   "outputs": [
    {
     "name": "stdout",
     "output_type": "stream",
     "text": [
      "Cerveseria Catalana €€\n",
      "My Fucking Restaurant €€€\n",
      "Ciutat Comtal €€\n",
      "Tapeo €€\n",
      "Arume €€\n",
      "Taquerías Tamarindo €\n",
      "Vinitus €€\n",
      "Somorrostro €€\n",
      "Cañete €€€\n",
      "Firebug €€\n",
      "El Nacional €€\n",
      "Firebug €€\n",
      "Tucco Real Food Born €\n",
      "Disfrutar €€€€\n",
      "Tosca €€\n",
      "Brunch & Cake €€\n",
      "Can Paixano €\n",
      "El Pintxo de Petritxol €€\n",
      "Boa-Bao nan\n",
      "El Asador de Aranda €€€\n",
      "El Asador de Aranda €€€\n",
      "Restaurant La Tasqueta de Blai €\n",
      "Telefèric €€\n",
      "Arcano €€€\n",
      "Tickets €€€€\n",
      "El Jardín del Edén nan\n",
      "Cera 23 €€\n",
      "A Tu Bola €\n",
      "Guell €€\n",
      "Bar Mut €€€\n",
      "Buenos Aires €€\n",
      "Le Romane nan\n",
      "La Pepita €€\n",
      "Bar Mut €€€\n",
      "Cachitos €€\n",
      "2254 €€€\n",
      "Federal €\n",
      "A Tu Bola €\n",
      "Lizarran €\n",
      "Momo €€\n",
      "Paradiso €€\n",
      "Sensi €€\n",
      "Alsur Café €\n",
      "2254 €€€\n",
      "Maitea €€\n",
      "Federal €\n",
      "Betlem €€\n",
      "Llamber €€€\n",
      "Micu Maku €\n",
      "O’Toxo 3 Hermanos €€\n",
      "Bilbao Berria €€\n",
      "La Cuina de Laietana €€\n",
      "Macchina €\n",
      "Bo de Boqueria nan\n",
      "Caravelle €€\n",
      "La Bodegueta €€€\n",
      "Raó nan\n",
      "Terrace la Isabela €€€\n",
      "El Vaso de Oro €€\n",
      "9 Nine €€€\n",
      "Paco Alcalde €€\n",
      "Xian nan\n",
      "Casa Alfonso €€\n",
      "La Caravana €\n",
      "Mosquito €\n",
      "Nubar nan\n",
      "Quimet & Quimet €€\n",
      "La Bombeta €€\n",
      "Billy Brunch nan\n",
      "Citizen Café €€\n",
      "Pinotxo Bar €€\n",
      "Gata Mala €\n",
      "Elsa y Fred €€\n",
      "Flax & Kale €€\n",
      "La Tagliatella €€\n",
      "Milk Bar & Bistro €€\n",
      "Eat My Trip €€\n",
      "Chongqing Liuyishou Hotpot nan\n",
      "Benzina nan\n",
      "El Arbol Brunch €€\n",
      "Las Sorrentinas €\n",
      "Eat My Trip €€\n",
      "Luigi €€\n",
      "Billy Brunch nan\n",
      "Chen Ji €\n",
      "El Quim de la Boqueria €€\n",
      "Rosa Negra €€\n",
      "La Paradeta €€€\n",
      "Babula nan\n",
      "La Paradeta €€\n",
      "Batuar €€€€\n",
      "La Alcoba Azul €€\n",
      "Doña Rosa nan\n",
      "Lasarte €€€€\n",
      "Paella Bar €€\n",
      "La Lluna €€\n",
      "La Paradeta €€€\n",
      "Tantarantana €€\n",
      "Pepito €€€\n",
      "Tandoori Nights €\n",
      "Eden €€\n",
      "Doña Rosa nan\n",
      "Botafumeiro €€€€\n",
      "L’Amfora Barcelona €€€\n",
      "Los Pergaminos €€\n",
      "La Pineda €€\n",
      "Restaurante Bodega Joan €€\n",
      "Els Pollos de Llull €€\n",
      "Bella Italia €€\n",
      "El Boliche del Gordo Cabrera €€\n",
      "La Fermata €\n",
      "El Xampanyet €€\n",
      "La Paradeta €€\n",
      "Salterio €€\n",
      "Cremat 11 nan\n",
      "Cecconi’s €€€\n",
      "Rosat’s €\n",
      "Eden €€\n",
      "Pirineu en Boca €€\n",
      "Gaudim €€€\n",
      "El Xampanyet €€\n",
      "Le Cucine Mandarosso €€\n",
      "Bella Istanbul €\n",
      "Abirradero €€\n",
      "Paella Bar €€\n",
      "Cremat 11 nan\n",
      "Pirineu en Boca €€\n",
      "Salterio €€\n",
      "Bodega La Puntual €€\n",
      "The Ranch Smokehouse nan\n",
      "Alsur Café & Backdoor Bar €\n",
      "La Paradeta €€\n",
      "Lluritu nan\n",
      "Bonavida €\n",
      "Morryssom €\n",
      "La Esquina €€\n",
      "Sagardi BCN Gòtic €€\n",
      "Mastica nan\n",
      "Bar Rubí €\n",
      "Foc i Oli €€\n",
      "Bell e Buon €€€\n",
      "La Plata €\n",
      "Roast Club Cafe €€\n",
      "Brasayleña nan\n",
      "Somewhere €\n",
      "Can Ros €\n",
      "The Fish & Chips Shop €\n",
      "Tabarlot €€\n",
      "Bar But €€\n",
      "Bacaro €€\n",
      "Zarautz €€\n",
      "Sol Soler €\n",
      "Amarre 69 €€\n",
      "Uma nan\n",
      "Brunch & Cake €€\n",
      "TAPS €\n",
      "Bodega La Palma €€\n",
      "El Brunch del Majestic nan\n",
      "Rosat’s €\n",
      "Viet Kitchen nan\n",
      "Hänsel €\n",
      "Maestró €€\n",
      "210 Grammi nan\n",
      "Pulpería A Gudiña €€\n",
      "Miño €€\n",
      "Café Emma €€\n",
      "Marina Bay €€\n",
      "El Chigre 1769 €€€\n",
      "Macchina €\n",
      "Taverna Iberia €\n",
      "Maccaroni €€\n",
      "Pizzeria Da Nanni nan\n",
      "Informal €€€\n",
      "El Bitxo €€\n",
      "Cinco Jotas €€\n",
      "Ribs €€\n",
      "Agust €€\n",
      "La Taverna de L’Eixample €\n",
      "9 Reinas €€€\n",
      "Sintonia nan\n",
      "Honest Greens nan\n",
      "Estimar €€€€\n",
      "CDLC €€€\n",
      "173 nan\n",
      "Mazah nan\n",
      "Viena €\n",
      "Angle €€€€\n",
      "La Cova Fumada €€\n",
      "Solomillo €€€€\n",
      "Obe Restaurant €€\n",
      "Thai Zaap nan\n",
      "Els Sortidors del Parlament €€\n",
      "Red Ant €\n",
      "Alaire €€\n",
      "Season Tapas Restaurante nan\n",
      "Kamasot €€\n",
      "Modu Korean Bowl nan\n",
      "Lonja de Tapas €\n",
      "PORK… boig per tu €€\n",
      "Norte €\n",
      "Honest Greens nan\n",
      "Taco Alto €\n",
      "Els Sortidors del Parlament €€\n",
      "Equilibrium Cafè €\n",
      "Marina Bay €€\n",
      "Norte €\n",
      "Bar Ramón €€\n",
      "Ugot Bruncherie €€\n",
      "CruiX €€€\n",
      "Obe Restaurant €€\n",
      "Petit Bangkok €€€\n",
      "Kamasot €€\n",
      "Palosanto €€€\n",
      "Solomillo €€€€\n",
      "Modu Korean Bowl nan\n",
      "Bar del Pla €€\n",
      "Elisabets €\n",
      "Maná 75 €€€\n",
      "Viena €\n",
      "La Cuina d’ en Garriga €€€\n",
      "La Hacienda €\n",
      "Hummus €€\n",
      "Slow & Low nan\n",
      "El Pachuco €\n",
      "El Venezia €\n",
      "El Rincón del Artista €€\n",
      "Chalito nan\n",
      "Pau Claris 190 €€€\n",
      "Estimar €€€€\n",
      "Chez Cocó €€\n",
      "Portolés €\n",
      "Bo de Gracia nan\n",
      "Margherita €€\n",
      "Bar Nolla €€€\n",
      "Casa Dorita nan\n",
      "Palmito Beach Bar €€\n",
      "La Cova Fumada €€\n",
      "Takumi Sapporo Ramen Kitchen nan\n",
      "Bosque Palermo €€\n",
      "Son Hao nan\n"
     ]
    }
   ],
   "source": [
    "# test\n",
    "for n, price in zip(name, price_range):\n",
    "    print(n, price) \n"
   ]
  },
  {
   "cell_type": "markdown",
   "metadata": {},
   "source": [
    "#### Rating"
   ]
  },
  {
   "cell_type": "code",
   "execution_count": 9,
   "metadata": {},
   "outputs": [],
   "source": [
    "rating = []\n",
    "container_class = 'container__09f24__mpR8_ hoverable__09f24__wQ_on margin-t3__09f24__riq4X margin-b3__09f24__l9v5d padding-t3__09f24__TMrIW padding-r3__09f24__eaF7p padding-b3__09f24__S8R2d padding-l3__09f24__IOjKY border--top__09f24__exYYb border--right__09f24__X7Tln border--bottom__09f24___mg5X border--left__09f24__DMOkM border-color--default__09f24__NPAKY'\n",
    "for row in resto_soup:\n",
    "    soup = BeautifulSoup(row, 'html.parser')\n",
    "    result = soup.find_all(class_ = container_class)\n",
    "    for tag in result:\n",
    "        header_text = tag.div.div.div.nextSibling.div\n",
    "        rat = header_text.select_one('.overflow--hidden__09f24___ayzG')\n",
    "        \n",
    "        if rat is not None:\n",
    "            rating.append(rat['aria-label'].split()[0])\n",
    "\n",
    "            # print(rat['aria-label'])\n",
    "\n",
    "        else:\n",
    "            rating.append(np.nan)\n",
    "        "
   ]
  },
  {
   "cell_type": "code",
   "execution_count": 10,
   "metadata": {},
   "outputs": [
    {
     "name": "stdout",
     "output_type": "stream",
     "text": [
      "Cerveseria Catalana 4.5\n",
      "My Fucking Restaurant 4.5\n",
      "Ciutat Comtal 4\n",
      "Tapeo 4.5\n",
      "Arume 4.5\n",
      "Taquerías Tamarindo 4.5\n",
      "Vinitus 4.5\n",
      "Somorrostro 4.5\n",
      "Cañete 4.5\n",
      "Firebug 4.5\n",
      "El Nacional 4\n",
      "Firebug 4.5\n",
      "Tucco Real Food Born 4.5\n",
      "Disfrutar 5\n",
      "Tosca 4.5\n",
      "Brunch & Cake 4\n",
      "Can Paixano 4.5\n",
      "El Pintxo de Petritxol 4.5\n",
      "Boa-Bao 4.5\n",
      "El Asador de Aranda 4.5\n",
      "El Asador de Aranda 4.5\n",
      "Restaurant La Tasqueta de Blai 4.5\n",
      "Telefèric 4\n",
      "Arcano 4.5\n",
      "Tickets 4.5\n",
      "El Jardín del Edén 4.5\n",
      "Cera 23 4.5\n",
      "A Tu Bola 4.5\n",
      "Guell 4.5\n",
      "Bar Mut 4.5\n",
      "Buenos Aires 4.5\n",
      "Le Romane 5\n",
      "La Pepita 4.5\n",
      "Bar Mut 4.5\n",
      "Cachitos 4\n",
      "2254 4.5\n",
      "Federal 4.5\n",
      "A Tu Bola 4.5\n",
      "Lizarran 4\n",
      "Momo 4.5\n",
      "Paradiso 4.5\n",
      "Sensi 4.5\n",
      "Alsur Café 4\n",
      "2254 4.5\n",
      "Maitea 4.5\n",
      "Federal 4.5\n",
      "Betlem 4.5\n",
      "Llamber 4.5\n",
      "Micu Maku 4.5\n",
      "O’Toxo 3 Hermanos 4.5\n",
      "Bilbao Berria 4\n",
      "La Cuina de Laietana 4.5\n",
      "Macchina 4.5\n",
      "Bo de Boqueria 5\n",
      "Caravelle 4.5\n",
      "La Bodegueta 4\n",
      "Raó 4.5\n",
      "Terrace la Isabela 4.5\n",
      "El Vaso de Oro 4.5\n",
      "9 Nine 5\n",
      "Paco Alcalde 4.5\n",
      "Xian 4.5\n",
      "Casa Alfonso 4\n",
      "La Caravana 5\n",
      "Mosquito 4\n",
      "Nubar 4.5\n",
      "Quimet & Quimet 4.5\n",
      "La Bombeta 4.5\n",
      "Billy Brunch 5\n",
      "Citizen Café 4.5\n",
      "Pinotxo Bar 4.5\n",
      "Gata Mala 5\n",
      "Elsa y Fred 4.5\n",
      "Flax & Kale 4\n",
      "La Tagliatella 4\n",
      "Milk Bar & Bistro 4.5\n",
      "Eat My Trip 4.5\n",
      "Chongqing Liuyishou Hotpot 4.5\n",
      "Benzina 4.5\n",
      "El Arbol Brunch 4.5\n",
      "Las Sorrentinas 4.5\n",
      "Eat My Trip 4.5\n",
      "Luigi 4.5\n",
      "Billy Brunch 5\n",
      "Chen Ji 4\n",
      "El Quim de la Boqueria 4.5\n",
      "Rosa Negra 4\n",
      "La Paradeta 4.5\n",
      "Babula 5\n",
      "La Paradeta 4.5\n",
      "Batuar 4.5\n",
      "La Alcoba Azul 4.5\n",
      "Doña Rosa 4.5\n",
      "Lasarte 4.5\n",
      "Paella Bar 4\n",
      "La Lluna 4.5\n",
      "La Paradeta 4.5\n",
      "Tantarantana 4.5\n",
      "Pepito 4.5\n",
      "Tandoori Nights 4.5\n",
      "Eden 4.5\n",
      "Doña Rosa 4.5\n",
      "Botafumeiro 4\n",
      "L’Amfora Barcelona 4.5\n",
      "Los Pergaminos 4.5\n",
      "La Pineda 4.5\n",
      "Restaurante Bodega Joan 4\n",
      "Els Pollos de Llull 4.5\n",
      "Bella Italia 4.5\n",
      "El Boliche del Gordo Cabrera 4\n",
      "La Fermata 4.5\n",
      "El Xampanyet 4.5\n",
      "La Paradeta 4.5\n",
      "Salterio 4.5\n",
      "Cremat 11 5\n",
      "Cecconi’s 4.5\n",
      "Rosat’s 4.5\n",
      "Eden 4.5\n",
      "Pirineu en Boca 4.5\n",
      "Gaudim 4.5\n",
      "El Xampanyet 4.5\n",
      "Le Cucine Mandarosso 4.5\n",
      "Bella Istanbul 5\n",
      "Abirradero 4.5\n",
      "Paella Bar 4\n",
      "Cremat 11 5\n",
      "Pirineu en Boca 4.5\n",
      "Salterio 4.5\n",
      "Bodega La Puntual 4.5\n",
      "The Ranch Smokehouse 4\n",
      "Alsur Café & Backdoor Bar 5\n",
      "La Paradeta 4.5\n",
      "Lluritu 5\n",
      "Bonavida 4.5\n",
      "Morryssom 4\n",
      "La Esquina 4.5\n",
      "Sagardi BCN Gòtic 4\n",
      "Mastica 5\n",
      "Bar Rubí 4.5\n",
      "Foc i Oli 5\n",
      "Bell e Buon 5\n",
      "La Plata 4.5\n",
      "Roast Club Cafe 5\n",
      "Brasayleña 5\n",
      "Somewhere 4.5\n",
      "Can Ros 4.5\n",
      "The Fish & Chips Shop 4.5\n",
      "Tabarlot 4.5\n",
      "Bar But 4.5\n",
      "Bacaro 4.5\n",
      "Zarautz 4.5\n",
      "Sol Soler 4\n",
      "Amarre 69 4.5\n",
      "Uma 5\n",
      "Brunch & Cake 4.5\n",
      "TAPS 5\n",
      "Bodega La Palma 4.5\n",
      "El Brunch del Majestic 4\n",
      "Rosat’s 4.5\n",
      "Viet Kitchen 4.5\n",
      "Hänsel 4.5\n",
      "Maestró 4\n",
      "210 Grammi 5\n",
      "Pulpería A Gudiña 4\n",
      "Miño 4\n",
      "Café Emma 4\n",
      "Marina Bay 4\n",
      "El Chigre 1769 4.5\n",
      "Macchina 4.5\n",
      "Taverna Iberia 4.5\n",
      "Maccaroni 4.5\n",
      "Pizzeria Da Nanni 5\n",
      "Informal 5\n",
      "El Bitxo 4.5\n",
      "Cinco Jotas 4\n",
      "Ribs 4.5\n",
      "Agust 4.5\n",
      "La Taverna de L’Eixample 4\n",
      "9 Reinas 4.5\n",
      "Sintonia 4.5\n",
      "Honest Greens 5\n",
      "Estimar 4.5\n",
      "CDLC 4\n",
      "173 5\n",
      "Mazah 4\n",
      "Viena 4.5\n",
      "Angle 4.5\n",
      "La Cova Fumada 4.5\n",
      "Solomillo 4.5\n",
      "Obe Restaurant 5\n",
      "Thai Zaap 5\n",
      "Els Sortidors del Parlament 4.5\n",
      "Red Ant 4\n",
      "Alaire 4.5\n",
      "Season Tapas Restaurante 5\n",
      "Kamasot 4.5\n",
      "Modu Korean Bowl 4.5\n",
      "Lonja de Tapas 4\n",
      "PORK… boig per tu 4.5\n",
      "Norte 4\n",
      "Honest Greens 5\n",
      "Taco Alto 4.5\n",
      "Els Sortidors del Parlament 4.5\n",
      "Equilibrium Cafè 4.5\n",
      "Marina Bay 4\n",
      "Norte 4\n",
      "Bar Ramón 4.5\n",
      "Ugot Bruncherie 4.5\n",
      "CruiX 5\n",
      "Obe Restaurant 5\n",
      "Petit Bangkok 4.5\n",
      "Kamasot 4.5\n",
      "Palosanto 4.5\n",
      "Solomillo 4.5\n",
      "Modu Korean Bowl 4.5\n",
      "Bar del Pla 4\n",
      "Elisabets 4\n",
      "Maná 75 4.5\n",
      "Viena 4.5\n",
      "La Cuina d’ en Garriga 4\n",
      "La Hacienda 5\n",
      "Hummus 4.5\n",
      "Slow & Low 4\n",
      "El Pachuco 4.5\n",
      "El Venezia 4\n",
      "El Rincón del Artista 4\n",
      "Chalito 4\n",
      "Pau Claris 190 4.5\n",
      "Estimar 4.5\n",
      "Chez Cocó 4.5\n",
      "Portolés 4.5\n",
      "Bo de Gracia 4\n",
      "Margherita 4\n",
      "Bar Nolla 4\n",
      "Casa Dorita 4.5\n",
      "Palmito Beach Bar 4.5\n",
      "La Cova Fumada 4.5\n",
      "Takumi Sapporo Ramen Kitchen 4.5\n",
      "Bosque Palermo 4\n",
      "Son Hao 4.5\n"
     ]
    }
   ],
   "source": [
    "# test\n",
    "for n, rat in zip(name, rating):\n",
    "    print(n, rat) "
   ]
  },
  {
   "cell_type": "markdown",
   "metadata": {},
   "source": [
    "#### Location"
   ]
  },
  {
   "cell_type": "code",
   "execution_count": 11,
   "metadata": {},
   "outputs": [
    {
     "data": {
      "text/plain": [
       "(207,)"
      ]
     },
     "execution_count": 11,
     "metadata": {},
     "output_type": "execute_result"
    }
   ],
   "source": [
    "resto_soup2.shape"
   ]
  },
  {
   "cell_type": "code",
   "execution_count": 12,
   "metadata": {},
   "outputs": [],
   "source": [
    "\n",
    "location = [] \n",
    "for row in resto_soup2:\n",
    "    soup = BeautifulSoup(row, 'html.parser')\n",
    "    result = soup.select('address .raw__09f24__T4Ezm')\n",
    "    adress_elements = []\n",
    "    for tag in result:\n",
    "        adress_elements.append(tag.text)\n",
    "    location.append( '--'.join(adress_elements) )\n"
   ]
  },
  {
   "cell_type": "code",
   "execution_count": 13,
   "metadata": {},
   "outputs": [
    {
     "data": {
      "text/plain": [
       "['Carrer de Mallorca, 236--08008 Barcelona--Spain',\n",
       " 'Carrer Nou de la Rambla, 35--08001 Barcelona--Spain',\n",
       " 'Rambla de Catalunya, 18--08007 Barcelona--Spain',\n",
       " 'Carrer de Montcada, 29--08003 Barcelona--Spain',\n",
       " \"Carrer d'En Botella, 11--08007 Barcelona--Spain\",\n",
       " 'Carrer de Aragón, 236--08007 Barcelona--Spain',\n",
       " 'Carrer Del Consell de Cent, 333--08007 Barcelona--Spain',\n",
       " 'Carrer de Sant Carles, 11--08003 Barcelona--Spain',\n",
       " 'Carrer de la Unió, 17--08001 Barcelona--Spain',\n",
       " 'Passeig de Sant Joan, 23--08010 Barcelona--Spain',\n",
       " 'Passeig de Gracia, 24--08007 Barcelona--Spain',\n",
       " 'Carrer del Consolat de Mar, 23--08003 Barcelona--Spain',\n",
       " 'Carrer de Villarroel, 163--08036 Barcelona--Spain',\n",
       " 'Carrer de Sant Pere Més Alt, 8--08003 Barcelona--Spain',\n",
       " \"Carrer d'Enric Granados, 145--08008 Barcelona--Spain\",\n",
       " 'Carrer de la Reina Cristina, 7--08003 Barcelona--Spain',\n",
       " 'Carrer de Petritxol, 9--08002 Barcelona--Spain',\n",
       " 'Plaça del Dr. Letamendi, 1--08007 Barcelona--Spain',\n",
       " 'Calle Pau Claris, 70--08010 Barcelona--Spain',\n",
       " 'Carrer de Blai, 17--08004 Barcelona--Spain',\n",
       " 'Plaça Doctor Letamendi, 27--08007 Barcelona--Spain',\n",
       " '',\n",
       " 'Avenida del Paral·lel, 164--08015 Barcelona--Spain',\n",
       " 'Carrer de Jovellanos, 3--08001 Barcelona--Spain',\n",
       " 'Carrer de la Cera, 23--08001 Barcelona--Spain',\n",
       " 'Carrer Hospital 78--08001 Barcelona--Spain',\n",
       " 'Calle Nou de la Rambla, 20--08001 Barcelona--Spain',\n",
       " 'Carrer de Pau Claris, 192--08037 Barcelona--Spain',\n",
       " 'Carrer Valencia, 189--08011 Barcelona--Spain',\n",
       " 'Carrer de Muntaner, 103--08011 Barcelona--Spain',\n",
       " 'Carrer de Còrsega, 343--08037 Barcelona--Spain',\n",
       " 'Rambla Catalunya, 33--08007 Barcelona--Spain',\n",
       " 'Consell de Cent, 335--08007 Barcelona--Spain',\n",
       " 'Passatge de la Pau, 11--08002 Barcelona--Spain',\n",
       " 'Carrer de Mallorca, 257--08008 Barcelona--Spain',\n",
       " 'Carrer Arc de Sant Ramon del Call, 6--08002 Barcelona--Spain',\n",
       " 'Carrer de Rera Palau, 4--08003 Barcelona--Spain',\n",
       " '',\n",
       " 'Carrer de Roger de Llúria, 23--08010 Barcelona--Spain',\n",
       " 'Carrer de Casanova, 155--08036 Barcelona--Spain',\n",
       " 'Carrer de Girona, 70--08009 Barcelona--Spain',\n",
       " 'Carrer Fusina, 5--08003 Barcelona--Spain',\n",
       " \"Carrer d'Aribau, 22--08011 Barcelona--Spain\",\n",
       " 'Carrer del Carme, 59--08001 Barcelona--Spain',\n",
       " 'Plaça Nova, 3--08002 Barcelona--Spain',\n",
       " 'Via Laietana, 71--08003 Barcelona--Spain',\n",
       " \"Carrer d'Astúries, 17--08012 Barcelona--Spain\",\n",
       " 'Carrer Petxina, 5-7--08001 Barcelona--Spain',\n",
       " 'Carrer del Pintor Fortuny, 31--08001 Barcelona--Spain',\n",
       " 'Rambla de Catalunya, 100--08002 Barcelona--Spain',\n",
       " 'Carrer de les Sitges, 3--08001 Barcelona--Spain',\n",
       " 'Les Rambles, 109--08002 Barcelona--Spain',\n",
       " 'Carrer de Balboa, 6--08003 Barcelona--Spain',\n",
       " 'Carrer València, 334--08009 Barcelona--Spain',\n",
       " \"Carrer de l'Almirall Aixada, 12--08003 Barcelona--Spain\",\n",
       " 'Carrer de Ferran, 39--Local 3--08002 Barcelona--Spain',\n",
       " 'Carrer de Roger de Llúria, 6--08010 Barcelona--Spain',\n",
       " 'Carrer de Mozart, 15--08012 Barcelona--Spain',\n",
       " 'Carrer dels Carders, 46--08003 Barcelona--Spain',\n",
       " 'Passeig de Gràcia, 53--08007 Barcelona--Spain',\n",
       " 'Carrer del Poeta Cabanyes, 25--08004 Barcelona--Spain',\n",
       " 'Carrer de la Maquinista, 3--08003 Barcelona--Spain',\n",
       " 'Carrer de Bailèn, 115--08009 Barcelona--Spain',\n",
       " \"Plaça d'Urquinaona, 4--08010 Barcelona--Spain\",\n",
       " 'La Rambla, 91--08002 Barcelona--Spain',\n",
       " 'Carrer de Rabassa, 37--08024 Barcelona--Spain',\n",
       " 'Carrer del Rec Comtal, 11--08003 Barcelona--Spain',\n",
       " 'Carrer dels Tallers, 74--08001 Barcelona--Spain',\n",
       " 'Carrer de Pau Claris, 118--08009 Barcelona--Spain',\n",
       " \"Carrer d'en Gignàs, 21--08002 Barcelona--Spain\",\n",
       " 'Carrer del Consell de Cent, 378--08009 Barcelona--Spain',\n",
       " 'Carrer del Consell de Cent, 303--08007 Barcelona--Spain',\n",
       " 'Passatge de Pere Calders, 6--08015 Barcelona--Spain',\n",
       " \"Carrer d' Aribau, 36--08011 Barcelona--Spain\",\n",
       " 'Plaça de Sant Pere, 5--08003 Barcelona--Spain',\n",
       " 'Carrer de Roger de Llúria, 50--08009 Barcelona--Spain',\n",
       " \"Carrer d'Ali Bei, 65--08013 Barcelona--Spain\",\n",
       " 'La Rambla, 91--Mercat de la Boqueria--08001 Barcelona--Spain',\n",
       " 'Via Laietana, 46--08003 Barcelona--Spain',\n",
       " 'Passatge de Simó, 18--08025 Barcelona--Spain',\n",
       " 'Carrer de Pau Claris, 139--08009 Barcelona--Spain',\n",
       " 'Cotton House--Gran Via de les Corts Catalanes, 670--08010 Barcelona--Spain',\n",
       " 'Carrer de Sant Domenec del Call, 14--08002 Barcelona--Spain',\n",
       " '',\n",
       " '',\n",
       " 'Pòrtics de la Boqueria, s/n--Locals, 6-7--Mercat de la Boqueria--08001 Barcelona--Spain',\n",
       " 'Carrer de Santa Anna, 20--08002 Barcelona--Spain',\n",
       " 'Carrer Tantarantana, 24--08003 Barcelona--Spain',\n",
       " 'Passatge de Domingo, 3--08007 Barcelona--Spain',\n",
       " 'Carrer de les Carretes, 44--08001 Barcelona--Spain',\n",
       " '',\n",
       " 'Carrer Gran de Gràcia, 81--08012 Barcelona--Spain',\n",
       " 'Avinguda del Paraŀlel, 184--08015 Barcelona--Spain',\n",
       " '',\n",
       " 'Carrer del Pi, 16--08002 Barcelona--Spain',\n",
       " 'Carrer del Rosselló, 164--08036 Barcelona--Spain',\n",
       " 'Carrer de Ramon Turró, 13--08005 Barcelona--Spain',\n",
       " 'Carrer de Roger de Llúria, 87--08009 Barcelona--Spain',\n",
       " 'Carrer del Consell de Cent, 338--08009 Barcelona--Spain',\n",
       " 'Carrer de Provença, 243--08008 Barcelona--Spain',\n",
       " 'Carrer de Montcada, 22--08003 Barcelona--Spain',\n",
       " 'Carrer de Sant Domènec del Call, 4--08002 Barcelona--Spain',\n",
       " 'Carrer Cremat Gran, 11--08003 Barcelona--Spain',\n",
       " 'Passeig de Colom, 20--08002 Barcelona--Spain',\n",
       " 'Carrer Creu Coberta, 58--08014 Barcelona--Spain',\n",
       " 'Carrer de Girona, 17--08010 Barcelona--Spain',\n",
       " \"Carrer d'Aragó, 231--08007 Barcelona--Spain\",\n",
       " 'Carrer de Verdaguer i Callís, 4--08003 Barcelona--Spain',\n",
       " 'Carrer del Consell de Cent, 313--08007 Barcelona--Spain',\n",
       " 'Carrer Vila i Vila, 77--08004 Barcelona--Spain',\n",
       " 'Carrer de Montcada, 22--08003 Barcelona--Spain',\n",
       " 'Ronda de la Universitat, 20--08007 Barcelona--Spain',\n",
       " 'Carrer de la Ribera, 18--08003 Barcelona--Spain',\n",
       " 'Carrer del Torrent de les Flors, 71--08024 Barcelona--Spain',\n",
       " 'Carrer de Casp, 22--08010 Barcelona--Spain',\n",
       " 'Carrer de Girona, 162--08037 Barcelona--Spain',\n",
       " '',\n",
       " \"Carrer de l'Argenteria, 62--08003 Barcelona--Spain\",\n",
       " 'Carrer del Carme, 40--08001 Barcelona--Spain',\n",
       " 'Carrer Banys Vells, 6--08003 Barcelona--Spain',\n",
       " 'Carrer Aribau, 91--08036 Barcelona--Spain',\n",
       " 'Travessera de Grácia, 441--08025 Barcelona--Spain',\n",
       " 'Carrer de la Mercè, 28--08002 Barcelona--Spain',\n",
       " 'Carrer Valencia, 143--08011 Barcelona--Spain',\n",
       " 'C.C. les Glories--Avinguda Diagonal, 208--08018 Barcelona--Spain',\n",
       " \"Carrer d'Aragó, 310--08009 Barcelona--Spain\",\n",
       " 'Carrer Roger de Flor, 303--08025 Barcelona--Spain',\n",
       " 'Carrer de Rocafort, 70--08015 Barcelona--Spain',\n",
       " 'Carrer de San Pau, 4--08001 Barcelona--Spain',\n",
       " 'Carrer de Bonavista, 8--08012 Barcelona--Spain',\n",
       " 'Carrer de Jerusalem, 6--08001 Barcelona--Spain',\n",
       " \"Carrer de l'Elisi, 13--08014 Barcelona--Spain\",\n",
       " 'Plaça del Sol, 21--08012 Barcelona--Spain',\n",
       " 'Paseo Juan de Borbón, 69--08003 Barcelona--Spain',\n",
       " 'Carrer de Mallorca, 275--08008 Barcelona--Spain',\n",
       " 'Carrer de Mare de Deu del Remei, 53--08004 Barcelona--Spain',\n",
       " 'Carrer de la Palma de Sant Just, 7--08002 Barcelona--Spain',\n",
       " 'Passeig de Gracia, 68--08007 Barcelona--Spain',\n",
       " \"Carrer d'Aribau, 137--08036 Barcelona--Spain\",\n",
       " 'Carrer de Provença, 237--08008 Barcelona--Spain',\n",
       " 'Rambla de Catalunya, 79--08007 Barcelona--Spain',\n",
       " '',\n",
       " \"Carrer d'Entença, 2--08015 Barcelona--Spain\",\n",
       " 'Calle del Carme, 19--08001 Barcelona--Spain',\n",
       " 'Carrer de Pau Claris, 142--08009 Barcelona--Spain',\n",
       " 'Carrer de la Marina, 19 - 21--08005 Barcelona--Spain',\n",
       " 'Carrer dels Sombrerers, 7--08003 Barcelona--Spain',\n",
       " \"Carrer de l'Almirall Churruca, 4--08003 Barcelona--Spain\",\n",
       " 'Carrer Carders, 6--08003 Barcelona--Spain',\n",
       " 'Carrer de la Llibreteria, 10--08002 Barcelona--Spain',\n",
       " 'Carrer de la Plata, 4--08002 Barcelona--Spain',\n",
       " 'Carrer de Verdaguer i Callís 9--08003 Barcelona--Spain',\n",
       " 'Rambla de  Catalunya, 91--08008 Barcelona--Spain',\n",
       " 'Carrer de Doctor Fleming, 10--08017 Barcelona--Spain',\n",
       " 'Carrer del Parlament, 54--08015 Barcelona--Spain',\n",
       " 'Gran Via de les Corts Catalanes, 688--08010 Barcelona--Spain',\n",
       " 'Carrer de València, 267--08007 Barcelona--Spain',\n",
       " '',\n",
       " 'Rambla de Catalunya, 3--08007 Barcelona--Spain',\n",
       " 'Carrer de Sant Antoni dels Sombrerers, 3--08003 Barcelona--Spain',\n",
       " 'Passeig Marítim de la Barceloneta, 32--08003 Barcelona--Spain',\n",
       " 'Avinguda de Rius i Taulet, 1-3--08004 Barcelona--Spain',\n",
       " 'Gran Via de les Corts Catalanes, 618--08007 Barcelona--Spain',\n",
       " 'La Rambla del Estudis, 115--08002 Barcelona--Spain',\n",
       " \"Carrer d'Aragó, 214--08011 Barcelona--Spain\",\n",
       " 'Carrer del Baluard, 56--08003 Barcelona--Spain',\n",
       " 'Carrer de Mallorca, 251--08008 Barcelona--Spain',\n",
       " 'Plaça Santa Caterina, 1--08003 Barcelona--Spain',\n",
       " 'Carrer de Viladomat, 131--08015 Barcelona--Spain',\n",
       " 'Carrer del Parlament, 53--08015 Barcelona--Spain',\n",
       " 'Carrer dels Tiradors, 3-5--08003 Barcelona--Spain',\n",
       " 'Passeig de Gràcia, 73--08008 Barcelona--Spain',\n",
       " \"Carrer d'Aribau, 125--08036 Barcelona--Spain\",\n",
       " 'Carrer del Consell de Cent, 465--08013 Barcelona--Spain',\n",
       " 'Carrer Minerva, 8--08006 Barcelona--Spain',\n",
       " 'Carrer de Jaume I, 8-10--08002 Barcelona--Spain',\n",
       " 'Carrer del Consolat de Mar, 15--08003 Barcelona--Spain',\n",
       " 'Carrer de la Diputació, 321--08009 Barcelona--Spain',\n",
       " '',\n",
       " 'Carrer de València, 352--08009 Barcelona--Spain',\n",
       " 'Carrer del Comte Borrell, 81--08015 Barcelona--Spain',\n",
       " 'Carrer de Viladomat, 138--08015 Barcelona--Spain',\n",
       " \"Carrer d'Entença, 57--08015 Barcelona--Spain\",\n",
       " 'Carrer de Balmes, 106--08008 Barcelona--Spain',\n",
       " \"Carrer d'Avinyó, 30--08002 Barcelona--Spain\",\n",
       " 'Carrer de Montcada, 2--08003 Barcelona--Spain',\n",
       " \"Carrer d'Elisabets, 2--08001 Barcelona--Spain\",\n",
       " 'Passeig de Joan de Borbó, 101--08039 Barcelona--Spain',\n",
       " 'Carrer de Consell de Cent, 308--08007 Barcelona--Spain',\n",
       " 'Carrer de la Princesa, 23--08003 Barcelona--Spain',\n",
       " 'Carrer de Valencia, 227--08007 Barcelona--Spain',\n",
       " 'Carrer del Comte Borrell, 119--08015 Barcelona--Spain',\n",
       " 'Carrer de Sant Pau, 110--08001 Barcelona--Spain',\n",
       " 'Gran Via de les Corts Catalanes, 667--08010 Barcelona--Spain',\n",
       " 'Carrer Nou de la Rambla, 105--08001 Barcelona--Spain',\n",
       " 'Rambla de Catalunya, 12--08007 Barcelona--Spain',\n",
       " 'Carrer de Pau Claris, 190--08037 Barcelona--Spain',\n",
       " 'Avinguda Diagonal, 465--08036 Barcelona--Spain',\n",
       " 'Carrer de la Diputació, 375--08013 Barcelona--Spain',\n",
       " 'Carrer de la Diputació, 269--08007 Barcelona--Spain',\n",
       " 'Carrer del Rosselló, 253--08008 Barcelona--Spain',\n",
       " 'Carrer del Consell de Cent, 339--08007 Barcelona--Spain',\n",
       " 'Carrer de Tamarit, 142--08015 Barcelona--Spain',\n",
       " 'Carrer de Ramon Trias Fargas, 2--08005 Barcelona--Spain',\n",
       " 'Via Laietana, 32--08003 Barcelona--Spain',\n",
       " 'Carrer de València, 163--08011 Barcelona--Spain',\n",
       " 'Carrer de Muntaner, 66--08011 Barcelona--Spain']"
      ]
     },
     "execution_count": 13,
     "metadata": {},
     "output_type": "execute_result"
    }
   ],
   "source": [
    "location"
   ]
  },
  {
   "cell_type": "markdown",
   "metadata": {},
   "source": [
    "#### Website"
   ]
  },
  {
   "cell_type": "code",
   "execution_count": 14,
   "metadata": {},
   "outputs": [],
   "source": [
    "website = []\n",
    "for row in resto_soup2:\n",
    "    soup = BeautifulSoup(row, 'html.parser')\n",
    "    result = soup.select_one('.css-na3oda+ .css-1p9ibgf .css-1um3nx')\n",
    "    # for tag in result:\n",
    "    if result is not None:\n",
    "        website.append( result.text ) \n",
    "\n",
    "    else:\n",
    "        website.append(np.nan)\n"
   ]
  },
  {
   "cell_type": "code",
   "execution_count": 15,
   "metadata": {},
   "outputs": [
    {
     "data": {
      "text/plain": [
       "['http://cerveceriacatalana.food…',\n",
       " 'http://www.myfuckingrestaurant…',\n",
       " nan,\n",
       " 'http://www.tapeoborn.cat',\n",
       " 'http://arumerestaurant.com/',\n",
       " nan,\n",
       " nan,\n",
       " 'http://www.restaurantesomorros…',\n",
       " 'http://www.barcanete.com',\n",
       " 'http://www.firebugbarcelona.co…',\n",
       " 'http://www.elnacionalbcn.com',\n",
       " 'http://www.tuccorealfood.com',\n",
       " 'http://en.disfrutarbarcelona.c…',\n",
       " nan,\n",
       " 'https://brunchandcake.com',\n",
       " 'http://www.canpaixano.com',\n",
       " 'http://www.elpintxodepetritxol…',\n",
       " 'http://www.boabao.es',\n",
       " 'http://asadordearanda.com/cont…',\n",
       " 'https://www.latasquetadeblai.c…',\n",
       " 'http://www.teleferic.es',\n",
       " nan,\n",
       " 'http://www.ticketsbar.es',\n",
       " 'http://www.jardindeleden.es',\n",
       " 'http://www.cera23.com',\n",
       " 'http://www.atubolarest.com/',\n",
       " 'https://www.guelltapasbarcelon…',\n",
       " 'http://www.barmut.com/',\n",
       " 'http://www.bairesbcn.com',\n",
       " 'http://www.leromane.com',\n",
       " 'http://www.lapepitabcn.com',\n",
       " 'http://www.cachitosrambla.com',\n",
       " 'http://www.restaurante2254.es/',\n",
       " 'http://www.federalcafe.es/',\n",
       " 'http://www.lizarran.es',\n",
       " 'http://momobarcelona.com/en',\n",
       " 'http://paradiso.cat',\n",
       " nan,\n",
       " 'http://www.alsurcafe.com',\n",
       " 'http://www.maitea.es',\n",
       " 'http://www.betlem.es/',\n",
       " 'http://www.llamber.com',\n",
       " 'https://www.micumaku.com',\n",
       " 'http://www.otoxo3hermanos.com/…',\n",
       " 'http://www.bilbaoberria.com',\n",
       " 'http://www.lacuinadelaietana.e…',\n",
       " 'http://macchinapastabar.com/',\n",
       " nan,\n",
       " 'http://www.caravellebcn.com',\n",
       " 'http://www.labodegueta.cat',\n",
       " 'http://www.raobcn.com',\n",
       " 'http://www.terraza-laisabela.c…',\n",
       " 'http://vasodeoro.com/',\n",
       " nan,\n",
       " 'http://www.pacoalcalde.es',\n",
       " 'http://www.xianbarcelona.com',\n",
       " 'http://www.casaalfonso.com/',\n",
       " nan,\n",
       " 'http://www.mosquitotapas.com/',\n",
       " 'http://www.nubarbcn.com/es/',\n",
       " 'https://www.quimetquimet.com',\n",
       " 'http://labombeta.food-ts.com',\n",
       " 'http://billybrunch.com',\n",
       " 'https://citizencafe.es',\n",
       " 'http://pinotxobar.com/',\n",
       " nan,\n",
       " 'http://elsayfred.es/',\n",
       " 'http://www.teresacarles.com/fk…',\n",
       " 'http://www.latagliatella.es',\n",
       " 'http://www.milkbarcelona.com/',\n",
       " 'https://www.eatmytrip.com',\n",
       " 'http://www.liuyishou.es',\n",
       " 'https://www.benzina.es',\n",
       " nan,\n",
       " nan,\n",
       " 'http://www.luigiristorante.es',\n",
       " nan,\n",
       " 'http://www.elquimdelaboqueria.…',\n",
       " 'http://www.rosanegrarestaurant…',\n",
       " 'http://www.laparadeta.com/mari…',\n",
       " nan,\n",
       " 'http://www.hotelcottonhouse.co…',\n",
       " nan,\n",
       " nan,\n",
       " nan,\n",
       " nan,\n",
       " 'http://www.lallunarestaurant.c…',\n",
       " 'http://www.gruposantelmo.com/e…',\n",
       " 'http://pepitorestaurante.com/',\n",
       " 'https://www.tandoorinightsbcn.…',\n",
       " nan,\n",
       " 'http://www.botafumeiro.es',\n",
       " 'http://www.restaurantamfora.co…',\n",
       " nan,\n",
       " nan,\n",
       " 'http://www.bodegajoan.com',\n",
       " 'http://www.elspollos.com',\n",
       " nan,\n",
       " 'http://elbolichedelgordo.com/',\n",
       " 'http://www.lafermata.es/',\n",
       " 'https://www.elxampanyet.es',\n",
       " nan,\n",
       " nan,\n",
       " 'http://www.cecconisbarcelona.c…',\n",
       " nan,\n",
       " 'http://www.pirineuenboca.com',\n",
       " 'http://www.restaurantgaudim.co…',\n",
       " 'http://www.lecucinemandarosso.…',\n",
       " 'http://bella-istanbul.com',\n",
       " 'http://www.abirradero.com',\n",
       " 'http://bodegalapuntual.com',\n",
       " 'http://www.theranch.restaurant',\n",
       " 'http://alsurcafe.com',\n",
       " 'http://www.lluritu.com',\n",
       " nan,\n",
       " 'http://www.morryssom.com/index…',\n",
       " nan,\n",
       " 'http://gruposagardi.com',\n",
       " nan,\n",
       " nan,\n",
       " 'http://www.focioli.com/',\n",
       " 'http://www.bellebuon.com/',\n",
       " 'http://barlaplata.com',\n",
       " nan,\n",
       " 'http://www.brasaylena.com',\n",
       " 'http://www.somewherecafe.com',\n",
       " nan,\n",
       " 'http://thefishandchipsshop.es',\n",
       " 'http://www.tabarlot.com',\n",
       " 'http://www.barbut.es',\n",
       " nan,\n",
       " 'http://www.zarautzbcn.es',\n",
       " nan,\n",
       " 'http://www.amarre69.com',\n",
       " 'http://www.espaciouma.com',\n",
       " 'https://tapsipintxos.wordpress…',\n",
       " 'http://www.bodegalapalma.com/',\n",
       " 'http://www.hotelmajestic.es/es',\n",
       " 'http://www.vietkitchenbcn.com',\n",
       " nan,\n",
       " 'http://www.maestrobcn.com/',\n",
       " nan,\n",
       " 'http://www.pulperiagudina.com',\n",
       " nan,\n",
       " 'http://www.cafe-emma.com/',\n",
       " 'http://www.monchos.com',\n",
       " nan,\n",
       " nan,\n",
       " nan,\n",
       " nan,\n",
       " 'http://hoteltheserrasbarcelona…',\n",
       " 'http://www.elbitxo.com',\n",
       " 'https://www.cincojotas.es',\n",
       " 'http://www.ribs.es',\n",
       " 'http://agustbarcelona.com',\n",
       " 'http://tavernadeleixamplevenez…',\n",
       " 'http://www.nuevereinas.com',\n",
       " nan,\n",
       " nan,\n",
       " 'http://www.restaurantestimar.c…',\n",
       " 'http://www.cdlcbarcelona.com/',\n",
       " 'http://www.crowneplazabarcelon…',\n",
       " 'http://www.mazah.es',\n",
       " 'http://www.viena.es',\n",
       " 'http://www.anglebarcelona.com',\n",
       " 'https://www.lacovafumada.com',\n",
       " 'http://www.restaurantesolomill…',\n",
       " 'http://www.oberestaurant.com/',\n",
       " 'http://www.thaizaap.restaurant',\n",
       " nan,\n",
       " 'http://www.mosquitotapas.com/r…',\n",
       " 'http://www.condesdebarcelona.c…',\n",
       " 'https://seasonrestaurante.com',\n",
       " 'http://www.kamasot.es',\n",
       " nan,\n",
       " 'http://www.familialonja.com',\n",
       " 'http://porkboigpertu.com',\n",
       " 'http://www.norterestaurante.co…',\n",
       " nan,\n",
       " nan,\n",
       " 'http://barramon.dudaone.com',\n",
       " 'http://www.ugotbruncherie.com',\n",
       " 'http://cruixrestaurant.com',\n",
       " 'http://www.petitbangkok.com',\n",
       " 'http://www.gruposantelmo.com/e…',\n",
       " 'http://www.bardelpla.cat',\n",
       " nan,\n",
       " 'http://mana75.es',\n",
       " 'http://www.lacuinadengarriga.c…',\n",
       " nan,\n",
       " nan,\n",
       " 'https://slowandlowbcn.com',\n",
       " nan,\n",
       " 'http://barvenezia.com/',\n",
       " nan,\n",
       " nan,\n",
       " 'http://www.pauclaris190.com',\n",
       " nan,\n",
       " nan,\n",
       " 'http://www.bodegracia.com',\n",
       " 'http://www.ristorantemargherit…',\n",
       " 'http://www.grupnolla.com/bar-n…',\n",
       " 'http://casadorita.com',\n",
       " 'http://www.encompaniadelobos.c…',\n",
       " nan,\n",
       " nan,\n",
       " nan]"
      ]
     },
     "execution_count": 15,
     "metadata": {},
     "output_type": "execute_result"
    }
   ],
   "source": [
    "website"
   ]
  },
  {
   "cell_type": "markdown",
   "metadata": {},
   "source": [
    "#### Number of photos"
   ]
  },
  {
   "cell_type": "code",
   "execution_count": 16,
   "metadata": {},
   "outputs": [],
   "source": [
    "\n",
    "nb_photos = []\n",
    "photo_header_class = 'photo-header-content-container__09f24__jDLBB border-color--default__09f24__NPAKY'\n",
    "for row in resto_soup2:\n",
    "    soup = BeautifulSoup(row, 'html.parser')\n",
    "    photo_header = soup.find(class_ = photo_header_class)\n",
    "    if photo_header is not None:\n",
    "\n",
    "        nb_photos.append(  pd.Series(photo_header.text).str.extract(r'See (\\d+) photos').squeeze()  )\n",
    "        # print('-'*100)\n",
    "\n",
    "    else:\n",
    "        nb_photos.append(np.nan)\n",
    "    "
   ]
  },
  {
   "cell_type": "code",
   "execution_count": 17,
   "metadata": {},
   "outputs": [
    {
     "name": "stdout",
     "output_type": "stream",
     "text": [
      "Cerveseria Catalana 3852\n",
      "My Fucking Restaurant 235\n",
      "Ciutat Comtal 3450\n",
      "Tapeo 1114\n",
      "Arume 1600\n",
      "Taquerías Tamarindo 326\n",
      "Vinitus 1075\n",
      "Somorrostro 905\n",
      "Cañete 1156\n",
      "Firebug 258\n",
      "El Nacional 1326\n",
      "Tucco Real Food Born 614\n",
      "Disfrutar 1340\n",
      "Tosca 404\n",
      "Brunch & Cake 85\n",
      "Can Paixano 419\n",
      "El Pintxo de Petritxol 184\n",
      "Boa-Bao 20\n",
      "El Asador de Aranda 105\n",
      "Restaurant La Tasqueta de Blai 576\n",
      "Telefèric 416\n",
      "Arcano nan\n",
      "Tickets 2292\n",
      "El Jardín del Edén 43\n",
      "Cera 23 1224\n",
      "A Tu Bola 132\n",
      "Guell 155\n",
      "Bar Mut 294\n",
      "Buenos Aires 97\n",
      "Le Romane 27\n",
      "La Pepita 1065\n",
      "Cachitos 237\n",
      "2254 99\n",
      "Federal 136\n",
      "Lizarran 78\n",
      "Momo 46\n",
      "Paradiso 280\n",
      "Sensi nan\n",
      "Alsur Café 662\n",
      "Maitea 272\n",
      "Betlem 161\n",
      "Llamber 262\n",
      "Micu Maku 99\n",
      "O’Toxo 3 Hermanos 191\n",
      "Bilbao Berria 288\n",
      "La Cuina de Laietana 39\n",
      "Macchina 126\n",
      "Bo de Boqueria 22\n",
      "Caravelle 444\n",
      "La Bodegueta 71\n",
      "Raó 146\n",
      "Terrace la Isabela 17\n",
      "El Vaso de Oro 359\n",
      "9 Nine 146\n",
      "Paco Alcalde 120\n",
      "Xian 32\n",
      "Casa Alfonso 166\n",
      "La Caravana 15\n",
      "Mosquito 172\n",
      "Nubar 30\n",
      "Quimet & Quimet 1380\n",
      "La Bombeta 138\n",
      "Billy Brunch 104\n",
      "Citizen Café 124\n",
      "Pinotxo Bar 564\n",
      "Gata Mala 146\n",
      "Elsa y Fred 332\n",
      "Flax & Kale 756\n",
      "La Tagliatella 86\n",
      "Milk Bar & Bistro 649\n",
      "Eat My Trip 193\n",
      "Chongqing Liuyishou Hotpot 13\n",
      "Benzina 87\n",
      "El Arbol Brunch 77\n",
      "Las Sorrentinas 84\n",
      "Luigi 38\n",
      "Chen Ji 139\n",
      "El Quim de la Boqueria 1114\n",
      "Rosa Negra 254\n",
      "La Paradeta 534\n",
      "Babula 11\n",
      "Batuar 46\n",
      "La Alcoba Azul 188\n",
      "Doña Rosa nan\n",
      "Lasarte nan\n",
      "Paella Bar 132\n",
      "La Lluna 52\n",
      "Tantarantana 194\n",
      "Pepito 118\n",
      "Tandoori Nights 148\n",
      "Eden nan\n",
      "Botafumeiro 525\n",
      "L’Amfora Barcelona 107\n",
      "Los Pergaminos nan\n",
      "La Pineda 90\n",
      "Restaurante Bodega Joan 130\n",
      "Els Pollos de Llull 41\n",
      "Bella Italia 23\n",
      "El Boliche del Gordo Cabrera 47\n",
      "La Fermata 112\n",
      "El Xampanyet 673\n",
      "Salterio 115\n",
      "Cremat 11 32\n",
      "Cecconi’s 98\n",
      "Rosat’s 11\n",
      "Pirineu en Boca 72\n",
      "Gaudim 168\n",
      "Le Cucine Mandarosso 96\n",
      "Bella Istanbul 4\n",
      "Abirradero 52\n",
      "Bodega La Puntual 185\n",
      "The Ranch Smokehouse 39\n",
      "Alsur Café & Backdoor Bar 55\n",
      "Lluritu 27\n",
      "Bonavida 31\n",
      "Morryssom 67\n",
      "La Esquina nan\n",
      "Sagardi BCN Gòtic 208\n",
      "Mastica 30\n",
      "Bar Rubí 71\n",
      "Foc i Oli 131\n",
      "Bell e Buon 49\n",
      "La Plata 201\n",
      "Roast Club Cafe 28\n",
      "Brasayleña 11\n",
      "Somewhere 41\n",
      "Can Ros 11\n",
      "The Fish & Chips Shop 54\n",
      "Tabarlot 183\n",
      "Bar But 36\n",
      "Bacaro 65\n",
      "Zarautz 254\n",
      "Sol Soler 83\n",
      "Amarre 69 23\n",
      "Uma 105\n",
      "TAPS 80\n",
      "Bodega La Palma 66\n",
      "El Brunch del Majestic 21\n",
      "Viet Kitchen 20\n",
      "Hänsel 131\n",
      "Maestró 119\n",
      "210 Grammi nan\n",
      "Pulpería A Gudiña 126\n",
      "Miño 432\n",
      "Café Emma 141\n",
      "Marina Bay 168\n",
      "El Chigre 1769 69\n",
      "Taverna Iberia 36\n",
      "Maccaroni 102\n",
      "Pizzeria Da Nanni 40\n",
      "Informal 78\n",
      "El Bitxo 36\n",
      "Cinco Jotas 70\n",
      "Ribs 34\n",
      "Agust 134\n",
      "La Taverna de L’Eixample 46\n",
      "9 Reinas 119\n",
      "Sintonia nan\n",
      "Honest Greens 43\n",
      "Estimar 144\n",
      "CDLC 151\n",
      "173 6\n",
      "Mazah 26\n",
      "Viena 102\n",
      "Angle 134\n",
      "La Cova Fumada 301\n",
      "Solomillo 50\n",
      "Obe Restaurant 107\n",
      "Thai Zaap 14\n",
      "Els Sortidors del Parlament 64\n",
      "Red Ant 103\n",
      "Alaire 39\n",
      "Season Tapas Restaurante 85\n",
      "Kamasot 24\n",
      "Modu Korean Bowl 5\n",
      "Lonja de Tapas 63\n",
      "PORK… boig per tu 129\n",
      "Norte 14\n",
      "Taco Alto nan\n",
      "Equilibrium Cafè 19\n",
      "Bar Ramón 37\n",
      "Ugot Bruncherie 163\n",
      "CruiX 65\n",
      "Petit Bangkok 19\n",
      "Palosanto 75\n",
      "Bar del Pla 375\n",
      "Elisabets 122\n",
      "Maná 75 33\n",
      "La Cuina d’ en Garriga 52\n",
      "La Hacienda 27\n",
      "Hummus 25\n",
      "Slow & Low 45\n",
      "El Pachuco 172\n",
      "El Venezia 18\n",
      "El Rincón del Artista 19\n",
      "Chalito 13\n",
      "Pau Claris 190 99\n",
      "Chez Cocó 51\n",
      "Portolés 16\n",
      "Bo de Gracia 11\n",
      "Margherita 111\n",
      "Bar Nolla 178\n",
      "Casa Dorita 13\n",
      "Palmito Beach Bar 8\n",
      "Takumi Sapporo Ramen Kitchen 6\n",
      "Bosque Palermo 363\n",
      "Son Hao 9\n"
     ]
    }
   ],
   "source": [
    "#\n",
    "# df numbers of pho\n",
    "for name, photo in zip(resto_soup2.index, nb_photos):\n",
    "    print(name, photo)"
   ]
  },
  {
   "cell_type": "markdown",
   "metadata": {},
   "source": [
    "#### Opening hours"
   ]
  },
  {
   "cell_type": "code",
   "execution_count": 18,
   "metadata": {},
   "outputs": [],
   "source": [
    "opening_hours = {'name':list(), 'day':list(), 'opening':list(), 'closing':list()}\n",
    "for row, name in zip(resto_soup2, resto_soup2.index):\n",
    "    soup = BeautifulSoup(row, 'html.parser')\n",
    "    days = []\n",
    "    days_container = soup.select('.day-of-the-week__09f24__JJea_')\n",
    "    time_container = soup.select('.no-wrap__09f24__c3plq.css-1p9ibgf')\n",
    "    for day, time in zip(days_container, time_container):\n",
    "\n",
    "        opening_hours['name'].append(name)\n",
    "        opening_hours['day'].append(day.text)\n",
    "        opening_hours['opening'].append(   pd.Series(time.text).str.extract(r'(\\d+:\\d+ \\w+) - \\d+:\\d+ \\w+').squeeze()   )\n",
    "        opening_hours['closing'].append( pd.Series(time.text).str.extract(r'\\d+:\\d+ \\w+ - (\\d+:\\d+ \\w+)').squeeze() )"
   ]
  },
  {
   "cell_type": "code",
   "execution_count": 19,
   "metadata": {},
   "outputs": [
    {
     "name": "stdout",
     "output_type": "stream",
     "text": [
      "['Cerveseria Catalana', 'Mon', '9:00 AM', '1:30 AM']\n",
      "['Cerveseria Catalana', 'Tue', '9:00 AM', '1:30 AM']\n",
      "['Cerveseria Catalana', 'Wed', '9:00 AM', '1:30 AM']\n",
      "['Cerveseria Catalana', 'Thu', '9:00 AM', '1:30 AM']\n",
      "['Cerveseria Catalana', 'Fri', '9:00 AM', '1:30 AM']\n",
      "['Cerveseria Catalana', 'Sat', '9:00 AM', '1:30 AM']\n",
      "['Cerveseria Catalana', 'Sun', '9:00 AM', '1:30 AM']\n",
      "['My Fucking Restaurant', 'Mon', '5:00 PM', '12:30 AM']\n",
      "['My Fucking Restaurant', 'Tue', '5:00 PM', '12:30 AM']\n",
      "['My Fucking Restaurant', 'Wed', '5:00 PM', '12:30 AM']\n",
      "['My Fucking Restaurant', 'Thu', '5:00 PM', '12:30 AM']\n",
      "['My Fucking Restaurant', 'Fri', '5:00 PM', '12:30 AM']\n",
      "['My Fucking Restaurant', 'Sat', '5:00 PM', '12:30 AM']\n",
      "['My Fucking Restaurant', 'Sun', '5:00 PM', '12:30 AM']\n",
      "['Ciutat Comtal', 'Mon', '8:00 AM', '1:30 AM']\n",
      "['Ciutat Comtal', 'Tue', '8:00 AM', '1:30 AM']\n",
      "['Ciutat Comtal', 'Wed', '8:00 AM', '1:30 AM']\n",
      "['Ciutat Comtal', 'Thu', '8:00 AM', '1:30 AM']\n",
      "['Ciutat Comtal', 'Fri', '8:00 AM', '1:30 AM']\n",
      "['Ciutat Comtal', 'Sat', '9:00 AM', '1:30 AM']\n",
      "['Ciutat Comtal', 'Sun', '9:00 AM', '1:30 AM']\n",
      "['Tapeo', 'Mon', '12:00 PM', '12:00 AM']\n",
      "['Tapeo', 'Tue', '12:00 PM', '12:00 AM']\n",
      "['Tapeo', 'Wed', '12:00 PM', '12:00 AM']\n",
      "['Tapeo', 'Thu', '12:00 PM', '12:00 AM']\n",
      "['Tapeo', 'Fri', '12:00 PM', '12:00 AM']\n",
      "['Tapeo', 'Sat', '12:00 PM', '12:00 AM']\n",
      "['Tapeo', 'Sun', '12:00 PM', '12:00 AM']\n",
      "['Arume', 'Mon', '7:00 PM', '11:30 PM']\n",
      "['Arume', 'Tue', '7:00 PM', '11:30 PM']\n",
      "['Arume', 'Wed', '7:00 PM', '11:30 PM']\n",
      "['Arume', 'Thu', '7:00 PM', '11:30 PM']\n",
      "['Arume', 'Fri', '1:00 PM', '3:30 PM']\n",
      "['Arume', 'Sat', '7:00 PM', '11:30 PM']\n",
      "['Arume', 'Sun', '1:00 PM', '3:30 PM']\n",
      "['Taquerías Tamarindo', 'Mon', '12:30 PM', '11:00 PM']\n",
      "['Taquerías Tamarindo', 'Tue', '12:30 PM', '11:00 PM']\n",
      "['Taquerías Tamarindo', 'Wed', '12:30 PM', '11:00 PM']\n",
      "['Taquerías Tamarindo', 'Thu', '12:30 PM', '12:00 AM']\n",
      "['Taquerías Tamarindo', 'Fri', '12:30 PM', '12:00 AM']\n",
      "['Taquerías Tamarindo', 'Sat', '12:30 PM', '12:00 AM']\n",
      "['Taquerías Tamarindo', 'Sun', nan, nan]\n",
      "['Vinitus', 'Mon', '7:30 AM', '12:00 AM']\n",
      "['Vinitus', 'Tue', '7:30 AM', '12:00 AM']\n",
      "['Vinitus', 'Wed', '7:30 AM', '12:00 AM']\n",
      "['Vinitus', 'Thu', '7:30 AM', '12:00 AM']\n",
      "['Vinitus', 'Fri', '7:30 AM', '12:30 AM']\n",
      "['Vinitus', 'Sat', '9:00 AM', '12:30 AM']\n",
      "['Vinitus', 'Sun', nan, nan]\n",
      "['Somorrostro', 'Mon', '1:00 PM', '11:00 PM']\n",
      "['Somorrostro', 'Tue', '1:00 PM', '11:00 PM']\n",
      "['Somorrostro', 'Wed', '1:00 PM', '11:00 PM']\n",
      "['Somorrostro', 'Thu', '1:00 PM', '11:00 PM']\n",
      "['Somorrostro', 'Fri', '1:00 PM', '11:00 PM']\n",
      "['Somorrostro', 'Sat', '1:00 PM', '11:00 PM']\n",
      "['Somorrostro', 'Sun', '1:00 PM', '11:00 PM']\n",
      "['Cañete', 'Mon', '1:00 PM', '12:00 AM']\n",
      "['Cañete', 'Tue', '1:00 PM', '12:00 AM']\n",
      "['Cañete', 'Wed', '1:00 PM', '12:00 AM']\n",
      "['Cañete', 'Thu', '1:00 PM', '12:00 AM']\n",
      "['Cañete', 'Fri', '1:00 PM', '12:00 AM']\n",
      "['Cañete', 'Sat', '1:00 PM', '12:00 AM']\n",
      "['Cañete', 'Sun', nan, nan]\n",
      "['Firebug', 'Mon', '10:00 AM', '2:00 AM']\n",
      "['Firebug', 'Tue', '10:00 AM', '2:00 AM']\n",
      "['Firebug', 'Wed', '10:00 AM', '2:00 AM']\n",
      "['Firebug', 'Thu', '10:00 AM', '2:00 AM']\n",
      "['Firebug', 'Fri', '9:00 AM', '3:00 AM']\n",
      "['Firebug', 'Sat', '9:00 AM', '3:00 AM']\n",
      "['Firebug', 'Sun', '9:00 AM', '3:00 AM']\n",
      "['El Nacional', 'Mon', '12:00 PM', '2:00 AM']\n",
      "['El Nacional', 'Tue', '12:00 PM', '2:00 AM']\n",
      "['El Nacional', 'Wed', '12:00 PM', '2:00 AM']\n",
      "['El Nacional', 'Thu', '12:00 PM', '2:00 AM']\n",
      "['El Nacional', 'Fri', '12:00 PM', '3:00 AM']\n",
      "['El Nacional', 'Sat', '12:00 PM', '3:00 AM']\n",
      "['El Nacional', 'Sun', '12:00 PM', '2:00 AM']\n",
      "['Tucco Real Food Born', 'Mon', '12:00 PM', '11:00 PM']\n",
      "['Tucco Real Food Born', 'Tue', '12:00 PM', '11:00 PM']\n",
      "['Tucco Real Food Born', 'Wed', '12:00 PM', '11:00 PM']\n",
      "['Tucco Real Food Born', 'Thu', '12:00 PM', '11:00 PM']\n",
      "['Tucco Real Food Born', 'Fri', '12:00 PM', '11:00 PM']\n",
      "['Tucco Real Food Born', 'Sat', '12:00 PM', '11:00 PM']\n",
      "['Tucco Real Food Born', 'Sun', '12:00 PM', '5:00 PM']\n",
      "['Tosca', 'Mon', '11:00 AM', '2:00 AM']\n",
      "['Tosca', 'Tue', '11:00 AM', '2:00 AM']\n",
      "['Tosca', 'Wed', '11:00 AM', '2:00 AM']\n",
      "['Tosca', 'Thu', '11:00 AM', '2:00 AM']\n",
      "['Tosca', 'Fri', '11:00 AM', '2:00 AM']\n",
      "['Tosca', 'Sat', '11:00 AM', '2:00 AM']\n",
      "['Tosca', 'Sun', '11:00 AM', '2:00 AM']\n",
      "['Brunch & Cake', 'Mon', '9:00 AM', '7:00 PM']\n",
      "['Brunch & Cake', 'Tue', '9:00 AM', '7:00 PM']\n",
      "['Brunch & Cake', 'Wed', '9:00 AM', '7:00 PM']\n",
      "['Brunch & Cake', 'Thu', '9:00 AM', '7:00 PM']\n",
      "['Brunch & Cake', 'Fri', '9:00 AM', '7:00 PM']\n",
      "['Brunch & Cake', 'Sat', '9:00 AM', '7:00 PM']\n",
      "['Brunch & Cake', 'Sun', '9:00 AM', '7:00 PM']\n",
      "['Can Paixano', 'Mon', '9:00 AM', '10:30 PM']\n",
      "['Can Paixano', 'Tue', '9:00 AM', '10:30 PM']\n",
      "['Can Paixano', 'Wed', '9:00 AM', '10:30 PM']\n",
      "['Can Paixano', 'Thu', '9:00 AM', '10:30 PM']\n",
      "['Can Paixano', 'Fri', '9:00 AM', '10:30 PM']\n",
      "['Can Paixano', 'Sat', '9:00 AM', '10:30 PM']\n",
      "['Can Paixano', 'Sun', nan, nan]\n",
      "['El Pintxo de Petritxol', 'Mon', '11:00 AM', '12:00 AM']\n",
      "['El Pintxo de Petritxol', 'Tue', '11:00 AM', '12:00 AM']\n",
      "['El Pintxo de Petritxol', 'Wed', '11:00 AM', '12:00 AM']\n",
      "['El Pintxo de Petritxol', 'Thu', '11:00 AM', '12:00 AM']\n",
      "['El Pintxo de Petritxol', 'Fri', '11:00 AM', '12:00 AM']\n",
      "['El Pintxo de Petritxol', 'Sat', '11:00 AM', '12:00 AM']\n",
      "['El Pintxo de Petritxol', 'Sun', '11:00 AM', '12:00 AM']\n",
      "['Boa-Bao', 'Mon', '12:30 PM', '12:00 AM']\n",
      "['Boa-Bao', 'Tue', '12:30 PM', '12:00 AM']\n",
      "['Boa-Bao', 'Wed', '12:30 PM', '12:00 AM']\n",
      "['Boa-Bao', 'Thu', '12:30 PM', '12:00 AM']\n",
      "['Boa-Bao', 'Fri', '12:30 PM', '1:00 AM']\n",
      "['Boa-Bao', 'Sat', '12:30 PM', '1:00 AM']\n",
      "['Boa-Bao', 'Sun', '12:30 PM', '12:00 AM']\n",
      "['El Asador de Aranda', 'Mon', '1:00 PM', '11:30 PM']\n",
      "['El Asador de Aranda', 'Tue', '1:00 PM', '11:30 PM']\n",
      "['El Asador de Aranda', 'Wed', '1:00 PM', '11:30 PM']\n",
      "['El Asador de Aranda', 'Thu', '1:00 PM', '11:30 PM']\n",
      "['El Asador de Aranda', 'Fri', '1:00 PM', '11:30 PM']\n",
      "['El Asador de Aranda', 'Sat', '1:00 PM', '11:30 PM']\n",
      "['El Asador de Aranda', 'Sun', '1:00 PM', '11:30 PM']\n",
      "['Restaurant La Tasqueta de Blai', 'Mon', '12:00 PM', '12:00 AM']\n",
      "['Restaurant La Tasqueta de Blai', 'Tue', '12:00 PM', '12:00 AM']\n",
      "['Restaurant La Tasqueta de Blai', 'Wed', '12:00 PM', '12:00 AM']\n",
      "['Restaurant La Tasqueta de Blai', 'Thu', '12:00 PM', '12:00 AM']\n",
      "['Restaurant La Tasqueta de Blai', 'Fri', '12:00 PM', '12:00 AM']\n",
      "['Restaurant La Tasqueta de Blai', 'Sat', '12:00 PM', '12:00 AM']\n",
      "['Restaurant La Tasqueta de Blai', 'Sun', '12:00 PM', '12:00 AM']\n",
      "['Telefèric', 'Mon', '11:00 AM', '12:00 AM']\n",
      "['Telefèric', 'Tue', '11:00 AM', '12:00 AM']\n",
      "['Telefèric', 'Wed', '11:00 AM', '12:00 AM']\n",
      "['Telefèric', 'Thu', '11:00 AM', '12:00 AM']\n",
      "['Telefèric', 'Fri', '11:00 AM', '12:00 AM']\n",
      "['Telefèric', 'Sat', '11:00 AM', '1:00 AM']\n",
      "['Telefèric', 'Sun', '5:00 PM', '12:00 AM']\n",
      "['Tickets', 'Mon', nan, nan]\n",
      "['Tickets', 'Tue', '7:00 PM', '11:30 PM']\n",
      "['Tickets', 'Wed', '7:00 PM', '11:30 PM']\n",
      "['Tickets', 'Thu', '7:00 PM', '11:30 PM']\n",
      "['Tickets', 'Fri', '7:00 PM', '11:30 PM']\n",
      "['Tickets', 'Sat', '7:00 PM', '11:30 PM']\n",
      "['Tickets', 'Sun', nan, nan]\n",
      "['El Jardín del Edén', 'Mon', '7:00 AM', '3:00 AM']\n",
      "['El Jardín del Edén', 'Tue', '7:00 AM', '3:00 AM']\n",
      "['El Jardín del Edén', 'Wed', '7:00 AM', '3:00 AM']\n",
      "['El Jardín del Edén', 'Thu', '7:00 AM', '3:00 AM']\n",
      "['El Jardín del Edén', 'Fri', '7:00 AM', '3:00 AM']\n",
      "['El Jardín del Edén', 'Sat', '7:00 AM', '3:00 AM']\n",
      "['El Jardín del Edén', 'Sun', '7:00 AM', '3:00 AM']\n",
      "['Cera 23', 'Mon', '1:00 PM', '3:30 PM']\n",
      "['Cera 23', 'Tue', '7:00 PM', '11:30 PM']\n",
      "['Cera 23', 'Wed', '7:00 PM', '11:30 PM']\n",
      "['Cera 23', 'Thu', '7:00 PM', '11:30 PM']\n",
      "['Cera 23', 'Fri', '1:00 PM', '3:30 PM']\n",
      "['Cera 23', 'Sat', '7:00 PM', '11:30 PM']\n",
      "['Cera 23', 'Sun', '1:00 PM', '3:30 PM']\n",
      "['A Tu Bola', 'Mon', '12:00 PM', '11:00 PM']\n",
      "['A Tu Bola', 'Tue', '12:00 PM', '11:00 PM']\n",
      "['A Tu Bola', 'Wed', '12:00 PM', '11:00 PM']\n",
      "['A Tu Bola', 'Thu', '12:00 PM', '11:00 PM']\n",
      "['A Tu Bola', 'Fri', '12:00 PM', '11:00 PM']\n",
      "['A Tu Bola', 'Sat', '12:00 PM', '11:00 PM']\n",
      "['A Tu Bola', 'Sun', '12:00 PM', '11:00 PM']\n",
      "['Guell', 'Mon', '7:30 AM', '1:00 AM']\n",
      "['Guell', 'Tue', '7:30 AM', '1:00 AM']\n",
      "['Guell', 'Wed', '7:30 AM', '1:00 AM']\n",
      "['Guell', 'Thu', '7:30 AM', '1:00 AM']\n",
      "['Guell', 'Fri', '7:30 AM', '1:00 AM']\n",
      "['Guell', 'Sat', '8:00 AM', '1:00 AM']\n",
      "['Guell', 'Sun', '9:00 AM', '1:00 AM']\n",
      "['Bar Mut', 'Mon', '12:30 PM', '12:00 AM']\n",
      "['Bar Mut', 'Tue', '12:30 PM', '12:00 AM']\n",
      "['Bar Mut', 'Wed', '12:30 PM', '12:00 AM']\n",
      "['Bar Mut', 'Thu', '12:30 PM', '12:00 AM']\n",
      "['Bar Mut', 'Fri', '12:30 PM', '12:00 AM']\n",
      "['Bar Mut', 'Sat', '11:30 AM', '12:00 AM']\n",
      "['Bar Mut', 'Sun', '11:30 AM', '12:00 AM']\n",
      "['Buenos Aires', 'Mon', '1:00 PM', '12:00 AM']\n",
      "['Buenos Aires', 'Tue', '1:00 PM', '12:00 AM']\n",
      "['Buenos Aires', 'Wed', '1:00 PM', '12:00 AM']\n",
      "['Buenos Aires', 'Thu', '1:00 PM', '12:00 AM']\n",
      "['Buenos Aires', 'Fri', '1:00 PM', '12:00 AM']\n",
      "['Buenos Aires', 'Sat', '1:00 PM', '12:00 AM']\n",
      "['Buenos Aires', 'Sun', '1:00 PM', '12:00 AM']\n",
      "['Le Romane', 'Mon', '12:30 PM', '12:00 AM']\n",
      "['Le Romane', 'Tue', '12:30 PM', '12:00 AM']\n",
      "['Le Romane', 'Wed', '12:30 PM', '12:00 AM']\n",
      "['Le Romane', 'Thu', '12:30 PM', '12:00 AM']\n",
      "['Le Romane', 'Fri', '12:30 PM', '1:00 AM']\n",
      "['Le Romane', 'Sat', '12:30 PM', '1:00 AM']\n",
      "['Le Romane', 'Sun', nan, nan]\n",
      "['La Pepita', 'Mon', '1:00 PM', '4:00 PM']\n",
      "['La Pepita', 'Tue', '1:00 PM', '4:00 PM']\n",
      "['La Pepita', 'Wed', '10:00 AM', '4:00 PM']\n",
      "['La Pepita', 'Thu', '10:00 AM', '12:00 AM']\n",
      "['La Pepita', 'Fri', '1:00 PM', '4:00 PM']\n",
      "['La Pepita', 'Sat', '7:30 PM', '12:00 AM']\n",
      "['La Pepita', 'Sun', '1:00 PM', '4:00 PM']\n",
      "['Cachitos', 'Mon', '10:00 AM', '3:00 AM']\n",
      "['Cachitos', 'Tue', '10:00 AM', '3:00 AM']\n",
      "['Cachitos', 'Wed', '10:00 AM', '3:00 AM']\n",
      "['Cachitos', 'Thu', '10:00 AM', '3:00 AM']\n",
      "['Cachitos', 'Fri', '10:00 AM', '3:00 AM']\n",
      "['Cachitos', 'Sat', '10:00 AM', '3:00 AM']\n",
      "['Cachitos', 'Sun', '10:00 AM', '3:00 AM']\n",
      "['2254', 'Mon', '1:00 PM', '11:30 PM']\n",
      "['2254', 'Tue', '1:00 PM', '11:30 PM']\n",
      "['2254', 'Wed', '1:00 PM', '11:30 PM']\n",
      "['2254', 'Thu', '1:00 PM', '11:30 PM']\n",
      "['2254', 'Fri', '1:00 PM', '11:30 PM']\n",
      "['2254', 'Sat', '1:00 PM', '11:30 PM']\n",
      "['2254', 'Sun', '7:00 PM', '11:30 PM']\n",
      "['Federal', 'Mon', '9:00 AM', '12:00 AM']\n",
      "['Federal', 'Tue', '9:00 AM', '12:00 AM']\n",
      "['Federal', 'Wed', '9:00 AM', '12:00 AM']\n",
      "['Federal', 'Thu', '9:00 AM', '12:00 AM']\n",
      "['Federal', 'Fri', '9:00 AM', '1:00 AM']\n",
      "['Federal', 'Sat', '9:00 AM', '1:00 AM']\n",
      "['Federal', 'Sun', '9:00 AM', '5:30 PM']\n",
      "['Lizarran', 'Mon', '9:00 AM', '12:00 AM']\n",
      "['Lizarran', 'Tue', '9:00 AM', '12:00 AM']\n",
      "['Lizarran', 'Wed', '9:00 AM', '12:00 AM']\n",
      "['Lizarran', 'Thu', '9:00 AM', '12:00 AM']\n",
      "['Lizarran', 'Fri', '9:00 AM', '12:00 AM']\n",
      "['Lizarran', 'Sat', '12:00 PM', '12:00 AM']\n",
      "['Lizarran', 'Sun', '12:00 PM', '12:00 AM']\n",
      "['Momo', 'Mon', '4:30 PM', '8:00 PM']\n",
      "['Momo', 'Tue', '11:00 AM', '2:00 PM']\n",
      "['Momo', 'Wed', '4:30 PM', '8:00 PM']\n",
      "['Momo', 'Thu', '11:00 AM', '2:00 PM']\n",
      "['Momo', 'Fri', '4:30 PM', '8:00 PM']\n",
      "['Momo', 'Sat', '11:00 AM', '2:00 PM']\n",
      "['Momo', 'Sun', '4:30 PM', '8:00 PM']\n",
      "['Alsur Café', 'Mon', '8:30 AM', '12:00 AM']\n",
      "['Alsur Café', 'Tue', '8:30 AM', '12:00 AM']\n",
      "['Alsur Café', 'Wed', '8:30 AM', '12:00 AM']\n",
      "['Alsur Café', 'Thu', '8:30 AM', '12:30 AM']\n",
      "['Alsur Café', 'Fri', '8:30 AM', '1:00 AM']\n",
      "['Alsur Café', 'Sat', '9:00 AM', '1:00 AM']\n",
      "['Alsur Café', 'Sun', '9:00 AM', '12:00 AM']\n",
      "['Maitea', 'Mon', '11:00 AM', '12:00 AM']\n",
      "['Maitea', 'Tue', '11:00 AM', '12:00 AM']\n",
      "['Maitea', 'Wed', '11:00 AM', '12:00 AM']\n",
      "['Maitea', 'Thu', '11:00 AM', '12:00 AM']\n",
      "['Maitea', 'Fri', '11:00 AM', '12:00 AM']\n",
      "['Maitea', 'Sat', '12:00 PM', '12:00 AM']\n",
      "['Maitea', 'Sun', nan, nan]\n",
      "['Betlem', 'Mon', '12:00 PM', '12:00 AM']\n",
      "['Betlem', 'Tue', '12:00 PM', '12:00 AM']\n",
      "['Betlem', 'Wed', '12:00 PM', '12:00 AM']\n",
      "['Betlem', 'Thu', '12:00 PM', '12:00 AM']\n",
      "['Betlem', 'Fri', '12:00 PM', '1:00 AM']\n",
      "['Betlem', 'Sat', '12:00 PM', '1:00 AM']\n",
      "['Betlem', 'Sun', '12:00 PM', '12:00 AM']\n",
      "['Llamber', 'Mon', '12:00 PM', '12:30 AM']\n",
      "['Llamber', 'Tue', '12:00 PM', '12:30 AM']\n",
      "['Llamber', 'Wed', '12:00 PM', '12:30 AM']\n",
      "['Llamber', 'Thu', '12:00 PM', '12:30 AM']\n",
      "['Llamber', 'Fri', '12:00 PM', '12:30 AM']\n",
      "['Llamber', 'Sat', '9:00 AM', '12:30 AM']\n",
      "['Llamber', 'Sun', '9:00 AM', '12:30 AM']\n",
      "['Micu Maku', 'Mon', '12:00 PM', '11:45 PM']\n",
      "['Micu Maku', 'Tue', '12:00 PM', '11:45 PM']\n",
      "['Micu Maku', 'Wed', '12:00 PM', '11:45 PM']\n",
      "['Micu Maku', 'Thu', '12:00 PM', '11:45 PM']\n",
      "['Micu Maku', 'Fri', '12:00 PM', '11:45 PM']\n",
      "['Micu Maku', 'Sat', '12:00 PM', '11:45 PM']\n",
      "['Micu Maku', 'Sun', '12:00 PM', '11:45 PM']\n",
      "['O’Toxo 3 Hermanos', 'Mon', '9:00 AM', '12:30 AM']\n",
      "['O’Toxo 3 Hermanos', 'Tue', '9:00 AM', '12:30 AM']\n",
      "['O’Toxo 3 Hermanos', 'Wed', '9:00 AM', '12:30 AM']\n",
      "['O’Toxo 3 Hermanos', 'Thu', '9:00 AM', '12:30 AM']\n",
      "['O’Toxo 3 Hermanos', 'Fri', '9:00 AM', '1:30 AM']\n",
      "['O’Toxo 3 Hermanos', 'Sat', '9:00 AM', '1:30 AM']\n",
      "['O’Toxo 3 Hermanos', 'Sun', nan, nan]\n",
      "['Bilbao Berria', 'Mon', '8:00 AM', '1:00 AM']\n",
      "['Bilbao Berria', 'Tue', '8:00 AM', '1:00 AM']\n",
      "['Bilbao Berria', 'Wed', '8:00 AM', '1:00 AM']\n",
      "['Bilbao Berria', 'Thu', '8:00 AM', '1:00 AM']\n",
      "['Bilbao Berria', 'Fri', '8:00 AM', '1:00 AM']\n",
      "['Bilbao Berria', 'Sat', '8:00 AM', '1:00 AM']\n",
      "['Bilbao Berria', 'Sun', '8:00 AM', '1:00 AM']\n",
      "['La Cuina de Laietana', 'Mon', '8:00 AM', '12:00 AM']\n",
      "['La Cuina de Laietana', 'Tue', '8:00 AM', '12:00 AM']\n",
      "['La Cuina de Laietana', 'Wed', '8:00 AM', '12:00 AM']\n",
      "['La Cuina de Laietana', 'Thu', '8:00 AM', '12:00 AM']\n",
      "['La Cuina de Laietana', 'Fri', '8:00 AM', '12:00 AM']\n",
      "['La Cuina de Laietana', 'Sat', '10:00 AM', '12:00 AM']\n",
      "['La Cuina de Laietana', 'Sun', '10:00 AM', '12:00 AM']\n",
      "['Macchina', 'Mon', '12:30 PM', '12:00 AM']\n",
      "['Macchina', 'Tue', '12:30 PM', '12:00 AM']\n",
      "['Macchina', 'Wed', '12:30 PM', '12:00 AM']\n",
      "['Macchina', 'Thu', '12:30 PM', '12:00 AM']\n",
      "['Macchina', 'Fri', '12:30 PM', '12:00 AM']\n",
      "['Macchina', 'Sat', '12:30 PM', '12:00 AM']\n",
      "['Macchina', 'Sun', '12:30 PM', '12:00 AM']\n",
      "['Bo de Boqueria', 'Mon', '11:00 AM', '12:00 AM']\n",
      "['Bo de Boqueria', 'Tue', '11:00 AM', '12:00 AM']\n",
      "['Bo de Boqueria', 'Wed', '11:00 AM', '12:00 AM']\n",
      "['Bo de Boqueria', 'Thu', '11:00 AM', '12:00 AM']\n",
      "['Bo de Boqueria', 'Fri', '11:00 AM', '1:00 AM']\n",
      "['Bo de Boqueria', 'Sat', '11:00 AM', '1:00 AM']\n",
      "['Bo de Boqueria', 'Sun', '11:00 AM', '1:00 AM']\n",
      "['Caravelle', 'Mon', '9:00 AM', '4:30 PM']\n",
      "['Caravelle', 'Tue', '9:30 AM', '4:30 PM']\n",
      "['Caravelle', 'Wed', '9:30 AM', '4:30 PM']\n",
      "['Caravelle', 'Thu', '9:30 AM', '4:30 PM']\n",
      "['Caravelle', 'Fri', '9:30 AM', '4:30 PM']\n",
      "['Caravelle', 'Sat', '10:00 AM', '4:30 PM']\n",
      "['Caravelle', 'Sun', '10:00 AM', '4:30 PM']\n",
      "['La Bodegueta', 'Mon', '7:00 AM', '2:00 AM']\n",
      "['La Bodegueta', 'Tue', '7:00 AM', '2:00 AM']\n",
      "['La Bodegueta', 'Wed', '7:00 AM', '2:00 AM']\n",
      "['La Bodegueta', 'Thu', '7:00 AM', '2:00 AM']\n",
      "['La Bodegueta', 'Fri', '7:00 AM', '2:00 AM']\n",
      "['La Bodegueta', 'Sat', '8:00 AM', '2:00 AM']\n",
      "['La Bodegueta', 'Sun', '6:30 PM', '2:00 AM']\n",
      "['Raó', 'Mon', '7:30 PM', '11:00 PM']\n",
      "['Raó', 'Tue', '7:30 PM', '11:00 PM']\n",
      "['Raó', 'Wed', '7:30 PM', '11:00 PM']\n",
      "['Raó', 'Thu', '7:30 PM', '11:00 PM']\n",
      "['Raó', 'Fri', '7:30 PM', '11:00 PM']\n",
      "['Raó', 'Sat', '7:00 PM', '10:30 PM']\n",
      "['Raó', 'Sun', nan, nan]\n",
      "['Terrace la Isabela', 'Mon', '10:00 AM', '8:30 PM']\n",
      "['Terrace la Isabela', 'Tue', '10:00 AM', '8:30 PM']\n",
      "['Terrace la Isabela', 'Wed', '10:00 AM', '8:30 PM']\n",
      "['Terrace la Isabela', 'Thu', '10:00 AM', '8:30 PM']\n",
      "['Terrace la Isabela', 'Fri', '10:00 AM', '8:30 PM']\n",
      "['Terrace la Isabela', 'Sat', '10:00 AM', '8:30 PM']\n",
      "['Terrace la Isabela', 'Sun', '10:00 AM', '8:30 PM']\n",
      "['El Vaso de Oro', 'Mon', '11:00 AM', '12:00 AM']\n",
      "['El Vaso de Oro', 'Tue', '11:00 AM', '12:00 AM']\n",
      "['El Vaso de Oro', 'Wed', '11:00 AM', '12:00 AM']\n",
      "['El Vaso de Oro', 'Thu', '11:00 AM', '12:00 AM']\n",
      "['El Vaso de Oro', 'Fri', '11:00 AM', '12:00 AM']\n",
      "['El Vaso de Oro', 'Sat', '11:00 AM', '12:00 AM']\n",
      "['El Vaso de Oro', 'Sun', '11:00 AM', '12:00 AM']\n",
      "['9 Nine', 'Mon', '7:30 PM', '11:00 PM']\n",
      "['9 Nine', 'Tue', '1:00 PM', '4:00 PM']\n",
      "['9 Nine', 'Wed', '7:30 PM', '11:00 PM']\n",
      "['9 Nine', 'Thu', '1:00 PM', '4:00 PM']\n",
      "['9 Nine', 'Fri', '7:30 PM', '11:00 PM']\n",
      "['9 Nine', 'Sat', '1:00 PM', '4:00 PM']\n",
      "['9 Nine', 'Sun', '7:30 PM', '11:00 PM']\n",
      "['Paco Alcalde', 'Mon', '12:30 PM', '11:30 PM']\n",
      "['Paco Alcalde', 'Tue', nan, nan]\n",
      "['Paco Alcalde', 'Wed', '12:30 PM', '11:30 PM']\n",
      "['Paco Alcalde', 'Thu', '12:30 PM', '11:30 PM']\n",
      "['Paco Alcalde', 'Fri', '12:30 PM', '10:30 PM']\n",
      "['Paco Alcalde', 'Sat', '12:30 PM', '10:30 PM']\n",
      "['Paco Alcalde', 'Sun', '12:30 PM', '10:30 PM']\n",
      "['Xian', 'Mon', '10:00 AM', '12:00 AM']\n",
      "['Xian', 'Tue', '10:00 AM', '12:00 AM']\n",
      "['Xian', 'Wed', '10:00 AM', '12:00 AM']\n",
      "['Xian', 'Thu', '10:00 AM', '12:00 AM']\n",
      "['Xian', 'Fri', '10:00 AM', '12:00 AM']\n",
      "['Xian', 'Sat', '10:00 AM', '12:00 AM']\n",
      "['Xian', 'Sun', '10:00 AM', '12:00 AM']\n",
      "['Casa Alfonso', 'Mon', '8:00 AM', '1:00 AM']\n",
      "['Casa Alfonso', 'Tue', '8:00 AM', '1:00 AM']\n",
      "['Casa Alfonso', 'Wed', '8:00 AM', '1:00 AM']\n",
      "['Casa Alfonso', 'Thu', '8:00 AM', '1:00 AM']\n",
      "['Casa Alfonso', 'Fri', '8:00 AM', '1:00 AM']\n",
      "['Casa Alfonso', 'Sat', '8:00 AM', '1:00 AM']\n",
      "['Casa Alfonso', 'Sun', nan, nan]\n",
      "['La Caravana', 'Mon', '12:30 PM', '1:00 AM']\n",
      "['La Caravana', 'Tue', '12:30 PM', '1:00 AM']\n",
      "['La Caravana', 'Wed', '12:30 PM', '1:00 AM']\n",
      "['La Caravana', 'Thu', '12:30 PM', '1:00 AM']\n",
      "['La Caravana', 'Fri', '12:30 PM', '1:00 AM']\n",
      "['La Caravana', 'Sat', '12:30 PM', '1:00 AM']\n",
      "['La Caravana', 'Sun', '12:30 PM', '1:00 AM']\n",
      "['Mosquito', 'Mon', '4:00 PM', '12:30 AM']\n",
      "['Mosquito', 'Tue', '1:00 PM', '12:30 AM']\n",
      "['Mosquito', 'Wed', '1:00 PM', '12:30 AM']\n",
      "['Mosquito', 'Thu', '12:00 PM', '12:30 AM']\n",
      "['Mosquito', 'Fri', '12:00 PM', '12:30 AM']\n",
      "['Mosquito', 'Sat', '12:00 PM', '12:30 AM']\n",
      "['Mosquito', 'Sun', '12:00 PM', '12:30 AM']\n",
      "['Nubar', 'Mon', '1:00 PM', '1:00 AM']\n",
      "['Nubar', 'Tue', '1:00 PM', '1:00 AM']\n",
      "['Nubar', 'Wed', '1:00 PM', '1:00 AM']\n",
      "['Nubar', 'Thu', '1:00 PM', '1:00 AM']\n",
      "['Nubar', 'Fri', '1:00 PM', '2:30 AM']\n",
      "['Nubar', 'Sat', '1:00 PM', '3:00 AM']\n",
      "['Nubar', 'Sun', '1:00 PM', '3:00 AM']\n",
      "['Quimet & Quimet', 'Mon', '12:00 PM', '4:00 PM']\n",
      "['Quimet & Quimet', 'Tue', '7:00 PM', '10:30 PM']\n",
      "['Quimet & Quimet', 'Wed', '12:00 PM', '4:00 PM']\n",
      "['Quimet & Quimet', 'Thu', '7:00 PM', '10:30 PM']\n",
      "['Quimet & Quimet', 'Fri', '12:00 PM', '4:00 PM']\n",
      "['Quimet & Quimet', 'Sat', '7:00 PM', '10:30 PM']\n",
      "['Quimet & Quimet', 'Sun', '12:00 PM', '4:00 PM']\n",
      "['La Bombeta', 'Mon', '10:00 AM', '12:00 AM']\n",
      "['La Bombeta', 'Tue', '10:00 AM', '12:00 AM']\n",
      "['La Bombeta', 'Wed', nan, nan]\n",
      "['La Bombeta', 'Thu', '10:00 AM', '12:00 AM']\n",
      "['La Bombeta', 'Fri', '10:00 AM', '12:00 AM']\n",
      "['La Bombeta', 'Sat', '10:00 AM', '12:00 AM']\n",
      "['La Bombeta', 'Sun', '10:00 AM', '12:00 AM']\n",
      "['Billy Brunch', 'Mon', '9:30 AM', '5:00 PM']\n",
      "['Billy Brunch', 'Tue', '9:30 AM', '5:00 PM']\n",
      "['Billy Brunch', 'Wed', '9:30 AM', '5:00 PM']\n",
      "['Billy Brunch', 'Thu', '9:30 AM', '5:00 PM']\n",
      "['Billy Brunch', 'Fri', '9:30 AM', '5:00 PM']\n",
      "['Billy Brunch', 'Sat', '9:30 AM', '5:00 PM']\n",
      "['Billy Brunch', 'Sun', '9:30 AM', '5:00 PM']\n",
      "['Citizen Café', 'Mon', '9:00 AM', '9:00 PM']\n",
      "['Citizen Café', 'Tue', '9:00 AM', '9:00 PM']\n",
      "['Citizen Café', 'Wed', '9:00 AM', '9:00 PM']\n",
      "['Citizen Café', 'Thu', '9:00 AM', '9:00 PM']\n",
      "['Citizen Café', 'Fri', '9:00 AM', '9:00 PM']\n",
      "['Citizen Café', 'Sat', '9:00 AM', '9:00 PM']\n",
      "['Citizen Café', 'Sun', '9:00 AM', '4:00 PM']\n",
      "['Pinotxo Bar', 'Mon', '6:30 AM', '4:00 PM']\n",
      "['Pinotxo Bar', 'Tue', '6:30 AM', '4:00 PM']\n",
      "['Pinotxo Bar', 'Wed', '6:30 AM', '4:00 PM']\n",
      "['Pinotxo Bar', 'Thu', '6:30 AM', '4:00 PM']\n",
      "['Pinotxo Bar', 'Fri', '6:30 AM', '4:00 PM']\n",
      "['Pinotxo Bar', 'Sat', '6:30 AM', '4:00 PM']\n",
      "['Pinotxo Bar', 'Sun', nan, nan]\n",
      "['Gata Mala', 'Mon', nan, nan]\n",
      "['Gata Mala', 'Tue', '6:30 PM', '1:30 AM']\n",
      "['Gata Mala', 'Wed', '6:30 PM', '1:30 AM']\n",
      "['Gata Mala', 'Thu', '6:30 PM', '1:30 AM']\n",
      "['Gata Mala', 'Fri', '6:30 PM', '1:30 AM']\n",
      "['Gata Mala', 'Sat', '6:30 PM', '2:00 AM']\n",
      "['Gata Mala', 'Sun', nan, nan]\n",
      "['Elsa y Fred', 'Mon', '8:30 AM', '1:00 AM']\n",
      "['Elsa y Fred', 'Tue', '8:30 AM', '1:00 AM']\n",
      "['Elsa y Fred', 'Wed', '8:30 AM', '1:00 AM']\n",
      "['Elsa y Fred', 'Thu', '8:30 AM', '1:00 AM']\n",
      "['Elsa y Fred', 'Fri', '8:30 AM', '1:00 AM']\n",
      "['Elsa y Fred', 'Sat', '8:30 AM', '1:00 AM']\n",
      "['Elsa y Fred', 'Sun', '8:30 AM', '1:00 AM']\n",
      "['Flax & Kale', 'Mon', '9:00 AM', '11:30 PM']\n",
      "['Flax & Kale', 'Tue', '9:00 AM', '11:30 PM']\n",
      "['Flax & Kale', 'Wed', '9:00 AM', '11:30 PM']\n",
      "['Flax & Kale', 'Thu', '9:00 AM', '11:30 PM']\n",
      "['Flax & Kale', 'Fri', '9:00 AM', '11:30 PM']\n",
      "['Flax & Kale', 'Sat', '9:30 AM', '11:30 PM']\n",
      "['Flax & Kale', 'Sun', '9:30 AM', '11:30 PM']\n",
      "['La Tagliatella', 'Mon', '1:00 PM', '4:00 PM']\n",
      "['La Tagliatella', 'Tue', '8:00 PM', '12:00 AM']\n",
      "['La Tagliatella', 'Wed', '1:00 PM', '4:00 PM']\n",
      "['La Tagliatella', 'Thu', '8:00 PM', '12:00 AM']\n",
      "['La Tagliatella', 'Fri', '1:00 PM', '4:00 PM']\n",
      "['La Tagliatella', 'Sat', '8:00 PM', '12:00 AM']\n",
      "['La Tagliatella', 'Sun', '1:00 PM', '4:00 PM']\n",
      "['Milk Bar & Bistro', 'Mon', '9:00 AM', '4:30 PM']\n",
      "['Milk Bar & Bistro', 'Tue', '9:00 AM', '4:30 PM']\n",
      "['Milk Bar & Bistro', 'Wed', '9:00 AM', '4:30 PM']\n",
      "['Milk Bar & Bistro', 'Thu', '9:00 AM', '2:00 AM']\n",
      "['Milk Bar & Bistro', 'Fri', '9:00 AM', '2:00 AM']\n",
      "['Milk Bar & Bistro', 'Sat', '9:00 AM', '2:00 AM']\n",
      "['Milk Bar & Bistro', 'Sun', '9:00 AM', '2:00 AM']\n",
      "['Eat My Trip', 'Mon', '9:00 AM', '5:00 PM']\n",
      "['Eat My Trip', 'Tue', '9:00 AM', '5:00 PM']\n",
      "['Eat My Trip', 'Wed', '9:00 AM', '5:00 PM']\n",
      "['Eat My Trip', 'Thu', '9:00 AM', '5:00 PM']\n",
      "['Eat My Trip', 'Fri', '9:00 AM', '5:00 PM']\n",
      "['Eat My Trip', 'Sat', '9:00 AM', '5:00 PM']\n",
      "['Eat My Trip', 'Sun', '9:00 AM', '5:00 PM']\n",
      "['Chongqing Liuyishou Hotpot', 'Mon', '12:30 PM', '4:00 PM']\n",
      "['Chongqing Liuyishou Hotpot', 'Tue', '7:00 PM', '12:00 AM']\n",
      "['Chongqing Liuyishou Hotpot', 'Wed', '12:30 PM', '4:00 PM']\n",
      "['Chongqing Liuyishou Hotpot', 'Thu', '7:00 PM', '12:00 AM']\n",
      "['Chongqing Liuyishou Hotpot', 'Fri', '12:30 PM', '4:00 PM']\n",
      "['Chongqing Liuyishou Hotpot', 'Sat', '7:00 PM', '12:00 AM']\n",
      "['Chongqing Liuyishou Hotpot', 'Sun', '12:30 PM', '4:00 PM']\n",
      "['Benzina', 'Mon', nan, nan]\n",
      "['Benzina', 'Tue', nan, nan]\n",
      "['Benzina', 'Wed', '6:00 PM', '1:00 AM']\n",
      "['Benzina', 'Thu', '6:00 PM', '1:00 AM']\n",
      "['Benzina', 'Fri', '6:00 PM', '3:00 AM']\n",
      "['Benzina', 'Sat', '12:00 PM', '3:00 AM']\n",
      "['Benzina', 'Sun', '12:00 PM', '12:00 AM']\n",
      "['El Arbol Brunch', 'Mon', '9:00 AM', '10:00 PM']\n",
      "['El Arbol Brunch', 'Tue', '9:00 AM', '10:00 PM']\n",
      "['El Arbol Brunch', 'Wed', '9:00 AM', '10:00 PM']\n",
      "['El Arbol Brunch', 'Thu', '9:00 AM', '10:00 PM']\n",
      "['El Arbol Brunch', 'Fri', '9:00 AM', '10:00 PM']\n",
      "['El Arbol Brunch', 'Sat', '9:00 AM', '10:00 PM']\n",
      "['El Arbol Brunch', 'Sun', '9:00 AM', '10:00 PM']\n",
      "['Las Sorrentinas', 'Mon', '9:00 AM', '11:30 PM']\n",
      "['Las Sorrentinas', 'Tue', '9:00 AM', '11:30 PM']\n",
      "['Las Sorrentinas', 'Wed', '9:00 AM', '11:30 PM']\n",
      "['Las Sorrentinas', 'Thu', '9:00 AM', '11:30 PM']\n",
      "['Las Sorrentinas', 'Fri', '9:00 AM', '11:30 PM']\n",
      "['Las Sorrentinas', 'Sat', '9:00 AM', '11:30 PM']\n",
      "['Las Sorrentinas', 'Sun', '9:00 AM', '11:30 PM']\n",
      "['Luigi', 'Mon', '12:00 PM', '12:00 AM']\n",
      "['Luigi', 'Tue', '12:00 PM', '12:00 AM']\n",
      "['Luigi', 'Wed', '12:00 PM', '12:00 AM']\n",
      "['Luigi', 'Thu', '12:00 PM', '12:00 AM']\n",
      "['Luigi', 'Fri', '12:00 PM', '12:00 AM']\n",
      "['Luigi', 'Sat', '12:00 PM', '12:00 AM']\n",
      "['Luigi', 'Sun', '12:00 PM', '12:00 AM']\n",
      "['Chen Ji', 'Mon', '9:00 AM', '12:00 AM']\n",
      "['Chen Ji', 'Tue', '9:00 AM', '12:00 AM']\n",
      "['Chen Ji', 'Wed', '9:00 AM', '12:00 AM']\n",
      "['Chen Ji', 'Thu', '9:00 AM', '12:00 AM']\n",
      "['Chen Ji', 'Fri', '9:00 AM', '12:00 AM']\n",
      "['Chen Ji', 'Sat', '9:00 AM', '12:00 AM']\n",
      "['Chen Ji', 'Sun', '9:00 AM', '12:00 AM']\n",
      "['El Quim de la Boqueria', 'Mon', '12:00 PM', '4:00 PM']\n",
      "['El Quim de la Boqueria', 'Tue', '7:00 AM', '4:00 PM']\n",
      "['El Quim de la Boqueria', 'Wed', '12:00 PM', '4:30 PM']\n",
      "['El Quim de la Boqueria', 'Thu', '7:00 AM', '4:30 PM']\n",
      "['El Quim de la Boqueria', 'Fri', '7:00 AM', '5:00 PM']\n",
      "['El Quim de la Boqueria', 'Sat', '7:00 AM', '5:00 PM']\n",
      "['El Quim de la Boqueria', 'Sun', nan, nan]\n",
      "['Rosa Negra', 'Mon', '12:30 PM', '12:30 AM']\n",
      "['Rosa Negra', 'Tue', '12:30 PM', '12:30 AM']\n",
      "['Rosa Negra', 'Wed', '12:30 PM', '12:30 AM']\n",
      "['Rosa Negra', 'Thu', '12:30 PM', '12:30 AM']\n",
      "['Rosa Negra', 'Fri', '1:00 PM', '1:30 AM']\n",
      "['Rosa Negra', 'Sat', '12:30 PM', '1:30 AM']\n",
      "['Rosa Negra', 'Sun', '12:30 PM', '12:30 AM']\n",
      "['La Paradeta', 'Mon', nan, nan]\n",
      "['La Paradeta', 'Tue', '1:00 PM', '4:00 PM']\n",
      "['La Paradeta', 'Wed', '8:00 PM', '11:30 PM']\n",
      "['La Paradeta', 'Thu', '1:00 PM', '4:00 PM']\n",
      "['La Paradeta', 'Fri', '8:00 PM', '11:30 PM']\n",
      "['La Paradeta', 'Sat', '1:00 PM', '4:00 PM']\n",
      "['La Paradeta', 'Sun', '8:00 PM', '11:30 PM']\n",
      "['Babula', 'Mon', '12:00 PM', '2:00 AM']\n",
      "['Babula', 'Tue', '12:00 PM', '2:00 AM']\n",
      "['Babula', 'Wed', '12:00 PM', '2:00 AM']\n",
      "['Babula', 'Thu', '12:00 PM', '2:00 AM']\n",
      "['Babula', 'Fri', '12:00 PM', '3:00 AM']\n",
      "['Babula', 'Sat', '12:00 PM', '3:00 AM']\n",
      "['Babula', 'Sun', nan, nan]\n",
      "['Batuar', 'Mon', '7:00 AM', '12:00 AM']\n",
      "['Batuar', 'Tue', '7:00 AM', '12:00 AM']\n",
      "['Batuar', 'Wed', '7:00 AM', '12:00 AM']\n",
      "['Batuar', 'Thu', '7:00 AM', '12:00 AM']\n",
      "['Batuar', 'Fri', '7:00 AM', '12:00 AM']\n",
      "['Batuar', 'Sat', '7:00 AM', '12:00 AM']\n",
      "['Batuar', 'Sun', '7:00 AM', '12:00 AM']\n",
      "['La Alcoba Azul', 'Mon', '6:00 PM', '2:00 AM']\n",
      "['La Alcoba Azul', 'Tue', '6:00 PM', '2:00 AM']\n",
      "['La Alcoba Azul', 'Wed', '6:00 PM', '2:00 AM']\n",
      "['La Alcoba Azul', 'Thu', '6:00 PM', '2:00 AM']\n",
      "['La Alcoba Azul', 'Fri', '6:00 PM', '2:30 AM']\n",
      "['La Alcoba Azul', 'Sat', '6:00 PM', '2:30 AM']\n",
      "['La Alcoba Azul', 'Sun', '6:00 PM', '2:00 AM']\n",
      "['Paella Bar', 'Mon', '10:00 AM', '5:00 PM']\n",
      "['Paella Bar', 'Tue', '10:00 AM', '5:00 PM']\n",
      "['Paella Bar', 'Wed', '10:00 AM', '5:00 PM']\n",
      "['Paella Bar', 'Thu', '10:00 AM', '5:00 PM']\n",
      "['Paella Bar', 'Fri', '10:00 AM', '5:00 PM']\n",
      "['Paella Bar', 'Sat', '10:00 AM', '5:00 PM']\n",
      "['Paella Bar', 'Sun', nan, nan]\n",
      "['La Lluna', 'Mon', '1:00 PM', '4:00 PM']\n",
      "['La Lluna', 'Tue', '1:00 PM', '4:00 PM']\n",
      "['La Lluna', 'Wed', '1:00 PM', '4:00 PM']\n",
      "['La Lluna', 'Thu', '1:00 PM', '4:00 PM']\n",
      "['La Lluna', 'Fri', '9:00 PM', '11:30 PM']\n",
      "['La Lluna', 'Sat', '1:30 PM', '4:00 PM']\n",
      "['La Lluna', 'Sun', '9:00 PM', '11:30 PM']\n",
      "['Tantarantana', 'Mon', '1:00 PM', '12:00 AM']\n",
      "['Tantarantana', 'Tue', '1:00 PM', '12:00 AM']\n",
      "['Tantarantana', 'Wed', '1:00 PM', '12:00 AM']\n",
      "['Tantarantana', 'Thu', '1:00 PM', '12:00 AM']\n",
      "['Tantarantana', 'Fri', '1:00 PM', '12:00 AM']\n",
      "['Tantarantana', 'Sat', '1:00 PM', '12:00 AM']\n",
      "['Tantarantana', 'Sun', '1:00 PM', '12:00 AM']\n",
      "['Pepito', 'Mon', '1:00 PM', '5:00 PM']\n",
      "['Pepito', 'Tue', '8:00 PM', '11:30 PM']\n",
      "['Pepito', 'Wed', '1:00 PM', '5:00 PM']\n",
      "['Pepito', 'Thu', '8:00 PM', '11:30 PM']\n",
      "['Pepito', 'Fri', '1:00 PM', '5:00 PM']\n",
      "['Pepito', 'Sat', '8:00 PM', '11:30 PM']\n",
      "['Pepito', 'Sun', '1:00 PM', '5:00 PM']\n",
      "['Tandoori Nights', 'Mon', '12:00 PM', '12:00 AM']\n",
      "['Tandoori Nights', 'Tue', '12:00 PM', '12:00 AM']\n",
      "['Tandoori Nights', 'Wed', '12:00 PM', '12:00 AM']\n",
      "['Tandoori Nights', 'Thu', '12:00 PM', '12:00 AM']\n",
      "['Tandoori Nights', 'Fri', '12:00 PM', '12:00 AM']\n",
      "['Tandoori Nights', 'Sat', '12:00 PM', '12:00 AM']\n",
      "['Tandoori Nights', 'Sun', '12:00 PM', '12:00 AM']\n",
      "['Botafumeiro', 'Mon', '12:00 PM', '1:00 AM']\n",
      "['Botafumeiro', 'Tue', '12:00 PM', '1:00 AM']\n",
      "['Botafumeiro', 'Wed', '12:00 PM', '1:00 AM']\n",
      "['Botafumeiro', 'Thu', '12:00 PM', '1:00 AM']\n",
      "['Botafumeiro', 'Fri', '12:00 PM', '1:00 AM']\n",
      "['Botafumeiro', 'Sat', '12:00 PM', '1:00 AM']\n",
      "['Botafumeiro', 'Sun', '12:00 PM', '1:00 AM']\n",
      "['L’Amfora Barcelona', 'Mon', '12:30 PM', '12:00 AM']\n",
      "['L’Amfora Barcelona', 'Tue', '12:30 PM', '11:00 PM']\n",
      "['L’Amfora Barcelona', 'Wed', nan, nan]\n",
      "['L’Amfora Barcelona', 'Thu', '12:30 PM', '11:00 PM']\n",
      "['L’Amfora Barcelona', 'Fri', '12:30 PM', '11:00 PM']\n",
      "['L’Amfora Barcelona', 'Sat', '12:30 PM', '12:00 AM']\n",
      "['L’Amfora Barcelona', 'Sun', '12:30 PM', '12:00 AM']\n",
      "['La Pineda', 'Mon', '9:00 AM', '10:00 PM']\n",
      "['La Pineda', 'Tue', '9:00 AM', '10:00 PM']\n",
      "['La Pineda', 'Wed', '9:00 AM', '10:00 PM']\n",
      "['La Pineda', 'Thu', '9:00 AM', '10:00 PM']\n",
      "['La Pineda', 'Fri', '9:00 AM', '10:00 PM']\n",
      "['La Pineda', 'Sat', '9:00 AM', '10:00 PM']\n",
      "['La Pineda', 'Sun', '9:00 AM', '3:00 PM']\n",
      "['Restaurante Bodega Joan', 'Mon', '7:00 AM', '12:00 AM']\n",
      "['Restaurante Bodega Joan', 'Tue', '7:00 AM', '12:00 AM']\n",
      "['Restaurante Bodega Joan', 'Wed', '7:00 AM', '12:00 AM']\n",
      "['Restaurante Bodega Joan', 'Thu', '7:00 AM', '12:00 AM']\n",
      "['Restaurante Bodega Joan', 'Fri', '7:00 AM', '12:00 AM']\n",
      "['Restaurante Bodega Joan', 'Sat', '8:00 AM', '12:00 AM']\n",
      "['Restaurante Bodega Joan', 'Sun', '8:00 AM', '12:00 AM']\n",
      "['Els Pollos de Llull', 'Mon', '1:00 PM', '11:00 PM']\n",
      "['Els Pollos de Llull', 'Tue', '1:00 PM', '11:00 PM']\n",
      "['Els Pollos de Llull', 'Wed', '1:00 PM', '11:00 PM']\n",
      "['Els Pollos de Llull', 'Thu', '1:00 PM', '11:00 PM']\n",
      "['Els Pollos de Llull', 'Fri', '1:00 PM', '12:00 AM']\n",
      "['Els Pollos de Llull', 'Sat', '1:00 PM', '12:00 AM']\n",
      "['Els Pollos de Llull', 'Sun', '1:00 PM', '11:00 PM']\n",
      "['Bella Italia', 'Mon', '1:00 PM', '4:00 PM']\n",
      "['Bella Italia', 'Tue', '8:00 PM', '11:30 PM']\n",
      "['Bella Italia', 'Wed', '1:00 PM', '4:00 PM']\n",
      "['Bella Italia', 'Thu', '1:00 PM', '4:00 PM']\n",
      "['Bella Italia', 'Fri', '8:00 PM', '11:30 PM']\n",
      "['Bella Italia', 'Sat', '1:00 PM', '4:00 PM']\n",
      "['Bella Italia', 'Sun', '8:00 PM', '11:30 PM']\n",
      "['El Boliche del Gordo Cabrera', 'Mon', '1:00 AM', '11:45 PM']\n",
      "['El Boliche del Gordo Cabrera', 'Tue', '1:00 AM', '11:45 PM']\n",
      "['El Boliche del Gordo Cabrera', 'Wed', '1:00 AM', '11:45 PM']\n",
      "['El Boliche del Gordo Cabrera', 'Thu', '1:00 AM', '11:45 PM']\n",
      "['El Boliche del Gordo Cabrera', 'Fri', '1:00 AM', '11:45 PM']\n",
      "['El Boliche del Gordo Cabrera', 'Sat', '1:30 AM', '11:45 PM']\n",
      "['El Boliche del Gordo Cabrera', 'Sun', nan, nan]\n",
      "['La Fermata', 'Mon', '11:00 AM', '11:00 PM']\n",
      "['La Fermata', 'Tue', '11:00 AM', '11:00 PM']\n",
      "['La Fermata', 'Wed', '11:00 AM', '11:00 PM']\n",
      "['La Fermata', 'Thu', '11:00 AM', '11:00 PM']\n",
      "['La Fermata', 'Fri', '11:00 AM', '11:00 PM']\n",
      "['La Fermata', 'Sat', '11:00 AM', '11:00 PM']\n",
      "['La Fermata', 'Sun', '11:00 AM', '11:00 PM']\n",
      "['El Xampanyet', 'Mon', nan, nan]\n",
      "['El Xampanyet', 'Tue', '12:00 PM', '3:30 PM']\n",
      "['El Xampanyet', 'Wed', '7:00 PM', '11:00 PM']\n",
      "['El Xampanyet', 'Thu', '12:00 PM', '3:30 PM']\n",
      "['El Xampanyet', 'Fri', '7:00 PM', '11:00 PM']\n",
      "['El Xampanyet', 'Sat', '12:00 PM', '3:30 PM']\n",
      "['El Xampanyet', 'Sun', '7:00 PM', '11:00 PM']\n",
      "['Salterio', 'Mon', '10:00 AM', '12:00 AM']\n",
      "['Salterio', 'Tue', '10:00 AM', '12:00 AM']\n",
      "['Salterio', 'Wed', '10:00 AM', '12:00 AM']\n",
      "['Salterio', 'Thu', '10:00 AM', '12:00 AM']\n",
      "['Salterio', 'Fri', '10:00 AM', '1:00 AM']\n",
      "['Salterio', 'Sat', '1:00 PM', '1:00 AM']\n",
      "['Salterio', 'Sun', '1:00 PM', '12:00 AM']\n",
      "['Cremat 11', 'Mon', '10:00 AM', '1:00 AM']\n",
      "['Cremat 11', 'Tue', '10:00 AM', '1:00 AM']\n",
      "['Cremat 11', 'Wed', '10:00 AM', '1:00 AM']\n",
      "['Cremat 11', 'Thu', '10:00 AM', '1:00 AM']\n",
      "['Cremat 11', 'Fri', '10:00 AM', '1:00 AM']\n",
      "['Cremat 11', 'Sat', '10:00 AM', '1:00 AM']\n",
      "['Cremat 11', 'Sun', '10:00 AM', '1:00 AM']\n",
      "['Cecconi’s', 'Mon', '12:00 PM', '1:00 AM']\n",
      "['Cecconi’s', 'Tue', '12:00 PM', '1:00 AM']\n",
      "['Cecconi’s', 'Wed', '12:00 PM', '1:00 AM']\n",
      "['Cecconi’s', 'Thu', '12:00 PM', '1:00 AM']\n",
      "['Cecconi’s', 'Fri', '12:00 PM', '1:00 AM']\n",
      "['Cecconi’s', 'Sat', '12:00 PM', '1:00 AM']\n",
      "['Cecconi’s', 'Sun', '12:00 PM', '12:00 AM']\n",
      "['Pirineu en Boca', 'Mon', '12:30 PM', '11:30 PM']\n",
      "['Pirineu en Boca', 'Tue', '12:30 PM', '11:30 PM']\n",
      "['Pirineu en Boca', 'Wed', '12:30 PM', '11:30 PM']\n",
      "['Pirineu en Boca', 'Thu', '12:30 PM', '11:30 PM']\n",
      "['Pirineu en Boca', 'Fri', '12:30 PM', '11:30 PM']\n",
      "['Pirineu en Boca', 'Sat', '12:30 PM', '11:30 PM']\n",
      "['Pirineu en Boca', 'Sun', '12:30 PM', '10:00 PM']\n",
      "['Gaudim', 'Mon', '12:00 PM', '11:30 PM']\n",
      "['Gaudim', 'Tue', '12:00 PM', '11:30 PM']\n",
      "['Gaudim', 'Wed', '12:00 PM', '11:30 PM']\n",
      "['Gaudim', 'Thu', '12:00 PM', '11:30 PM']\n",
      "['Gaudim', 'Fri', '12:00 PM', '11:30 PM']\n",
      "['Gaudim', 'Sat', '12:00 PM', '11:15 PM']\n",
      "['Gaudim', 'Sun', nan, nan]\n",
      "['Le Cucine Mandarosso', 'Mon', nan, nan]\n",
      "['Le Cucine Mandarosso', 'Tue', '1:30 PM', '4:00 PM']\n",
      "['Le Cucine Mandarosso', 'Wed', '9:00 PM', '12:00 AM']\n",
      "['Le Cucine Mandarosso', 'Thu', '1:30 PM', '4:00 PM']\n",
      "['Le Cucine Mandarosso', 'Fri', '9:00 PM', '12:00 AM']\n",
      "['Le Cucine Mandarosso', 'Sat', '1:30 PM', '4:00 PM']\n",
      "['Le Cucine Mandarosso', 'Sun', '9:00 PM', '12:00 AM']\n",
      "['Bella Istanbul', 'Mon', '11:00 AM', '1:00 AM']\n",
      "['Bella Istanbul', 'Tue', '11:00 AM', '1:00 AM']\n",
      "['Bella Istanbul', 'Wed', '11:00 AM', '1:00 AM']\n",
      "['Bella Istanbul', 'Thu', '11:00 AM', '1:00 AM']\n",
      "['Bella Istanbul', 'Fri', '11:00 AM', '1:00 AM']\n",
      "['Bella Istanbul', 'Sat', '11:00 AM', '1:00 AM']\n",
      "['Bella Istanbul', 'Sun', '11:00 AM', '1:00 AM']\n",
      "['Abirradero', 'Mon', '12:00 PM', '12:00 AM']\n",
      "['Abirradero', 'Tue', '12:00 PM', '12:00 AM']\n",
      "['Abirradero', 'Wed', '12:00 PM', '12:00 AM']\n",
      "['Abirradero', 'Thu', '12:00 PM', '12:00 AM']\n",
      "['Abirradero', 'Fri', '12:00 PM', '2:00 AM']\n",
      "['Abirradero', 'Sat', '12:00 PM', '2:00 AM']\n",
      "['Abirradero', 'Sun', '12:00 PM', '12:00 AM']\n",
      "['Bodega La Puntual', 'Mon', '12:00 PM', '12:00 AM']\n",
      "['Bodega La Puntual', 'Tue', '12:00 PM', '12:00 AM']\n",
      "['Bodega La Puntual', 'Wed', '12:00 PM', '12:00 AM']\n",
      "['Bodega La Puntual', 'Thu', '12:00 PM', '12:00 AM']\n",
      "['Bodega La Puntual', 'Fri', '12:00 PM', '12:00 AM']\n",
      "['Bodega La Puntual', 'Sat', '12:00 PM', '12:00 AM']\n",
      "['Bodega La Puntual', 'Sun', '12:00 PM', '12:00 AM']\n",
      "['The Ranch Smokehouse', 'Mon', '8:00 AM', '12:00 AM']\n",
      "['The Ranch Smokehouse', 'Tue', '8:00 AM', '12:00 AM']\n",
      "['The Ranch Smokehouse', 'Wed', '8:00 AM', '12:00 AM']\n",
      "['The Ranch Smokehouse', 'Thu', '8:00 AM', '12:00 AM']\n",
      "['The Ranch Smokehouse', 'Fri', '8:00 AM', '12:00 AM']\n",
      "['The Ranch Smokehouse', 'Sat', '8:00 AM', '12:00 AM']\n",
      "['The Ranch Smokehouse', 'Sun', '8:00 AM', '12:00 AM']\n",
      "['Alsur Café & Backdoor Bar', 'Mon', '8:30 AM', '12:00 AM']\n",
      "['Alsur Café & Backdoor Bar', 'Tue', '8:30 AM', '12:00 AM']\n",
      "['Alsur Café & Backdoor Bar', 'Wed', '8:30 AM', '12:00 AM']\n",
      "['Alsur Café & Backdoor Bar', 'Thu', '8:30 AM', '12:00 AM']\n",
      "['Alsur Café & Backdoor Bar', 'Fri', '8:30 AM', '3:00 AM']\n",
      "['Alsur Café & Backdoor Bar', 'Sat', '9:00 AM', '3:00 AM']\n",
      "['Alsur Café & Backdoor Bar', 'Sun', '9:00 AM', '12:00 AM']\n",
      "['Lluritu', 'Mon', nan, nan]\n",
      "['Lluritu', 'Tue', nan, nan]\n",
      "['Lluritu', 'Wed', '7:30 PM', '11:30 PM']\n",
      "['Lluritu', 'Thu', '1:00 PM', '4:00 PM']\n",
      "['Lluritu', 'Fri', '7:30 PM', '11:30 PM']\n",
      "['Lluritu', 'Sat', '1:00 PM', '12:30 AM']\n",
      "['Lluritu', 'Sun', '11:30 AM', '12:30 AM']\n",
      "['Bonavida', 'Mon', '7:30 AM', '3:00 AM']\n",
      "['Bonavida', 'Tue', '7:30 AM', '3:00 AM']\n",
      "['Bonavida', 'Wed', '7:30 AM', '3:00 AM']\n",
      "['Bonavida', 'Thu', '7:30 AM', '3:00 AM']\n",
      "['Bonavida', 'Fri', '7:30 AM', '3:00 AM']\n",
      "['Bonavida', 'Sat', '7:30 AM', '3:00 AM']\n",
      "['Bonavida', 'Sun', '7:30 AM', '3:00 AM']\n",
      "['Morryssom', 'Mon', '7:00 AM', '1:00 AM']\n",
      "['Morryssom', 'Tue', '7:00 AM', '1:00 AM']\n",
      "['Morryssom', 'Wed', '7:00 AM', '1:00 AM']\n",
      "['Morryssom', 'Thu', '7:00 AM', '1:00 AM']\n",
      "['Morryssom', 'Fri', '7:00 AM', '1:00 AM']\n",
      "['Morryssom', 'Sat', '8:00 AM', '6:00 PM']\n",
      "['Morryssom', 'Sun', nan, nan]\n",
      "['Sagardi BCN Gòtic', 'Mon', '12:00 PM', '12:00 AM']\n",
      "['Sagardi BCN Gòtic', 'Tue', '12:00 PM', '12:00 AM']\n",
      "['Sagardi BCN Gòtic', 'Wed', '12:00 PM', '12:00 AM']\n",
      "['Sagardi BCN Gòtic', 'Thu', '12:00 PM', '12:00 AM']\n",
      "['Sagardi BCN Gòtic', 'Fri', '12:00 PM', '12:00 AM']\n",
      "['Sagardi BCN Gòtic', 'Sat', '12:00 PM', '12:00 AM']\n",
      "['Sagardi BCN Gòtic', 'Sun', '12:00 PM', '12:00 AM']\n",
      "['Mastica', 'Mon', '11:30 AM', '2:00 AM']\n",
      "['Mastica', 'Tue', '11:30 AM', '2:00 AM']\n",
      "['Mastica', 'Wed', '11:30 AM', '2:00 AM']\n",
      "['Mastica', 'Thu', '11:30 AM', '2:00 AM']\n",
      "['Mastica', 'Fri', '11:30 AM', '2:30 AM']\n",
      "['Mastica', 'Sat', '11:30 AM', '2:30 AM']\n",
      "['Mastica', 'Sun', '11:30 AM', '2:00 AM']\n",
      "['Bar Rubí', 'Mon', '7:30 PM', '2:30 AM']\n",
      "['Bar Rubí', 'Tue', '7:30 PM', '2:30 AM']\n",
      "['Bar Rubí', 'Wed', '7:30 PM', '2:30 AM']\n",
      "['Bar Rubí', 'Thu', '7:30 PM', '2:30 AM']\n",
      "['Bar Rubí', 'Fri', '7:30 PM', '3:00 AM']\n",
      "['Bar Rubí', 'Sat', '7:30 PM', '3:00 AM']\n",
      "['Bar Rubí', 'Sun', '7:30 PM', '2:30 AM']\n",
      "['Foc i Oli', 'Mon', '1:00 PM', '11:00 PM']\n",
      "['Foc i Oli', 'Tue', '1:00 PM', '11:00 PM']\n",
      "['Foc i Oli', 'Wed', '1:00 PM', '11:00 PM']\n",
      "['Foc i Oli', 'Thu', '1:00 PM', '11:00 PM']\n",
      "['Foc i Oli', 'Fri', '1:00 PM', '11:00 PM']\n",
      "['Foc i Oli', 'Sat', '1:00 PM', '11:00 PM']\n",
      "['Foc i Oli', 'Sun', nan, nan]\n",
      "['Bell e Buon', 'Mon', nan, nan]\n",
      "['Bell e Buon', 'Tue', '1:00 PM', '4:00 PM']\n",
      "['Bell e Buon', 'Wed', '8:00 PM', '12:00 AM']\n",
      "['Bell e Buon', 'Thu', '1:00 PM', '4:00 PM']\n",
      "['Bell e Buon', 'Fri', '8:00 PM', '12:00 AM']\n",
      "['Bell e Buon', 'Sat', '1:00 PM', '4:00 PM']\n",
      "['Bell e Buon', 'Sun', '8:00 PM', '12:00 AM']\n",
      "['La Plata', 'Mon', '9:00 AM', '3:30 PM']\n",
      "['La Plata', 'Tue', '6:30 PM', '11:00 PM']\n",
      "['La Plata', 'Wed', '9:00 AM', '3:30 PM']\n",
      "['La Plata', 'Thu', '6:30 PM', '11:00 PM']\n",
      "['La Plata', 'Fri', '9:00 AM', '3:30 PM']\n",
      "['La Plata', 'Sat', '6:30 PM', '11:00 PM']\n",
      "['La Plata', 'Sun', '9:00 AM', '3:30 PM']\n",
      "['Roast Club Cafe', 'Mon', '8:00 AM', '7:00 PM']\n",
      "['Roast Club Cafe', 'Tue', '8:00 AM', '7:00 PM']\n",
      "['Roast Club Cafe', 'Wed', '8:00 AM', '7:00 PM']\n",
      "['Roast Club Cafe', 'Thu', '8:00 AM', '7:00 PM']\n",
      "['Roast Club Cafe', 'Fri', '8:00 AM', '7:00 PM']\n",
      "['Roast Club Cafe', 'Sat', '8:30 AM', '7:00 PM']\n",
      "['Roast Club Cafe', 'Sun', '8:30 AM', '7:00 PM']\n",
      "['Somewhere', 'Mon', '8:00 AM', '12:00 AM']\n",
      "['Somewhere', 'Tue', '8:00 AM', '12:00 AM']\n",
      "['Somewhere', 'Wed', '8:00 AM', '12:00 AM']\n",
      "['Somewhere', 'Thu', '8:00 AM', '12:00 AM']\n",
      "['Somewhere', 'Fri', '8:00 AM', '12:00 AM']\n",
      "['Somewhere', 'Sat', '9:00 AM', '12:00 AM']\n",
      "['Somewhere', 'Sun', '9:00 AM', '6:00 PM']\n",
      "['Can Ros', 'Mon', '7:00 AM', '12:00 AM']\n",
      "['Can Ros', 'Tue', '7:00 AM', '12:00 AM']\n",
      "['Can Ros', 'Wed', '7:00 AM', '12:00 AM']\n",
      "['Can Ros', 'Thu', '7:00 AM', '12:00 AM']\n",
      "['Can Ros', 'Fri', '7:00 AM', '12:00 AM']\n",
      "['Can Ros', 'Sat', nan, nan]\n",
      "['Can Ros', 'Sun', '8:00 AM', '12:00 AM']\n",
      "['The Fish & Chips Shop', 'Mon', nan, nan]\n",
      "['The Fish & Chips Shop', 'Tue', '1:30 PM', '4:00 PM']\n",
      "['The Fish & Chips Shop', 'Wed', '8:30 PM', '11:00 PM']\n",
      "['The Fish & Chips Shop', 'Thu', '1:30 PM', '4:00 PM']\n",
      "['The Fish & Chips Shop', 'Fri', '8:30 PM', '11:00 PM']\n",
      "['The Fish & Chips Shop', 'Sat', '1:30 PM', '4:00 PM']\n",
      "['The Fish & Chips Shop', 'Sun', '8:30 PM', '11:00 PM']\n",
      "['Tabarlot', 'Mon', '8:00 AM', '12:00 AM']\n",
      "['Tabarlot', 'Tue', '8:00 AM', '12:00 AM']\n",
      "['Tabarlot', 'Wed', '8:00 AM', '12:00 AM']\n",
      "['Tabarlot', 'Thu', '8:00 AM', '12:00 AM']\n",
      "['Tabarlot', 'Fri', '8:00 AM', '2:00 AM']\n",
      "['Tabarlot', 'Sat', '8:00 AM', '2:00 AM']\n",
      "['Tabarlot', 'Sun', '8:00 AM', '12:00 AM']\n",
      "['Bar But', 'Mon', '9:00 AM', '9:00 PM']\n",
      "['Bar But', 'Tue', '9:00 AM', '9:00 PM']\n",
      "['Bar But', 'Wed', '9:00 AM', '9:00 PM']\n",
      "['Bar But', 'Thu', '9:00 AM', '12:00 AM']\n",
      "['Bar But', 'Fri', '9:00 AM', '12:00 AM']\n",
      "['Bar But', 'Sat', '9:00 AM', '12:00 AM']\n",
      "['Bar But', 'Sun', nan, nan]\n",
      "['Bacaro', 'Mon', '9:00 AM', '12:00 AM']\n",
      "['Bacaro', 'Tue', '10:00 AM', '12:00 AM']\n",
      "['Bacaro', 'Wed', '10:00 AM', '12:00 AM']\n",
      "['Bacaro', 'Thu', '10:00 AM', '12:00 AM']\n",
      "['Bacaro', 'Fri', '10:00 AM', '12:00 AM']\n",
      "['Bacaro', 'Sat', '10:00 AM', '12:00 AM']\n",
      "['Bacaro', 'Sun', nan, nan]\n",
      "['Zarautz', 'Mon', '8:00 AM', '11:30 PM']\n",
      "['Zarautz', 'Tue', '8:00 AM', '11:30 PM']\n",
      "['Zarautz', 'Wed', '8:00 AM', '11:30 PM']\n",
      "['Zarautz', 'Thu', '8:00 AM', '11:30 PM']\n",
      "['Zarautz', 'Fri', '8:00 AM', '11:30 PM']\n",
      "['Zarautz', 'Sat', '8:00 AM', '11:30 PM']\n",
      "['Zarautz', 'Sun', nan, nan]\n",
      "['Sol Soler', 'Mon', '11:00 AM', '2:30 AM']\n",
      "['Sol Soler', 'Tue', '11:00 AM', '2:30 AM']\n",
      "['Sol Soler', 'Wed', '11:00 AM', '2:30 AM']\n",
      "['Sol Soler', 'Thu', '11:00 AM', '2:30 AM']\n",
      "['Sol Soler', 'Fri', '11:00 AM', '3:00 AM']\n",
      "['Sol Soler', 'Sat', '11:00 AM', '3:00 AM']\n",
      "['Sol Soler', 'Sun', '11:00 AM', '2:30 AM']\n",
      "['Amarre 69', 'Mon', '8:00 AM', '2:30 AM']\n",
      "['Amarre 69', 'Tue', '8:00 AM', '2:30 AM']\n",
      "['Amarre 69', 'Wed', '8:00 AM', '2:30 AM']\n",
      "['Amarre 69', 'Thu', '8:00 AM', '2:30 AM']\n",
      "['Amarre 69', 'Fri', '8:00 AM', '2:30 AM']\n",
      "['Amarre 69', 'Sat', '8:00 AM', '3:00 AM']\n",
      "['Amarre 69', 'Sun', '8:00 AM', '3:00 AM']\n",
      "['Uma', 'Mon', '1:30 PM', '1:45 PM']\n",
      "['Uma', 'Tue', '9:00 PM', '9:15 PM']\n",
      "['Uma', 'Wed', nan, nan]\n",
      "['Uma', 'Thu', nan, nan]\n",
      "['Uma', 'Fri', '1:30 PM', '1:45 PM']\n",
      "['Uma', 'Sat', '9:00 PM', '9:15 PM']\n",
      "['Uma', 'Sun', '1:30 PM', '1:45 PM']\n",
      "['TAPS', 'Mon', '6:00 PM', '11:30 PM']\n",
      "['TAPS', 'Tue', '6:00 PM', '11:30 PM']\n",
      "['TAPS', 'Wed', '6:00 PM', '11:30 PM']\n",
      "['TAPS', 'Thu', '5:00 PM', '11:30 PM']\n",
      "['TAPS', 'Fri', '5:00 PM', '11:30 PM']\n",
      "['TAPS', 'Sat', '5:00 PM', '11:30 PM']\n",
      "['TAPS', 'Sun', '6:00 PM', '11:30 PM']\n",
      "['Bodega La Palma', 'Mon', '9:00 AM', '12:00 AM']\n",
      "['Bodega La Palma', 'Tue', '9:00 AM', '12:00 AM']\n",
      "['Bodega La Palma', 'Wed', '9:00 AM', '12:00 AM']\n",
      "['Bodega La Palma', 'Thu', '9:00 AM', '12:00 AM']\n",
      "['Bodega La Palma', 'Fri', '9:00 AM', '12:00 AM']\n",
      "['Bodega La Palma', 'Sat', '12:00 PM', '12:00 AM']\n",
      "['Bodega La Palma', 'Sun', nan, nan]\n",
      "['El Brunch del Majestic', 'Mon', '7:00 AM', '11:00 AM']\n",
      "['El Brunch del Majestic', 'Tue', '7:00 AM', '11:00 AM']\n",
      "['El Brunch del Majestic', 'Wed', '7:00 AM', '11:00 AM']\n",
      "['El Brunch del Majestic', 'Thu', '7:00 AM', '11:00 AM']\n",
      "['El Brunch del Majestic', 'Fri', '7:00 AM', '11:00 AM']\n",
      "['El Brunch del Majestic', 'Sat', '7:00 AM', '11:00 AM']\n",
      "['El Brunch del Majestic', 'Sun', '7:00 AM', '11:00 AM']\n",
      "['Viet Kitchen', 'Mon', '12:30 PM', '4:00 PM']\n",
      "['Viet Kitchen', 'Tue', '8:30 PM', '11:00 PM']\n",
      "['Viet Kitchen', 'Wed', '12:30 PM', '4:00 PM']\n",
      "['Viet Kitchen', 'Thu', '8:30 PM', '11:00 PM']\n",
      "['Viet Kitchen', 'Fri', '12:30 PM', '4:00 PM']\n",
      "['Viet Kitchen', 'Sat', '8:30 PM', '11:00 PM']\n",
      "['Viet Kitchen', 'Sun', '12:30 PM', '4:00 PM']\n",
      "['Hänsel', 'Mon', '8:00 AM', '9:30 PM']\n",
      "['Hänsel', 'Tue', '8:00 AM', '9:30 PM']\n",
      "['Hänsel', 'Wed', '8:00 AM', '9:30 PM']\n",
      "['Hänsel', 'Thu', '8:00 AM', '9:30 PM']\n",
      "['Hänsel', 'Fri', '8:00 AM', '11:30 PM']\n",
      "['Hänsel', 'Sat', '9:00 AM', '11:30 PM']\n",
      "['Hänsel', 'Sun', '9:00 AM', '4:00 PM']\n",
      "['Maestró', 'Mon', '8:30 AM', '1:00 AM']\n",
      "['Maestró', 'Tue', '8:30 AM', '1:00 AM']\n",
      "['Maestró', 'Wed', '8:30 AM', '1:00 AM']\n",
      "['Maestró', 'Thu', '8:30 AM', '1:00 AM']\n",
      "['Maestró', 'Fri', '8:30 AM', '2:00 AM']\n",
      "['Maestró', 'Sat', '10:00 AM', '2:00 AM']\n",
      "['Maestró', 'Sun', '10:00 AM', '1:00 AM']\n",
      "['Pulpería A Gudiña', 'Mon', '11:00 AM', '1:00 AM']\n",
      "['Pulpería A Gudiña', 'Tue', '11:00 AM', '1:00 AM']\n",
      "['Pulpería A Gudiña', 'Wed', nan, nan]\n",
      "['Pulpería A Gudiña', 'Thu', '11:00 AM', '1:00 AM']\n",
      "['Pulpería A Gudiña', 'Fri', '11:00 AM', '1:00 AM']\n",
      "['Pulpería A Gudiña', 'Sat', '11:00 AM', '1:00 AM']\n",
      "['Pulpería A Gudiña', 'Sun', '11:00 AM', '1:00 AM']\n",
      "['Miño', 'Mon', '10:30 AM', '12:00 AM']\n",
      "['Miño', 'Tue', '10:30 AM', '12:00 AM']\n",
      "['Miño', 'Wed', '10:30 AM', '12:00 AM']\n",
      "['Miño', 'Thu', '10:30 AM', '12:00 AM']\n",
      "['Miño', 'Fri', '10:30 AM', '12:00 AM']\n",
      "['Miño', 'Sat', '10:30 AM', '12:00 AM']\n",
      "['Miño', 'Sun', '10:30 AM', '12:00 AM']\n",
      "['Café Emma', 'Mon', '8:00 AM', '12:00 AM']\n",
      "['Café Emma', 'Tue', '8:00 AM', '12:00 AM']\n",
      "['Café Emma', 'Wed', '8:00 AM', '12:00 AM']\n",
      "['Café Emma', 'Thu', '8:00 AM', '12:00 AM']\n",
      "['Café Emma', 'Fri', '8:00 AM', '12:00 AM']\n",
      "['Café Emma', 'Sat', '8:00 AM', '12:00 AM']\n",
      "['Café Emma', 'Sun', '8:00 AM', '12:00 AM']\n",
      "['Marina Bay', 'Mon', '11:00 AM', '2:00 AM']\n",
      "['Marina Bay', 'Tue', '11:00 AM', '2:00 AM']\n",
      "['Marina Bay', 'Wed', '11:00 AM', '2:00 AM']\n",
      "['Marina Bay', 'Thu', '11:00 AM', '2:00 AM']\n",
      "['Marina Bay', 'Fri', '11:00 AM', '2:00 AM']\n",
      "['Marina Bay', 'Sat', '11:00 AM', '2:00 AM']\n",
      "['Marina Bay', 'Sun', '11:00 AM', '2:00 AM']\n",
      "['El Chigre 1769', 'Mon', '12:00 PM', '12:00 AM']\n",
      "['El Chigre 1769', 'Tue', '12:00 PM', '12:00 AM']\n",
      "['El Chigre 1769', 'Wed', '12:00 PM', '12:00 AM']\n",
      "['El Chigre 1769', 'Thu', '12:00 PM', '12:00 AM']\n",
      "['El Chigre 1769', 'Fri', '12:00 PM', '12:00 AM']\n",
      "['El Chigre 1769', 'Sat', '12:00 PM', '12:00 AM']\n",
      "['El Chigre 1769', 'Sun', '12:00 PM', '12:00 AM']\n",
      "['Taverna Iberia', 'Mon', '10:00 AM', '10:00 PM']\n",
      "['Taverna Iberia', 'Tue', nan, nan]\n",
      "['Taverna Iberia', 'Wed', '10:00 AM', '10:00 PM']\n",
      "['Taverna Iberia', 'Thu', '10:00 AM', '10:00 PM']\n",
      "['Taverna Iberia', 'Fri', '10:00 AM', '10:00 PM']\n",
      "['Taverna Iberia', 'Sat', '10:00 AM', '10:00 PM']\n",
      "['Taverna Iberia', 'Sun', '10:00 AM', '10:00 PM']\n",
      "['Maccaroni', 'Mon', '1:30 PM', '10:30 PM']\n",
      "['Maccaroni', 'Tue', '1:30 PM', '10:30 PM']\n",
      "['Maccaroni', 'Wed', '1:30 PM', '10:30 PM']\n",
      "['Maccaroni', 'Thu', '1:30 PM', '10:30 PM']\n",
      "['Maccaroni', 'Fri', '1:30 PM', '10:30 PM']\n",
      "['Maccaroni', 'Sat', '1:30 PM', '10:30 PM']\n",
      "['Maccaroni', 'Sun', '1:30 PM', '10:30 PM']\n",
      "['Pizzeria Da Nanni', 'Mon', '12:00 PM', '11:30 PM']\n",
      "['Pizzeria Da Nanni', 'Tue', '12:00 PM', '11:30 PM']\n",
      "['Pizzeria Da Nanni', 'Wed', '12:00 PM', '11:30 PM']\n",
      "['Pizzeria Da Nanni', 'Thu', '12:00 PM', '11:30 PM']\n",
      "['Pizzeria Da Nanni', 'Fri', '12:00 PM', '11:30 PM']\n",
      "['Pizzeria Da Nanni', 'Sat', '12:00 PM', '11:30 PM']\n",
      "['Pizzeria Da Nanni', 'Sun', '12:00 PM', '11:30 PM']\n",
      "['Informal', 'Mon', '1:30 PM', '3:00 PM']\n",
      "['Informal', 'Tue', '7:30 PM', '9:30 PM']\n",
      "['Informal', 'Wed', '1:30 PM', '3:00 PM']\n",
      "['Informal', 'Thu', '7:30 PM', '9:30 PM']\n",
      "['Informal', 'Fri', '1:30 PM', '3:00 PM']\n",
      "['Informal', 'Sat', '7:30 PM', '9:30 PM']\n",
      "['Informal', 'Sun', '1:30 PM', '3:00 PM']\n",
      "['El Bitxo', 'Mon', nan, nan]\n",
      "['El Bitxo', 'Tue', '1:00 PM', '1:00 AM']\n",
      "['El Bitxo', 'Wed', '1:00 PM', '1:00 AM']\n",
      "['El Bitxo', 'Thu', '1:00 PM', '1:00 AM']\n",
      "['El Bitxo', 'Fri', '1:00 PM', '2:00 AM']\n",
      "['El Bitxo', 'Sat', '1:00 PM', '2:00 AM']\n",
      "['El Bitxo', 'Sun', nan, nan]\n",
      "['Cinco Jotas', 'Mon', '12:30 PM', '11:00 PM']\n",
      "['Cinco Jotas', 'Tue', '12:30 PM', '11:00 PM']\n",
      "['Cinco Jotas', 'Wed', '12:30 PM', '11:00 PM']\n",
      "['Cinco Jotas', 'Thu', '12:30 PM', '11:00 PM']\n",
      "['Cinco Jotas', 'Fri', '12:30 PM', '11:00 PM']\n",
      "['Cinco Jotas', 'Sat', '12:30 PM', '11:00 PM']\n",
      "['Cinco Jotas', 'Sun', '12:30 PM', '11:00 PM']\n",
      "['Ribs', 'Mon', '1:00 PM', '11:30 PM']\n",
      "['Ribs', 'Tue', '1:00 PM', '11:30 PM']\n",
      "['Ribs', 'Wed', '1:00 PM', '11:30 PM']\n",
      "['Ribs', 'Thu', '1:00 PM', '11:30 PM']\n",
      "['Ribs', 'Fri', '1:00 PM', '12:00 AM']\n",
      "['Ribs', 'Sat', '1:00 PM', '12:00 AM']\n",
      "['Ribs', 'Sun', '1:00 PM', '11:30 PM']\n",
      "['Agust', 'Mon', '7:00 PM', '2:00 AM']\n",
      "['Agust', 'Tue', '7:00 PM', '2:00 AM']\n",
      "['Agust', 'Wed', '7:00 PM', '2:00 AM']\n",
      "['Agust', 'Thu', '7:00 PM', '2:00 AM']\n",
      "['Agust', 'Fri', '2:00 PM', '2:00 AM']\n",
      "['Agust', 'Sat', '2:00 PM', '2:00 AM']\n",
      "['Agust', 'Sun', '2:00 PM', '2:00 AM']\n",
      "['La Taverna de L’Eixample', 'Mon', '9:00 AM', '6:00 PM']\n",
      "['La Taverna de L’Eixample', 'Tue', '9:00 AM', '6:00 PM']\n",
      "['La Taverna de L’Eixample', 'Wed', '9:00 AM', '6:00 PM']\n",
      "['La Taverna de L’Eixample', 'Thu', '9:00 AM', '1:00 AM']\n",
      "['La Taverna de L’Eixample', 'Fri', '9:00 AM', '1:00 AM']\n",
      "['La Taverna de L’Eixample', 'Sat', '1:00 PM', '6:00 PM']\n",
      "['La Taverna de L’Eixample', 'Sun', '8:00 PM', '1:00 AM']\n",
      "['9 Reinas', 'Mon', '1:00 PM', '3:30 PM']\n",
      "['9 Reinas', 'Tue', '7:30 PM', '11:00 PM']\n",
      "['9 Reinas', 'Wed', '1:00 PM', '3:30 PM']\n",
      "['9 Reinas', 'Thu', '7:30 PM', '11:00 PM']\n",
      "['9 Reinas', 'Fri', '1:00 PM', '3:30 PM']\n",
      "['9 Reinas', 'Sat', '7:30 PM', '11:00 PM']\n",
      "['9 Reinas', 'Sun', '1:00 PM', '3:30 PM']\n",
      "['CDLC', 'Mon', '12:00 PM', '4:30 AM']\n",
      "['CDLC', 'Tue', '12:00 PM', '4:30 AM']\n",
      "['CDLC', 'Wed', '12:00 PM', '4:30 AM']\n",
      "['CDLC', 'Thu', '12:00 PM', '4:30 AM']\n",
      "['CDLC', 'Fri', '12:00 PM', '4:30 AM']\n",
      "['CDLC', 'Sat', '12:00 PM', '4:30 AM']\n",
      "['CDLC', 'Sun', '12:00 PM', '4:30 AM']\n",
      "['173', 'Mon', '10:00 AM', '11:00 PM']\n",
      "['173', 'Tue', '10:00 AM', '11:00 PM']\n",
      "['173', 'Wed', '10:00 AM', '11:00 PM']\n",
      "['173', 'Thu', '10:00 AM', '11:00 PM']\n",
      "['173', 'Fri', '10:00 AM', '11:00 PM']\n",
      "['173', 'Sat', '10:00 AM', '11:00 PM']\n",
      "['173', 'Sun', '10:00 AM', '11:00 PM']\n",
      "['Mazah', 'Mon', '1:30 PM', '12:00 AM']\n",
      "['Mazah', 'Tue', nan, nan]\n",
      "['Mazah', 'Wed', '1:30 PM', '12:00 AM']\n",
      "['Mazah', 'Thu', '1:30 PM', '12:00 AM']\n",
      "['Mazah', 'Fri', '1:45 PM', '12:00 AM']\n",
      "['Mazah', 'Sat', '1:30 PM', '12:00 AM']\n",
      "['Mazah', 'Sun', '1:30 PM', '12:00 AM']\n",
      "['Viena', 'Mon', '8:00 AM', '11:30 PM']\n",
      "['Viena', 'Tue', '8:00 AM', '11:30 PM']\n",
      "['Viena', 'Wed', '8:00 AM', '11:30 PM']\n",
      "['Viena', 'Thu', '8:00 AM', '11:30 PM']\n",
      "['Viena', 'Fri', '8:00 AM', '12:30 AM']\n",
      "['Viena', 'Sat', '8:00 AM', '12:30 AM']\n",
      "['Viena', 'Sun', '8:00 AM', '11:30 PM']\n",
      "['Angle', 'Mon', '1:30 PM', '3:30 PM']\n",
      "['Angle', 'Tue', '8:30 PM', '10:30 PM']\n",
      "['Angle', 'Wed', '1:30 PM', '3:30 PM']\n",
      "['Angle', 'Thu', '8:30 PM', '10:30 PM']\n",
      "['Angle', 'Fri', '1:30 PM', '3:30 PM']\n",
      "['Angle', 'Sat', '8:30 PM', '10:30 PM']\n",
      "['Angle', 'Sun', '1:30 PM', '3:30 PM']\n",
      "['La Cova Fumada', 'Mon', '9:00 AM', '3:30 PM']\n",
      "['La Cova Fumada', 'Tue', '9:00 AM', '3:30 PM']\n",
      "['La Cova Fumada', 'Wed', '9:00 AM', '3:30 PM']\n",
      "['La Cova Fumada', 'Thu', '9:00 AM', '3:30 PM']\n",
      "['La Cova Fumada', 'Fri', '6:00 PM', '8:30 PM']\n",
      "['La Cova Fumada', 'Sat', '9:00 AM', '3:30 PM']\n",
      "['La Cova Fumada', 'Sun', '6:00 PM', '8:30 PM']\n",
      "['Solomillo', 'Mon', nan, nan]\n",
      "['Solomillo', 'Tue', '1:00 PM', '3:30 PM']\n",
      "['Solomillo', 'Wed', '8:00 PM', '11:00 PM']\n",
      "['Solomillo', 'Thu', '1:00 PM', '3:30 PM']\n",
      "['Solomillo', 'Fri', '8:00 PM', '11:00 PM']\n",
      "['Solomillo', 'Sat', '1:00 PM', '3:30 PM']\n",
      "['Solomillo', 'Sun', '8:00 PM', '11:00 PM']\n",
      "['Obe Restaurant', 'Mon', nan, nan]\n",
      "['Obe Restaurant', 'Tue', '12:30 PM', '12:00 AM']\n",
      "['Obe Restaurant', 'Wed', '12:30 PM', '12:00 AM']\n",
      "['Obe Restaurant', 'Thu', '12:30 PM', '12:00 AM']\n",
      "['Obe Restaurant', 'Fri', '12:30 PM', '12:00 AM']\n",
      "['Obe Restaurant', 'Sat', '12:30 PM', '12:00 AM']\n",
      "['Obe Restaurant', 'Sun', '12:30 PM', '4:30 PM']\n",
      "['Thai Zaap', 'Mon', nan, nan]\n",
      "['Thai Zaap', 'Tue', '1:00 PM', '4:00 PM']\n",
      "['Thai Zaap', 'Wed', '8:00 PM', '11:00 PM']\n",
      "['Thai Zaap', 'Thu', '1:00 PM', '4:00 PM']\n",
      "['Thai Zaap', 'Fri', '8:00 PM', '11:00 PM']\n",
      "['Thai Zaap', 'Sat', '1:00 PM', '4:00 PM']\n",
      "['Thai Zaap', 'Sun', '8:00 PM', '11:00 PM']\n",
      "['Els Sortidors del Parlament', 'Mon', '5:00 PM', '11:00 PM']\n",
      "['Els Sortidors del Parlament', 'Tue', nan, nan]\n",
      "['Els Sortidors del Parlament', 'Wed', '5:00 PM', '11:00 PM']\n",
      "['Els Sortidors del Parlament', 'Thu', '5:00 PM', '11:00 PM']\n",
      "['Els Sortidors del Parlament', 'Fri', '12:00 PM', '11:00 PM']\n",
      "['Els Sortidors del Parlament', 'Sat', '12:00 PM', '11:00 PM']\n",
      "['Els Sortidors del Parlament', 'Sun', '12:00 PM', '11:00 PM']\n",
      "['Red Ant', 'Mon', '1:00 PM', '12:00 AM']\n",
      "['Red Ant', 'Tue', '6:00 PM', '12:00 AM']\n",
      "['Red Ant', 'Wed', '1:00 PM', '12:00 AM']\n",
      "['Red Ant', 'Thu', '1:00 PM', '12:00 AM']\n",
      "['Red Ant', 'Fri', '1:00 PM', '12:30 AM']\n",
      "['Red Ant', 'Sat', '1:00 PM', '12:30 AM']\n",
      "['Red Ant', 'Sun', '1:00 PM', '12:00 AM']\n",
      "['Season Tapas Restaurante', 'Mon', '12:30 PM', '5:00 PM']\n",
      "['Season Tapas Restaurante', 'Tue', '12:30 PM', '5:00 PM']\n",
      "['Season Tapas Restaurante', 'Wed', '12:30 PM', '12:00 AM']\n",
      "['Season Tapas Restaurante', 'Thu', '12:30 PM', '12:00 AM']\n",
      "['Season Tapas Restaurante', 'Fri', '12:30 PM', '12:00 AM']\n",
      "['Season Tapas Restaurante', 'Sat', '12:30 PM', '12:00 AM']\n",
      "['Season Tapas Restaurante', 'Sun', '12:30 PM', '5:00 PM']\n",
      "['Modu Korean Bowl', 'Mon', '10:00 AM', '4:00 PM']\n",
      "['Modu Korean Bowl', 'Tue', '8:00 PM', '11:30 PM']\n",
      "['Modu Korean Bowl', 'Wed', '10:00 AM', '4:00 PM']\n",
      "['Modu Korean Bowl', 'Thu', '8:00 PM', '11:30 PM']\n",
      "['Modu Korean Bowl', 'Fri', '10:00 AM', '4:00 PM']\n",
      "['Modu Korean Bowl', 'Sat', '8:00 PM', '11:30 PM']\n",
      "['Modu Korean Bowl', 'Sun', '10:00 AM', '4:00 PM']\n",
      "['Lonja de Tapas', 'Mon', '12:00 PM', '12:00 AM']\n",
      "['Lonja de Tapas', 'Tue', '12:00 PM', '12:00 AM']\n",
      "['Lonja de Tapas', 'Wed', '12:00 PM', '12:00 AM']\n",
      "['Lonja de Tapas', 'Thu', '12:00 PM', '12:00 AM']\n",
      "['Lonja de Tapas', 'Fri', '12:00 PM', '1:00 AM']\n",
      "['Lonja de Tapas', 'Sat', '12:00 PM', '1:00 AM']\n",
      "['Lonja de Tapas', 'Sun', '12:00 PM', '12:00 AM']\n",
      "['PORK… boig per tu', 'Mon', '12:00 PM', '12:00 AM']\n",
      "['PORK… boig per tu', 'Tue', '12:00 PM', '12:00 AM']\n",
      "['PORK… boig per tu', 'Wed', '12:00 PM', '12:00 AM']\n",
      "['PORK… boig per tu', 'Thu', '12:00 PM', '12:00 AM']\n",
      "['PORK… boig per tu', 'Fri', '12:00 PM', '12:00 AM']\n",
      "['PORK… boig per tu', 'Sat', '12:00 PM', '12:00 AM']\n",
      "['PORK… boig per tu', 'Sun', '12:00 PM', '12:00 AM']\n",
      "['Norte', 'Mon', '8:00 AM', '10:30 PM']\n",
      "['Norte', 'Tue', '8:00 AM', '10:30 PM']\n",
      "['Norte', 'Wed', '8:00 AM', '10:30 PM']\n",
      "['Norte', 'Thu', '8:00 AM', '10:30 PM']\n",
      "['Norte', 'Fri', '8:00 AM', '10:30 PM']\n",
      "['Norte', 'Sat', nan, nan]\n",
      "['Norte', 'Sun', nan, nan]\n",
      "['Equilibrium Cafè', 'Mon', '8:00 AM', '8:00 PM']\n",
      "['Equilibrium Cafè', 'Tue', '8:00 AM', '8:00 PM']\n",
      "['Equilibrium Cafè', 'Wed', '8:00 AM', '8:00 PM']\n",
      "['Equilibrium Cafè', 'Thu', '8:00 AM', '8:00 PM']\n",
      "['Equilibrium Cafè', 'Fri', '8:00 AM', '8:00 PM']\n",
      "['Equilibrium Cafè', 'Sat', '8:00 AM', '2:30 PM']\n",
      "['Equilibrium Cafè', 'Sun', nan, nan]\n",
      "['Bar Ramón', 'Mon', '8:00 PM', '12:00 AM']\n",
      "['Bar Ramón', 'Tue', '10:00 AM', '4:00 PM']\n",
      "['Bar Ramón', 'Wed', '8:00 PM', '12:00 AM']\n",
      "['Bar Ramón', 'Thu', '10:00 AM', '4:00 PM']\n",
      "['Bar Ramón', 'Fri', '8:00 PM', '12:00 AM']\n",
      "['Bar Ramón', 'Sat', '10:00 AM', '4:00 PM']\n",
      "['Bar Ramón', 'Sun', '8:00 PM', '12:00 AM']\n",
      "['Ugot Bruncherie', 'Mon', nan, nan]\n",
      "['Ugot Bruncherie', 'Tue', '9:00 AM', '9:00 PM']\n",
      "['Ugot Bruncherie', 'Wed', '9:00 AM', '9:00 PM']\n",
      "['Ugot Bruncherie', 'Thu', '9:00 AM', '9:00 PM']\n",
      "['Ugot Bruncherie', 'Fri', '9:00 AM', '9:00 PM']\n",
      "['Ugot Bruncherie', 'Sat', '9:00 AM', '9:00 PM']\n",
      "['Ugot Bruncherie', 'Sun', '9:00 AM', '9:00 PM']\n",
      "['CruiX', 'Mon', nan, nan]\n",
      "['CruiX', 'Tue', '1:00 PM', '4:00 PM']\n",
      "['CruiX', 'Wed', '8:00 PM', '11:00 PM']\n",
      "['CruiX', 'Thu', '1:00 PM', '4:00 PM']\n",
      "['CruiX', 'Fri', '8:00 PM', '11:00 PM']\n",
      "['CruiX', 'Sat', '1:00 PM', '4:00 PM']\n",
      "['CruiX', 'Sun', '8:00 PM', '11:00 PM']\n",
      "['Petit Bangkok', 'Mon', nan, nan]\n",
      "['Petit Bangkok', 'Tue', '1:00 PM', '3:30 PM']\n",
      "['Petit Bangkok', 'Wed', '8:00 PM', '11:30 PM']\n",
      "['Petit Bangkok', 'Thu', '1:00 PM', '3:30 PM']\n",
      "['Petit Bangkok', 'Fri', '8:00 PM', '11:30 PM']\n",
      "['Petit Bangkok', 'Sat', '1:00 PM', '3:30 PM']\n",
      "['Petit Bangkok', 'Sun', '8:00 PM', '11:30 PM']\n",
      "['Palosanto', 'Mon', '1:00 PM', '12:00 AM']\n",
      "['Palosanto', 'Tue', '1:00 PM', '12:00 AM']\n",
      "['Palosanto', 'Wed', '1:00 PM', '12:00 AM']\n",
      "['Palosanto', 'Thu', '1:00 PM', '12:00 AM']\n",
      "['Palosanto', 'Fri', '1:00 PM', '12:00 AM']\n",
      "['Palosanto', 'Sat', '1:00 PM', '12:00 AM']\n",
      "['Palosanto', 'Sun', '1:00 PM', '12:00 AM']\n",
      "['Bar del Pla', 'Mon', '12:00 PM', '12:00 AM']\n",
      "['Bar del Pla', 'Tue', '12:00 PM', '12:00 AM']\n",
      "['Bar del Pla', 'Wed', '12:00 PM', '12:00 AM']\n",
      "['Bar del Pla', 'Thu', '12:00 PM', '12:00 AM']\n",
      "['Bar del Pla', 'Fri', '12:00 PM', '12:00 AM']\n",
      "['Bar del Pla', 'Sat', '12:00 PM', '12:00 AM']\n",
      "['Bar del Pla', 'Sun', nan, nan]\n",
      "['Elisabets', 'Mon', '7:30 AM', '11:00 PM']\n",
      "['Elisabets', 'Tue', '7:30 AM', '11:00 PM']\n",
      "['Elisabets', 'Wed', '7:30 AM', '11:00 PM']\n",
      "['Elisabets', 'Thu', '7:30 AM', '11:00 PM']\n",
      "['Elisabets', 'Fri', '7:30 AM', '2:00 AM']\n",
      "['Elisabets', 'Sat', '7:30 AM', '11:00 PM']\n",
      "['Elisabets', 'Sun', nan, nan]\n",
      "['Maná 75', 'Mon', '1:00 PM', '4:30 PM']\n",
      "['Maná 75', 'Tue', '1:00 PM', '4:30 PM']\n",
      "['Maná 75', 'Wed', '1:00 PM', '4:30 PM']\n",
      "['Maná 75', 'Thu', '1:00 PM', '4:30 PM']\n",
      "['Maná 75', 'Fri', '7:30 PM', '11:00 PM']\n",
      "['Maná 75', 'Sat', '1:00 PM', '4:00 PM']\n",
      "['Maná 75', 'Sun', '7:30 PM', '11:00 PM']\n",
      "['La Cuina d’ en Garriga', 'Mon', '9:30 AM', '11:00 PM']\n",
      "['La Cuina d’ en Garriga', 'Tue', '9:30 AM', '11:00 PM']\n",
      "['La Cuina d’ en Garriga', 'Wed', '9:30 AM', '11:00 PM']\n",
      "['La Cuina d’ en Garriga', 'Thu', '9:30 AM', '11:00 PM']\n",
      "['La Cuina d’ en Garriga', 'Fri', '9:30 AM', '11:00 PM']\n",
      "['La Cuina d’ en Garriga', 'Sat', '9:30 AM', '11:00 PM']\n",
      "['La Cuina d’ en Garriga', 'Sun', '9:30 AM', '11:00 PM']\n",
      "['La Hacienda', 'Mon', '11:00 AM', '12:00 AM']\n",
      "['La Hacienda', 'Tue', '11:00 AM', '12:00 AM']\n",
      "['La Hacienda', 'Wed', '11:00 AM', '12:00 AM']\n",
      "['La Hacienda', 'Thu', '11:00 AM', '12:00 AM']\n",
      "['La Hacienda', 'Fri', '11:00 AM', '1:00 AM']\n",
      "['La Hacienda', 'Sat', '11:00 AM', '1:00 AM']\n",
      "['La Hacienda', 'Sun', '11:00 AM', '12:00 AM']\n",
      "['Hummus', 'Mon', '12:00 PM', '11:30 PM']\n",
      "['Hummus', 'Tue', '12:00 PM', '11:30 PM']\n",
      "['Hummus', 'Wed', '12:00 PM', '11:30 PM']\n",
      "['Hummus', 'Thu', '12:00 PM', '11:30 PM']\n",
      "['Hummus', 'Fri', '12:00 PM', '11:30 PM']\n",
      "['Hummus', 'Sat', '12:00 PM', '11:30 PM']\n",
      "['Hummus', 'Sun', nan, nan]\n",
      "['Slow & Low', 'Mon', nan, nan]\n",
      "['Slow & Low', 'Tue', '1:30 PM', '4:00 PM']\n",
      "['Slow & Low', 'Wed', '8:30 PM', '11:30 PM']\n",
      "['Slow & Low', 'Thu', '1:30 PM', '4:00 PM']\n",
      "['Slow & Low', 'Fri', '8:30 PM', '11:30 PM']\n",
      "['Slow & Low', 'Sat', '1:30 PM', '4:00 PM']\n",
      "['Slow & Low', 'Sun', '8:30 PM', '11:30 PM']\n",
      "['El Pachuco', 'Mon', nan, nan]\n",
      "['El Pachuco', 'Tue', '12:30 PM', '2:30 AM']\n",
      "['El Pachuco', 'Wed', '12:30 PM', '2:30 AM']\n",
      "['El Pachuco', 'Thu', '12:30 PM', '2:30 AM']\n",
      "['El Pachuco', 'Fri', '12:30 PM', '3:00 AM']\n",
      "['El Pachuco', 'Sat', '12:30 PM', '3:00 AM']\n",
      "['El Pachuco', 'Sun', '12:30 PM', '2:30 AM']\n",
      "['El Venezia', 'Mon', '12:00 PM', '12:00 AM']\n",
      "['El Venezia', 'Tue', '12:00 PM', '12:00 AM']\n",
      "['El Venezia', 'Wed', '12:00 PM', '12:00 AM']\n",
      "['El Venezia', 'Thu', '12:00 PM', '2:00 AM']\n",
      "['El Venezia', 'Fri', '12:00 PM', '3:00 AM']\n",
      "['El Venezia', 'Sat', '6:00 PM', '3:00 AM']\n",
      "['El Venezia', 'Sun', nan, nan]\n",
      "['El Rincón del Artista', 'Mon', '6:00 AM', '5:30 AM']\n",
      "['El Rincón del Artista', 'Tue', '6:00 AM', '5:30 AM']\n",
      "['El Rincón del Artista', 'Wed', '6:00 AM', '5:30 AM']\n",
      "['El Rincón del Artista', 'Thu', '6:00 AM', '5:30 AM']\n",
      "['El Rincón del Artista', 'Fri', '6:00 AM', '5:30 AM']\n",
      "['El Rincón del Artista', 'Sat', '6:00 AM', '5:30 AM']\n",
      "['El Rincón del Artista', 'Sun', '6:00 AM', '5:30 AM']\n",
      "['Chalito', 'Mon', '8:00 AM', '1:00 AM']\n",
      "['Chalito', 'Tue', '8:00 AM', '1:00 AM']\n",
      "['Chalito', 'Wed', '8:00 AM', '1:00 AM']\n",
      "['Chalito', 'Thu', '8:00 AM', '1:00 AM']\n",
      "['Chalito', 'Fri', '8:00 AM', '1:00 AM']\n",
      "['Chalito', 'Sat', '8:00 AM', '1:00 AM']\n",
      "['Chalito', 'Sun', '8:00 AM', '1:00 AM']\n",
      "['Pau Claris 190', 'Mon', '6:00 PM', '11:30 PM']\n",
      "['Pau Claris 190', 'Tue', '6:00 PM', '11:30 PM']\n",
      "['Pau Claris 190', 'Wed', '6:00 PM', '11:30 PM']\n",
      "['Pau Claris 190', 'Thu', '6:00 PM', '11:30 PM']\n",
      "['Pau Claris 190', 'Fri', '6:00 PM', '11:30 PM']\n",
      "['Pau Claris 190', 'Sat', '6:00 PM', '11:30 PM']\n",
      "['Pau Claris 190', 'Sun', '6:00 PM', '11:30 PM']\n",
      "['Chez Cocó', 'Mon', '10:00 AM', '12:00 AM']\n",
      "['Chez Cocó', 'Tue', '10:00 AM', '12:00 AM']\n",
      "['Chez Cocó', 'Wed', '10:00 AM', '12:00 AM']\n",
      "['Chez Cocó', 'Thu', '10:00 AM', '12:00 AM']\n",
      "['Chez Cocó', 'Fri', '10:00 AM', '12:00 AM']\n",
      "['Chez Cocó', 'Sat', '10:00 AM', '12:00 AM']\n",
      "['Chez Cocó', 'Sun', '9:00 AM', '12:00 AM']\n",
      "['Portolés', 'Mon', '1:00 PM', '4:00 PM']\n",
      "['Portolés', 'Tue', '9:00 PM', '11:00 PM']\n",
      "['Portolés', 'Wed', '1:00 PM', '4:00 PM']\n",
      "['Portolés', 'Thu', '9:00 PM', '11:00 PM']\n",
      "['Portolés', 'Fri', '1:00 PM', '4:00 PM']\n",
      "['Portolés', 'Sat', '9:00 PM', '11:00 PM']\n",
      "['Portolés', 'Sun', '1:00 PM', '4:00 PM']\n",
      "['Bo de Gracia', 'Mon', '10:00 AM', '11:30 PM']\n",
      "['Bo de Gracia', 'Tue', '10:00 AM', '11:30 PM']\n",
      "['Bo de Gracia', 'Wed', '10:00 AM', '11:30 PM']\n",
      "['Bo de Gracia', 'Thu', '10:00 AM', '11:30 PM']\n",
      "['Bo de Gracia', 'Fri', '10:00 AM', '1:00 AM']\n",
      "['Bo de Gracia', 'Sat', '10:00 AM', '1:00 AM']\n",
      "['Bo de Gracia', 'Sun', '10:00 AM', '1:00 AM']\n",
      "['Margherita', 'Mon', '12:00 PM', '12:00 AM']\n",
      "['Margherita', 'Tue', '12:00 PM', '12:00 AM']\n",
      "['Margherita', 'Wed', '12:00 PM', '12:00 AM']\n",
      "['Margherita', 'Thu', '12:00 PM', '12:00 AM']\n",
      "['Margherita', 'Fri', '12:00 PM', '12:00 AM']\n",
      "['Margherita', 'Sat', '12:00 PM', '12:00 AM']\n",
      "['Margherita', 'Sun', '12:00 PM', '11:30 PM']\n",
      "['Bar Nolla', 'Mon', '12:00 PM', '12:00 AM']\n",
      "['Bar Nolla', 'Tue', '12:00 PM', '12:00 AM']\n",
      "['Bar Nolla', 'Wed', '12:00 PM', '12:00 AM']\n",
      "['Bar Nolla', 'Thu', '12:00 PM', '12:00 AM']\n",
      "['Bar Nolla', 'Fri', '12:00 PM', '1:00 AM']\n",
      "['Bar Nolla', 'Sat', '12:00 PM', '1:00 AM']\n",
      "['Bar Nolla', 'Sun', '12:00 PM', '12:00 AM']\n",
      "['Casa Dorita', 'Mon', nan, nan]\n",
      "['Casa Dorita', 'Tue', '9:00 AM', '5:00 PM']\n",
      "['Casa Dorita', 'Wed', '8:00 PM', '12:00 AM']\n",
      "['Casa Dorita', 'Thu', '9:00 AM', '5:00 PM']\n",
      "['Casa Dorita', 'Fri', '8:00 PM', '12:00 AM']\n",
      "['Casa Dorita', 'Sat', '9:00 AM', '5:00 PM']\n",
      "['Casa Dorita', 'Sun', '8:00 PM', '12:00 AM']\n",
      "['Palmito Beach Bar', 'Mon', '12:00 PM', '7:00 PM']\n",
      "['Palmito Beach Bar', 'Tue', '12:00 PM', '7:00 PM']\n",
      "['Palmito Beach Bar', 'Wed', '12:00 PM', '3:00 AM']\n",
      "['Palmito Beach Bar', 'Thu', '12:00 PM', '3:00 AM']\n",
      "['Palmito Beach Bar', 'Fri', '12:00 PM', '3:00 AM']\n",
      "['Palmito Beach Bar', 'Sat', '12:00 PM', '3:00 AM']\n",
      "['Palmito Beach Bar', 'Sun', '12:00 PM', '3:00 AM']\n",
      "['Bosque Palermo', 'Mon', '8:00 AM', '4:00 PM']\n",
      "['Bosque Palermo', 'Tue', '8:00 PM', '12:00 AM']\n",
      "['Bosque Palermo', 'Wed', '8:00 AM', '4:00 PM']\n",
      "['Bosque Palermo', 'Thu', '8:00 PM', '12:00 AM']\n",
      "['Bosque Palermo', 'Fri', '8:00 AM', '4:00 PM']\n",
      "['Bosque Palermo', 'Sat', '8:00 PM', '12:00 AM']\n",
      "['Bosque Palermo', 'Sun', '8:00 AM', '4:00 PM']\n",
      "['Son Hao', 'Mon', '1:00 PM', '4:30 PM']\n",
      "['Son Hao', 'Tue', '8:00 PM', '12:00 AM']\n",
      "['Son Hao', 'Wed', '1:00 PM', '4:30 PM']\n",
      "['Son Hao', 'Thu', '8:00 PM', '12:00 AM']\n",
      "['Son Hao', 'Fri', '1:00 PM', '4:30 PM']\n",
      "['Son Hao', 'Sat', '8:00 PM', '12:00 AM']\n",
      "['Son Hao', 'Sun', '1:00 PM', '4:30 PM']\n"
     ]
    }
   ],
   "source": [
    "# Some restaurants open twice a day...it was hard to get the second time\n",
    "# Things to based analysis (numbers of openings hours day on average, do they open on the weekend.)\n",
    "opening_hours_df = pd.DataFrame(opening_hours)\n",
    "\n",
    "for i in range(len(opening_hours_df)):\n",
    "    print( list(opening_hours_df.iloc[i, :]) ) \n",
    "\n"
   ]
  },
  {
   "cell_type": "code",
   "execution_count": null,
   "metadata": {},
   "outputs": [],
   "source": []
  },
  {
   "cell_type": "markdown",
   "metadata": {},
   "source": [
    "#### Amenities"
   ]
  },
  {
   "cell_type": "markdown",
   "metadata": {},
   "source": [
    "#### Restaurant dataset"
   ]
  },
  {
   "cell_type": "markdown",
   "metadata": {},
   "source": [
    "# Hotels"
   ]
  },
  {
   "cell_type": "code",
   "execution_count": 51,
   "metadata": {},
   "outputs": [
    {
     "name": "stdout",
     "output_type": "stream",
     "text": [
      "Index(['Barceló Raval', 'Hotel 1898', 'W Barcelona',\n",
      "       'Hotel Continental Barcelona', 'Pulitzer Barcelona',\n",
      "       'Le Méridien Barcelona', 'Hotel Cotton House', 'Hotel Ayre Roselon',\n",
      "       'Hotel Majestic', 'Renaissance Barcelona Hotel',\n",
      "       ...\n",
      "       'Catalonia Barcelona Golf.1', 'Mihlton.1', 'Ilunion Almirante.1',\n",
      "       'Hotel Peninsular.1', 'Banys Oriental.1', 'Hotel Capri by Fraser.1',\n",
      "       'Hotel Granados 83.1', 'Hotel Oasis.1', 'Ámister Art Hotel.1',\n",
      "       'Hotel Regina.1'],\n",
      "      dtype='object', length=259)\n",
      "Index(['0', '10', '20', '30', '40', '50', '60', '70', '80', '90', '100', '110',\n",
      "       '120', '130', '140', '150', '160', '170', '180', '190', '200', '210',\n",
      "       '220', '230'],\n",
      "      dtype='object')\n"
     ]
    }
   ],
   "source": [
    "hotel_soup = pd.read_csv('hotel_soup.csv').drop(columns='Unnamed: 0').squeeze()\n",
    "hotel_soup2 = pd.read_csv('hotel_soup2.csv').drop(columns='Unnamed: 0').squeeze()\n",
    "print(hotel_soup2.index)\n",
    "print(hotel_soup.index)"
   ]
  },
  {
   "cell_type": "markdown",
   "metadata": {},
   "source": [
    "#### Name"
   ]
  },
  {
   "cell_type": "code",
   "execution_count": 52,
   "metadata": {},
   "outputs": [],
   "source": [
    "#### Name\n",
    "name = []\n",
    "for row in hotel_soup:  # row contain 10 restaurants\n",
    "    soup = BeautifulSoup(row, 'html.parser')\n",
    "    result = soup.select('.css-1egxyvc .css-1m051bw')\n",
    "    for tag in result:\n",
    "        # print(tag.text)\n",
    "        name.append(tag.text)\n"
   ]
  },
  {
   "cell_type": "code",
   "execution_count": 53,
   "metadata": {},
   "outputs": [
    {
     "data": {
      "text/plain": [
       "St. Christopher’s Inn                         2\n",
       "Four Points by Sheraton Barcelona Diagonal    2\n",
       "OD Barcelona                                  2\n",
       "Chic&Basic Velvet                             2\n",
       "Acta BCN 40                                   2\n",
       "                                             ..\n",
       "K+K Hotel Picasso Barcelona                   1\n",
       "Hostalin Barcelona                            1\n",
       "Eurostars Grand Marina                        1\n",
       "H10 Metropolitan                              1\n",
       "Hotel Barcelona Universal                     1\n",
       "Length: 234, dtype: int64"
      ]
     },
     "execution_count": 53,
     "metadata": {},
     "output_type": "execute_result"
    }
   ],
   "source": [
    "# It's like there are duplicates\n",
    "pd.Series(name).value_counts()"
   ]
  },
  {
   "cell_type": "markdown",
   "metadata": {},
   "source": [
    "#### Price range"
   ]
  },
  {
   "cell_type": "code",
   "execution_count": 54,
   "metadata": {},
   "outputs": [
    {
     "name": "stdout",
     "output_type": "stream",
     "text": [
      "Barceló Raval €€\n",
      "Hotel 1898 €€€\n",
      "W Barcelona €€€€\n",
      "Hotel Continental Barcelona €\n",
      "Pulitzer Barcelona €€\n",
      "Le Méridien Barcelona €€€\n",
      "Hotel Cotton House €€€\n",
      "Hotel Ayre Roselon €\n",
      "Hotel Majestic €€€\n",
      "Renaissance Barcelona Hotel €€€\n",
      "Villa Emilia €€\n",
      "Hotel Arts Barcelona nan\n",
      "Mandarin Oriental €€€€\n",
      "Hotel Jazz €€\n",
      "K+K Hotel Picasso Barcelona nan\n",
      "Hotel Europark €€\n",
      "Grand Hotel Central nan\n",
      "Hotel Barcelona 1882 nan\n",
      "Alma Barcelona €€€\n",
      "Novotel Barcelona City €€\n",
      "Casa Fuster €€€€\n",
      "The Barcelona EDITION €€€\n",
      "Hotel Barcelona Universal €€\n",
      "Hotel NH Collection Barcelona Gran Hotel Calderón €€€\n",
      "H10 Madison nan\n",
      "Claris €€€\n",
      "Alexandra Barcelona Hotel €€€\n",
      "Hilton Barcelona Hotel €€€\n",
      "Hotel Duquesa de Cardona €€€\n",
      "Hotel Mercer €€€\n",
      "Casa Bonay €€\n",
      "El Palace €€€€\n",
      "Hotel Praktik €€\n",
      "Hotel U232 €€\n",
      "Soho House €€€€\n",
      "Hotel Catalonia Born €€\n",
      "Hotel Condes de Barcelona €€€\n",
      "Hotel Sofia nan\n",
      "Olivia Balmes €€€\n",
      "Colonial €€\n",
      "Best Western Premier Hotel Dante €€\n",
      "Arc la Rambla €€\n",
      "Vividora nan\n",
      "Hotel Colón €€€\n",
      "H10 Port Vell €€\n",
      "Barcelona Airport Hotel nan\n",
      "Hotel España Ramblas €€\n",
      "Hotel Ohla €€€\n",
      "AC Hotel Diagonal L’iIlla €€€\n",
      "The Wittmore €€€\n",
      "Hilton Diagonal Mar €€€\n",
      "The One nan\n",
      "Hotel Catalonia Port €€\n",
      "Hotel Barcelona Catedral €€€€\n",
      "The Serras €€€€\n",
      "Sir Victor Hotel €€€\n",
      "Room Mate Carla Hotel €€\n",
      "Gallery Hotel €€€\n",
      "Iberostar Selection Paseo de Gracia €€€\n",
      "Hostal Grau Barcelona €\n",
      "Renaissance Barcelona Fira Hotel nan\n",
      "Do €€\n",
      "AC Hotel by Marriott Irla €€\n",
      "Axel €€€\n",
      "Hotel Sagrada Familia €€\n",
      "Hotel Turin €\n",
      "Hotel NH Collection Barcelona Pódium €€\n",
      "Eurostars Grand Marina €€€\n",
      "Neri €€€\n",
      "Millenni €€\n",
      "Hotel Cram €€€\n",
      "Sallés Hotel nan\n",
      "Hotel Catalonia Eixample 1864 €€\n",
      "Hotel Sixty Two €€€\n",
      "Hotel Condal €\n",
      "Rafaelhoteles Badalona nan\n",
      "Ayre Hotel Rosellón €€\n",
      "Andante Hotel €€\n",
      "Gaudi Hotel Barcelona nan\n",
      "H10 Catalunya Plaza €€€\n",
      "Siresa Europea nan\n",
      "Gotico Hotel €€€\n",
      "Majestic Residence €€€\n",
      "Hotel Catalonia Park Guell €€€\n",
      "Nobu Hotel Barcelona nan\n",
      "Royal Ramblas Hotel €€€\n",
      "H10 Casa Mimosa €€\n",
      "Praktik Rambla €€\n",
      "Constanza €€€\n",
      "Hotel Occidental Atenea Mar €€€\n",
      "Olivia Plaza Hotel €€€\n",
      "Barcelona Nouvel Hotel €€€\n",
      "Ayre Hotel Caspe €€\n",
      "Avenida Palace €€€€\n",
      "The Mirror Hotel €€\n",
      "Equity Point Centric nan\n",
      "Hotel Medium Prisma €€\n",
      "Hotel Curious €€\n",
      "Hotel Lleó €€\n",
      "Le Palacete nan\n",
      "Hotel Catalonia 505 €€\n",
      "Ramblas 108 €€\n",
      "Hotel Regencia Colon €€\n",
      "Hotel Del Mar €\n",
      "Room Mate Pau Hotel €€\n",
      "Alimara €€\n",
      "Hotel Catalonia Diagonal Centro €€\n",
      "Park Hotel €€€€\n",
      "Hotel Crowne Plaza Fira Center €€€\n",
      "AC Hotel by Marriott Barcelona Forum €€€\n",
      "Hotel 54 Barceloneta €€\n",
      "Hotel Balmes €€\n",
      "Jorsu Catalana nan\n",
      "Senator Barcelona €€€\n",
      "Gaudi Hotel Barcelona nan\n",
      "Gaudí nan\n",
      "Ibis €€\n",
      "The Corner Hotel €€\n",
      "Hotel Nouvel €€\n",
      "Motel One €€\n",
      "Campanile Barcelona Sud-Cornella nan\n",
      "Royal €€\n",
      "Monument Hotel nan\n",
      "Room Mate Anna Hotel €€\n",
      "Hotel Acta Splendid €€\n",
      "NH Constanza €€€\n",
      "AC Hotel by Marriott Sants €€\n",
      "hotels barcelona spain €\n",
      "Soho Barcelona €€\n",
      "Hostalin Barcelona nan\n",
      "Casa Marcelo nan\n",
      "AC Hotel by Marriott Victoria Suites €€\n",
      "Colors nan\n",
      "Hesperia Presidente €€€\n",
      "Hotel Miramar €€€€\n",
      "Hotel Medicis €€€\n",
      "Hotel NH Porta Barcelona nan\n",
      "Hotel Ciutadella Barcelona €€\n",
      "St. Christopher’s Inn nan\n",
      "B Hotel €€\n",
      "Catalonia Barcelona Golf nan\n",
      "Mihlton nan\n",
      "Ilunion Almirante nan\n",
      "Hotel Peninsular nan\n",
      "Banys Oriental €€\n",
      "Hotel Capri by Fraser €€\n",
      "Hotel Granados 83 €€€\n",
      "Hotel Oasis €€\n",
      "Ámister Art Hotel €€\n",
      "Hotel Regina €€€\n",
      "St. Christopher’s Inn nan\n",
      "Silken Concordia €€\n",
      "H10 Art Gallery €€\n",
      "Gran Hotel Havana €€\n",
      "AC Hotel by Marriott Som nan\n",
      "Hotel Ciutat Barcelona €€\n",
      "Tryp Apolo Hotel €€\n",
      "Franquesa Malaguti nan\n",
      "Petit Palace Boqueria Garden €€\n",
      "Hotel Casa Camper €€€\n",
      "Holiday Inn Express €€\n",
      "Siete Cero DOS Limpiezas Gestionadas nan\n",
      "Hotel Apsis Porta Marina €€\n",
      "Hotel Catalonia €€€\n",
      "Banquetes Reunidos nan\n",
      "Fonda Espanya €€€€\n",
      "Exe Laietana Palace €€€\n",
      "Hotel H10 €€\n",
      "H10 Metropolitan €€€\n",
      "Hotel Ohla Eixample €€€\n",
      "Well and Come €€€\n",
      "Hotel La Casa del Sol €€\n",
      "Meliá Barcelona €€€\n",
      "Hotel Del Compte €\n",
      "NH Eixample €\n",
      "HCC Montblanc €€\n",
      "Hotel Bagués €€€€\n",
      "Hotel Porta Fira nan\n",
      "Santa Marta €€\n",
      "Petit Palace Museum €€€\n",
      "Two Hotel €€\n",
      "Ibis Barcelona Centro nan\n",
      "Ficfrei nan\n",
      "H10 Cubik €€€\n",
      "Fedasosa nan\n",
      "Hotel Advance €€\n",
      "Praktik Garden €€\n",
      "Hotel Barcelona House €€\n",
      "Hotel NH Barcelona Les Corts nan\n",
      "Four Points by Sheraton Barcelona Diagonal €€\n",
      "Four Points by Sheraton Barcelona Diagonal €€\n",
      "Hotel Apsis Sant Angelo €\n",
      "ABaC Hotel €€€€\n",
      "Hotel Nuñez Urgel Comte D’urgell, 232 nan\n",
      "Silken Sant Gervasi €€\n",
      "Wilson €€\n",
      "Hostemplo nan\n",
      "Gestion Hotelera Ballester nan\n",
      "Hotel Pelayo €\n",
      "Sunotel BCN €€\n",
      "Acta Mimic nan\n",
      "Marin Gonzalez Gabriel nan\n",
      "Hotel America €€\n",
      "Hotel Abba Garden nan\n",
      "Hotel Catalonia Portal de l’Angel €€€\n",
      "City Park Hotel Sant Just nan\n",
      "Mercer Hoteles €€€\n",
      "Hotel Reding €€\n",
      "Acta BCN 40 nan\n",
      "OD Barcelona nan\n",
      "Acta BCN 40 nan\n",
      "OD Barcelona nan\n",
      "Pullman €€€\n",
      "Hotel NH Barcelona Entenza €\n",
      "Hoteles Solvasa nan\n",
      "Hotel Ibis nan\n",
      "Fairmont Rey Juan Carlos I €€€\n",
      "Intown Europe nan\n",
      "Rey Don Jaime I €\n",
      "Vincci Gala 4 €€\n",
      "H10 Montcada €€€\n",
      "Almanac nan\n",
      "Hotel Denit €€\n",
      "Hotel Midmost €€\n",
      "Hotel Front Maritim €€\n",
      "Hotel Granvía €€\n",
      "roig cerrudo,ana 000950091r slne nan\n",
      "Sabor Intens nan\n",
      "Aparthotel Silver €€\n",
      "Chic&Basic Velvet nan\n",
      "Chic&Basic Velvet nan\n",
      "Hotel Catalonia Plaza Catalunya €€\n",
      "Omnium nan\n",
      "Ibis Styles €€\n",
      "Patacolls nan\n",
      "Hotel Fira Congress nan\n",
      "ANBA Bed And Breakfast nan\n",
      "Chic & Basic Lemon Boutique nan\n",
      "Tres Torres Atiram €€\n",
      "Abba Rambla €€\n"
     ]
    }
   ],
   "source": [
    "#### Price range\n",
    "price_range = []\n",
    "container_class = 'container__09f24__mpR8_ hoverable__09f24__wQ_on margin-t3__09f24__riq4X margin-b3__09f24__l9v5d padding-t3__09f24__TMrIW padding-r3__09f24__eaF7p padding-b3__09f24__S8R2d padding-l3__09f24__IOjKY border--top__09f24__exYYb border--right__09f24__X7Tln border--bottom__09f24___mg5X border--left__09f24__DMOkM border-color--default__09f24__NPAKY'\n",
    "for row in hotel_soup:\n",
    "    soup = BeautifulSoup(row, 'html.parser')\n",
    "    result = soup.find_all(class_ = container_class)\n",
    "    for tag in result:\n",
    "        header_text = tag.div.div.div.nextSibling.div\n",
    "        price = header_text.select_one('.css-1s7bx9e')\n",
    "        if price is not None:\n",
    "            price_range.append(price.text)\n",
    "        else:\n",
    "            price_range.append(np.nan)\n",
    "\n",
    "# test\n",
    "for n, price in zip(name, price_range):\n",
    "    print(n, price) "
   ]
  },
  {
   "cell_type": "markdown",
   "metadata": {},
   "source": [
    "#### Rating"
   ]
  },
  {
   "cell_type": "code",
   "execution_count": 55,
   "metadata": {},
   "outputs": [
    {
     "name": "stdout",
     "output_type": "stream",
     "text": [
      "Barceló Raval 4.5\n",
      "Hotel 1898 4.5\n",
      "W Barcelona 4\n",
      "Hotel Continental Barcelona 4.5\n",
      "Pulitzer Barcelona 4\n",
      "Le Méridien Barcelona 4\n",
      "Hotel Cotton House 4.5\n",
      "Hotel Ayre Roselon 4.5\n",
      "Hotel Majestic 4\n",
      "Renaissance Barcelona Hotel 4\n",
      "Villa Emilia 5\n",
      "Hotel Arts Barcelona 4\n",
      "Mandarin Oriental 4\n",
      "Hotel Jazz 4.5\n",
      "K+K Hotel Picasso Barcelona 4.5\n",
      "Hotel Europark 4.5\n",
      "Grand Hotel Central 4\n",
      "Hotel Barcelona 1882 4.5\n",
      "Alma Barcelona 4.5\n",
      "Novotel Barcelona City 4\n",
      "Casa Fuster 4.5\n",
      "The Barcelona EDITION 4\n",
      "Hotel Barcelona Universal 4\n",
      "Hotel NH Collection Barcelona Gran Hotel Calderón 4\n",
      "H10 Madison 5\n",
      "Claris 4\n",
      "Alexandra Barcelona Hotel 4\n",
      "Hilton Barcelona Hotel 3.5\n",
      "Hotel Duquesa de Cardona 4.5\n",
      "Hotel Mercer 4.5\n",
      "Casa Bonay 4.5\n",
      "El Palace 4.5\n",
      "Hotel Praktik 4.5\n",
      "Hotel U232 4.5\n",
      "Soho House 5\n",
      "Hotel Catalonia Born 4\n",
      "Hotel Condes de Barcelona 4\n",
      "Hotel Sofia 5\n",
      "Olivia Balmes 4.5\n",
      "Colonial 3.5\n",
      "Best Western Premier Hotel Dante 4\n",
      "Arc la Rambla 4\n",
      "Vividora 5\n",
      "Hotel Colón 4\n",
      "H10 Port Vell 5\n",
      "Barcelona Airport Hotel 2.5\n",
      "Hotel España Ramblas 3.5\n",
      "Hotel Ohla 4\n",
      "AC Hotel Diagonal L’iIlla 2.5\n",
      "The Wittmore 4.5\n",
      "Hilton Diagonal Mar 4\n",
      "The One 3\n",
      "Hotel Catalonia Port 4\n",
      "Hotel Barcelona Catedral 4.5\n",
      "The Serras 5\n",
      "Sir Victor Hotel 4\n",
      "Room Mate Carla Hotel 4.5\n",
      "Gallery Hotel 4.5\n",
      "Iberostar Selection Paseo de Gracia 2.5\n",
      "Hostal Grau Barcelona 4.5\n",
      "Renaissance Barcelona Fira Hotel 4\n",
      "Do 4.5\n",
      "AC Hotel by Marriott Irla 4\n",
      "Axel 3\n",
      "Hotel Sagrada Familia 3.5\n",
      "Hotel Turin 4\n",
      "Hotel NH Collection Barcelona Pódium 4.5\n",
      "Eurostars Grand Marina 3.5\n",
      "Neri 4\n",
      "Millenni 4\n",
      "Hotel Cram 4.5\n",
      "Sallés Hotel 3.5\n",
      "Hotel Catalonia Eixample 1864 4\n",
      "Hotel Sixty Two 4.5\n",
      "Hotel Condal 2\n",
      "Rafaelhoteles Badalona 3.5\n",
      "Ayre Hotel Rosellón 4\n",
      "Andante Hotel 4.5\n",
      "Gaudi Hotel Barcelona 2.5\n",
      "H10 Catalunya Plaza 3.5\n",
      "Siresa Europea nan\n",
      "Gotico Hotel 3.5\n",
      "Majestic Residence 4\n",
      "Hotel Catalonia Park Guell 1\n",
      "Nobu Hotel Barcelona 4\n",
      "Royal Ramblas Hotel 4\n",
      "H10 Casa Mimosa 5\n",
      "Praktik Rambla 4.5\n",
      "Constanza 4\n",
      "Hotel Occidental Atenea Mar 3\n",
      "Olivia Plaza Hotel 4.5\n",
      "Barcelona Nouvel Hotel 3.5\n",
      "Ayre Hotel Caspe 3.5\n",
      "Avenida Palace 3.5\n",
      "The Mirror Hotel 4\n",
      "Equity Point Centric 3\n",
      "Hotel Medium Prisma 3.5\n",
      "Hotel Curious 4.5\n",
      "Hotel Lleó 4\n",
      "Le Palacete 5\n",
      "Hotel Catalonia 505 3\n",
      "Ramblas 108 5\n",
      "Hotel Regencia Colon 4\n",
      "Hotel Del Mar 2.5\n",
      "Room Mate Pau Hotel 4\n",
      "Alimara 2.5\n",
      "Hotel Catalonia Diagonal Centro 4\n",
      "Park Hotel 4.5\n",
      "Hotel Crowne Plaza Fira Center 4.5\n",
      "AC Hotel by Marriott Barcelona Forum 3\n",
      "Hotel 54 Barceloneta 3.5\n",
      "Hotel Balmes 4.5\n",
      "Jorsu Catalana nan\n",
      "Senator Barcelona 2.5\n",
      "Gaudi Hotel Barcelona 2.5\n",
      "Gaudí nan\n",
      "Ibis 4.5\n",
      "The Corner Hotel 4.5\n",
      "Hotel Nouvel 3.5\n",
      "Motel One 4\n",
      "Campanile Barcelona Sud-Cornella 4\n",
      "Royal 4\n",
      "Monument Hotel 3.5\n",
      "Room Mate Anna Hotel 4.5\n",
      "Hotel Acta Splendid 3\n",
      "NH Constanza 3\n",
      "AC Hotel by Marriott Sants 4\n",
      "hotels barcelona spain 4.5\n",
      "Soho Barcelona 4\n",
      "Hostalin Barcelona 3\n",
      "Casa Marcelo 5\n",
      "AC Hotel by Marriott Victoria Suites 4.5\n",
      "Colors 2\n",
      "Hesperia Presidente 4\n",
      "Hotel Miramar 4\n",
      "Hotel Medicis 4\n",
      "Hotel NH Porta Barcelona 4\n",
      "Hotel Ciutadella Barcelona 3\n",
      "St. Christopher’s Inn 4\n",
      "B Hotel 4.5\n",
      "Catalonia Barcelona Golf 3\n",
      "Mihlton 5\n",
      "Ilunion Almirante 3\n",
      "Hotel Peninsular 4\n",
      "Banys Oriental 4.5\n",
      "Hotel Capri by Fraser 3.5\n",
      "Hotel Granados 83 4\n",
      "Hotel Oasis 4\n",
      "Ámister Art Hotel 4\n",
      "Hotel Regina 3\n",
      "St. Christopher’s Inn 4\n",
      "Silken Concordia 4\n",
      "H10 Art Gallery 3\n",
      "Gran Hotel Havana 4\n",
      "AC Hotel by Marriott Som 3\n",
      "Hotel Ciutat Barcelona 3.5\n",
      "Tryp Apolo Hotel 3\n",
      "Franquesa Malaguti nan\n",
      "Petit Palace Boqueria Garden 3.5\n",
      "Hotel Casa Camper 4.5\n",
      "Holiday Inn Express 3.5\n",
      "Siete Cero DOS Limpiezas Gestionadas nan\n",
      "Hotel Apsis Porta Marina 4\n",
      "Hotel Catalonia 3\n",
      "Banquetes Reunidos nan\n",
      "Fonda Espanya 4.5\n",
      "Exe Laietana Palace 2.5\n",
      "Hotel H10 4.5\n",
      "H10 Metropolitan 4\n",
      "Hotel Ohla Eixample 4\n",
      "Well and Come 5\n",
      "Hotel La Casa del Sol 5\n",
      "Meliá Barcelona 4\n",
      "Hotel Del Compte 4\n",
      "NH Eixample 3\n",
      "HCC Montblanc 3\n",
      "Hotel Bagués 5\n",
      "Hotel Porta Fira 4\n",
      "Santa Marta 5\n",
      "Petit Palace Museum 3.5\n",
      "Two Hotel 4.5\n",
      "Ibis Barcelona Centro 4\n",
      "Ficfrei nan\n",
      "H10 Cubik 4\n",
      "Fedasosa nan\n",
      "Hotel Advance 5\n",
      "Praktik Garden 3.5\n",
      "Hotel Barcelona House 2\n",
      "Hotel NH Barcelona Les Corts 3.5\n",
      "Four Points by Sheraton Barcelona Diagonal 4\n",
      "Four Points by Sheraton Barcelona Diagonal 4\n",
      "Hotel Apsis Sant Angelo 5\n",
      "ABaC Hotel 5\n",
      "Hotel Nuñez Urgel Comte D’urgell, 232 nan\n",
      "Silken Sant Gervasi 4\n",
      "Wilson 5\n",
      "Hostemplo nan\n",
      "Gestion Hotelera Ballester nan\n",
      "Hotel Pelayo 4\n",
      "Sunotel BCN 1\n",
      "Acta Mimic 3\n",
      "Marin Gonzalez Gabriel nan\n",
      "Hotel America 4.5\n",
      "Hotel Abba Garden 3.5\n",
      "Hotel Catalonia Portal de l’Angel 4\n",
      "City Park Hotel Sant Just nan\n",
      "Mercer Hoteles 5\n",
      "Hotel Reding 4\n",
      "Acta BCN 40 5\n",
      "OD Barcelona 5\n",
      "Acta BCN 40 5\n",
      "OD Barcelona 5\n",
      "Pullman 4\n",
      "Hotel NH Barcelona Entenza 4.5\n",
      "Hoteles Solvasa 1\n",
      "Hotel Ibis 3\n",
      "Fairmont Rey Juan Carlos I 4\n",
      "Intown Europe nan\n",
      "Rey Don Jaime I 1.5\n",
      "Vincci Gala 4 4.5\n",
      "H10 Montcada 4\n",
      "Almanac 5\n",
      "Hotel Denit 3.5\n",
      "Hotel Midmost 3.5\n",
      "Hotel Front Maritim 3\n",
      "Hotel Granvía 4\n",
      "roig cerrudo,ana 000950091r slne nan\n",
      "Sabor Intens nan\n",
      "Aparthotel Silver 4.5\n",
      "Chic&Basic Velvet 1\n",
      "Chic&Basic Velvet 1\n",
      "Hotel Catalonia Plaza Catalunya 4.5\n",
      "Omnium 4\n",
      "Ibis Styles nan\n",
      "Patacolls nan\n",
      "Hotel Fira Congress 3\n",
      "ANBA Bed And Breakfast 5\n",
      "Chic & Basic Lemon Boutique nan\n",
      "Tres Torres Atiram 3\n",
      "Abba Rambla 4\n"
     ]
    }
   ],
   "source": [
    "#### Rating\n",
    "rating = []\n",
    "container_class = 'container__09f24__mpR8_ hoverable__09f24__wQ_on margin-t3__09f24__riq4X margin-b3__09f24__l9v5d padding-t3__09f24__TMrIW padding-r3__09f24__eaF7p padding-b3__09f24__S8R2d padding-l3__09f24__IOjKY border--top__09f24__exYYb border--right__09f24__X7Tln border--bottom__09f24___mg5X border--left__09f24__DMOkM border-color--default__09f24__NPAKY'\n",
    "for row in hotel_soup:\n",
    "    soup = BeautifulSoup(row, 'html.parser')\n",
    "    result = soup.find_all(class_ = container_class)\n",
    "    for tag in result:\n",
    "        header_text = tag.div.div.div.nextSibling.div\n",
    "        rat = header_text.select_one('.overflow--hidden__09f24___ayzG')\n",
    "        \n",
    "        if rat is not None:\n",
    "            rating.append(rat['aria-label'].split()[0])\n",
    "\n",
    "            # print(rat['aria-label'])\n",
    "\n",
    "        else:\n",
    "            rating.append(np.nan)\n",
    "        \n",
    "# test\n",
    "for n, rat in zip(name, rating):\n",
    "    print(n, rat) "
   ]
  },
  {
   "cell_type": "markdown",
   "metadata": {},
   "source": [
    "#### Reviews"
   ]
  },
  {
   "cell_type": "code",
   "execution_count": 59,
   "metadata": {},
   "outputs": [
    {
     "name": "stdout",
     "output_type": "stream",
     "text": [
      "Barceló Raval 56\n",
      "Hotel 1898 76\n",
      "W Barcelona 176\n",
      "Hotel Continental Barcelona 12\n",
      "Pulitzer Barcelona 42\n",
      "Le Méridien Barcelona 84\n",
      "Hotel Cotton House 47\n",
      "Hotel Ayre Roselon 7\n",
      "Hotel Majestic 40\n",
      "Renaissance Barcelona Hotel 53\n",
      "Villa Emilia 25\n",
      "Hotel Arts Barcelona 103\n",
      "Mandarin Oriental 40\n",
      "Hotel Jazz 22\n",
      "K+K Hotel Picasso Barcelona 20\n",
      "Hotel Europark 46\n",
      "Grand Hotel Central 38\n",
      "Hotel Barcelona 1882 6\n",
      "Alma Barcelona 29\n",
      "Novotel Barcelona City 13\n",
      "Casa Fuster 24\n",
      "The Barcelona EDITION 21\n",
      "Hotel Barcelona Universal 41\n",
      "Hotel NH Collection Barcelona Gran Hotel Calderón 24\n",
      "H10 Madison 16\n",
      "Claris 31\n",
      "Alexandra Barcelona Hotel 45\n",
      "Hilton Barcelona Hotel 46\n",
      "Hotel Duquesa de Cardona 32\n",
      "Hotel Mercer 12\n",
      "Casa Bonay 15\n",
      "El Palace 20\n",
      "Hotel Praktik 18\n",
      "Hotel U232 29\n",
      "Soho House 5\n",
      "Hotel Catalonia Born 11\n",
      "Hotel Condes de Barcelona 15\n",
      "Hotel Sofia 6\n",
      "Olivia Balmes 28\n",
      "Colonial 4\n",
      "Best Western Premier Hotel Dante 9\n",
      "Arc la Rambla 9\n",
      "Vividora 2\n",
      "Hotel Colón 48\n",
      "H10 Port Vell 9\n",
      "Barcelona Airport Hotel 24\n",
      "Hotel España Ramblas 17\n",
      "Hotel Ohla 20\n",
      "AC Hotel Diagonal L’iIlla 3\n",
      "The Wittmore 10\n",
      "Hilton Diagonal Mar 67\n",
      "The One 2\n",
      "Hotel Catalonia Port 10\n",
      "Hotel Barcelona Catedral 15\n",
      "The Serras 14\n",
      "Sir Victor Hotel 25\n",
      "Room Mate Carla Hotel 22\n",
      "Gallery Hotel 23\n",
      "Iberostar Selection Paseo de Gracia 3\n",
      "Hostal Grau Barcelona 15\n",
      "Renaissance Barcelona Fira Hotel 35\n",
      "Do 13\n",
      "AC Hotel by Marriott Irla 12\n",
      "Axel 32\n",
      "Hotel Sagrada Familia 11\n",
      "Hotel Turin 3\n",
      "Hotel NH Collection Barcelona Pódium 6\n",
      "Eurostars Grand Marina 30\n",
      "Neri 21\n",
      "Millenni 4\n",
      "Hotel Cram 12\n",
      "Sallés Hotel 14\n",
      "Hotel Catalonia Eixample 1864 4\n",
      "Hotel Sixty Two 15\n",
      "Hotel Condal 6\n",
      "Rafaelhoteles Badalona 3\n",
      "Ayre Hotel Rosellón 11\n",
      "Andante Hotel 16\n",
      "Gaudi Hotel Barcelona 15\n",
      "H10 Catalunya Plaza 9\n",
      "Siresa Europea nan\n",
      "Gotico Hotel 11\n",
      "Majestic Residence 2\n",
      "Hotel Catalonia Park Guell 4\n",
      "Nobu Hotel Barcelona 1\n",
      "Royal Ramblas Hotel 14\n",
      "H10 Casa Mimosa 9\n",
      "Praktik Rambla 13\n",
      "Constanza 8\n",
      "Hotel Occidental Atenea Mar 7\n",
      "Olivia Plaza Hotel 19\n",
      "Barcelona Nouvel Hotel 3\n",
      "Ayre Hotel Caspe 7\n",
      "Avenida Palace 18\n",
      "The Mirror Hotel 17\n",
      "Equity Point Centric 11\n",
      "Hotel Medium Prisma 3\n",
      "Hotel Curious 15\n",
      "Hotel Lleó 7\n",
      "Le Palacete 1\n",
      "Hotel Catalonia 505 3\n",
      "Ramblas 108 1\n",
      "Hotel Regencia Colon 8\n",
      "Hotel Del Mar 7\n",
      "Room Mate Pau Hotel 9\n",
      "Alimara 8\n",
      "Hotel Catalonia Diagonal Centro 1\n",
      "Park Hotel 4\n",
      "Hotel Crowne Plaza Fira Center 22\n",
      "AC Hotel by Marriott Barcelona Forum 25\n",
      "Hotel 54 Barceloneta 4\n",
      "Hotel Balmes 8\n",
      "Jorsu Catalana nan\n",
      "Senator Barcelona 2\n",
      "Gaudi Hotel Barcelona 15\n",
      "Gaudí nan\n",
      "Ibis 7\n",
      "The Corner Hotel 17\n",
      "Hotel Nouvel 16\n",
      "Motel One 7\n",
      "Campanile Barcelona Sud-Cornella 2\n",
      "Royal 7\n",
      "Monument Hotel 3\n",
      "Room Mate Anna Hotel 9\n",
      "Hotel Acta Splendid 3\n",
      "NH Constanza 7\n",
      "AC Hotel by Marriott Sants 17\n",
      "hotels barcelona spain 3\n",
      "Soho Barcelona 9\n",
      "Hostalin Barcelona 2\n",
      "Casa Marcelo 1\n",
      "AC Hotel by Marriott Victoria Suites 4\n",
      "Colors 1\n",
      "Hesperia Presidente 14\n",
      "Hotel Miramar 15\n",
      "Hotel Medicis 2\n",
      "Hotel NH Porta Barcelona 1\n",
      "Hotel Ciutadella Barcelona 3\n",
      "St. Christopher’s Inn 20\n",
      "B Hotel 15\n",
      "Catalonia Barcelona Golf 1\n",
      "Mihlton 1\n",
      "Ilunion Almirante 6\n",
      "Hotel Peninsular 8\n",
      "Banys Oriental 13\n",
      "Hotel Capri by Fraser 3\n",
      "Hotel Granados 83 25\n",
      "Hotel Oasis 8\n",
      "Ámister Art Hotel 8\n",
      "Hotel Regina 8\n",
      "St. Christopher’s Inn 20\n",
      "Silken Concordia 10\n",
      "H10 Art Gallery 3\n",
      "Gran Hotel Havana 12\n",
      "AC Hotel by Marriott Som 6\n",
      "Hotel Ciutat Barcelona 13\n",
      "Tryp Apolo Hotel 35\n",
      "Franquesa Malaguti nan\n",
      "Petit Palace Boqueria Garden 21\n",
      "Hotel Casa Camper 30\n",
      "Holiday Inn Express 15\n",
      "Siete Cero DOS Limpiezas Gestionadas nan\n",
      "Hotel Apsis Porta Marina 1\n",
      "Hotel Catalonia 7\n",
      "Banquetes Reunidos nan\n",
      "Fonda Espanya 10\n",
      "Exe Laietana Palace 7\n",
      "Hotel H10 7\n",
      "H10 Metropolitan 4\n",
      "Hotel Ohla Eixample 5\n",
      "Well and Come 3\n",
      "Hotel La Casa del Sol 2\n",
      "Meliá Barcelona 19\n",
      "Hotel Del Compte 2\n",
      "NH Eixample 7\n",
      "HCC Montblanc 12\n",
      "Hotel Bagués 8\n",
      "Hotel Porta Fira 27\n",
      "Santa Marta 2\n",
      "Petit Palace Museum 5\n",
      "Two Hotel 17\n",
      "Ibis Barcelona Centro 6\n",
      "Ficfrei nan\n",
      "H10 Cubik 16\n",
      "Fedasosa nan\n",
      "Hotel Advance 4\n",
      "Praktik Garden 13\n",
      "Hotel Barcelona House 13\n",
      "Hotel NH Barcelona Les Corts 2\n",
      "Four Points by Sheraton Barcelona Diagonal 26\n",
      "Four Points by Sheraton Barcelona Diagonal 26\n",
      "Hotel Apsis Sant Angelo 1\n",
      "ABaC Hotel 4\n",
      "Hotel Nuñez Urgel Comte D’urgell, 232 nan\n",
      "Silken Sant Gervasi 5\n",
      "Wilson 10\n",
      "Hostemplo nan\n",
      "Gestion Hotelera Ballester nan\n",
      "Hotel Pelayo 1\n",
      "Sunotel BCN 2\n",
      "Acta Mimic 7\n",
      "Marin Gonzalez Gabriel nan\n",
      "Hotel America 7\n",
      "Hotel Abba Garden 3\n",
      "Hotel Catalonia Portal de l’Angel 5\n",
      "City Park Hotel Sant Just nan\n",
      "Mercer Hoteles 1\n",
      "Hotel Reding 10\n",
      "Acta BCN 40 2\n",
      "OD Barcelona 5\n",
      "Acta BCN 40 2\n",
      "OD Barcelona 5\n",
      "Pullman 22\n",
      "Hotel NH Barcelona Entenza 3\n",
      "Hoteles Solvasa 1\n",
      "Hotel Ibis 2\n",
      "Fairmont Rey Juan Carlos I 29\n",
      "Intown Europe nan\n",
      "Rey Don Jaime I 3\n",
      "Vincci Gala 4 7\n",
      "H10 Montcada 19\n",
      "Almanac 7\n",
      "Hotel Denit 17\n",
      "Hotel Midmost 9\n",
      "Hotel Front Maritim 4\n",
      "Hotel Granvía 22\n",
      "roig cerrudo,ana 000950091r slne nan\n",
      "Sabor Intens nan\n",
      "Aparthotel Silver 11\n",
      "Chic&Basic Velvet 1\n",
      "Chic&Basic Velvet 1\n",
      "Hotel Catalonia Plaza Catalunya 5\n",
      "Omnium 3\n",
      "Ibis Styles nan\n",
      "Patacolls nan\n",
      "Hotel Fira Congress 11\n",
      "ANBA Bed And Breakfast 4\n",
      "Chic & Basic Lemon Boutique nan\n",
      "Tres Torres Atiram 1\n",
      "Abba Rambla 5\n"
     ]
    }
   ],
   "source": [
    "reviews = []\n",
    "container_class = 'container__09f24__mpR8_ hoverable__09f24__wQ_on margin-t3__09f24__riq4X margin-b3__09f24__l9v5d padding-t3__09f24__TMrIW padding-r3__09f24__eaF7p padding-b3__09f24__S8R2d padding-l3__09f24__IOjKY border--top__09f24__exYYb border--right__09f24__X7Tln border--bottom__09f24___mg5X border--left__09f24__DMOkM border-color--default__09f24__NPAKY'\n",
    "for row in hotel_soup:\n",
    "    soup = BeautifulSoup(row, 'html.parser')\n",
    "    result = soup.find_all(class_ = container_class)\n",
    "    for tag in result:\n",
    "        header_text = tag.div.div.div.nextSibling.div\n",
    "        rev = header_text.select_one('.reviewCount__09f24__tnBk4')\n",
    "        \n",
    "        if rev is not None:\n",
    "            \n",
    "            reviews.append(rev.text)\n",
    "\n",
    "\n",
    "        else:\n",
    "            reviews.append(np.nan)\n",
    "        \n",
    "#test\n",
    "for n, rev in zip(name, reviews):\n",
    "    print(n, rev) "
   ]
  },
  {
   "cell_type": "markdown",
   "metadata": {},
   "source": [
    "#### Location"
   ]
  },
  {
   "cell_type": "code",
   "execution_count": 26,
   "metadata": {},
   "outputs": [
    {
     "data": {
      "text/plain": [
       "(259,)"
      ]
     },
     "execution_count": 26,
     "metadata": {},
     "output_type": "execute_result"
    }
   ],
   "source": [
    "hotel_soup2.shape"
   ]
  },
  {
   "cell_type": "code",
   "execution_count": 27,
   "metadata": {},
   "outputs": [],
   "source": [
    "#### Location\n",
    "\n",
    "location = [] \n",
    "for row in hotel_soup2:\n",
    "    soup = BeautifulSoup(row, 'html.parser')\n",
    "    result = soup.select('address .raw__09f24__T4Ezm')\n",
    "    adress_elements = []\n",
    "    for tag in result:\n",
    "        adress_elements.append(tag.text)\n",
    "    location.append( '--'.join(adress_elements) )"
   ]
  },
  {
   "cell_type": "code",
   "execution_count": 30,
   "metadata": {},
   "outputs": [
    {
     "name": "stdout",
     "output_type": "stream",
     "text": [
      "Barceló Raval Rambla del Raval, 17 - 21--08001 Barcelona--Spain\n",
      "Hotel 1898 La Rambla, 109--08002 Barcelona--Spain\n",
      "W Barcelona Plaça de la Rosa dels Vents, 1--08039 Barcelona--Spain\n",
      "Hotel Continental Barcelona Paseo la Rambla, 138--08002 Barcelona--Spain\n",
      "Pulitzer Barcelona Carrer Bergara, 8--08002 Barcelona--Spain\n",
      "Le Méridien Barcelona La Rambla 111--Pintor Fortuny, 4-6--08002 Barcelona--Spain\n",
      "Hotel Cotton House Gran Via de les Corts Catalanes, 670--08010 Barcelona--Spain\n",
      "Hotel Ayre Roselon Rossello 390--08025--08025 Barcelona--Spain\n",
      "Hotel Majestic Passeig de Gracia, 68--08007 Barcelona--Spain\n",
      "Renaissance Barcelona Hotel Pau Claris, 122--08009 Barcelona--Spain\n",
      "Villa Emilia Carrer de Calàbria, 115--08015 Barcelona--Spain\n",
      "Hotel Arts Barcelona Marina 19-21--08005 Barcelona--Spain\n",
      "Mandarin Oriental Passeig de Gràcia, 38-40--08007 Barcelona--Spain\n",
      "Hotel Jazz Pelai, 3, Eixample--08001 Barcelona--Spain\n",
      "K+K Hotel Picasso Barcelona Passeig de Picasso, 26--08003 Barcelona--Spain\n",
      "Hotel Europark Carrer d'Arago, 323--08009 Barcelona--Spain\n",
      "Grand Hotel Central Vía Laietana, 30--08003 Barcelona--Spain\n",
      "Hotel Barcelona 1882 Carrer de Còrsega, 482--08025 Barcelona--Spain\n",
      "Alma Barcelona Carrer de Mallorca, 271--08008 Barcelona--Spain\n",
      "Novotel Barcelona City Avenida Diagonal, 201--08018 Barcelona--Spain\n",
      "Casa Fuster Passeig de Gràcia, 132--08008 Barcelona--Spain\n",
      "The Barcelona EDITION Avinguda de Francesc Cambó, 14--08003 Barcelona--Spain\n",
      "Hotel Barcelona Universal Avinguda Paral-lel, 76--08001 Barcelona--Spain\n",
      "Hotel NH Collection Barcelona Gran Hotel Calderón Rambla de Catalunya, 26--08007 Barcelona--Spain\n",
      "H10 Madison Carrer del Dr. Joaquim Pou, 2-4-6--08002 Barcelona--Spain\n",
      "Claris Carrer Pau Claris, 150--08009 Barcelona--Spain\n",
      "Alexandra Barcelona Hotel Carrer de Mallorca, 251--08008 Barcelona--Spain\n",
      "Hilton Barcelona Hotel Avinguda Diagonal, 589-591--08014 Barcelona--Spain\n",
      "Hotel Duquesa de Cardona Passeig de Colom, 12--08002 Barcelona--Spain\n",
      "Hotel Mercer Carrer dels Lledó, 7--08002 Barcelona--Spain\n",
      "Casa Bonay Gran Via de Les Corts Catalanes, 700--08010 Barcelona--Spain\n",
      "El Palace Gran Via de les Corts Catalanes, 668--08010 Barcelona--Spain\n",
      "Hotel Praktik Carrer de Provença, 279--08037 Barcelona--Spain\n",
      "Hotel U232 Carrer del Comte d'Urgell, 232--08036 Barcelona--Spain\n",
      "Soho House Plaça del Duc de Medinaceli, 4--08002 Barcelona--Spain\n",
      "Hotel Catalonia Born Calle Rec Comtal, 16--08003 Barcelona--Spain\n",
      "Hotel Condes de Barcelona Passeig de Gràcia, 73--08008 Barcelona--Spain\n",
      "Hotel Sofia Plaça de Pius XII, 4--08028 Barcelona--Spain\n",
      "Olivia Balmes Carrer de  Balmes, 117--08008 Barcelona--Spain\n",
      "Colonial Via Layetana, 3--08003 Barcelona--Spain\n",
      "Best Western Premier Hotel Dante Carrer de Mallorca, 181--08036 Barcelona--Spain\n",
      "Arc la Rambla La Rambla, 19--08002 Barcelona--Spain\n",
      "Vividora Carrer del Duc, 15--08002 Barcelona--Spain\n",
      "Hotel Colón Avinguda Catedral, 7--08002 Barcelona--Spain\n",
      "H10 Port Vell Carrer Pas de Sota Muralla, 9--08003 Barcelona--Spain\n",
      "Barcelona Airport Hotel \n",
      "Hotel España Ramblas Carrer de San Pau, 9-11--08001 Barcelona--Spain\n",
      "Hotel Ohla Via Laietana, 49--08003 Barcelona--Spain\n",
      "AC Hotel Diagonal L’iIlla Avinguda Diagonal, 555--08029 Barcelona--Spain\n",
      "The Wittmore Carrer de Riudarenes, 7--08002 Barcelona--Spain\n",
      "Hilton Diagonal Mar Passeig del Taulat, 262-264--08019 Barcelona--Spain\n",
      "The One Carrer de Provença, 277--08037 Barcelona--Spain\n",
      "Hotel Catalonia Port Carrer Ample, 1--08002 Barcelona--Spain\n",
      "Hotel Barcelona Catedral Carrer dels Capellans, 4--08002 Barcelona--Spain\n",
      "The Serras Passeig de Colom, 9--08002 Barcelona--Spain\n",
      "Sir Victor Hotel Carrer del Rosselló, 265--08008 Barcelona--Spain\n",
      "Room Mate Carla Hotel Carrer de Mallorca, 288--08037 Barcelona--Spain\n",
      "Gallery Hotel Carrer del Roselló, 249--08008 Barcelona--Spain\n",
      "Iberostar Selection Paseo de Gracia Plaça de Catalunya, 10--08002 Barcelona--Spain\n",
      "Hostal Grau Barcelona Carrer Ramelleres, 27--08001 Barcelona--Spain\n",
      "Renaissance Barcelona Fira Hotel Plaza Europa, 50-52--08902 Barcelona--Spain\n",
      "Do Plaça Reial, 1--08002 Barcelona--Spain\n",
      "AC Hotel by Marriott Irla Carrer Calvet, 40-42--08021 Barcelona--Spain\n",
      "Axel Carrer d'Aribau, 33--08011 Barcelona--Spain\n",
      "Hotel Sagrada Familia Calle Corsega 541--08029 Barcelona--Spain\n",
      "Hotel Turin Carrer del Pintor Fortuny, 9--08001 Barcelona--Spain\n",
      "Hotel NH Collection Barcelona Pódium Carrer de Bailèn, 4-6--08010 Barcelona--Spain\n",
      "Eurostars Grand Marina Moll de Barcelona, s/n--08039 Barcelona--Spain\n",
      "Neri Carrer de Sant Sever, 5--08002 Barcelona--Spain\n",
      "Millenni Ronda Sant Pau, 14--08001 Barcelona--Spain\n",
      "Hotel Cram Carrer d'Aribau, 54--08011 Barcelona--Spain\n",
      "Sallés Hotel Avinguda del Remolar, 46--08820 El Prat de Llobregat--Spain\n",
      "Hotel Catalonia Eixample 1864 Carrer de Roger de Llúria, 60--08009 Barcelona--Spain\n",
      "Hotel Sixty Two Passeig de Gràcia, 62--08007 Barcelona--Spain\n",
      "Hotel Condal Carrer de la Boqueria, 23--08002 Barcelona--Spain\n",
      "Rafaelhoteles Badalona Avinguda de Navarra 6-8--08911 Badalona--Spain\n",
      "Ayre Hotel Rosellón Carrer del Roselló, 390--08025 Barcelona--Spain\n",
      "Andante Hotel Av. de les Drassanes 23-25--08001 Barcelona--Spain\n",
      "Gaudi Hotel Barcelona Calle NOU de la Rambla, 12--08001 Barcelona--Spain\n",
      "H10 Catalunya Plaza Plaça de Catalunya, 7--08002 Barcelona--Spain\n",
      "Siresa Europea Calle Roger de Lluria, 118--08037 Barcelona--Spain\n",
      "Gotico Hotel Calle Jaume I, 14--08002 Barcelona--Spain\n",
      "Majestic Residence Passeig de Gracia, 69--08008 Barcelona--Spain\n",
      "Hotel Catalonia Park Guell Paseo Mare de deu del Coll, 10--08023 Barcelona--Spain\n",
      "Nobu Hotel Barcelona Av. de Roma, 2-4--08014 Barcelona--Spain\n",
      "Royal Ramblas Hotel 117 La Rambla--08002 Barcelona--Spain\n",
      "H10 Casa Mimosa Carrer de Pau Claris, 179--08037 Barcelona--Spain\n",
      "Praktik Rambla Rambla de Catalunya, 27--08007 Barcelona--Spain\n",
      "Constanza Carrer del Bruc, 42--08010 Barcelona--Spain\n",
      "Hotel Occidental Atenea Mar Passeig García i Faria, 37-47--08019 Barcelona--Spain\n",
      "Olivia Plaza Hotel Placa de Catalunya, 19--08002 Barcelona--Spain\n",
      "Barcelona Nouvel Hotel Calle Santa Ana 18-20--08002 Barcelona--Spain\n",
      "Ayre Hotel Caspe Caspe 103--08013 Barcelona--Spain\n",
      "Avenida Palace Calle Gran Via de Les Corts Catalanes, 605--08007 Barcelona--Spain\n",
      "The Mirror Hotel Carrer de Còrsega, 255--08036 Barcelona--Spain\n",
      "Equity Point Centric Passeig de Gracia, 33--08007 Barcelona--Spain\n",
      "Hotel Medium Prisma Avenida Josep Tarradellas 119-121--08029 Barcelona--Spain\n",
      "Hotel Curious Carrer Carme, 25--08001 Barcelona--Spain\n",
      "Hotel Lleó Carrer de Pelai, 22--08001 Barcelona--Spain\n",
      "Le Palacete Carrer de la Legalitat, 10--08024 Barcelona--Spain\n",
      "Hotel Catalonia 505 Carrer de Muntaner, 505--08022 Barcelona--Spain\n",
      "Ramblas 108 La Rambla, 108--08002 Barcelona--Spain\n",
      "Hotel Regencia Colon Carrer Sagristans, 13/17--08002 Barcelona--Spain\n",
      "Hotel Del Mar Plaça Palau, 19--08002 Barcelona--Spain\n",
      "Room Mate Pau Hotel Carrer Fontanella, 7--08010 Barcelona--Spain\n",
      "Alimara Carrer de Berruguete, 126--08035 Barcelona--Spain\n",
      "Hotel Catalonia Diagonal Centro Carrer de Balmes, 142--08008 Barcelona--Spain\n",
      "Park Hotel Avinguda del Marquès de l'Argentera, 11--08003 Barcelona--Spain\n",
      "Hotel Crowne Plaza Fira Center Avinguda Rius i Taulet, 1-3--08004 Barcelona--Spain\n",
      "AC Hotel by Marriott Barcelona Forum Paseo Taulat 278--08019 Barcelona--Spain\n",
      "Hotel 54 Barceloneta Passeig Joan de Borbo, 54--08003 Barcelona--Spain\n",
      "Hotel Balmes Carrer de Mallorca, 216--08008 Barcelona--Spain\n",
      "Jorsu Catalana Calle Ausias Marc, 109--08013 Barcelona--Spain\n",
      "Senator Barcelona Carrer Cardenal Reig, 11--08028 Barcelona--Spain\n",
      "Gaudí 12 Carrer Nou de la Rambla--08001 Barcelona--Spain\n",
      "Ibis Carrer de la Ciutat de Granada, 99--08018 Barcelona--Spain\n",
      "The Corner Hotel Carrer de Mallorca, 178--08036 Barcelona--Spain\n",
      "Hotel Nouvel Santa Ana 20--08002 Barcelona--Spain\n",
      "Motel One Passeig de Pujades, 11--08018 Barcelona--Spain\n",
      "Campanile Barcelona Sud-Cornella Avenida del Maresme, 7--08940 Cornellà de Llobregat--Spain\n",
      "Royal Passeig de Gracia, 84--08008 Barcelona--Spain\n",
      "Monument Hotel Passeig de Gràcia, 75--08008 Barcelona--Spain\n",
      "Room Mate Anna Hotel Carrer d'Aragó, 271--08007 Barcelona--Spain\n",
      "Hotel Acta Splendid Calle Muntaner 2--08011 Barcelona--Spain\n",
      "NH Constanza Carrer de Deu i Mata, 69--08029 Barcelona--Spain\n",
      "AC Hotel by Marriott Sants Passeig de Sant Antoni, 36-40--08014 Barcelona--Spain\n",
      "hotels barcelona spain Barcelona--08001 Barcelona--Spain\n",
      "Soho Barcelona Gran Via de les Corts Catalanes, 543--08011 Barcelona--Spain\n",
      "Hostalin Barcelona Carrer de la Diputació, 346--08013 Barcelona--Spain\n",
      "Casa Marcelo Carrer Reva Palau, 2--08003 Barcelona--Spain\n",
      "AC Hotel by Marriott Victoria Suites Carrer Beltran i Rozpide, 7--08034 Barcelona--Spain\n",
      "Colors Campoamor 79--08031 Barcelona--Spain\n",
      "Hesperia Presidente Avinguda Diagonal 570--08021 Barcelona--Spain\n",
      "Hotel Miramar Plaça Carlos Ibanez, 3--08038 Barcelona--Spain\n",
      "Hotel Medicis Carrer de Castillejos, 340--08025 Barcelona--Spain\n",
      "Hotel NH Porta Barcelona Avinguda Generalitat de Catalunya, 2--08960 Sant Just Desvern--Spain\n",
      "Hotel Ciutadella Barcelona Avinguda del Marquès de l'Argentera, 4--08003 Barcelona--Spain\n",
      "St. Christopher’s Inn \n",
      "B Hotel Gran Via de les Corts Catalanes, 389-391--08015 Barcelona--Spain\n",
      "Catalonia Barcelona Golf \n",
      "Mihlton \n",
      "Ilunion Almirante \n",
      "Hotel Peninsular \n",
      "Banys Oriental \n",
      "Hotel Capri by Fraser \n",
      "Hotel Granados 83 \n",
      "Hotel Oasis \n",
      "Ámister Art Hotel \n",
      "Hotel Regina \n",
      "Silken Concordia \n",
      "H10 Art Gallery \n",
      "Gran Hotel Havana \n",
      "AC Hotel by Marriott Som \n",
      "Hotel Ciutat Barcelona \n",
      "Tryp Apolo Hotel \n",
      "Franquesa Malaguti \n",
      "Petit Palace Boqueria Garden \n",
      "Hotel Casa Camper \n",
      "Holiday Inn Express \n",
      "Siete Cero DOS Limpiezas Gestionadas \n",
      "Hotel Apsis Porta Marina \n",
      "Hotel Catalonia \n",
      "Banquetes Reunidos \n",
      "Chic&Basic Velvet Carrer del Consell de Cent, 74--08015 Barcelona--Spain\n",
      "Hotel Catalonia Plaza Catalunya Carrer de Bergara, 11--08002 Barcelona--Spain\n",
      "Omnium Carrer del Bruc, 42--08010 Barcelona--Spain\n",
      "Ibis Styles Carrer de Provença, 340--08037 Barcelona--Spain\n",
      "Patacolls RO San Pere, 0024--08010 Barcelona--Spain\n",
      "Hotel Fira Congress Carrer de Jose Augustin Goytisolo, 9-11--08908 Hospitalet de Llobregat--Spain\n",
      "ANBA Bed And Breakfast Ronda de Sant Pere, 27--08010 Barcelona--Spain\n",
      "Chic & Basic Lemon Boutique Carrer de Pelai, 6--08001 Barcelona--Spain\n",
      "Tres Torres Atiram Carrer de Calatrava, 32--08017 Barcelona--Spain\n",
      "Abba Rambla Rambla del Raval, 4C--08001 Barcelona--Spain\n",
      "H10 Montcada Via Laietana, 24--08003 Barcelona--Spain\n",
      "Almanac Gran Via de les Corts Catalanes, 619--08007 Barcelona--Spain\n",
      "Hotel Denit Carrer d'Estruc, 24 - 26--08002 Barcelona--Spain\n",
      "Hotel Midmost Carrer Pelai, 14--08001 Barcelona--Spain\n",
      "Hotel Front Maritim Passeig García i Faria, 69-71--08019 Barcelona--Spain\n",
      "Hotel Granvía Gran Vía de les Corts Catalanes, 642--08007 Barcelona--Spain\n",
      "roig cerrudo,ana 000950091r slne Calle Salva, 78--08004 Barcelona--Spain\n",
      "Sabor Intens Plaza Llibertat, 1--08012 Barcelona--Spain\n",
      "Aparthotel Silver Carrer de Bretón de los Herreros, 26--08012 Barcelona--Spain\n",
      "Acta BCN 40 c/ Joaquin Costa 40--08001 Barcelona--Spain\n",
      "OD Barcelona Carrer d'Aragó, 300--08009 Barcelona--Spain\n",
      "Pullman Avinguda del Litoral, 10--08005 Barcelona--Spain\n",
      "Hotel NH Barcelona Entenza Carrer de l'Equador, 20--08029 Barcelona--Spain\n",
      "Hoteles Solvasa Plaza Dr. Letamendi 37--08007 Barcelona--Spain\n",
      "Hotel Ibis Avinguda de la Pallaresa, 73--08921 Santa Coloma de Gramenet--Spain\n",
      "Fairmont Rey Juan Carlos I Avinguda Diagonal, 661--08028 Barcelona--Spain\n",
      "Intown Europe Calle Carders, 6--08003 Barcelona--Spain\n",
      "Rey Don Jaime I C Jaume I, 11--08002 Barcelona--Spain\n",
      "Vincci Gala 4 Ronda Sant Pere, 32--08010 Barcelona--Spain\n",
      "Acta Mimic C/ Arc del Teatre 58--08001 Barcelona--Spain\n",
      "Marin Gonzalez Gabriel Calle Corsega, 200--08036 Barcelona--Spain\n",
      "Hotel America Calle ProvenÇa 195--08008 Barcelona--Spain\n",
      "Hotel Abba Garden Carrer de Santa Rosa, 33--08950 Barcelona--Spain\n",
      "Hotel Catalonia Portal de l’Angel Portal de l'Àngel,17--08002 Barcelona--Spain\n",
      "City Park Hotel Sant Just Carretera Reial A 0--08960 Sant Just Desvern--Spain\n",
      "Mercer Hoteles Calle Boria, 24--08003 Barcelona--Spain\n",
      "Hotel Reding Calle Gravina, 5--08001 Barcelona--Spain\n",
      "Four Points by Sheraton Barcelona Diagonal Avenida Diagonal, 161--08018 Barcelona--Spain\n",
      "Hotel Apsis Sant Angelo Consejo de Ciento 74--08015 Barcelona--Spain\n",
      "ABaC Hotel Avinguda del Tibidabo, 1--08022 Barcelona--Spain\n",
      "Hotel Nuñez Urgel Comte D’urgell, 232 C Comte D'urgell, 232--08036 Barcelona--Spain\n",
      "Silken Sant Gervasi Carrer Sant Gervasi de Cassoles, 26--08022 Barcelona--Spain\n",
      "Wilson Avinguda Diagonal, 568--08021 Barcelona--Spain\n",
      "Hostemplo Paseo Mallorca, 362--08013 Barcelona--Spain\n",
      "Gestion Hotelera Ballester C Valencia, 154--08011 Barcelona--Spain\n",
      "Hotel Pelayo Calle Pelai, 9 - 1 1--08001 Barcelona--Spain\n",
      "Sunotel BCN Calle Gran VIA de LES Corts Catalanes, 570--08011 Barcelona--Spain\n",
      "Two Hotel Carrer de Calàbria, 90-92--08015 Barcelona--Spain\n",
      "Ibis Barcelona Centro Carrer Napoles, 230--08013 Barcelona--Spain\n",
      "Ficfrei Paseo Pujades, 17--08018 Barcelona--Spain\n",
      "H10 Cubik Via Laietana, 69--08003 Barcelona--Spain\n",
      "Fedasosa Calle Maladeta, 51--08950 Esplugues De Llobregat--Spain\n",
      "Hotel Advance Calle de Sepúlveda 180--08011 Barcelona--Spain\n",
      "Praktik Garden Carrer de la Diputació, 325--08009 Barcelona--Spain\n",
      "Hotel Barcelona House Carrer Escudellers, 19--08002 Barcelona--Spain\n",
      "Hotel NH Barcelona Les Corts Travessera de les Corts, 292--08029 Barcelona--Spain\n",
      "Well and Come Carrer de Girona, 168--08037 Barcelona--Spain\n",
      "Hotel La Casa del Sol Plaça del Sol, 23--08012 Barcelona--Spain\n",
      "Meliá Barcelona Avinguda de Sarrià, 50--08029 Barcelona--Spain\n",
      "Hotel Del Compte Calle Diputacio, 142 - 144--08015 Barcelona--Spain\n",
      "NH Eixample Carrer de València, 105-107--08011 Barcelona--Spain\n",
      "HCC Montblanc Via Laietana, 61--08003 Barcelona--Spain\n",
      "Hotel Bagués La Rambla, 105--08002 Barcelona--Spain\n",
      "Hotel Porta Fira Plaza Europa, 45--08908 Hospitalet de Llobregat--Spain\n",
      "Santa Marta Carrer del General Castaños, 14--08003 Barcelona--Spain\n",
      "Petit Palace Museum Carrer de la Diputació, 250--08007 Barcelona--Spain\n",
      "Holiday Inn Express.1 Carrer de Pallars, 203--08005 Barcelona--Spain\n",
      "Siete Cero DOS Limpiezas Gestionadas.1 Calle Sepulveda, 143--08011 Barcelona--Spain\n",
      "Hotel Apsis Porta Marina.1 C. / Sancho de Avila, 32-34--08018 Barcelona--Spain\n",
      "Hotel Catalonia.1 Carrer de Pelai, 28--08001 Barcelona--Spain\n",
      "Banquetes Reunidos.1 Ronda General Mitre, 39--08017 Barcelona--Spain\n",
      "Fonda Espanya Carrer de Sant Pau, 9--08001 Barcelona--Spain\n",
      "Exe Laietana Palace Via Laietana, 17--08003 Barcelona--Spain\n",
      "Hotel H10 Plaça d'Urquinaona, 2--08010 Barcelona--Spain\n",
      "H10 Metropolitan Rambla de Catalunya, 7-9--08007 Barcelona--Spain\n",
      "Hotel Ohla Eixample Carrer de Còrsega, 289--08008 Barcelona--Spain\n",
      "St. Christopher’s Inn.1 Carrer de Bergara, 3--08002 Barcelona--Spain\n",
      "Silken Concordia.1 Avinguda del Parallel, 115,--08004 Barcelona--Spain\n",
      "H10 Art Gallery.1 Carrer de Enric Granados, 62--08008 Barcelona--Spain\n",
      "Gran Hotel Havana.1 Gran Via de les Corts Catalanes, 647--08010 Barcelona--Spain\n",
      "AC Hotel by Marriott Som.1 Carrer Arquitectura, 1-3--08908 L'Hospitalet de Llobregat--Spain\n",
      "Hotel Ciutat Barcelona.1 Carrer de la Princesa, 33-35--08003 Barcelona--Spain\n",
      "Tryp Apolo Hotel.1 Avinguda del Paraŀlel, 57-59--08004 Barcelona--Spain\n",
      "Franquesa Malaguti.1 Calle Bailen, 13--08010 Barcelona--Spain\n",
      "Petit Palace Boqueria Garden.1 Carrer de la Boqueria, 10--08002 Barcelona--Spain\n",
      "Hotel Casa Camper.1 Carrer d'Elisabets, 11--08001 Barcelona--Spain\n",
      "Catalonia Barcelona Golf.1 Travessera de Gràcia, 72--08006 Barcelona--Spain\n",
      "Mihlton.1 Carrer del Rosselló, 231--08008 Barcelona--Spain\n",
      "Ilunion Almirante.1 C/Via Laietana 42--08003 Barcelona--Spain\n",
      "Hotel Peninsular.1 Carrer de Sant Pau 34--08001 Barcelona--Spain\n",
      "Banys Oriental.1 Carrer de l'Argenteria, 37--08028 Barcelona--Spain\n",
      "Hotel Capri by Fraser.1 Carrer de Sancho de Ávila, 34--08018 Barcelona--Spain\n",
      "Hotel Granados 83.1 Carrer d' Enric Granados, 83--08008 Barcelona--Spain\n",
      "Hotel Oasis.1 Llanura del Palau 17--08003 Barcelona--Spain\n",
      "Ámister Art Hotel.1 Avinguda de Roma, 93-95--08029 Barcelona--Spain\n",
      "Hotel Regina.1 Carrer Bergara, 4--08002 Barcelona--Spain\n"
     ]
    }
   ],
   "source": [
    "for n, loc in zip(hotel_soup2.index, location):\n",
    "    print(n,loc)"
   ]
  },
  {
   "cell_type": "markdown",
   "metadata": {},
   "source": [
    "#### Website"
   ]
  },
  {
   "cell_type": "code",
   "execution_count": 31,
   "metadata": {},
   "outputs": [],
   "source": [
    "#### Website\n",
    "website = []\n",
    "for row in hotel_soup2:\n",
    "    soup = BeautifulSoup(row, 'html.parser')\n",
    "    result = soup.select_one('.css-na3oda+ .css-1p9ibgf .css-1um3nx')\n",
    "    # for tag in result:\n",
    "    if result is not None:\n",
    "        website.append( result.text ) \n",
    "\n",
    "    else:\n",
    "        website.append(np.nan)\n",
    "\n"
   ]
  },
  {
   "cell_type": "code",
   "execution_count": 32,
   "metadata": {},
   "outputs": [
    {
     "name": "stdout",
     "output_type": "stream",
     "text": [
      "Barceló Raval https://www.barcelo.com/es\n",
      "Hotel 1898 http://www.hotel1898.com\n",
      "W Barcelona https://www.marriott.com/hotel…\n",
      "Hotel Continental Barcelona https://www.hotelcontinental.c…\n",
      "Pulitzer Barcelona http://www.hotelpulitzer.es\n",
      "Le Méridien Barcelona https://www.marriott.com/hotel…\n",
      "Hotel Cotton House http://www.hotelcottonhouse.co…\n",
      "Hotel Ayre Roselon http://www.ayrehoteles.com\n",
      "Hotel Majestic http://www.hotelmajestic.es\n",
      "Renaissance Barcelona Hotel https://www.marriott.com/hotel…\n",
      "Villa Emilia https://www.hotelvillaemilia.c…\n",
      "Hotel Arts Barcelona https://www.ritzcarlton.com/en…\n",
      "Mandarin Oriental http://www.mandarinoriental.es…\n",
      "Hotel Jazz http://www.hoteljazz.com/\n",
      "K+K Hotel Picasso Barcelona http://www.kkhotels.com/picass…\n",
      "Hotel Europark http://www.hoteleuropark.com\n",
      "Grand Hotel Central http://www.grandhotelcentral.c…\n",
      "Hotel Barcelona 1882 http://www.hotelbarcelona1882.…\n",
      "Alma Barcelona http://www.almabarcelona.com\n",
      "Novotel Barcelona City http://www.novotel.com/gb/hote…\n",
      "Casa Fuster http://www.hotelcasafuster.com\n",
      "The Barcelona EDITION https://www.marriott.com/hotel…\n",
      "Hotel Barcelona Universal http://www.hotelbarcelonaunive…\n",
      "Hotel NH Collection Barcelona Gran Hotel Calderón https://www.nh-hotels.com\n",
      "H10 Madison https://www.h10hotels.com/es/h…\n",
      "Claris http://www.hotelclaris.com/\n",
      "Alexandra Barcelona Hotel https://curiocollection3.hilto…\n",
      "Hilton Barcelona Hotel http://www.barcelona.hilton.co…\n",
      "Hotel Duquesa de Cardona http://www.hduquesadecardona.c…\n",
      "Hotel Mercer http://www.mercerbarcelona.com\n",
      "Casa Bonay http://casabonay.com\n",
      "El Palace http://hotelpalacebarcelona.co…\n",
      "Hotel Praktik http://hotelpraktikbakery.com/…\n",
      "Hotel U232 http://www.u232hotel.com\n",
      "Soho House https://www.sohohouse.com/hous…\n",
      "Hotel Catalonia Born http://www.hoteles-catalonia.c…\n",
      "Hotel Condes de Barcelona https://www.condesdebarcelona.…\n",
      "Hotel Sofia https://sofiabarcelona.com/es/\n",
      "Olivia Balmes http://www.oliviabalmeshotel.e…\n",
      "Colonial http://www.hotelcolonialbarcel…\n",
      "Best Western Premier Hotel Dante http://www.bestwesterndante.co…\n",
      "Arc la Rambla http://www.hotelarclarambla.co…\n",
      "Vividora https://www.kimptonvividorahot…\n",
      "Hotel Colón http://www.hotelcolon.es\n",
      "H10 Port Vell http://www.h10hotels.com\n",
      "Barcelona Airport Hotel nan\n",
      "Hotel España Ramblas https://www.hotelespanya.com\n",
      "Hotel Ohla http://www.ohlahotel.com/\n",
      "AC Hotel Diagonal L’iIlla http://achotels.marriott.com\n",
      "The Wittmore http://www.thewittmore.com\n",
      "Hilton Diagonal Mar http://www3.hilton.com\n",
      "The One http://hotelstheone.com\n",
      "Hotel Catalonia Port http://www.hoteles-catalonia.c…\n",
      "Hotel Barcelona Catedral http://www.barcelonacatedral.c…\n",
      "The Serras http://www.hoteltheserrasbarce…\n",
      "Sir Victor Hotel http://www.sirhotels.com/en/vi…\n",
      "Room Mate Carla Hotel https://room-matehotels.com/en…\n",
      "Gallery Hotel https://www.warwickhotels.com/…\n",
      "Iberostar Selection Paseo de Gracia https://www.iberostar.com\n",
      "Hostal Grau Barcelona http://www.hostalgrau.com\n",
      "Renaissance Barcelona Fira Hotel http://www.marriott.com/hotels…\n",
      "Do http://www.hoteldoreial.es\n",
      "AC Hotel by Marriott Irla http://www.espanol.marriott.co…\n",
      "Axel nan\n",
      "Hotel Sagrada Familia http://www.hotelsagradafamilia…\n",
      "Hotel Turin http://www.hotelturin.com\n",
      "Hotel NH Collection Barcelona Pódium https://www.nh-hotels.com\n",
      "Eurostars Grand Marina http://www.grandmarinahotel.co…\n",
      "Neri http://www.hotelneri.com\n",
      "Millenni http://www.hotel-millennibarce…\n",
      "Hotel Cram http://www.hotelcram.com/\n",
      "Sallés Hotel http://www.salleshotels.com/\n",
      "Hotel Catalonia Eixample 1864 nan\n",
      "Hotel Sixty Two http://www.sixtytwohotel.com/e…\n",
      "Hotel Condal http://www.hotelcondal.es\n",
      "Rafaelhoteles Badalona http://www.booking.com/hotel/e…\n",
      "Ayre Hotel Rosellón http://www.ayrehoteles.com/\n",
      "Andante Hotel http://www.andantehotel.com/es…\n",
      "Gaudi Hotel Barcelona nan\n",
      "H10 Catalunya Plaza https://www.h10hotels.com\n",
      "Siresa Europea nan\n",
      "Gotico Hotel http://www.gargallohotels.es\n",
      "Majestic Residence http://www.majesticresidence.e…\n",
      "Hotel Catalonia Park Guell http://www.hoteles-catalonia.c…\n",
      "Nobu Hotel Barcelona https://barcelona.nobuhotels.c…\n",
      "Royal Ramblas Hotel http://www.royalramblashotel.c…\n",
      "H10 Casa Mimosa https://www.h10hotels.com/en\n",
      "Praktik Rambla http://www.hotelpraktikrambla.…\n",
      "Constanza http://www.hotelconstanza.com/\n",
      "Hotel Occidental Atenea Mar https://www.barcelo.com/es/occ…\n",
      "Olivia Plaza Hotel http://www.oliviaplazahotel.es\n",
      "Barcelona Nouvel Hotel http://www.barcelona-hotels-di…\n",
      "Ayre Hotel Caspe http://www.ayrehoteles.com\n",
      "Avenida Palace http://www.avenidapalace.com\n",
      "The Mirror Hotel http://www.themirrorbarcelona.…\n",
      "Equity Point Centric nan\n",
      "Hotel Medium Prisma https://www.mediumhoteles.com/…\n",
      "Hotel Curious http://www.hotelcurious.com\n",
      "Hotel Lleó http://www.hotel-lleo.com\n",
      "Le Palacete https://lepalacete.com\n",
      "Hotel Catalonia 505 https://www.cataloniahotels.co…\n",
      "Ramblas 108 http://www.apart-ramblas108.co…\n",
      "Hotel Regencia Colon http://www.hotelregenciacolon.…\n",
      "Hotel Del Mar http://www.gargallohotels.es\n",
      "Room Mate Pau Hotel https://room-matehotels.com/en…\n",
      "Alimara http://www.alimarahotel.com\n",
      "Hotel Catalonia Diagonal Centro http://www.hoteles-catalonia.c…\n",
      "Park Hotel http://www.parkhotelbarcelona.…\n",
      "Hotel Crowne Plaza Fira Center http://www.crowneplazabarcelon…\n",
      "AC Hotel by Marriott Barcelona Forum http://www.espanol.marriott.co…\n",
      "Hotel 54 Barceloneta nan\n",
      "Hotel Balmes http://www.hotelbalmes.com\n",
      "Jorsu Catalana nan\n",
      "Senator Barcelona http://www.senatorbarcelonaspa…\n",
      "Gaudí http://www.hotelgaudi.es\n",
      "Ibis http://www.ibis.com/gb/hotel-5…\n",
      "The Corner Hotel http://www.thecornerhotel-barc…\n",
      "Hotel Nouvel http://www.hotelnouvel.com\n",
      "Motel One http://www.motel-one.com/Hotel…\n",
      "Campanile Barcelona Sud-Cornella nan\n",
      "Royal http://www.royalpasseigdegraci…\n",
      "Monument Hotel https://www.monumenthotel.com\n",
      "Room Mate Anna Hotel https://room-matehotels.com/es…\n",
      "Hotel Acta Splendid http://www.hotel-splendidbarce…\n",
      "NH Constanza http://www.nh-collection.com/e…\n",
      "AC Hotel by Marriott Sants http://www.espanol.marriott.co…\n",
      "hotels barcelona spain nan\n",
      "Soho Barcelona http://www.hotelsohobarcelona.…\n",
      "Hostalin Barcelona nan\n",
      "Casa Marcelo http://www.casamarcelobarcelon…\n",
      "AC Hotel by Marriott Victoria Suites http://www.victoriabcn.com\n",
      "Colors http://www.hotelcolors.com\n",
      "Hesperia Presidente http://www.hesperia.es\n",
      "Hotel Miramar http://hotelmiramarbarcelona.c…\n",
      "Hotel Medicis http://www.medicis-hotel.com\n",
      "Hotel NH Porta Barcelona https://www.nh-hotels.com\n",
      "Hotel Ciutadella Barcelona http://www.gargallohotels.es/\n",
      "St. Christopher’s Inn nan\n",
      "B Hotel http://www.b-hotel.com/\n",
      "Catalonia Barcelona Golf nan\n",
      "Mihlton nan\n",
      "Ilunion Almirante nan\n",
      "Hotel Peninsular nan\n",
      "Banys Oriental nan\n",
      "Hotel Capri by Fraser nan\n",
      "Hotel Granados 83 nan\n",
      "Hotel Oasis nan\n",
      "Ámister Art Hotel nan\n",
      "Hotel Regina nan\n",
      "Silken Concordia nan\n",
      "H10 Art Gallery nan\n",
      "Gran Hotel Havana nan\n",
      "AC Hotel by Marriott Som nan\n",
      "Hotel Ciutat Barcelona nan\n",
      "Tryp Apolo Hotel nan\n",
      "Franquesa Malaguti nan\n",
      "Petit Palace Boqueria Garden nan\n",
      "Hotel Casa Camper nan\n",
      "Holiday Inn Express nan\n",
      "Siete Cero DOS Limpiezas Gestionadas nan\n",
      "Hotel Apsis Porta Marina nan\n",
      "Hotel Catalonia nan\n",
      "Banquetes Reunidos nan\n",
      "Chic&Basic Velvet https://www.chicandbasic.com\n",
      "Hotel Catalonia Plaza Catalunya http://www.hoteles-catalonia.c…\n",
      "Omnium http://hotelomnium.com\n",
      "Ibis Styles http://www.ibis.com/es\n",
      "Patacolls nan\n",
      "Hotel Fira Congress nan\n",
      "ANBA Bed And Breakfast http://www.anba.es\n",
      "Chic & Basic Lemon Boutique https://www.chicandbasic.com/e…\n",
      "Tres Torres Atiram http://www.atiramhotels.com/ho…\n",
      "Abba Rambla http://www.abbaramblahotel.com\n",
      "H10 Montcada http://www.hotelh10montcada.co…\n",
      "Almanac http://www.almanachotels.com/b…\n",
      "Hotel Denit http://www.denit.com\n",
      "Hotel Midmost https://www.hotelmidmost.com\n",
      "Hotel Front Maritim http://www.hotelfrontmaritim.c…\n",
      "Hotel Granvía http://www.hotelgranvia.com\n",
      "roig cerrudo,ana 000950091r slne nan\n",
      "Sabor Intens nan\n",
      "Aparthotel Silver http://www.hotelsilver.com\n",
      "Acta BCN 40 http://www.hotel-bcn40barcelon…\n",
      "OD Barcelona http://www.odbarcelona.com\n",
      "Pullman http://www.pullman-barcelona-s…\n",
      "Hotel NH Barcelona Entenza https://www.nh-hotels.com/hote…\n",
      "Hoteles Solvasa http://www.solvasa.com/\n",
      "Hotel Ibis http://www.ibishotels.com\n",
      "Fairmont Rey Juan Carlos I http://www.fairmont.com/barcel…\n",
      "Intown Europe nan\n",
      "Rey Don Jaime I nan\n",
      "Vincci Gala 4 http://www.vinccihoteles.com/g…\n",
      "Acta Mimic http://www.hotel-mimic.com\n",
      "Marin Gonzalez Gabriel nan\n",
      "Hotel America nan\n",
      "Hotel Abba Garden https://www.abbagardenhotel.co…\n",
      "Hotel Catalonia Portal de l’Angel http://www.hoteles-catalonia.c…\n",
      "City Park Hotel Sant Just http://www.booking.com/hotel/e…\n",
      "Mercer Hoteles http://www.boriabcn.com\n",
      "Hotel Reding http://www.occidental-hoteles.…\n",
      "Four Points by Sheraton Barcelona Diagonal http://www.fourpointsbarcelona…\n",
      "Hotel Apsis Sant Angelo http://www.hotel-santangelo.co…\n",
      "ABaC Hotel http://www.abacbarcelona.com/\n",
      "Hotel Nuñez Urgel Comte D’urgell, 232 http://www.nnhotels.com\n",
      "Silken Sant Gervasi http://www.hoteles-silken.com/…\n",
      "Wilson http://www.wilsonbcn.com/\n",
      "Hostemplo http://www.hostemplo.com/en/su…\n",
      "Gestion Hotelera Ballester http://www.hotelcenturypark.co…\n",
      "Hotel Pelayo http://www.hotelpelayo.com\n",
      "Sunotel BCN nan\n",
      "Two Hotel http://www.axelhotels.com\n",
      "Ibis Barcelona Centro http://www.ibis.com/frm_fiche_…\n",
      "Ficfrei nan\n",
      "H10 Cubik https://www.h10hotels.com/es/h…\n",
      "Fedasosa nan\n",
      "Hotel Advance http://www.hotel-advance.com\n",
      "Praktik Garden http://www.hotelpraktikgarden.…\n",
      "Hotel Barcelona House nan\n",
      "Hotel NH Barcelona Les Corts https://www.nh-hotels.com\n",
      "Well and Come https://hotelwellandcome.com\n",
      "Hotel La Casa del Sol http://hotellacasadelsol.com\n",
      "Meliá Barcelona http://www.melia.com\n",
      "Hotel Del Compte nan\n",
      "NH Eixample http://www.nh-hotels.com/hotel…\n",
      "HCC Montblanc http://www.hcchotels.es/\n",
      "Hotel Bagués http://www.hotelbagues.com\n",
      "Hotel Porta Fira http://hotelbarcelonaportafira…\n",
      "Santa Marta http://www.hotelsantamartabcn.…\n",
      "Petit Palace Museum http://en.petitpalacemuseumbar…\n",
      "Holiday Inn Express.1 http://www.ihg.com/holidayinne…\n",
      "Siete Cero DOS Limpiezas Gestionadas.1 http://www.cateringsabora.com\n",
      "Hotel Apsis Porta Marina.1 http://www.hotel-portamarina.c…\n",
      "Hotel Catalonia.1 http://www.hoteles-catalonia.c…\n",
      "Banquetes Reunidos.1 http://www.pratsfatjo.com\n",
      "Fonda Espanya http://hotelespanya.com\n",
      "Exe Laietana Palace https://www.exehotels.com/exe-…\n",
      "Hotel H10 http://www.h10hotels.com\n",
      "H10 Metropolitan https://www.h10hotels.com/en/b…\n",
      "Hotel Ohla Eixample http://www.ohlaeixample.com\n",
      "St. Christopher’s Inn.1 http://www.st-christophers.co.…\n",
      "Silken Concordia.1 nan\n",
      "H10 Art Gallery.1 https://www.h10hotels.com/en\n",
      "Gran Hotel Havana.1 http://www.granhotelhavana.com\n",
      "AC Hotel by Marriott Som.1 http://www.marriott.com/hotels…\n",
      "Hotel Ciutat Barcelona.1 http://www.ciutatbarcelona.com\n",
      "Tryp Apolo Hotel.1 https://www.melia.com/es/hotel…\n",
      "Franquesa Malaguti.1 nan\n",
      "Petit Palace Boqueria Garden.1 http://www.petitpalaceboqueria…\n",
      "Hotel Casa Camper.1 http://www.casacamper.com\n",
      "Catalonia Barcelona Golf.1 http://www.hoteles-catalonia.c…\n",
      "Mihlton.1 http://www.mihltonbarcelona.co…\n",
      "Ilunion Almirante.1 http://www.confortelhoteles.co…\n",
      "Hotel Peninsular.1 http://www.hotelpeninsular.net…\n",
      "Banys Oriental.1 nan\n",
      "Hotel Capri by Fraser.1 http://barcelona.capribyfraser…\n",
      "Hotel Granados 83.1 http://www.hotelgranados83.com\n",
      "Hotel Oasis.1 nan\n",
      "Ámister Art Hotel.1 http://www.hotelamister.com\n",
      "Hotel Regina.1 http://www.reginahotel.com/ind…\n"
     ]
    }
   ],
   "source": [
    "for n, web in zip(hotel_soup2.index, website):\n",
    "    print(n,web)"
   ]
  },
  {
   "cell_type": "markdown",
   "metadata": {},
   "source": [
    "#### Number of photos"
   ]
  },
  {
   "cell_type": "code",
   "execution_count": 131,
   "metadata": {},
   "outputs": [],
   "source": [
    "#### Number of photos\n",
    "nb_photos = []\n",
    "photo_header_class = 'photo-header-content-container__09f24__jDLBB border-color--default__09f24__NPAKY'\n",
    "for row in hotel_soup2:\n",
    "    soup = BeautifulSoup(row, 'html.parser')\n",
    "    photo_header = soup.find(class_ = photo_header_class)\n",
    "    if photo_header is not None:\n",
    "\n",
    "        nb_photos.append(  pd.Series(photo_header.text).str.extract(r'See (\\d+) photos').squeeze()  )\n",
    "        # print('-'*100)\n",
    "\n",
    "    else:\n",
    "        nb_photos.append(np.nan)\n",
    "    \n",
    "\n"
   ]
  },
  {
   "cell_type": "code",
   "execution_count": null,
   "metadata": {},
   "outputs": [],
   "source": [
    "for n, photo in zip(hotel_soup2.index, nb_photos):\n",
    "    print(n, photo)"
   ]
  },
  {
   "cell_type": "markdown",
   "metadata": {},
   "source": [
    "#### Opening hours\n",
    "Most of the hotels open 24 hours...so opening hours would not be helpful here\n",
    "We can skip it for now"
   ]
  },
  {
   "cell_type": "markdown",
   "metadata": {},
   "source": [
    "#### Amenities"
   ]
  },
  {
   "cell_type": "markdown",
   "metadata": {},
   "source": [
    "#### Hotel dataset"
   ]
  },
  {
   "cell_type": "code",
   "execution_count": 158,
   "metadata": {},
   "outputs": [],
   "source": [
    "# Elements from first page\n",
    "hotel_df = pd.DataFrame({'name':name, 'rating':rating, 'reviews': reviews, 'price_range': price_range})"
   ]
  },
  {
   "cell_type": "code",
   "execution_count": 159,
   "metadata": {},
   "outputs": [
    {
     "data": {
      "text/html": [
       "<div>\n",
       "<style scoped>\n",
       "    .dataframe tbody tr th:only-of-type {\n",
       "        vertical-align: middle;\n",
       "    }\n",
       "\n",
       "    .dataframe tbody tr th {\n",
       "        vertical-align: top;\n",
       "    }\n",
       "\n",
       "    .dataframe thead th {\n",
       "        text-align: right;\n",
       "    }\n",
       "</style>\n",
       "<table border=\"1\" class=\"dataframe\">\n",
       "  <thead>\n",
       "    <tr style=\"text-align: right;\">\n",
       "      <th></th>\n",
       "      <th>name</th>\n",
       "      <th>rating</th>\n",
       "      <th>reviews</th>\n",
       "      <th>price_range</th>\n",
       "    </tr>\n",
       "  </thead>\n",
       "  <tbody>\n",
       "    <tr>\n",
       "      <th>0</th>\n",
       "      <td>Barceló Raval</td>\n",
       "      <td>4.5</td>\n",
       "      <td>56</td>\n",
       "      <td>€€</td>\n",
       "    </tr>\n",
       "    <tr>\n",
       "      <th>1</th>\n",
       "      <td>Hotel 1898</td>\n",
       "      <td>4.5</td>\n",
       "      <td>76</td>\n",
       "      <td>€€€</td>\n",
       "    </tr>\n",
       "    <tr>\n",
       "      <th>2</th>\n",
       "      <td>W Barcelona</td>\n",
       "      <td>4</td>\n",
       "      <td>176</td>\n",
       "      <td>€€€€</td>\n",
       "    </tr>\n",
       "    <tr>\n",
       "      <th>3</th>\n",
       "      <td>Hotel Continental Barcelona</td>\n",
       "      <td>4.5</td>\n",
       "      <td>12</td>\n",
       "      <td>€</td>\n",
       "    </tr>\n",
       "    <tr>\n",
       "      <th>4</th>\n",
       "      <td>Pulitzer Barcelona</td>\n",
       "      <td>4</td>\n",
       "      <td>42</td>\n",
       "      <td>€€</td>\n",
       "    </tr>\n",
       "  </tbody>\n",
       "</table>\n",
       "</div>"
      ],
      "text/plain": [
       "                          name rating reviews price_range\n",
       "0                Barceló Raval    4.5      56          €€\n",
       "1                   Hotel 1898    4.5      76         €€€\n",
       "2                  W Barcelona      4     176        €€€€\n",
       "3  Hotel Continental Barcelona    4.5      12           €\n",
       "4           Pulitzer Barcelona      4      42          €€"
      ]
     },
     "execution_count": 159,
     "metadata": {},
     "output_type": "execute_result"
    }
   ],
   "source": [
    "# overview\n",
    "hotel_df.head()"
   ]
  },
  {
   "cell_type": "code",
   "execution_count": 160,
   "metadata": {},
   "outputs": [
    {
     "name": "stdout",
     "output_type": "stream",
     "text": [
      "<class 'pandas.core.frame.DataFrame'>\n",
      "RangeIndex: 240 entries, 0 to 239\n",
      "Data columns (total 4 columns):\n",
      " #   Column       Non-Null Count  Dtype \n",
      "---  ------       --------------  ----- \n",
      " 0   name         240 non-null    object\n",
      " 1   rating       221 non-null    object\n",
      " 2   reviews      221 non-null    object\n",
      " 3   price_range  175 non-null    object\n",
      "dtypes: object(4)\n",
      "memory usage: 7.6+ KB\n"
     ]
    }
   ],
   "source": [
    "hotel_df.info()"
   ]
  },
  {
   "cell_type": "code",
   "execution_count": 161,
   "metadata": {},
   "outputs": [
    {
     "data": {
      "text/plain": [
       "price_range    65\n",
       "reviews        19\n",
       "rating         19\n",
       "name            0\n",
       "dtype: int64"
      ]
     },
     "execution_count": 161,
     "metadata": {},
     "output_type": "execute_result"
    }
   ],
   "source": [
    "# Missing values\n",
    "hotel_df.isnull().sum().sort_values(ascending=False)"
   ]
  },
  {
   "cell_type": "code",
   "execution_count": 139,
   "metadata": {},
   "outputs": [
    {
     "data": {
      "text/html": [
       "<div>\n",
       "<style scoped>\n",
       "    .dataframe tbody tr th:only-of-type {\n",
       "        vertical-align: middle;\n",
       "    }\n",
       "\n",
       "    .dataframe tbody tr th {\n",
       "        vertical-align: top;\n",
       "    }\n",
       "\n",
       "    .dataframe thead th {\n",
       "        text-align: right;\n",
       "    }\n",
       "</style>\n",
       "<table border=\"1\" class=\"dataframe\">\n",
       "  <thead>\n",
       "    <tr style=\"text-align: right;\">\n",
       "      <th></th>\n",
       "      <th>name</th>\n",
       "      <th>rating</th>\n",
       "      <th>reviews</th>\n",
       "      <th>price_range</th>\n",
       "    </tr>\n",
       "  </thead>\n",
       "  <tbody>\n",
       "    <tr>\n",
       "      <th>114</th>\n",
       "      <td>Gaudi Hotel Barcelona</td>\n",
       "      <td>2.5</td>\n",
       "      <td>15</td>\n",
       "      <td>NaN</td>\n",
       "    </tr>\n",
       "    <tr>\n",
       "      <th>150</th>\n",
       "      <td>St. Christopher’s Inn</td>\n",
       "      <td>4</td>\n",
       "      <td>20</td>\n",
       "      <td>NaN</td>\n",
       "    </tr>\n",
       "    <tr>\n",
       "      <th>190</th>\n",
       "      <td>Four Points by Sheraton Barcelona Diagonal</td>\n",
       "      <td>4</td>\n",
       "      <td>26</td>\n",
       "      <td>€€</td>\n",
       "    </tr>\n",
       "    <tr>\n",
       "      <th>210</th>\n",
       "      <td>Acta BCN 40</td>\n",
       "      <td>5</td>\n",
       "      <td>2</td>\n",
       "      <td>NaN</td>\n",
       "    </tr>\n",
       "    <tr>\n",
       "      <th>211</th>\n",
       "      <td>OD Barcelona</td>\n",
       "      <td>5</td>\n",
       "      <td>5</td>\n",
       "      <td>NaN</td>\n",
       "    </tr>\n",
       "    <tr>\n",
       "      <th>230</th>\n",
       "      <td>Chic&amp;Basic Velvet</td>\n",
       "      <td>1</td>\n",
       "      <td>1</td>\n",
       "      <td>NaN</td>\n",
       "    </tr>\n",
       "  </tbody>\n",
       "</table>\n",
       "</div>"
      ],
      "text/plain": [
       "                                           name rating reviews price_range\n",
       "114                       Gaudi Hotel Barcelona    2.5      15         NaN\n",
       "150                       St. Christopher’s Inn      4      20         NaN\n",
       "190  Four Points by Sheraton Barcelona Diagonal      4      26          €€\n",
       "210                                 Acta BCN 40      5       2         NaN\n",
       "211                                OD Barcelona      5       5         NaN\n",
       "230                           Chic&Basic Velvet      1       1         NaN"
      ]
     },
     "execution_count": 139,
     "metadata": {},
     "output_type": "execute_result"
    }
   ],
   "source": [
    "# duplicates values\n",
    "hotel_df[hotel_df.duplicated()]"
   ]
  },
  {
   "cell_type": "code",
   "execution_count": 162,
   "metadata": {},
   "outputs": [],
   "source": [
    "# drop duplicates\n",
    "hotel_df.drop_duplicates(inplace=True)"
   ]
  },
  {
   "cell_type": "markdown",
   "metadata": {},
   "source": [
    "#### Cleaning"
   ]
  },
  {
   "cell_type": "code",
   "execution_count": 163,
   "metadata": {},
   "outputs": [
    {
     "name": "stdout",
     "output_type": "stream",
     "text": [
      "0    11\n",
      "1    12\n",
      "2    33\n",
      "3    34\n",
      "4    66\n",
      "5    67\n",
      "dtype: int64\n"
     ]
    }
   ],
   "source": [
    "# Price range (price per person)\n",
    "# Based on information from yelp and Quora:\n",
    "# $= under $10. $$=11-30. $$$=31-60. $$$$= over $61\n",
    "# Converting to EUR\n",
    "\n",
    "# 1 EUR = 1.11234 USD\n",
    "Euro = (pd.Series([10, 11, 30, 31, 60, 61]) * 1.11234).apply(lambda x: int(x))\n",
    "print(Euro)\n",
    "mapper = {'€':'under 11', \"€€\":'[12 - 33]', '€€€':'[34 - 66]', '€€€€':'over 67'}\n",
    "\n",
    "hotel_df['price_range'] = hotel_df['price_range'].map(mapper)\n"
   ]
  },
  {
   "cell_type": "code",
   "execution_count": 164,
   "metadata": {},
   "outputs": [
    {
     "data": {
      "text/html": [
       "<div>\n",
       "<style scoped>\n",
       "    .dataframe tbody tr th:only-of-type {\n",
       "        vertical-align: middle;\n",
       "    }\n",
       "\n",
       "    .dataframe tbody tr th {\n",
       "        vertical-align: top;\n",
       "    }\n",
       "\n",
       "    .dataframe thead th {\n",
       "        text-align: right;\n",
       "    }\n",
       "</style>\n",
       "<table border=\"1\" class=\"dataframe\">\n",
       "  <thead>\n",
       "    <tr style=\"text-align: right;\">\n",
       "      <th></th>\n",
       "      <th>rating</th>\n",
       "      <th>reviews</th>\n",
       "    </tr>\n",
       "  </thead>\n",
       "  <tbody>\n",
       "    <tr>\n",
       "      <th>count</th>\n",
       "      <td>215.000000</td>\n",
       "      <td>215.000000</td>\n",
       "    </tr>\n",
       "    <tr>\n",
       "      <th>mean</th>\n",
       "      <td>3.909302</td>\n",
       "      <td>14.669767</td>\n",
       "    </tr>\n",
       "    <tr>\n",
       "      <th>std</th>\n",
       "      <td>0.804431</td>\n",
       "      <td>18.538361</td>\n",
       "    </tr>\n",
       "    <tr>\n",
       "      <th>min</th>\n",
       "      <td>1.000000</td>\n",
       "      <td>1.000000</td>\n",
       "    </tr>\n",
       "    <tr>\n",
       "      <th>25%</th>\n",
       "      <td>3.500000</td>\n",
       "      <td>4.000000</td>\n",
       "    </tr>\n",
       "    <tr>\n",
       "      <th>50%</th>\n",
       "      <td>4.000000</td>\n",
       "      <td>9.000000</td>\n",
       "    </tr>\n",
       "    <tr>\n",
       "      <th>75%</th>\n",
       "      <td>4.500000</td>\n",
       "      <td>18.000000</td>\n",
       "    </tr>\n",
       "    <tr>\n",
       "      <th>max</th>\n",
       "      <td>5.000000</td>\n",
       "      <td>176.000000</td>\n",
       "    </tr>\n",
       "  </tbody>\n",
       "</table>\n",
       "</div>"
      ],
      "text/plain": [
       "           rating     reviews\n",
       "count  215.000000  215.000000\n",
       "mean     3.909302   14.669767\n",
       "std      0.804431   18.538361\n",
       "min      1.000000    1.000000\n",
       "25%      3.500000    4.000000\n",
       "50%      4.000000    9.000000\n",
       "75%      4.500000   18.000000\n",
       "max      5.000000  176.000000"
      ]
     },
     "execution_count": 164,
     "metadata": {},
     "output_type": "execute_result"
    }
   ],
   "source": [
    "# Rating and number of reviews\n",
    "hotel_df['rating'] = hotel_df['rating'].apply(lambda x: float(x)) \n",
    "hotel_df['reviews'] = hotel_df['reviews'].apply(lambda x: float(x))\n",
    "\n",
    "hotel_df.describe()"
   ]
  },
  {
   "cell_type": "code",
   "execution_count": 165,
   "metadata": {},
   "outputs": [
    {
     "name": "stdout",
     "output_type": "stream",
     "text": [
      "<class 'pandas.core.frame.DataFrame'>\n",
      "Int64Index: 234 entries, 0 to 239\n",
      "Data columns (total 4 columns):\n",
      " #   Column       Non-Null Count  Dtype  \n",
      "---  ------       --------------  -----  \n",
      " 0   name         234 non-null    object \n",
      " 1   rating       215 non-null    float64\n",
      " 2   reviews      215 non-null    float64\n",
      " 3   price_range  174 non-null    object \n",
      "dtypes: float64(2), object(2)\n",
      "memory usage: 9.1+ KB\n"
     ]
    }
   ],
   "source": [
    "# check cleaning\n",
    "hotel_df.info()"
   ]
  },
  {
   "cell_type": "markdown",
   "metadata": {},
   "source": [
    "#### Analysis"
   ]
  },
  {
   "cell_type": "code",
   "execution_count": 166,
   "metadata": {},
   "outputs": [
    {
     "data": {
      "application/vnd.plotly.v1+json": {
       "config": {
        "plotlyServerURL": "https://plot.ly"
       },
       "data": [
        {
         "alignmentgroup": "True",
         "bingroup": "x",
         "hovertemplate": "rating=%{x}<br>count=%{y}<extra></extra>",
         "legendgroup": "",
         "marker": {
          "color": "#636efa",
          "pattern": {
           "shape": ""
          }
         },
         "name": "",
         "offsetgroup": "",
         "orientation": "v",
         "showlegend": false,
         "type": "histogram",
         "x": [
          4.5,
          4.5,
          4,
          4.5,
          4,
          4,
          4.5,
          4.5,
          4,
          4,
          5,
          4,
          4,
          4.5,
          4.5,
          4.5,
          4,
          4.5,
          4.5,
          4,
          4.5,
          4,
          4,
          4,
          5,
          4,
          4,
          3.5,
          4.5,
          4.5,
          4.5,
          4.5,
          4.5,
          4.5,
          5,
          4,
          4,
          5,
          4.5,
          3.5,
          4,
          4,
          5,
          4,
          5,
          2.5,
          3.5,
          4,
          2.5,
          4.5,
          4,
          3,
          4,
          4.5,
          5,
          4,
          4.5,
          4.5,
          2.5,
          4.5,
          4,
          4.5,
          4,
          3,
          3.5,
          4,
          4.5,
          3.5,
          4,
          4,
          4.5,
          3.5,
          4,
          4.5,
          2,
          3.5,
          4,
          4.5,
          2.5,
          3.5,
          null,
          3.5,
          4,
          1,
          4,
          4,
          5,
          4.5,
          4,
          3,
          4.5,
          3.5,
          3.5,
          3.5,
          4,
          3,
          3.5,
          4.5,
          4,
          5,
          3,
          5,
          4,
          2.5,
          4,
          2.5,
          4,
          4.5,
          4.5,
          3,
          3.5,
          4.5,
          null,
          2.5,
          null,
          4.5,
          4.5,
          3.5,
          4,
          4,
          4,
          3.5,
          4.5,
          3,
          3,
          4,
          4.5,
          4,
          3,
          5,
          4.5,
          2,
          4,
          4,
          4,
          4,
          3,
          4,
          4.5,
          3,
          5,
          3,
          4,
          4.5,
          3.5,
          4,
          4,
          4,
          3,
          4,
          3,
          4,
          3,
          3.5,
          3,
          null,
          3.5,
          4.5,
          3.5,
          null,
          4,
          3,
          null,
          4.5,
          2.5,
          4.5,
          4,
          4,
          5,
          5,
          4,
          4,
          3,
          3,
          5,
          4,
          5,
          3.5,
          4.5,
          4,
          null,
          4,
          null,
          5,
          3.5,
          2,
          3.5,
          4,
          5,
          5,
          null,
          4,
          5,
          null,
          null,
          4,
          1,
          3,
          null,
          4.5,
          3.5,
          4,
          null,
          5,
          4,
          5,
          5,
          4,
          4.5,
          1,
          3,
          4,
          null,
          1.5,
          4.5,
          4,
          5,
          3.5,
          3.5,
          3,
          4,
          null,
          null,
          4.5,
          1,
          4.5,
          4,
          null,
          null,
          3,
          5,
          null,
          3,
          4
         ],
         "xaxis": "x",
         "yaxis": "y"
        }
       ],
       "layout": {
        "barmode": "relative",
        "legend": {
         "tracegroupgap": 0
        },
        "margin": {
         "t": 60
        },
        "template": {
         "data": {
          "bar": [
           {
            "error_x": {
             "color": "#2a3f5f"
            },
            "error_y": {
             "color": "#2a3f5f"
            },
            "marker": {
             "line": {
              "color": "#E5ECF6",
              "width": 0.5
             },
             "pattern": {
              "fillmode": "overlay",
              "size": 10,
              "solidity": 0.2
             }
            },
            "type": "bar"
           }
          ],
          "barpolar": [
           {
            "marker": {
             "line": {
              "color": "#E5ECF6",
              "width": 0.5
             },
             "pattern": {
              "fillmode": "overlay",
              "size": 10,
              "solidity": 0.2
             }
            },
            "type": "barpolar"
           }
          ],
          "carpet": [
           {
            "aaxis": {
             "endlinecolor": "#2a3f5f",
             "gridcolor": "white",
             "linecolor": "white",
             "minorgridcolor": "white",
             "startlinecolor": "#2a3f5f"
            },
            "baxis": {
             "endlinecolor": "#2a3f5f",
             "gridcolor": "white",
             "linecolor": "white",
             "minorgridcolor": "white",
             "startlinecolor": "#2a3f5f"
            },
            "type": "carpet"
           }
          ],
          "choropleth": [
           {
            "colorbar": {
             "outlinewidth": 0,
             "ticks": ""
            },
            "type": "choropleth"
           }
          ],
          "contour": [
           {
            "colorbar": {
             "outlinewidth": 0,
             "ticks": ""
            },
            "colorscale": [
             [
              0,
              "#0d0887"
             ],
             [
              0.1111111111111111,
              "#46039f"
             ],
             [
              0.2222222222222222,
              "#7201a8"
             ],
             [
              0.3333333333333333,
              "#9c179e"
             ],
             [
              0.4444444444444444,
              "#bd3786"
             ],
             [
              0.5555555555555556,
              "#d8576b"
             ],
             [
              0.6666666666666666,
              "#ed7953"
             ],
             [
              0.7777777777777778,
              "#fb9f3a"
             ],
             [
              0.8888888888888888,
              "#fdca26"
             ],
             [
              1,
              "#f0f921"
             ]
            ],
            "type": "contour"
           }
          ],
          "contourcarpet": [
           {
            "colorbar": {
             "outlinewidth": 0,
             "ticks": ""
            },
            "type": "contourcarpet"
           }
          ],
          "heatmap": [
           {
            "colorbar": {
             "outlinewidth": 0,
             "ticks": ""
            },
            "colorscale": [
             [
              0,
              "#0d0887"
             ],
             [
              0.1111111111111111,
              "#46039f"
             ],
             [
              0.2222222222222222,
              "#7201a8"
             ],
             [
              0.3333333333333333,
              "#9c179e"
             ],
             [
              0.4444444444444444,
              "#bd3786"
             ],
             [
              0.5555555555555556,
              "#d8576b"
             ],
             [
              0.6666666666666666,
              "#ed7953"
             ],
             [
              0.7777777777777778,
              "#fb9f3a"
             ],
             [
              0.8888888888888888,
              "#fdca26"
             ],
             [
              1,
              "#f0f921"
             ]
            ],
            "type": "heatmap"
           }
          ],
          "heatmapgl": [
           {
            "colorbar": {
             "outlinewidth": 0,
             "ticks": ""
            },
            "colorscale": [
             [
              0,
              "#0d0887"
             ],
             [
              0.1111111111111111,
              "#46039f"
             ],
             [
              0.2222222222222222,
              "#7201a8"
             ],
             [
              0.3333333333333333,
              "#9c179e"
             ],
             [
              0.4444444444444444,
              "#bd3786"
             ],
             [
              0.5555555555555556,
              "#d8576b"
             ],
             [
              0.6666666666666666,
              "#ed7953"
             ],
             [
              0.7777777777777778,
              "#fb9f3a"
             ],
             [
              0.8888888888888888,
              "#fdca26"
             ],
             [
              1,
              "#f0f921"
             ]
            ],
            "type": "heatmapgl"
           }
          ],
          "histogram": [
           {
            "marker": {
             "pattern": {
              "fillmode": "overlay",
              "size": 10,
              "solidity": 0.2
             }
            },
            "type": "histogram"
           }
          ],
          "histogram2d": [
           {
            "colorbar": {
             "outlinewidth": 0,
             "ticks": ""
            },
            "colorscale": [
             [
              0,
              "#0d0887"
             ],
             [
              0.1111111111111111,
              "#46039f"
             ],
             [
              0.2222222222222222,
              "#7201a8"
             ],
             [
              0.3333333333333333,
              "#9c179e"
             ],
             [
              0.4444444444444444,
              "#bd3786"
             ],
             [
              0.5555555555555556,
              "#d8576b"
             ],
             [
              0.6666666666666666,
              "#ed7953"
             ],
             [
              0.7777777777777778,
              "#fb9f3a"
             ],
             [
              0.8888888888888888,
              "#fdca26"
             ],
             [
              1,
              "#f0f921"
             ]
            ],
            "type": "histogram2d"
           }
          ],
          "histogram2dcontour": [
           {
            "colorbar": {
             "outlinewidth": 0,
             "ticks": ""
            },
            "colorscale": [
             [
              0,
              "#0d0887"
             ],
             [
              0.1111111111111111,
              "#46039f"
             ],
             [
              0.2222222222222222,
              "#7201a8"
             ],
             [
              0.3333333333333333,
              "#9c179e"
             ],
             [
              0.4444444444444444,
              "#bd3786"
             ],
             [
              0.5555555555555556,
              "#d8576b"
             ],
             [
              0.6666666666666666,
              "#ed7953"
             ],
             [
              0.7777777777777778,
              "#fb9f3a"
             ],
             [
              0.8888888888888888,
              "#fdca26"
             ],
             [
              1,
              "#f0f921"
             ]
            ],
            "type": "histogram2dcontour"
           }
          ],
          "mesh3d": [
           {
            "colorbar": {
             "outlinewidth": 0,
             "ticks": ""
            },
            "type": "mesh3d"
           }
          ],
          "parcoords": [
           {
            "line": {
             "colorbar": {
              "outlinewidth": 0,
              "ticks": ""
             }
            },
            "type": "parcoords"
           }
          ],
          "pie": [
           {
            "automargin": true,
            "type": "pie"
           }
          ],
          "scatter": [
           {
            "marker": {
             "colorbar": {
              "outlinewidth": 0,
              "ticks": ""
             }
            },
            "type": "scatter"
           }
          ],
          "scatter3d": [
           {
            "line": {
             "colorbar": {
              "outlinewidth": 0,
              "ticks": ""
             }
            },
            "marker": {
             "colorbar": {
              "outlinewidth": 0,
              "ticks": ""
             }
            },
            "type": "scatter3d"
           }
          ],
          "scattercarpet": [
           {
            "marker": {
             "colorbar": {
              "outlinewidth": 0,
              "ticks": ""
             }
            },
            "type": "scattercarpet"
           }
          ],
          "scattergeo": [
           {
            "marker": {
             "colorbar": {
              "outlinewidth": 0,
              "ticks": ""
             }
            },
            "type": "scattergeo"
           }
          ],
          "scattergl": [
           {
            "marker": {
             "colorbar": {
              "outlinewidth": 0,
              "ticks": ""
             }
            },
            "type": "scattergl"
           }
          ],
          "scattermapbox": [
           {
            "marker": {
             "colorbar": {
              "outlinewidth": 0,
              "ticks": ""
             }
            },
            "type": "scattermapbox"
           }
          ],
          "scatterpolar": [
           {
            "marker": {
             "colorbar": {
              "outlinewidth": 0,
              "ticks": ""
             }
            },
            "type": "scatterpolar"
           }
          ],
          "scatterpolargl": [
           {
            "marker": {
             "colorbar": {
              "outlinewidth": 0,
              "ticks": ""
             }
            },
            "type": "scatterpolargl"
           }
          ],
          "scatterternary": [
           {
            "marker": {
             "colorbar": {
              "outlinewidth": 0,
              "ticks": ""
             }
            },
            "type": "scatterternary"
           }
          ],
          "surface": [
           {
            "colorbar": {
             "outlinewidth": 0,
             "ticks": ""
            },
            "colorscale": [
             [
              0,
              "#0d0887"
             ],
             [
              0.1111111111111111,
              "#46039f"
             ],
             [
              0.2222222222222222,
              "#7201a8"
             ],
             [
              0.3333333333333333,
              "#9c179e"
             ],
             [
              0.4444444444444444,
              "#bd3786"
             ],
             [
              0.5555555555555556,
              "#d8576b"
             ],
             [
              0.6666666666666666,
              "#ed7953"
             ],
             [
              0.7777777777777778,
              "#fb9f3a"
             ],
             [
              0.8888888888888888,
              "#fdca26"
             ],
             [
              1,
              "#f0f921"
             ]
            ],
            "type": "surface"
           }
          ],
          "table": [
           {
            "cells": {
             "fill": {
              "color": "#EBF0F8"
             },
             "line": {
              "color": "white"
             }
            },
            "header": {
             "fill": {
              "color": "#C8D4E3"
             },
             "line": {
              "color": "white"
             }
            },
            "type": "table"
           }
          ]
         },
         "layout": {
          "annotationdefaults": {
           "arrowcolor": "#2a3f5f",
           "arrowhead": 0,
           "arrowwidth": 1
          },
          "autotypenumbers": "strict",
          "coloraxis": {
           "colorbar": {
            "outlinewidth": 0,
            "ticks": ""
           }
          },
          "colorscale": {
           "diverging": [
            [
             0,
             "#8e0152"
            ],
            [
             0.1,
             "#c51b7d"
            ],
            [
             0.2,
             "#de77ae"
            ],
            [
             0.3,
             "#f1b6da"
            ],
            [
             0.4,
             "#fde0ef"
            ],
            [
             0.5,
             "#f7f7f7"
            ],
            [
             0.6,
             "#e6f5d0"
            ],
            [
             0.7,
             "#b8e186"
            ],
            [
             0.8,
             "#7fbc41"
            ],
            [
             0.9,
             "#4d9221"
            ],
            [
             1,
             "#276419"
            ]
           ],
           "sequential": [
            [
             0,
             "#0d0887"
            ],
            [
             0.1111111111111111,
             "#46039f"
            ],
            [
             0.2222222222222222,
             "#7201a8"
            ],
            [
             0.3333333333333333,
             "#9c179e"
            ],
            [
             0.4444444444444444,
             "#bd3786"
            ],
            [
             0.5555555555555556,
             "#d8576b"
            ],
            [
             0.6666666666666666,
             "#ed7953"
            ],
            [
             0.7777777777777778,
             "#fb9f3a"
            ],
            [
             0.8888888888888888,
             "#fdca26"
            ],
            [
             1,
             "#f0f921"
            ]
           ],
           "sequentialminus": [
            [
             0,
             "#0d0887"
            ],
            [
             0.1111111111111111,
             "#46039f"
            ],
            [
             0.2222222222222222,
             "#7201a8"
            ],
            [
             0.3333333333333333,
             "#9c179e"
            ],
            [
             0.4444444444444444,
             "#bd3786"
            ],
            [
             0.5555555555555556,
             "#d8576b"
            ],
            [
             0.6666666666666666,
             "#ed7953"
            ],
            [
             0.7777777777777778,
             "#fb9f3a"
            ],
            [
             0.8888888888888888,
             "#fdca26"
            ],
            [
             1,
             "#f0f921"
            ]
           ]
          },
          "colorway": [
           "#636efa",
           "#EF553B",
           "#00cc96",
           "#ab63fa",
           "#FFA15A",
           "#19d3f3",
           "#FF6692",
           "#B6E880",
           "#FF97FF",
           "#FECB52"
          ],
          "font": {
           "color": "#2a3f5f"
          },
          "geo": {
           "bgcolor": "white",
           "lakecolor": "white",
           "landcolor": "#E5ECF6",
           "showlakes": true,
           "showland": true,
           "subunitcolor": "white"
          },
          "hoverlabel": {
           "align": "left"
          },
          "hovermode": "closest",
          "mapbox": {
           "style": "light"
          },
          "paper_bgcolor": "white",
          "plot_bgcolor": "#E5ECF6",
          "polar": {
           "angularaxis": {
            "gridcolor": "white",
            "linecolor": "white",
            "ticks": ""
           },
           "bgcolor": "#E5ECF6",
           "radialaxis": {
            "gridcolor": "white",
            "linecolor": "white",
            "ticks": ""
           }
          },
          "scene": {
           "xaxis": {
            "backgroundcolor": "#E5ECF6",
            "gridcolor": "white",
            "gridwidth": 2,
            "linecolor": "white",
            "showbackground": true,
            "ticks": "",
            "zerolinecolor": "white"
           },
           "yaxis": {
            "backgroundcolor": "#E5ECF6",
            "gridcolor": "white",
            "gridwidth": 2,
            "linecolor": "white",
            "showbackground": true,
            "ticks": "",
            "zerolinecolor": "white"
           },
           "zaxis": {
            "backgroundcolor": "#E5ECF6",
            "gridcolor": "white",
            "gridwidth": 2,
            "linecolor": "white",
            "showbackground": true,
            "ticks": "",
            "zerolinecolor": "white"
           }
          },
          "shapedefaults": {
           "line": {
            "color": "#2a3f5f"
           }
          },
          "ternary": {
           "aaxis": {
            "gridcolor": "white",
            "linecolor": "white",
            "ticks": ""
           },
           "baxis": {
            "gridcolor": "white",
            "linecolor": "white",
            "ticks": ""
           },
           "bgcolor": "#E5ECF6",
           "caxis": {
            "gridcolor": "white",
            "linecolor": "white",
            "ticks": ""
           }
          },
          "title": {
           "x": 0.05
          },
          "xaxis": {
           "automargin": true,
           "gridcolor": "white",
           "linecolor": "white",
           "ticks": "",
           "title": {
            "standoff": 15
           },
           "zerolinecolor": "white",
           "zerolinewidth": 2
          },
          "yaxis": {
           "automargin": true,
           "gridcolor": "white",
           "linecolor": "white",
           "ticks": "",
           "title": {
            "standoff": 15
           },
           "zerolinecolor": "white",
           "zerolinewidth": 2
          }
         }
        },
        "xaxis": {
         "anchor": "y",
         "domain": [
          0,
          1
         ],
         "title": {
          "text": "rating"
         }
        },
        "yaxis": {
         "anchor": "x",
         "domain": [
          0,
          1
         ],
         "title": {
          "text": "count"
         }
        }
       }
      }
     },
     "metadata": {},
     "output_type": "display_data"
    }
   ],
   "source": [
    "# Distribution of rating\n",
    "px.histogram(data_frame=hotel_df, x= 'rating',)"
   ]
  },
  {
   "cell_type": "code",
   "execution_count": null,
   "metadata": {},
   "outputs": [],
   "source": [
    "\n",
    "hotel_df"
   ]
  },
  {
   "cell_type": "code",
   "execution_count": 167,
   "metadata": {},
   "outputs": [
    {
     "data": {
      "application/vnd.plotly.v1+json": {
       "config": {
        "plotlyServerURL": "https://plot.ly"
       },
       "data": [
        {
         "alignmentgroup": "True",
         "bingroup": "x",
         "hovertemplate": "reviews=%{x}<br>count=%{y}<extra></extra>",
         "legendgroup": "",
         "marker": {
          "color": "#636efa",
          "pattern": {
           "shape": ""
          }
         },
         "name": "",
         "offsetgroup": "",
         "orientation": "v",
         "showlegend": false,
         "type": "histogram",
         "x": [
          56,
          76,
          176,
          12,
          42,
          84,
          47,
          7,
          40,
          53,
          25,
          103,
          40,
          22,
          20,
          46,
          38,
          6,
          29,
          13,
          24,
          21,
          41,
          24,
          16,
          31,
          45,
          46,
          32,
          12,
          15,
          20,
          18,
          29,
          5,
          11,
          15,
          6,
          28,
          4,
          9,
          9,
          2,
          48,
          9,
          24,
          17,
          20,
          3,
          10,
          67,
          2,
          10,
          15,
          14,
          25,
          22,
          23,
          3,
          15,
          35,
          13,
          12,
          32,
          11,
          3,
          6,
          30,
          21,
          4,
          12,
          14,
          4,
          15,
          6,
          3,
          11,
          16,
          15,
          9,
          null,
          11,
          2,
          4,
          1,
          14,
          9,
          13,
          8,
          7,
          19,
          3,
          7,
          18,
          17,
          11,
          3,
          15,
          7,
          1,
          3,
          1,
          8,
          7,
          9,
          8,
          1,
          4,
          22,
          25,
          4,
          8,
          null,
          2,
          null,
          7,
          17,
          16,
          7,
          2,
          7,
          3,
          9,
          3,
          7,
          17,
          3,
          9,
          2,
          1,
          4,
          1,
          14,
          15,
          2,
          1,
          3,
          20,
          15,
          1,
          1,
          6,
          8,
          13,
          3,
          25,
          8,
          8,
          8,
          10,
          3,
          12,
          6,
          13,
          35,
          null,
          21,
          30,
          15,
          null,
          1,
          7,
          null,
          10,
          7,
          7,
          4,
          5,
          3,
          2,
          19,
          2,
          7,
          12,
          8,
          27,
          2,
          5,
          17,
          6,
          null,
          16,
          null,
          4,
          13,
          13,
          2,
          26,
          1,
          4,
          null,
          5,
          10,
          null,
          null,
          1,
          2,
          7,
          null,
          7,
          3,
          5,
          null,
          1,
          10,
          2,
          5,
          22,
          3,
          1,
          2,
          29,
          null,
          3,
          7,
          19,
          7,
          17,
          9,
          4,
          22,
          null,
          null,
          11,
          1,
          5,
          3,
          null,
          null,
          11,
          4,
          null,
          1,
          5
         ],
         "xaxis": "x",
         "yaxis": "y"
        }
       ],
       "layout": {
        "barmode": "relative",
        "legend": {
         "tracegroupgap": 0
        },
        "margin": {
         "t": 60
        },
        "template": {
         "data": {
          "bar": [
           {
            "error_x": {
             "color": "#2a3f5f"
            },
            "error_y": {
             "color": "#2a3f5f"
            },
            "marker": {
             "line": {
              "color": "#E5ECF6",
              "width": 0.5
             },
             "pattern": {
              "fillmode": "overlay",
              "size": 10,
              "solidity": 0.2
             }
            },
            "type": "bar"
           }
          ],
          "barpolar": [
           {
            "marker": {
             "line": {
              "color": "#E5ECF6",
              "width": 0.5
             },
             "pattern": {
              "fillmode": "overlay",
              "size": 10,
              "solidity": 0.2
             }
            },
            "type": "barpolar"
           }
          ],
          "carpet": [
           {
            "aaxis": {
             "endlinecolor": "#2a3f5f",
             "gridcolor": "white",
             "linecolor": "white",
             "minorgridcolor": "white",
             "startlinecolor": "#2a3f5f"
            },
            "baxis": {
             "endlinecolor": "#2a3f5f",
             "gridcolor": "white",
             "linecolor": "white",
             "minorgridcolor": "white",
             "startlinecolor": "#2a3f5f"
            },
            "type": "carpet"
           }
          ],
          "choropleth": [
           {
            "colorbar": {
             "outlinewidth": 0,
             "ticks": ""
            },
            "type": "choropleth"
           }
          ],
          "contour": [
           {
            "colorbar": {
             "outlinewidth": 0,
             "ticks": ""
            },
            "colorscale": [
             [
              0,
              "#0d0887"
             ],
             [
              0.1111111111111111,
              "#46039f"
             ],
             [
              0.2222222222222222,
              "#7201a8"
             ],
             [
              0.3333333333333333,
              "#9c179e"
             ],
             [
              0.4444444444444444,
              "#bd3786"
             ],
             [
              0.5555555555555556,
              "#d8576b"
             ],
             [
              0.6666666666666666,
              "#ed7953"
             ],
             [
              0.7777777777777778,
              "#fb9f3a"
             ],
             [
              0.8888888888888888,
              "#fdca26"
             ],
             [
              1,
              "#f0f921"
             ]
            ],
            "type": "contour"
           }
          ],
          "contourcarpet": [
           {
            "colorbar": {
             "outlinewidth": 0,
             "ticks": ""
            },
            "type": "contourcarpet"
           }
          ],
          "heatmap": [
           {
            "colorbar": {
             "outlinewidth": 0,
             "ticks": ""
            },
            "colorscale": [
             [
              0,
              "#0d0887"
             ],
             [
              0.1111111111111111,
              "#46039f"
             ],
             [
              0.2222222222222222,
              "#7201a8"
             ],
             [
              0.3333333333333333,
              "#9c179e"
             ],
             [
              0.4444444444444444,
              "#bd3786"
             ],
             [
              0.5555555555555556,
              "#d8576b"
             ],
             [
              0.6666666666666666,
              "#ed7953"
             ],
             [
              0.7777777777777778,
              "#fb9f3a"
             ],
             [
              0.8888888888888888,
              "#fdca26"
             ],
             [
              1,
              "#f0f921"
             ]
            ],
            "type": "heatmap"
           }
          ],
          "heatmapgl": [
           {
            "colorbar": {
             "outlinewidth": 0,
             "ticks": ""
            },
            "colorscale": [
             [
              0,
              "#0d0887"
             ],
             [
              0.1111111111111111,
              "#46039f"
             ],
             [
              0.2222222222222222,
              "#7201a8"
             ],
             [
              0.3333333333333333,
              "#9c179e"
             ],
             [
              0.4444444444444444,
              "#bd3786"
             ],
             [
              0.5555555555555556,
              "#d8576b"
             ],
             [
              0.6666666666666666,
              "#ed7953"
             ],
             [
              0.7777777777777778,
              "#fb9f3a"
             ],
             [
              0.8888888888888888,
              "#fdca26"
             ],
             [
              1,
              "#f0f921"
             ]
            ],
            "type": "heatmapgl"
           }
          ],
          "histogram": [
           {
            "marker": {
             "pattern": {
              "fillmode": "overlay",
              "size": 10,
              "solidity": 0.2
             }
            },
            "type": "histogram"
           }
          ],
          "histogram2d": [
           {
            "colorbar": {
             "outlinewidth": 0,
             "ticks": ""
            },
            "colorscale": [
             [
              0,
              "#0d0887"
             ],
             [
              0.1111111111111111,
              "#46039f"
             ],
             [
              0.2222222222222222,
              "#7201a8"
             ],
             [
              0.3333333333333333,
              "#9c179e"
             ],
             [
              0.4444444444444444,
              "#bd3786"
             ],
             [
              0.5555555555555556,
              "#d8576b"
             ],
             [
              0.6666666666666666,
              "#ed7953"
             ],
             [
              0.7777777777777778,
              "#fb9f3a"
             ],
             [
              0.8888888888888888,
              "#fdca26"
             ],
             [
              1,
              "#f0f921"
             ]
            ],
            "type": "histogram2d"
           }
          ],
          "histogram2dcontour": [
           {
            "colorbar": {
             "outlinewidth": 0,
             "ticks": ""
            },
            "colorscale": [
             [
              0,
              "#0d0887"
             ],
             [
              0.1111111111111111,
              "#46039f"
             ],
             [
              0.2222222222222222,
              "#7201a8"
             ],
             [
              0.3333333333333333,
              "#9c179e"
             ],
             [
              0.4444444444444444,
              "#bd3786"
             ],
             [
              0.5555555555555556,
              "#d8576b"
             ],
             [
              0.6666666666666666,
              "#ed7953"
             ],
             [
              0.7777777777777778,
              "#fb9f3a"
             ],
             [
              0.8888888888888888,
              "#fdca26"
             ],
             [
              1,
              "#f0f921"
             ]
            ],
            "type": "histogram2dcontour"
           }
          ],
          "mesh3d": [
           {
            "colorbar": {
             "outlinewidth": 0,
             "ticks": ""
            },
            "type": "mesh3d"
           }
          ],
          "parcoords": [
           {
            "line": {
             "colorbar": {
              "outlinewidth": 0,
              "ticks": ""
             }
            },
            "type": "parcoords"
           }
          ],
          "pie": [
           {
            "automargin": true,
            "type": "pie"
           }
          ],
          "scatter": [
           {
            "marker": {
             "colorbar": {
              "outlinewidth": 0,
              "ticks": ""
             }
            },
            "type": "scatter"
           }
          ],
          "scatter3d": [
           {
            "line": {
             "colorbar": {
              "outlinewidth": 0,
              "ticks": ""
             }
            },
            "marker": {
             "colorbar": {
              "outlinewidth": 0,
              "ticks": ""
             }
            },
            "type": "scatter3d"
           }
          ],
          "scattercarpet": [
           {
            "marker": {
             "colorbar": {
              "outlinewidth": 0,
              "ticks": ""
             }
            },
            "type": "scattercarpet"
           }
          ],
          "scattergeo": [
           {
            "marker": {
             "colorbar": {
              "outlinewidth": 0,
              "ticks": ""
             }
            },
            "type": "scattergeo"
           }
          ],
          "scattergl": [
           {
            "marker": {
             "colorbar": {
              "outlinewidth": 0,
              "ticks": ""
             }
            },
            "type": "scattergl"
           }
          ],
          "scattermapbox": [
           {
            "marker": {
             "colorbar": {
              "outlinewidth": 0,
              "ticks": ""
             }
            },
            "type": "scattermapbox"
           }
          ],
          "scatterpolar": [
           {
            "marker": {
             "colorbar": {
              "outlinewidth": 0,
              "ticks": ""
             }
            },
            "type": "scatterpolar"
           }
          ],
          "scatterpolargl": [
           {
            "marker": {
             "colorbar": {
              "outlinewidth": 0,
              "ticks": ""
             }
            },
            "type": "scatterpolargl"
           }
          ],
          "scatterternary": [
           {
            "marker": {
             "colorbar": {
              "outlinewidth": 0,
              "ticks": ""
             }
            },
            "type": "scatterternary"
           }
          ],
          "surface": [
           {
            "colorbar": {
             "outlinewidth": 0,
             "ticks": ""
            },
            "colorscale": [
             [
              0,
              "#0d0887"
             ],
             [
              0.1111111111111111,
              "#46039f"
             ],
             [
              0.2222222222222222,
              "#7201a8"
             ],
             [
              0.3333333333333333,
              "#9c179e"
             ],
             [
              0.4444444444444444,
              "#bd3786"
             ],
             [
              0.5555555555555556,
              "#d8576b"
             ],
             [
              0.6666666666666666,
              "#ed7953"
             ],
             [
              0.7777777777777778,
              "#fb9f3a"
             ],
             [
              0.8888888888888888,
              "#fdca26"
             ],
             [
              1,
              "#f0f921"
             ]
            ],
            "type": "surface"
           }
          ],
          "table": [
           {
            "cells": {
             "fill": {
              "color": "#EBF0F8"
             },
             "line": {
              "color": "white"
             }
            },
            "header": {
             "fill": {
              "color": "#C8D4E3"
             },
             "line": {
              "color": "white"
             }
            },
            "type": "table"
           }
          ]
         },
         "layout": {
          "annotationdefaults": {
           "arrowcolor": "#2a3f5f",
           "arrowhead": 0,
           "arrowwidth": 1
          },
          "autotypenumbers": "strict",
          "coloraxis": {
           "colorbar": {
            "outlinewidth": 0,
            "ticks": ""
           }
          },
          "colorscale": {
           "diverging": [
            [
             0,
             "#8e0152"
            ],
            [
             0.1,
             "#c51b7d"
            ],
            [
             0.2,
             "#de77ae"
            ],
            [
             0.3,
             "#f1b6da"
            ],
            [
             0.4,
             "#fde0ef"
            ],
            [
             0.5,
             "#f7f7f7"
            ],
            [
             0.6,
             "#e6f5d0"
            ],
            [
             0.7,
             "#b8e186"
            ],
            [
             0.8,
             "#7fbc41"
            ],
            [
             0.9,
             "#4d9221"
            ],
            [
             1,
             "#276419"
            ]
           ],
           "sequential": [
            [
             0,
             "#0d0887"
            ],
            [
             0.1111111111111111,
             "#46039f"
            ],
            [
             0.2222222222222222,
             "#7201a8"
            ],
            [
             0.3333333333333333,
             "#9c179e"
            ],
            [
             0.4444444444444444,
             "#bd3786"
            ],
            [
             0.5555555555555556,
             "#d8576b"
            ],
            [
             0.6666666666666666,
             "#ed7953"
            ],
            [
             0.7777777777777778,
             "#fb9f3a"
            ],
            [
             0.8888888888888888,
             "#fdca26"
            ],
            [
             1,
             "#f0f921"
            ]
           ],
           "sequentialminus": [
            [
             0,
             "#0d0887"
            ],
            [
             0.1111111111111111,
             "#46039f"
            ],
            [
             0.2222222222222222,
             "#7201a8"
            ],
            [
             0.3333333333333333,
             "#9c179e"
            ],
            [
             0.4444444444444444,
             "#bd3786"
            ],
            [
             0.5555555555555556,
             "#d8576b"
            ],
            [
             0.6666666666666666,
             "#ed7953"
            ],
            [
             0.7777777777777778,
             "#fb9f3a"
            ],
            [
             0.8888888888888888,
             "#fdca26"
            ],
            [
             1,
             "#f0f921"
            ]
           ]
          },
          "colorway": [
           "#636efa",
           "#EF553B",
           "#00cc96",
           "#ab63fa",
           "#FFA15A",
           "#19d3f3",
           "#FF6692",
           "#B6E880",
           "#FF97FF",
           "#FECB52"
          ],
          "font": {
           "color": "#2a3f5f"
          },
          "geo": {
           "bgcolor": "white",
           "lakecolor": "white",
           "landcolor": "#E5ECF6",
           "showlakes": true,
           "showland": true,
           "subunitcolor": "white"
          },
          "hoverlabel": {
           "align": "left"
          },
          "hovermode": "closest",
          "mapbox": {
           "style": "light"
          },
          "paper_bgcolor": "white",
          "plot_bgcolor": "#E5ECF6",
          "polar": {
           "angularaxis": {
            "gridcolor": "white",
            "linecolor": "white",
            "ticks": ""
           },
           "bgcolor": "#E5ECF6",
           "radialaxis": {
            "gridcolor": "white",
            "linecolor": "white",
            "ticks": ""
           }
          },
          "scene": {
           "xaxis": {
            "backgroundcolor": "#E5ECF6",
            "gridcolor": "white",
            "gridwidth": 2,
            "linecolor": "white",
            "showbackground": true,
            "ticks": "",
            "zerolinecolor": "white"
           },
           "yaxis": {
            "backgroundcolor": "#E5ECF6",
            "gridcolor": "white",
            "gridwidth": 2,
            "linecolor": "white",
            "showbackground": true,
            "ticks": "",
            "zerolinecolor": "white"
           },
           "zaxis": {
            "backgroundcolor": "#E5ECF6",
            "gridcolor": "white",
            "gridwidth": 2,
            "linecolor": "white",
            "showbackground": true,
            "ticks": "",
            "zerolinecolor": "white"
           }
          },
          "shapedefaults": {
           "line": {
            "color": "#2a3f5f"
           }
          },
          "ternary": {
           "aaxis": {
            "gridcolor": "white",
            "linecolor": "white",
            "ticks": ""
           },
           "baxis": {
            "gridcolor": "white",
            "linecolor": "white",
            "ticks": ""
           },
           "bgcolor": "#E5ECF6",
           "caxis": {
            "gridcolor": "white",
            "linecolor": "white",
            "ticks": ""
           }
          },
          "title": {
           "x": 0.05
          },
          "xaxis": {
           "automargin": true,
           "gridcolor": "white",
           "linecolor": "white",
           "ticks": "",
           "title": {
            "standoff": 15
           },
           "zerolinecolor": "white",
           "zerolinewidth": 2
          },
          "yaxis": {
           "automargin": true,
           "gridcolor": "white",
           "linecolor": "white",
           "ticks": "",
           "title": {
            "standoff": 15
           },
           "zerolinecolor": "white",
           "zerolinewidth": 2
          }
         }
        },
        "xaxis": {
         "anchor": "y",
         "domain": [
          0,
          1
         ],
         "title": {
          "text": "reviews"
         }
        },
        "yaxis": {
         "anchor": "x",
         "domain": [
          0,
          1
         ],
         "title": {
          "text": "count"
         }
        }
       }
      }
     },
     "metadata": {},
     "output_type": "display_data"
    }
   ],
   "source": [
    "# distribution of reviews\n",
    "\n",
    "px.histogram(data_frame=hotel_df, x = 'reviews')"
   ]
  },
  {
   "cell_type": "code",
   "execution_count": 168,
   "metadata": {},
   "outputs": [
    {
     "data": {
      "application/vnd.plotly.v1+json": {
       "config": {
        "plotlyServerURL": "https://plot.ly"
       },
       "data": [
        {
         "alignmentgroup": "True",
         "hovertemplate": "rating=%{x}<br>reviews=%{y}<extra></extra>",
         "legendgroup": "",
         "marker": {
          "color": "#636efa"
         },
         "name": "",
         "notched": false,
         "offsetgroup": "",
         "orientation": "v",
         "showlegend": false,
         "type": "box",
         "x": [
          4.5,
          4.5,
          4,
          4.5,
          4,
          4,
          4.5,
          4.5,
          4,
          4,
          5,
          4,
          4,
          4.5,
          4.5,
          4.5,
          4,
          4.5,
          4.5,
          4,
          4.5,
          4,
          4,
          4,
          5,
          4,
          4,
          3.5,
          4.5,
          4.5,
          4.5,
          4.5,
          4.5,
          4.5,
          5,
          4,
          4,
          5,
          4.5,
          3.5,
          4,
          4,
          5,
          4,
          5,
          2.5,
          3.5,
          4,
          2.5,
          4.5,
          4,
          3,
          4,
          4.5,
          5,
          4,
          4.5,
          4.5,
          2.5,
          4.5,
          4,
          4.5,
          4,
          3,
          3.5,
          4,
          4.5,
          3.5,
          4,
          4,
          4.5,
          3.5,
          4,
          4.5,
          2,
          3.5,
          4,
          4.5,
          2.5,
          3.5,
          null,
          3.5,
          4,
          1,
          4,
          4,
          5,
          4.5,
          4,
          3,
          4.5,
          3.5,
          3.5,
          3.5,
          4,
          3,
          3.5,
          4.5,
          4,
          5,
          3,
          5,
          4,
          2.5,
          4,
          2.5,
          4,
          4.5,
          4.5,
          3,
          3.5,
          4.5,
          null,
          2.5,
          null,
          4.5,
          4.5,
          3.5,
          4,
          4,
          4,
          3.5,
          4.5,
          3,
          3,
          4,
          4.5,
          4,
          3,
          5,
          4.5,
          2,
          4,
          4,
          4,
          4,
          3,
          4,
          4.5,
          3,
          5,
          3,
          4,
          4.5,
          3.5,
          4,
          4,
          4,
          3,
          4,
          3,
          4,
          3,
          3.5,
          3,
          null,
          3.5,
          4.5,
          3.5,
          null,
          4,
          3,
          null,
          4.5,
          2.5,
          4.5,
          4,
          4,
          5,
          5,
          4,
          4,
          3,
          3,
          5,
          4,
          5,
          3.5,
          4.5,
          4,
          null,
          4,
          null,
          5,
          3.5,
          2,
          3.5,
          4,
          5,
          5,
          null,
          4,
          5,
          null,
          null,
          4,
          1,
          3,
          null,
          4.5,
          3.5,
          4,
          null,
          5,
          4,
          5,
          5,
          4,
          4.5,
          1,
          3,
          4,
          null,
          1.5,
          4.5,
          4,
          5,
          3.5,
          3.5,
          3,
          4,
          null,
          null,
          4.5,
          1,
          4.5,
          4,
          null,
          null,
          3,
          5,
          null,
          3,
          4
         ],
         "x0": " ",
         "xaxis": "x",
         "y": [
          56,
          76,
          176,
          12,
          42,
          84,
          47,
          7,
          40,
          53,
          25,
          103,
          40,
          22,
          20,
          46,
          38,
          6,
          29,
          13,
          24,
          21,
          41,
          24,
          16,
          31,
          45,
          46,
          32,
          12,
          15,
          20,
          18,
          29,
          5,
          11,
          15,
          6,
          28,
          4,
          9,
          9,
          2,
          48,
          9,
          24,
          17,
          20,
          3,
          10,
          67,
          2,
          10,
          15,
          14,
          25,
          22,
          23,
          3,
          15,
          35,
          13,
          12,
          32,
          11,
          3,
          6,
          30,
          21,
          4,
          12,
          14,
          4,
          15,
          6,
          3,
          11,
          16,
          15,
          9,
          null,
          11,
          2,
          4,
          1,
          14,
          9,
          13,
          8,
          7,
          19,
          3,
          7,
          18,
          17,
          11,
          3,
          15,
          7,
          1,
          3,
          1,
          8,
          7,
          9,
          8,
          1,
          4,
          22,
          25,
          4,
          8,
          null,
          2,
          null,
          7,
          17,
          16,
          7,
          2,
          7,
          3,
          9,
          3,
          7,
          17,
          3,
          9,
          2,
          1,
          4,
          1,
          14,
          15,
          2,
          1,
          3,
          20,
          15,
          1,
          1,
          6,
          8,
          13,
          3,
          25,
          8,
          8,
          8,
          10,
          3,
          12,
          6,
          13,
          35,
          null,
          21,
          30,
          15,
          null,
          1,
          7,
          null,
          10,
          7,
          7,
          4,
          5,
          3,
          2,
          19,
          2,
          7,
          12,
          8,
          27,
          2,
          5,
          17,
          6,
          null,
          16,
          null,
          4,
          13,
          13,
          2,
          26,
          1,
          4,
          null,
          5,
          10,
          null,
          null,
          1,
          2,
          7,
          null,
          7,
          3,
          5,
          null,
          1,
          10,
          2,
          5,
          22,
          3,
          1,
          2,
          29,
          null,
          3,
          7,
          19,
          7,
          17,
          9,
          4,
          22,
          null,
          null,
          11,
          1,
          5,
          3,
          null,
          null,
          11,
          4,
          null,
          1,
          5
         ],
         "y0": " ",
         "yaxis": "y"
        }
       ],
       "layout": {
        "boxmode": "group",
        "legend": {
         "tracegroupgap": 0
        },
        "margin": {
         "t": 60
        },
        "template": {
         "data": {
          "bar": [
           {
            "error_x": {
             "color": "#2a3f5f"
            },
            "error_y": {
             "color": "#2a3f5f"
            },
            "marker": {
             "line": {
              "color": "#E5ECF6",
              "width": 0.5
             },
             "pattern": {
              "fillmode": "overlay",
              "size": 10,
              "solidity": 0.2
             }
            },
            "type": "bar"
           }
          ],
          "barpolar": [
           {
            "marker": {
             "line": {
              "color": "#E5ECF6",
              "width": 0.5
             },
             "pattern": {
              "fillmode": "overlay",
              "size": 10,
              "solidity": 0.2
             }
            },
            "type": "barpolar"
           }
          ],
          "carpet": [
           {
            "aaxis": {
             "endlinecolor": "#2a3f5f",
             "gridcolor": "white",
             "linecolor": "white",
             "minorgridcolor": "white",
             "startlinecolor": "#2a3f5f"
            },
            "baxis": {
             "endlinecolor": "#2a3f5f",
             "gridcolor": "white",
             "linecolor": "white",
             "minorgridcolor": "white",
             "startlinecolor": "#2a3f5f"
            },
            "type": "carpet"
           }
          ],
          "choropleth": [
           {
            "colorbar": {
             "outlinewidth": 0,
             "ticks": ""
            },
            "type": "choropleth"
           }
          ],
          "contour": [
           {
            "colorbar": {
             "outlinewidth": 0,
             "ticks": ""
            },
            "colorscale": [
             [
              0,
              "#0d0887"
             ],
             [
              0.1111111111111111,
              "#46039f"
             ],
             [
              0.2222222222222222,
              "#7201a8"
             ],
             [
              0.3333333333333333,
              "#9c179e"
             ],
             [
              0.4444444444444444,
              "#bd3786"
             ],
             [
              0.5555555555555556,
              "#d8576b"
             ],
             [
              0.6666666666666666,
              "#ed7953"
             ],
             [
              0.7777777777777778,
              "#fb9f3a"
             ],
             [
              0.8888888888888888,
              "#fdca26"
             ],
             [
              1,
              "#f0f921"
             ]
            ],
            "type": "contour"
           }
          ],
          "contourcarpet": [
           {
            "colorbar": {
             "outlinewidth": 0,
             "ticks": ""
            },
            "type": "contourcarpet"
           }
          ],
          "heatmap": [
           {
            "colorbar": {
             "outlinewidth": 0,
             "ticks": ""
            },
            "colorscale": [
             [
              0,
              "#0d0887"
             ],
             [
              0.1111111111111111,
              "#46039f"
             ],
             [
              0.2222222222222222,
              "#7201a8"
             ],
             [
              0.3333333333333333,
              "#9c179e"
             ],
             [
              0.4444444444444444,
              "#bd3786"
             ],
             [
              0.5555555555555556,
              "#d8576b"
             ],
             [
              0.6666666666666666,
              "#ed7953"
             ],
             [
              0.7777777777777778,
              "#fb9f3a"
             ],
             [
              0.8888888888888888,
              "#fdca26"
             ],
             [
              1,
              "#f0f921"
             ]
            ],
            "type": "heatmap"
           }
          ],
          "heatmapgl": [
           {
            "colorbar": {
             "outlinewidth": 0,
             "ticks": ""
            },
            "colorscale": [
             [
              0,
              "#0d0887"
             ],
             [
              0.1111111111111111,
              "#46039f"
             ],
             [
              0.2222222222222222,
              "#7201a8"
             ],
             [
              0.3333333333333333,
              "#9c179e"
             ],
             [
              0.4444444444444444,
              "#bd3786"
             ],
             [
              0.5555555555555556,
              "#d8576b"
             ],
             [
              0.6666666666666666,
              "#ed7953"
             ],
             [
              0.7777777777777778,
              "#fb9f3a"
             ],
             [
              0.8888888888888888,
              "#fdca26"
             ],
             [
              1,
              "#f0f921"
             ]
            ],
            "type": "heatmapgl"
           }
          ],
          "histogram": [
           {
            "marker": {
             "pattern": {
              "fillmode": "overlay",
              "size": 10,
              "solidity": 0.2
             }
            },
            "type": "histogram"
           }
          ],
          "histogram2d": [
           {
            "colorbar": {
             "outlinewidth": 0,
             "ticks": ""
            },
            "colorscale": [
             [
              0,
              "#0d0887"
             ],
             [
              0.1111111111111111,
              "#46039f"
             ],
             [
              0.2222222222222222,
              "#7201a8"
             ],
             [
              0.3333333333333333,
              "#9c179e"
             ],
             [
              0.4444444444444444,
              "#bd3786"
             ],
             [
              0.5555555555555556,
              "#d8576b"
             ],
             [
              0.6666666666666666,
              "#ed7953"
             ],
             [
              0.7777777777777778,
              "#fb9f3a"
             ],
             [
              0.8888888888888888,
              "#fdca26"
             ],
             [
              1,
              "#f0f921"
             ]
            ],
            "type": "histogram2d"
           }
          ],
          "histogram2dcontour": [
           {
            "colorbar": {
             "outlinewidth": 0,
             "ticks": ""
            },
            "colorscale": [
             [
              0,
              "#0d0887"
             ],
             [
              0.1111111111111111,
              "#46039f"
             ],
             [
              0.2222222222222222,
              "#7201a8"
             ],
             [
              0.3333333333333333,
              "#9c179e"
             ],
             [
              0.4444444444444444,
              "#bd3786"
             ],
             [
              0.5555555555555556,
              "#d8576b"
             ],
             [
              0.6666666666666666,
              "#ed7953"
             ],
             [
              0.7777777777777778,
              "#fb9f3a"
             ],
             [
              0.8888888888888888,
              "#fdca26"
             ],
             [
              1,
              "#f0f921"
             ]
            ],
            "type": "histogram2dcontour"
           }
          ],
          "mesh3d": [
           {
            "colorbar": {
             "outlinewidth": 0,
             "ticks": ""
            },
            "type": "mesh3d"
           }
          ],
          "parcoords": [
           {
            "line": {
             "colorbar": {
              "outlinewidth": 0,
              "ticks": ""
             }
            },
            "type": "parcoords"
           }
          ],
          "pie": [
           {
            "automargin": true,
            "type": "pie"
           }
          ],
          "scatter": [
           {
            "marker": {
             "colorbar": {
              "outlinewidth": 0,
              "ticks": ""
             }
            },
            "type": "scatter"
           }
          ],
          "scatter3d": [
           {
            "line": {
             "colorbar": {
              "outlinewidth": 0,
              "ticks": ""
             }
            },
            "marker": {
             "colorbar": {
              "outlinewidth": 0,
              "ticks": ""
             }
            },
            "type": "scatter3d"
           }
          ],
          "scattercarpet": [
           {
            "marker": {
             "colorbar": {
              "outlinewidth": 0,
              "ticks": ""
             }
            },
            "type": "scattercarpet"
           }
          ],
          "scattergeo": [
           {
            "marker": {
             "colorbar": {
              "outlinewidth": 0,
              "ticks": ""
             }
            },
            "type": "scattergeo"
           }
          ],
          "scattergl": [
           {
            "marker": {
             "colorbar": {
              "outlinewidth": 0,
              "ticks": ""
             }
            },
            "type": "scattergl"
           }
          ],
          "scattermapbox": [
           {
            "marker": {
             "colorbar": {
              "outlinewidth": 0,
              "ticks": ""
             }
            },
            "type": "scattermapbox"
           }
          ],
          "scatterpolar": [
           {
            "marker": {
             "colorbar": {
              "outlinewidth": 0,
              "ticks": ""
             }
            },
            "type": "scatterpolar"
           }
          ],
          "scatterpolargl": [
           {
            "marker": {
             "colorbar": {
              "outlinewidth": 0,
              "ticks": ""
             }
            },
            "type": "scatterpolargl"
           }
          ],
          "scatterternary": [
           {
            "marker": {
             "colorbar": {
              "outlinewidth": 0,
              "ticks": ""
             }
            },
            "type": "scatterternary"
           }
          ],
          "surface": [
           {
            "colorbar": {
             "outlinewidth": 0,
             "ticks": ""
            },
            "colorscale": [
             [
              0,
              "#0d0887"
             ],
             [
              0.1111111111111111,
              "#46039f"
             ],
             [
              0.2222222222222222,
              "#7201a8"
             ],
             [
              0.3333333333333333,
              "#9c179e"
             ],
             [
              0.4444444444444444,
              "#bd3786"
             ],
             [
              0.5555555555555556,
              "#d8576b"
             ],
             [
              0.6666666666666666,
              "#ed7953"
             ],
             [
              0.7777777777777778,
              "#fb9f3a"
             ],
             [
              0.8888888888888888,
              "#fdca26"
             ],
             [
              1,
              "#f0f921"
             ]
            ],
            "type": "surface"
           }
          ],
          "table": [
           {
            "cells": {
             "fill": {
              "color": "#EBF0F8"
             },
             "line": {
              "color": "white"
             }
            },
            "header": {
             "fill": {
              "color": "#C8D4E3"
             },
             "line": {
              "color": "white"
             }
            },
            "type": "table"
           }
          ]
         },
         "layout": {
          "annotationdefaults": {
           "arrowcolor": "#2a3f5f",
           "arrowhead": 0,
           "arrowwidth": 1
          },
          "autotypenumbers": "strict",
          "coloraxis": {
           "colorbar": {
            "outlinewidth": 0,
            "ticks": ""
           }
          },
          "colorscale": {
           "diverging": [
            [
             0,
             "#8e0152"
            ],
            [
             0.1,
             "#c51b7d"
            ],
            [
             0.2,
             "#de77ae"
            ],
            [
             0.3,
             "#f1b6da"
            ],
            [
             0.4,
             "#fde0ef"
            ],
            [
             0.5,
             "#f7f7f7"
            ],
            [
             0.6,
             "#e6f5d0"
            ],
            [
             0.7,
             "#b8e186"
            ],
            [
             0.8,
             "#7fbc41"
            ],
            [
             0.9,
             "#4d9221"
            ],
            [
             1,
             "#276419"
            ]
           ],
           "sequential": [
            [
             0,
             "#0d0887"
            ],
            [
             0.1111111111111111,
             "#46039f"
            ],
            [
             0.2222222222222222,
             "#7201a8"
            ],
            [
             0.3333333333333333,
             "#9c179e"
            ],
            [
             0.4444444444444444,
             "#bd3786"
            ],
            [
             0.5555555555555556,
             "#d8576b"
            ],
            [
             0.6666666666666666,
             "#ed7953"
            ],
            [
             0.7777777777777778,
             "#fb9f3a"
            ],
            [
             0.8888888888888888,
             "#fdca26"
            ],
            [
             1,
             "#f0f921"
            ]
           ],
           "sequentialminus": [
            [
             0,
             "#0d0887"
            ],
            [
             0.1111111111111111,
             "#46039f"
            ],
            [
             0.2222222222222222,
             "#7201a8"
            ],
            [
             0.3333333333333333,
             "#9c179e"
            ],
            [
             0.4444444444444444,
             "#bd3786"
            ],
            [
             0.5555555555555556,
             "#d8576b"
            ],
            [
             0.6666666666666666,
             "#ed7953"
            ],
            [
             0.7777777777777778,
             "#fb9f3a"
            ],
            [
             0.8888888888888888,
             "#fdca26"
            ],
            [
             1,
             "#f0f921"
            ]
           ]
          },
          "colorway": [
           "#636efa",
           "#EF553B",
           "#00cc96",
           "#ab63fa",
           "#FFA15A",
           "#19d3f3",
           "#FF6692",
           "#B6E880",
           "#FF97FF",
           "#FECB52"
          ],
          "font": {
           "color": "#2a3f5f"
          },
          "geo": {
           "bgcolor": "white",
           "lakecolor": "white",
           "landcolor": "#E5ECF6",
           "showlakes": true,
           "showland": true,
           "subunitcolor": "white"
          },
          "hoverlabel": {
           "align": "left"
          },
          "hovermode": "closest",
          "mapbox": {
           "style": "light"
          },
          "paper_bgcolor": "white",
          "plot_bgcolor": "#E5ECF6",
          "polar": {
           "angularaxis": {
            "gridcolor": "white",
            "linecolor": "white",
            "ticks": ""
           },
           "bgcolor": "#E5ECF6",
           "radialaxis": {
            "gridcolor": "white",
            "linecolor": "white",
            "ticks": ""
           }
          },
          "scene": {
           "xaxis": {
            "backgroundcolor": "#E5ECF6",
            "gridcolor": "white",
            "gridwidth": 2,
            "linecolor": "white",
            "showbackground": true,
            "ticks": "",
            "zerolinecolor": "white"
           },
           "yaxis": {
            "backgroundcolor": "#E5ECF6",
            "gridcolor": "white",
            "gridwidth": 2,
            "linecolor": "white",
            "showbackground": true,
            "ticks": "",
            "zerolinecolor": "white"
           },
           "zaxis": {
            "backgroundcolor": "#E5ECF6",
            "gridcolor": "white",
            "gridwidth": 2,
            "linecolor": "white",
            "showbackground": true,
            "ticks": "",
            "zerolinecolor": "white"
           }
          },
          "shapedefaults": {
           "line": {
            "color": "#2a3f5f"
           }
          },
          "ternary": {
           "aaxis": {
            "gridcolor": "white",
            "linecolor": "white",
            "ticks": ""
           },
           "baxis": {
            "gridcolor": "white",
            "linecolor": "white",
            "ticks": ""
           },
           "bgcolor": "#E5ECF6",
           "caxis": {
            "gridcolor": "white",
            "linecolor": "white",
            "ticks": ""
           }
          },
          "title": {
           "x": 0.05
          },
          "xaxis": {
           "automargin": true,
           "gridcolor": "white",
           "linecolor": "white",
           "ticks": "",
           "title": {
            "standoff": 15
           },
           "zerolinecolor": "white",
           "zerolinewidth": 2
          },
          "yaxis": {
           "automargin": true,
           "gridcolor": "white",
           "linecolor": "white",
           "ticks": "",
           "title": {
            "standoff": 15
           },
           "zerolinecolor": "white",
           "zerolinewidth": 2
          }
         }
        },
        "xaxis": {
         "anchor": "y",
         "domain": [
          0,
          1
         ],
         "title": {
          "text": "rating"
         }
        },
        "yaxis": {
         "anchor": "x",
         "domain": [
          0,
          1
         ],
         "title": {
          "text": "reviews"
         }
        }
       }
      }
     },
     "metadata": {},
     "output_type": "display_data"
    }
   ],
   "source": [
    "px.box(data_frame=hotel_df, x = 'rating', y = 'reviews')"
   ]
  },
  {
   "cell_type": "code",
   "execution_count": 169,
   "metadata": {},
   "outputs": [
    {
     "data": {
      "text/html": [
       "<div>\n",
       "<style scoped>\n",
       "    .dataframe tbody tr th:only-of-type {\n",
       "        vertical-align: middle;\n",
       "    }\n",
       "\n",
       "    .dataframe tbody tr th {\n",
       "        vertical-align: top;\n",
       "    }\n",
       "\n",
       "    .dataframe thead th {\n",
       "        text-align: right;\n",
       "    }\n",
       "</style>\n",
       "<table border=\"1\" class=\"dataframe\">\n",
       "  <thead>\n",
       "    <tr style=\"text-align: right;\">\n",
       "      <th></th>\n",
       "      <th>name</th>\n",
       "      <th>rating</th>\n",
       "      <th>reviews</th>\n",
       "      <th>price_range</th>\n",
       "    </tr>\n",
       "  </thead>\n",
       "  <tbody>\n",
       "    <tr>\n",
       "      <th>2</th>\n",
       "      <td>W Barcelona</td>\n",
       "      <td>4.0</td>\n",
       "      <td>176.0</td>\n",
       "      <td>over 67</td>\n",
       "    </tr>\n",
       "    <tr>\n",
       "      <th>11</th>\n",
       "      <td>Hotel Arts Barcelona</td>\n",
       "      <td>4.0</td>\n",
       "      <td>103.0</td>\n",
       "      <td>NaN</td>\n",
       "    </tr>\n",
       "    <tr>\n",
       "      <th>5</th>\n",
       "      <td>Le Méridien Barcelona</td>\n",
       "      <td>4.0</td>\n",
       "      <td>84.0</td>\n",
       "      <td>[34 - 66]</td>\n",
       "    </tr>\n",
       "    <tr>\n",
       "      <th>1</th>\n",
       "      <td>Hotel 1898</td>\n",
       "      <td>4.5</td>\n",
       "      <td>76.0</td>\n",
       "      <td>[34 - 66]</td>\n",
       "    </tr>\n",
       "    <tr>\n",
       "      <th>50</th>\n",
       "      <td>Hilton Diagonal Mar</td>\n",
       "      <td>4.0</td>\n",
       "      <td>67.0</td>\n",
       "      <td>[34 - 66]</td>\n",
       "    </tr>\n",
       "    <tr>\n",
       "      <th>0</th>\n",
       "      <td>Barceló Raval</td>\n",
       "      <td>4.5</td>\n",
       "      <td>56.0</td>\n",
       "      <td>[12 - 33]</td>\n",
       "    </tr>\n",
       "    <tr>\n",
       "      <th>9</th>\n",
       "      <td>Renaissance Barcelona Hotel</td>\n",
       "      <td>4.0</td>\n",
       "      <td>53.0</td>\n",
       "      <td>[34 - 66]</td>\n",
       "    </tr>\n",
       "    <tr>\n",
       "      <th>43</th>\n",
       "      <td>Hotel Colón</td>\n",
       "      <td>4.0</td>\n",
       "      <td>48.0</td>\n",
       "      <td>[34 - 66]</td>\n",
       "    </tr>\n",
       "    <tr>\n",
       "      <th>6</th>\n",
       "      <td>Hotel Cotton House</td>\n",
       "      <td>4.5</td>\n",
       "      <td>47.0</td>\n",
       "      <td>[34 - 66]</td>\n",
       "    </tr>\n",
       "    <tr>\n",
       "      <th>27</th>\n",
       "      <td>Hilton Barcelona Hotel</td>\n",
       "      <td>3.5</td>\n",
       "      <td>46.0</td>\n",
       "      <td>[34 - 66]</td>\n",
       "    </tr>\n",
       "    <tr>\n",
       "      <th>15</th>\n",
       "      <td>Hotel Europark</td>\n",
       "      <td>4.5</td>\n",
       "      <td>46.0</td>\n",
       "      <td>[12 - 33]</td>\n",
       "    </tr>\n",
       "    <tr>\n",
       "      <th>26</th>\n",
       "      <td>Alexandra Barcelona Hotel</td>\n",
       "      <td>4.0</td>\n",
       "      <td>45.0</td>\n",
       "      <td>[34 - 66]</td>\n",
       "    </tr>\n",
       "    <tr>\n",
       "      <th>4</th>\n",
       "      <td>Pulitzer Barcelona</td>\n",
       "      <td>4.0</td>\n",
       "      <td>42.0</td>\n",
       "      <td>[12 - 33]</td>\n",
       "    </tr>\n",
       "    <tr>\n",
       "      <th>22</th>\n",
       "      <td>Hotel Barcelona Universal</td>\n",
       "      <td>4.0</td>\n",
       "      <td>41.0</td>\n",
       "      <td>[12 - 33]</td>\n",
       "    </tr>\n",
       "    <tr>\n",
       "      <th>8</th>\n",
       "      <td>Hotel Majestic</td>\n",
       "      <td>4.0</td>\n",
       "      <td>40.0</td>\n",
       "      <td>[34 - 66]</td>\n",
       "    </tr>\n",
       "    <tr>\n",
       "      <th>12</th>\n",
       "      <td>Mandarin Oriental</td>\n",
       "      <td>4.0</td>\n",
       "      <td>40.0</td>\n",
       "      <td>over 67</td>\n",
       "    </tr>\n",
       "    <tr>\n",
       "      <th>16</th>\n",
       "      <td>Grand Hotel Central</td>\n",
       "      <td>4.0</td>\n",
       "      <td>38.0</td>\n",
       "      <td>NaN</td>\n",
       "    </tr>\n",
       "    <tr>\n",
       "      <th>60</th>\n",
       "      <td>Renaissance Barcelona Fira Hotel</td>\n",
       "      <td>4.0</td>\n",
       "      <td>35.0</td>\n",
       "      <td>NaN</td>\n",
       "    </tr>\n",
       "    <tr>\n",
       "      <th>156</th>\n",
       "      <td>Tryp Apolo Hotel</td>\n",
       "      <td>3.0</td>\n",
       "      <td>35.0</td>\n",
       "      <td>[12 - 33]</td>\n",
       "    </tr>\n",
       "    <tr>\n",
       "      <th>28</th>\n",
       "      <td>Hotel Duquesa de Cardona</td>\n",
       "      <td>4.5</td>\n",
       "      <td>32.0</td>\n",
       "      <td>[34 - 66]</td>\n",
       "    </tr>\n",
       "  </tbody>\n",
       "</table>\n",
       "</div>"
      ],
      "text/plain": [
       "                                 name  rating  reviews price_range\n",
       "2                         W Barcelona     4.0    176.0     over 67\n",
       "11               Hotel Arts Barcelona     4.0    103.0         NaN\n",
       "5               Le Méridien Barcelona     4.0     84.0   [34 - 66]\n",
       "1                          Hotel 1898     4.5     76.0   [34 - 66]\n",
       "50                Hilton Diagonal Mar     4.0     67.0   [34 - 66]\n",
       "0                       Barceló Raval     4.5     56.0   [12 - 33]\n",
       "9         Renaissance Barcelona Hotel     4.0     53.0   [34 - 66]\n",
       "43                        Hotel Colón     4.0     48.0   [34 - 66]\n",
       "6                  Hotel Cotton House     4.5     47.0   [34 - 66]\n",
       "27             Hilton Barcelona Hotel     3.5     46.0   [34 - 66]\n",
       "15                     Hotel Europark     4.5     46.0   [12 - 33]\n",
       "26          Alexandra Barcelona Hotel     4.0     45.0   [34 - 66]\n",
       "4                  Pulitzer Barcelona     4.0     42.0   [12 - 33]\n",
       "22          Hotel Barcelona Universal     4.0     41.0   [12 - 33]\n",
       "8                      Hotel Majestic     4.0     40.0   [34 - 66]\n",
       "12                  Mandarin Oriental     4.0     40.0     over 67\n",
       "16                Grand Hotel Central     4.0     38.0         NaN\n",
       "60   Renaissance Barcelona Fira Hotel     4.0     35.0         NaN\n",
       "156                  Tryp Apolo Hotel     3.0     35.0   [12 - 33]\n",
       "28           Hotel Duquesa de Cardona     4.5     32.0   [34 - 66]"
      ]
     },
     "execution_count": 169,
     "metadata": {},
     "output_type": "execute_result"
    }
   ],
   "source": [
    "# Top 20 Most reviews\n",
    "\n",
    "hotel_df.sort_values(by='reviews', ascending=False).head(20)"
   ]
  },
  {
   "cell_type": "code",
   "execution_count": 173,
   "metadata": {},
   "outputs": [
    {
     "data": {
      "application/vnd.plotly.v1+json": {
       "config": {
        "plotlyServerURL": "https://plot.ly"
       },
       "data": [
        {
         "hovertemplate": "index=%{x}<br>reviews=%{y}<br>rating=%{marker.color}<extra></extra>",
         "legendgroup": "",
         "marker": {
          "color": [
           4.5,
           4.5,
           4,
           4.5,
           4,
           4,
           4.5,
           4.5,
           4,
           4,
           5,
           4,
           4,
           4.5,
           4.5,
           4.5,
           4,
           4.5,
           4.5,
           4,
           4.5,
           4,
           4,
           4,
           5,
           4,
           4,
           3.5,
           4.5,
           4.5,
           4.5,
           4.5,
           4.5,
           4.5,
           5,
           4,
           4,
           5,
           4.5,
           3.5,
           4,
           4,
           5,
           4,
           5,
           2.5,
           3.5,
           4,
           2.5,
           4.5,
           4,
           3,
           4,
           4.5,
           5,
           4,
           4.5,
           4.5,
           2.5,
           4.5,
           4,
           4.5,
           4,
           3,
           3.5,
           4,
           4.5,
           3.5,
           4,
           4,
           4.5,
           3.5,
           4,
           4.5,
           2,
           3.5,
           4,
           4.5,
           2.5,
           3.5,
           null,
           3.5,
           4,
           1,
           4,
           4,
           5,
           4.5,
           4,
           3,
           4.5,
           3.5,
           3.5,
           3.5,
           4,
           3,
           3.5,
           4.5,
           4,
           5,
           3,
           5,
           4,
           2.5,
           4,
           2.5,
           4,
           4.5,
           4.5,
           3,
           3.5,
           4.5,
           null,
           2.5,
           null,
           4.5,
           4.5,
           3.5,
           4,
           4,
           4,
           3.5,
           4.5,
           3,
           3,
           4,
           4.5,
           4,
           3,
           5,
           4.5,
           2,
           4,
           4,
           4,
           4,
           3,
           4,
           4.5,
           3,
           5,
           3,
           4,
           4.5,
           3.5,
           4,
           4,
           4,
           3,
           4,
           3,
           4,
           3,
           3.5,
           3,
           null,
           3.5,
           4.5,
           3.5,
           null,
           4,
           3,
           null,
           4.5,
           2.5,
           4.5,
           4,
           4,
           5,
           5,
           4,
           4,
           3,
           3,
           5,
           4,
           5,
           3.5,
           4.5,
           4,
           null,
           4,
           null,
           5,
           3.5,
           2,
           3.5,
           4,
           5,
           5,
           null,
           4,
           5,
           null,
           null,
           4,
           1,
           3,
           null,
           4.5,
           3.5,
           4,
           null,
           5,
           4,
           5,
           5,
           4,
           4.5,
           1,
           3,
           4,
           null,
           1.5,
           4.5,
           4,
           5,
           3.5,
           3.5,
           3,
           4,
           null,
           null,
           4.5,
           1,
           4.5,
           4,
           null,
           null,
           3,
           5,
           null,
           3,
           4
          ],
          "coloraxis": "coloraxis",
          "symbol": "circle"
         },
         "mode": "markers",
         "name": "",
         "orientation": "v",
         "showlegend": false,
         "type": "scatter",
         "x": [
          0,
          1,
          2,
          3,
          4,
          5,
          6,
          7,
          8,
          9,
          10,
          11,
          12,
          13,
          14,
          15,
          16,
          17,
          18,
          19,
          20,
          21,
          22,
          23,
          24,
          25,
          26,
          27,
          28,
          29,
          30,
          31,
          32,
          33,
          34,
          35,
          36,
          37,
          38,
          39,
          40,
          41,
          42,
          43,
          44,
          45,
          46,
          47,
          48,
          49,
          50,
          51,
          52,
          53,
          54,
          55,
          56,
          57,
          58,
          59,
          60,
          61,
          62,
          63,
          64,
          65,
          66,
          67,
          68,
          69,
          70,
          71,
          72,
          73,
          74,
          75,
          76,
          77,
          78,
          79,
          80,
          81,
          82,
          83,
          84,
          85,
          86,
          87,
          88,
          89,
          90,
          91,
          92,
          93,
          94,
          95,
          96,
          97,
          98,
          99,
          100,
          101,
          102,
          103,
          104,
          105,
          106,
          107,
          108,
          109,
          110,
          111,
          112,
          113,
          115,
          116,
          117,
          118,
          119,
          120,
          121,
          122,
          123,
          124,
          125,
          126,
          127,
          128,
          129,
          130,
          131,
          132,
          133,
          134,
          135,
          136,
          137,
          138,
          139,
          140,
          141,
          142,
          143,
          144,
          145,
          146,
          147,
          148,
          149,
          151,
          152,
          153,
          154,
          155,
          156,
          157,
          158,
          159,
          160,
          161,
          162,
          163,
          164,
          165,
          166,
          167,
          168,
          169,
          170,
          171,
          172,
          173,
          174,
          175,
          176,
          177,
          178,
          179,
          180,
          181,
          182,
          183,
          184,
          185,
          186,
          187,
          188,
          189,
          191,
          192,
          193,
          194,
          195,
          196,
          197,
          198,
          199,
          200,
          201,
          202,
          203,
          204,
          205,
          206,
          207,
          208,
          209,
          212,
          213,
          214,
          215,
          216,
          217,
          218,
          219,
          220,
          221,
          222,
          223,
          224,
          225,
          226,
          227,
          228,
          229,
          231,
          232,
          233,
          234,
          235,
          236,
          237,
          238,
          239
         ],
         "xaxis": "x",
         "y": [
          56,
          76,
          176,
          12,
          42,
          84,
          47,
          7,
          40,
          53,
          25,
          103,
          40,
          22,
          20,
          46,
          38,
          6,
          29,
          13,
          24,
          21,
          41,
          24,
          16,
          31,
          45,
          46,
          32,
          12,
          15,
          20,
          18,
          29,
          5,
          11,
          15,
          6,
          28,
          4,
          9,
          9,
          2,
          48,
          9,
          24,
          17,
          20,
          3,
          10,
          67,
          2,
          10,
          15,
          14,
          25,
          22,
          23,
          3,
          15,
          35,
          13,
          12,
          32,
          11,
          3,
          6,
          30,
          21,
          4,
          12,
          14,
          4,
          15,
          6,
          3,
          11,
          16,
          15,
          9,
          null,
          11,
          2,
          4,
          1,
          14,
          9,
          13,
          8,
          7,
          19,
          3,
          7,
          18,
          17,
          11,
          3,
          15,
          7,
          1,
          3,
          1,
          8,
          7,
          9,
          8,
          1,
          4,
          22,
          25,
          4,
          8,
          null,
          2,
          null,
          7,
          17,
          16,
          7,
          2,
          7,
          3,
          9,
          3,
          7,
          17,
          3,
          9,
          2,
          1,
          4,
          1,
          14,
          15,
          2,
          1,
          3,
          20,
          15,
          1,
          1,
          6,
          8,
          13,
          3,
          25,
          8,
          8,
          8,
          10,
          3,
          12,
          6,
          13,
          35,
          null,
          21,
          30,
          15,
          null,
          1,
          7,
          null,
          10,
          7,
          7,
          4,
          5,
          3,
          2,
          19,
          2,
          7,
          12,
          8,
          27,
          2,
          5,
          17,
          6,
          null,
          16,
          null,
          4,
          13,
          13,
          2,
          26,
          1,
          4,
          null,
          5,
          10,
          null,
          null,
          1,
          2,
          7,
          null,
          7,
          3,
          5,
          null,
          1,
          10,
          2,
          5,
          22,
          3,
          1,
          2,
          29,
          null,
          3,
          7,
          19,
          7,
          17,
          9,
          4,
          22,
          null,
          null,
          11,
          1,
          5,
          3,
          null,
          null,
          11,
          4,
          null,
          1,
          5
         ],
         "yaxis": "y"
        }
       ],
       "layout": {
        "coloraxis": {
         "colorbar": {
          "title": {
           "text": "rating"
          }
         },
         "colorscale": [
          [
           0,
           "#0d0887"
          ],
          [
           0.1111111111111111,
           "#46039f"
          ],
          [
           0.2222222222222222,
           "#7201a8"
          ],
          [
           0.3333333333333333,
           "#9c179e"
          ],
          [
           0.4444444444444444,
           "#bd3786"
          ],
          [
           0.5555555555555556,
           "#d8576b"
          ],
          [
           0.6666666666666666,
           "#ed7953"
          ],
          [
           0.7777777777777778,
           "#fb9f3a"
          ],
          [
           0.8888888888888888,
           "#fdca26"
          ],
          [
           1,
           "#f0f921"
          ]
         ]
        },
        "legend": {
         "tracegroupgap": 0
        },
        "margin": {
         "t": 60
        },
        "template": {
         "data": {
          "bar": [
           {
            "error_x": {
             "color": "#2a3f5f"
            },
            "error_y": {
             "color": "#2a3f5f"
            },
            "marker": {
             "line": {
              "color": "#E5ECF6",
              "width": 0.5
             },
             "pattern": {
              "fillmode": "overlay",
              "size": 10,
              "solidity": 0.2
             }
            },
            "type": "bar"
           }
          ],
          "barpolar": [
           {
            "marker": {
             "line": {
              "color": "#E5ECF6",
              "width": 0.5
             },
             "pattern": {
              "fillmode": "overlay",
              "size": 10,
              "solidity": 0.2
             }
            },
            "type": "barpolar"
           }
          ],
          "carpet": [
           {
            "aaxis": {
             "endlinecolor": "#2a3f5f",
             "gridcolor": "white",
             "linecolor": "white",
             "minorgridcolor": "white",
             "startlinecolor": "#2a3f5f"
            },
            "baxis": {
             "endlinecolor": "#2a3f5f",
             "gridcolor": "white",
             "linecolor": "white",
             "minorgridcolor": "white",
             "startlinecolor": "#2a3f5f"
            },
            "type": "carpet"
           }
          ],
          "choropleth": [
           {
            "colorbar": {
             "outlinewidth": 0,
             "ticks": ""
            },
            "type": "choropleth"
           }
          ],
          "contour": [
           {
            "colorbar": {
             "outlinewidth": 0,
             "ticks": ""
            },
            "colorscale": [
             [
              0,
              "#0d0887"
             ],
             [
              0.1111111111111111,
              "#46039f"
             ],
             [
              0.2222222222222222,
              "#7201a8"
             ],
             [
              0.3333333333333333,
              "#9c179e"
             ],
             [
              0.4444444444444444,
              "#bd3786"
             ],
             [
              0.5555555555555556,
              "#d8576b"
             ],
             [
              0.6666666666666666,
              "#ed7953"
             ],
             [
              0.7777777777777778,
              "#fb9f3a"
             ],
             [
              0.8888888888888888,
              "#fdca26"
             ],
             [
              1,
              "#f0f921"
             ]
            ],
            "type": "contour"
           }
          ],
          "contourcarpet": [
           {
            "colorbar": {
             "outlinewidth": 0,
             "ticks": ""
            },
            "type": "contourcarpet"
           }
          ],
          "heatmap": [
           {
            "colorbar": {
             "outlinewidth": 0,
             "ticks": ""
            },
            "colorscale": [
             [
              0,
              "#0d0887"
             ],
             [
              0.1111111111111111,
              "#46039f"
             ],
             [
              0.2222222222222222,
              "#7201a8"
             ],
             [
              0.3333333333333333,
              "#9c179e"
             ],
             [
              0.4444444444444444,
              "#bd3786"
             ],
             [
              0.5555555555555556,
              "#d8576b"
             ],
             [
              0.6666666666666666,
              "#ed7953"
             ],
             [
              0.7777777777777778,
              "#fb9f3a"
             ],
             [
              0.8888888888888888,
              "#fdca26"
             ],
             [
              1,
              "#f0f921"
             ]
            ],
            "type": "heatmap"
           }
          ],
          "heatmapgl": [
           {
            "colorbar": {
             "outlinewidth": 0,
             "ticks": ""
            },
            "colorscale": [
             [
              0,
              "#0d0887"
             ],
             [
              0.1111111111111111,
              "#46039f"
             ],
             [
              0.2222222222222222,
              "#7201a8"
             ],
             [
              0.3333333333333333,
              "#9c179e"
             ],
             [
              0.4444444444444444,
              "#bd3786"
             ],
             [
              0.5555555555555556,
              "#d8576b"
             ],
             [
              0.6666666666666666,
              "#ed7953"
             ],
             [
              0.7777777777777778,
              "#fb9f3a"
             ],
             [
              0.8888888888888888,
              "#fdca26"
             ],
             [
              1,
              "#f0f921"
             ]
            ],
            "type": "heatmapgl"
           }
          ],
          "histogram": [
           {
            "marker": {
             "pattern": {
              "fillmode": "overlay",
              "size": 10,
              "solidity": 0.2
             }
            },
            "type": "histogram"
           }
          ],
          "histogram2d": [
           {
            "colorbar": {
             "outlinewidth": 0,
             "ticks": ""
            },
            "colorscale": [
             [
              0,
              "#0d0887"
             ],
             [
              0.1111111111111111,
              "#46039f"
             ],
             [
              0.2222222222222222,
              "#7201a8"
             ],
             [
              0.3333333333333333,
              "#9c179e"
             ],
             [
              0.4444444444444444,
              "#bd3786"
             ],
             [
              0.5555555555555556,
              "#d8576b"
             ],
             [
              0.6666666666666666,
              "#ed7953"
             ],
             [
              0.7777777777777778,
              "#fb9f3a"
             ],
             [
              0.8888888888888888,
              "#fdca26"
             ],
             [
              1,
              "#f0f921"
             ]
            ],
            "type": "histogram2d"
           }
          ],
          "histogram2dcontour": [
           {
            "colorbar": {
             "outlinewidth": 0,
             "ticks": ""
            },
            "colorscale": [
             [
              0,
              "#0d0887"
             ],
             [
              0.1111111111111111,
              "#46039f"
             ],
             [
              0.2222222222222222,
              "#7201a8"
             ],
             [
              0.3333333333333333,
              "#9c179e"
             ],
             [
              0.4444444444444444,
              "#bd3786"
             ],
             [
              0.5555555555555556,
              "#d8576b"
             ],
             [
              0.6666666666666666,
              "#ed7953"
             ],
             [
              0.7777777777777778,
              "#fb9f3a"
             ],
             [
              0.8888888888888888,
              "#fdca26"
             ],
             [
              1,
              "#f0f921"
             ]
            ],
            "type": "histogram2dcontour"
           }
          ],
          "mesh3d": [
           {
            "colorbar": {
             "outlinewidth": 0,
             "ticks": ""
            },
            "type": "mesh3d"
           }
          ],
          "parcoords": [
           {
            "line": {
             "colorbar": {
              "outlinewidth": 0,
              "ticks": ""
             }
            },
            "type": "parcoords"
           }
          ],
          "pie": [
           {
            "automargin": true,
            "type": "pie"
           }
          ],
          "scatter": [
           {
            "marker": {
             "colorbar": {
              "outlinewidth": 0,
              "ticks": ""
             }
            },
            "type": "scatter"
           }
          ],
          "scatter3d": [
           {
            "line": {
             "colorbar": {
              "outlinewidth": 0,
              "ticks": ""
             }
            },
            "marker": {
             "colorbar": {
              "outlinewidth": 0,
              "ticks": ""
             }
            },
            "type": "scatter3d"
           }
          ],
          "scattercarpet": [
           {
            "marker": {
             "colorbar": {
              "outlinewidth": 0,
              "ticks": ""
             }
            },
            "type": "scattercarpet"
           }
          ],
          "scattergeo": [
           {
            "marker": {
             "colorbar": {
              "outlinewidth": 0,
              "ticks": ""
             }
            },
            "type": "scattergeo"
           }
          ],
          "scattergl": [
           {
            "marker": {
             "colorbar": {
              "outlinewidth": 0,
              "ticks": ""
             }
            },
            "type": "scattergl"
           }
          ],
          "scattermapbox": [
           {
            "marker": {
             "colorbar": {
              "outlinewidth": 0,
              "ticks": ""
             }
            },
            "type": "scattermapbox"
           }
          ],
          "scatterpolar": [
           {
            "marker": {
             "colorbar": {
              "outlinewidth": 0,
              "ticks": ""
             }
            },
            "type": "scatterpolar"
           }
          ],
          "scatterpolargl": [
           {
            "marker": {
             "colorbar": {
              "outlinewidth": 0,
              "ticks": ""
             }
            },
            "type": "scatterpolargl"
           }
          ],
          "scatterternary": [
           {
            "marker": {
             "colorbar": {
              "outlinewidth": 0,
              "ticks": ""
             }
            },
            "type": "scatterternary"
           }
          ],
          "surface": [
           {
            "colorbar": {
             "outlinewidth": 0,
             "ticks": ""
            },
            "colorscale": [
             [
              0,
              "#0d0887"
             ],
             [
              0.1111111111111111,
              "#46039f"
             ],
             [
              0.2222222222222222,
              "#7201a8"
             ],
             [
              0.3333333333333333,
              "#9c179e"
             ],
             [
              0.4444444444444444,
              "#bd3786"
             ],
             [
              0.5555555555555556,
              "#d8576b"
             ],
             [
              0.6666666666666666,
              "#ed7953"
             ],
             [
              0.7777777777777778,
              "#fb9f3a"
             ],
             [
              0.8888888888888888,
              "#fdca26"
             ],
             [
              1,
              "#f0f921"
             ]
            ],
            "type": "surface"
           }
          ],
          "table": [
           {
            "cells": {
             "fill": {
              "color": "#EBF0F8"
             },
             "line": {
              "color": "white"
             }
            },
            "header": {
             "fill": {
              "color": "#C8D4E3"
             },
             "line": {
              "color": "white"
             }
            },
            "type": "table"
           }
          ]
         },
         "layout": {
          "annotationdefaults": {
           "arrowcolor": "#2a3f5f",
           "arrowhead": 0,
           "arrowwidth": 1
          },
          "autotypenumbers": "strict",
          "coloraxis": {
           "colorbar": {
            "outlinewidth": 0,
            "ticks": ""
           }
          },
          "colorscale": {
           "diverging": [
            [
             0,
             "#8e0152"
            ],
            [
             0.1,
             "#c51b7d"
            ],
            [
             0.2,
             "#de77ae"
            ],
            [
             0.3,
             "#f1b6da"
            ],
            [
             0.4,
             "#fde0ef"
            ],
            [
             0.5,
             "#f7f7f7"
            ],
            [
             0.6,
             "#e6f5d0"
            ],
            [
             0.7,
             "#b8e186"
            ],
            [
             0.8,
             "#7fbc41"
            ],
            [
             0.9,
             "#4d9221"
            ],
            [
             1,
             "#276419"
            ]
           ],
           "sequential": [
            [
             0,
             "#0d0887"
            ],
            [
             0.1111111111111111,
             "#46039f"
            ],
            [
             0.2222222222222222,
             "#7201a8"
            ],
            [
             0.3333333333333333,
             "#9c179e"
            ],
            [
             0.4444444444444444,
             "#bd3786"
            ],
            [
             0.5555555555555556,
             "#d8576b"
            ],
            [
             0.6666666666666666,
             "#ed7953"
            ],
            [
             0.7777777777777778,
             "#fb9f3a"
            ],
            [
             0.8888888888888888,
             "#fdca26"
            ],
            [
             1,
             "#f0f921"
            ]
           ],
           "sequentialminus": [
            [
             0,
             "#0d0887"
            ],
            [
             0.1111111111111111,
             "#46039f"
            ],
            [
             0.2222222222222222,
             "#7201a8"
            ],
            [
             0.3333333333333333,
             "#9c179e"
            ],
            [
             0.4444444444444444,
             "#bd3786"
            ],
            [
             0.5555555555555556,
             "#d8576b"
            ],
            [
             0.6666666666666666,
             "#ed7953"
            ],
            [
             0.7777777777777778,
             "#fb9f3a"
            ],
            [
             0.8888888888888888,
             "#fdca26"
            ],
            [
             1,
             "#f0f921"
            ]
           ]
          },
          "colorway": [
           "#636efa",
           "#EF553B",
           "#00cc96",
           "#ab63fa",
           "#FFA15A",
           "#19d3f3",
           "#FF6692",
           "#B6E880",
           "#FF97FF",
           "#FECB52"
          ],
          "font": {
           "color": "#2a3f5f"
          },
          "geo": {
           "bgcolor": "white",
           "lakecolor": "white",
           "landcolor": "#E5ECF6",
           "showlakes": true,
           "showland": true,
           "subunitcolor": "white"
          },
          "hoverlabel": {
           "align": "left"
          },
          "hovermode": "closest",
          "mapbox": {
           "style": "light"
          },
          "paper_bgcolor": "white",
          "plot_bgcolor": "#E5ECF6",
          "polar": {
           "angularaxis": {
            "gridcolor": "white",
            "linecolor": "white",
            "ticks": ""
           },
           "bgcolor": "#E5ECF6",
           "radialaxis": {
            "gridcolor": "white",
            "linecolor": "white",
            "ticks": ""
           }
          },
          "scene": {
           "xaxis": {
            "backgroundcolor": "#E5ECF6",
            "gridcolor": "white",
            "gridwidth": 2,
            "linecolor": "white",
            "showbackground": true,
            "ticks": "",
            "zerolinecolor": "white"
           },
           "yaxis": {
            "backgroundcolor": "#E5ECF6",
            "gridcolor": "white",
            "gridwidth": 2,
            "linecolor": "white",
            "showbackground": true,
            "ticks": "",
            "zerolinecolor": "white"
           },
           "zaxis": {
            "backgroundcolor": "#E5ECF6",
            "gridcolor": "white",
            "gridwidth": 2,
            "linecolor": "white",
            "showbackground": true,
            "ticks": "",
            "zerolinecolor": "white"
           }
          },
          "shapedefaults": {
           "line": {
            "color": "#2a3f5f"
           }
          },
          "ternary": {
           "aaxis": {
            "gridcolor": "white",
            "linecolor": "white",
            "ticks": ""
           },
           "baxis": {
            "gridcolor": "white",
            "linecolor": "white",
            "ticks": ""
           },
           "bgcolor": "#E5ECF6",
           "caxis": {
            "gridcolor": "white",
            "linecolor": "white",
            "ticks": ""
           }
          },
          "title": {
           "x": 0.05
          },
          "xaxis": {
           "automargin": true,
           "gridcolor": "white",
           "linecolor": "white",
           "ticks": "",
           "title": {
            "standoff": 15
           },
           "zerolinecolor": "white",
           "zerolinewidth": 2
          },
          "yaxis": {
           "automargin": true,
           "gridcolor": "white",
           "linecolor": "white",
           "ticks": "",
           "title": {
            "standoff": 15
           },
           "zerolinecolor": "white",
           "zerolinewidth": 2
          }
         }
        },
        "xaxis": {
         "anchor": "y",
         "domain": [
          0,
          1
         ],
         "title": {
          "text": "index"
         }
        },
        "yaxis": {
         "anchor": "x",
         "domain": [
          0,
          1
         ],
         "title": {
          "text": "reviews"
         }
        }
       }
      }
     },
     "metadata": {},
     "output_type": "display_data"
    }
   ],
   "source": [
    "# Normalizing the rating/overview\n",
    "\n",
    "# original\n",
    "px.scatter(data_frame=hotel_df, y='reviews', color= 'rating')"
   ]
  },
  {
   "cell_type": "code",
   "execution_count": 176,
   "metadata": {},
   "outputs": [],
   "source": [
    "# rating over overiew\n",
    "hotel_df['rating_reviews'] = hotel_df.rating / hotel_df.reviews\n",
    "\n",
    "# min max normalization\n",
    "maximum = hotel_df['rating_reviews'].max()\n",
    "minimum = hotel_df['rating_reviews'].min()\n",
    "hotel_df['normalized_rating_reviews'] = hotel_df['rating_reviews'].apply(lambda x: (x - minimum) / (maximum - minimum) )"
   ]
  },
  {
   "cell_type": "code",
   "execution_count": 178,
   "metadata": {},
   "outputs": [
    {
     "data": {
      "application/vnd.plotly.v1+json": {
       "config": {
        "plotlyServerURL": "https://plot.ly"
       },
       "data": [
        {
         "hovertemplate": "reviews=%{x}<br>normalized_rating_reviews=%{y}<br>rating=%{marker.color}<extra></extra>",
         "legendgroup": "",
         "marker": {
          "color": [
           4.5,
           4.5,
           4,
           4.5,
           4,
           4,
           4.5,
           4.5,
           4,
           4,
           5,
           4,
           4,
           4.5,
           4.5,
           4.5,
           4,
           4.5,
           4.5,
           4,
           4.5,
           4,
           4,
           4,
           5,
           4,
           4,
           3.5,
           4.5,
           4.5,
           4.5,
           4.5,
           4.5,
           4.5,
           5,
           4,
           4,
           5,
           4.5,
           3.5,
           4,
           4,
           5,
           4,
           5,
           2.5,
           3.5,
           4,
           2.5,
           4.5,
           4,
           3,
           4,
           4.5,
           5,
           4,
           4.5,
           4.5,
           2.5,
           4.5,
           4,
           4.5,
           4,
           3,
           3.5,
           4,
           4.5,
           3.5,
           4,
           4,
           4.5,
           3.5,
           4,
           4.5,
           2,
           3.5,
           4,
           4.5,
           2.5,
           3.5,
           null,
           3.5,
           4,
           1,
           4,
           4,
           5,
           4.5,
           4,
           3,
           4.5,
           3.5,
           3.5,
           3.5,
           4,
           3,
           3.5,
           4.5,
           4,
           5,
           3,
           5,
           4,
           2.5,
           4,
           2.5,
           4,
           4.5,
           4.5,
           3,
           3.5,
           4.5,
           null,
           2.5,
           null,
           4.5,
           4.5,
           3.5,
           4,
           4,
           4,
           3.5,
           4.5,
           3,
           3,
           4,
           4.5,
           4,
           3,
           5,
           4.5,
           2,
           4,
           4,
           4,
           4,
           3,
           4,
           4.5,
           3,
           5,
           3,
           4,
           4.5,
           3.5,
           4,
           4,
           4,
           3,
           4,
           3,
           4,
           3,
           3.5,
           3,
           null,
           3.5,
           4.5,
           3.5,
           null,
           4,
           3,
           null,
           4.5,
           2.5,
           4.5,
           4,
           4,
           5,
           5,
           4,
           4,
           3,
           3,
           5,
           4,
           5,
           3.5,
           4.5,
           4,
           null,
           4,
           null,
           5,
           3.5,
           2,
           3.5,
           4,
           5,
           5,
           null,
           4,
           5,
           null,
           null,
           4,
           1,
           3,
           null,
           4.5,
           3.5,
           4,
           null,
           5,
           4,
           5,
           5,
           4,
           4.5,
           1,
           3,
           4,
           null,
           1.5,
           4.5,
           4,
           5,
           3.5,
           3.5,
           3,
           4,
           null,
           null,
           4.5,
           1,
           4.5,
           4,
           null,
           null,
           3,
           5,
           null,
           3,
           4
          ],
          "coloraxis": "coloraxis",
          "symbol": "circle"
         },
         "mode": "markers",
         "name": "",
         "orientation": "v",
         "showlegend": false,
         "type": "scatter",
         "x": [
          56,
          76,
          176,
          12,
          42,
          84,
          47,
          7,
          40,
          53,
          25,
          103,
          40,
          22,
          20,
          46,
          38,
          6,
          29,
          13,
          24,
          21,
          41,
          24,
          16,
          31,
          45,
          46,
          32,
          12,
          15,
          20,
          18,
          29,
          5,
          11,
          15,
          6,
          28,
          4,
          9,
          9,
          2,
          48,
          9,
          24,
          17,
          20,
          3,
          10,
          67,
          2,
          10,
          15,
          14,
          25,
          22,
          23,
          3,
          15,
          35,
          13,
          12,
          32,
          11,
          3,
          6,
          30,
          21,
          4,
          12,
          14,
          4,
          15,
          6,
          3,
          11,
          16,
          15,
          9,
          null,
          11,
          2,
          4,
          1,
          14,
          9,
          13,
          8,
          7,
          19,
          3,
          7,
          18,
          17,
          11,
          3,
          15,
          7,
          1,
          3,
          1,
          8,
          7,
          9,
          8,
          1,
          4,
          22,
          25,
          4,
          8,
          null,
          2,
          null,
          7,
          17,
          16,
          7,
          2,
          7,
          3,
          9,
          3,
          7,
          17,
          3,
          9,
          2,
          1,
          4,
          1,
          14,
          15,
          2,
          1,
          3,
          20,
          15,
          1,
          1,
          6,
          8,
          13,
          3,
          25,
          8,
          8,
          8,
          10,
          3,
          12,
          6,
          13,
          35,
          null,
          21,
          30,
          15,
          null,
          1,
          7,
          null,
          10,
          7,
          7,
          4,
          5,
          3,
          2,
          19,
          2,
          7,
          12,
          8,
          27,
          2,
          5,
          17,
          6,
          null,
          16,
          null,
          4,
          13,
          13,
          2,
          26,
          1,
          4,
          null,
          5,
          10,
          null,
          null,
          1,
          2,
          7,
          null,
          7,
          3,
          5,
          null,
          1,
          10,
          2,
          5,
          22,
          3,
          1,
          2,
          29,
          null,
          3,
          7,
          19,
          7,
          17,
          9,
          4,
          22,
          null,
          null,
          11,
          1,
          5,
          3,
          null,
          null,
          11,
          4,
          null,
          1,
          5
         ],
         "xaxis": "x",
         "y": [
          0.01157860404435747,
          0.007329968757510213,
          0,
          0.07077625570776255,
          0.014568384431398127,
          0.005001087192868014,
          0.014670164189254832,
          0.12459230267449446,
          0.01552511415525114,
          0.01059705350219695,
          0.03561643835616438,
          0.0032362459546925555,
          0.01552511415525114,
          0.0365296803652968,
          0.04063926940639269,
          0.015088346237839986,
          0.016582552271088676,
          0.1461187214611872,
          0.026609982679892927,
          0.057253249034070954,
          0.033105022831050226,
          0.03370297890845836,
          0.01503508185766789,
          0.028919330289193298,
          0.058219178082191785,
          0.021358079245838855,
          0.013292744799594115,
          0.01072066706372841,
          0.023687214611872145,
          0.07077625570776255,
          0.05570776255707763,
          0.04063926940639269,
          0.045662100456621,
          0.026609982679892927,
          0.1963470319634703,
          0.0684931506849315,
          0.04901065449010654,
          0.1628614916286149,
          0.027723418134377037,
          0.17123287671232876,
          0.08472856418061897,
          0.08472856418061897,
          0.49771689497716887,
          0.012176560121765599,
          0.10705225773718925,
          0.01636225266362253,
          0.0367982809562181,
          0.03561643835616438,
          0.1628614916286149,
          0.08584474885844749,
          0.0074286103727935655,
          0.2968036529680365,
          0.07579908675799087,
          0.05570776255707763,
          0.06718851924331376,
          0.027579908675799084,
          0.0365296803652968,
          0.034742902521342066,
          0.1628614916286149,
          0.05570776255707763,
          0.018395303326810174,
          0.06498068141903758,
          0.0624048706240487,
          0.014269406392694061,
          0.0593607305936073,
          0.2633181126331811,
          0.1461187214611872,
          0.01887366818873668,
          0.03370297890845836,
          0.1963470319634703,
          0.07077625570776255,
          0.045662100456621,
          0.1963470319634703,
          0.05570776255707763,
          0.0624048706240487,
          0.22983257229832574,
          0.0684931506849315,
          0.0519406392694064,
          0.028919330289193298,
          0.07356671740233384,
          null,
          0.0593607305936073,
          0.3972602739726027,
          0.045662100456621,
          0.7990867579908675,
          0.05283757338551859,
          0.10705225773718925,
          0.06498068141903758,
          0.0958904109589041,
          0.08153946510110893,
          0.04301850516702715,
          0.22983257229832574,
          0.0958904109589041,
          0.03450025367833587,
          0.0427074939564867,
          0.050228310502283095,
          0.22983257229832574,
          0.05570776255707763,
          0.11024135681669928,
          1,
          0.1963470319634703,
          1,
          0.0958904109589041,
          0.06718851924331376,
          0.08472856418061897,
          0.058219178082191785,
          0.7990867579908675,
          0.22146118721461186,
          0.0365296803652968,
          0.019543378995433788,
          0.17123287671232876,
          0.10844748858447488,
          null,
          0.2465753424657534,
          null,
          0.12459230267449446,
          0.0486167069567553,
          0.039383561643835614,
          0.11024135681669928,
          0.3972602739726027,
          0.11024135681669928,
          0.22983257229832574,
          0.0958904109589041,
          0.1963470319634703,
          0.08153946510110893,
          0.0427074939564867,
          0.2968036529680365,
          0.08472856418061897,
          0.2968036529680365,
          1,
          0.22146118721461186,
          0.3972602739726027,
          0.05283757338551859,
          0.04901065449010654,
          0.3972602739726027,
          0.7990867579908675,
          0.1963470319634703,
          0.03561643835616438,
          0.05570776255707763,
          0.5981735159817351,
          1,
          0.0958904109589041,
          0.0958904109589041,
          0.06498068141903758,
          0.22983257229832574,
          0.027579908675799084,
          0.0958904109589041,
          0.0958904109589041,
          0.07077625570776255,
          0.07579908675799087,
          0.1963470319634703,
          0.0624048706240487,
          0.0958904109589041,
          0.04952581664910431,
          0.012654924983692105,
          null,
          0.028919330289193298,
          0.025570776255707757,
          0.042313546423135465,
          null,
          0.7990867579908675,
          0.08153946510110893,
          null,
          0.08584474885844749,
          0.06718851924331376,
          0.12459230267449446,
          0.1963470319634703,
          0.15616438356164383,
          0.3302891933028919,
          0.49771689497716887,
          0.03773131458783945,
          0.3972602739726027,
          0.08153946510110893,
          0.045662100456621,
          0.12100456621004566,
          0.025198714696431587,
          0.49771689497716887,
          0.13607305936073058,
          0.0486167069567553,
          0.1293759512937595,
          null,
          0.045662100456621,
          null,
          0.2465753424657534,
          0.04952581664910431,
          0.026343519494204423,
          0.3470319634703196,
          0.026343519494204423,
          1,
          0.2465753424657534,
          null,
          0.15616438356164383,
          0.0958904109589041,
          null,
          null,
          0.7990867579908675,
          0.0958904109589041,
          0.08153946510110893,
          null,
          0.12459230267449446,
          0.22983257229832574,
          0.15616438356164383,
          null,
          1,
          0.07579908675799087,
          0.49771689497716887,
          0.1963470319634703,
          0.0319634703196347,
          0.2968036529680365,
          0.1963470319634703,
          0.2968036529680365,
          0.02314596126594237,
          null,
          0.0958904109589041,
          0.12459230267449446,
          0.03773131458783945,
          0.13894324853228962,
          0.0367982809562181,
          0.07356671740233384,
          0.1461187214611872,
          0.0319634703196347,
          null,
          null,
          0.07762557077625572,
          0.1963470319634703,
          0.17625570776255708,
          0.2633181126331811,
          null,
          null,
          0.050228310502283095,
          0.2465753424657534,
          null,
          0.5981735159817351,
          0.15616438356164383
         ],
         "yaxis": "y"
        }
       ],
       "layout": {
        "coloraxis": {
         "colorbar": {
          "title": {
           "text": "rating"
          }
         },
         "colorscale": [
          [
           0,
           "#0d0887"
          ],
          [
           0.1111111111111111,
           "#46039f"
          ],
          [
           0.2222222222222222,
           "#7201a8"
          ],
          [
           0.3333333333333333,
           "#9c179e"
          ],
          [
           0.4444444444444444,
           "#bd3786"
          ],
          [
           0.5555555555555556,
           "#d8576b"
          ],
          [
           0.6666666666666666,
           "#ed7953"
          ],
          [
           0.7777777777777778,
           "#fb9f3a"
          ],
          [
           0.8888888888888888,
           "#fdca26"
          ],
          [
           1,
           "#f0f921"
          ]
         ]
        },
        "legend": {
         "tracegroupgap": 0
        },
        "margin": {
         "t": 60
        },
        "template": {
         "data": {
          "bar": [
           {
            "error_x": {
             "color": "#2a3f5f"
            },
            "error_y": {
             "color": "#2a3f5f"
            },
            "marker": {
             "line": {
              "color": "#E5ECF6",
              "width": 0.5
             },
             "pattern": {
              "fillmode": "overlay",
              "size": 10,
              "solidity": 0.2
             }
            },
            "type": "bar"
           }
          ],
          "barpolar": [
           {
            "marker": {
             "line": {
              "color": "#E5ECF6",
              "width": 0.5
             },
             "pattern": {
              "fillmode": "overlay",
              "size": 10,
              "solidity": 0.2
             }
            },
            "type": "barpolar"
           }
          ],
          "carpet": [
           {
            "aaxis": {
             "endlinecolor": "#2a3f5f",
             "gridcolor": "white",
             "linecolor": "white",
             "minorgridcolor": "white",
             "startlinecolor": "#2a3f5f"
            },
            "baxis": {
             "endlinecolor": "#2a3f5f",
             "gridcolor": "white",
             "linecolor": "white",
             "minorgridcolor": "white",
             "startlinecolor": "#2a3f5f"
            },
            "type": "carpet"
           }
          ],
          "choropleth": [
           {
            "colorbar": {
             "outlinewidth": 0,
             "ticks": ""
            },
            "type": "choropleth"
           }
          ],
          "contour": [
           {
            "colorbar": {
             "outlinewidth": 0,
             "ticks": ""
            },
            "colorscale": [
             [
              0,
              "#0d0887"
             ],
             [
              0.1111111111111111,
              "#46039f"
             ],
             [
              0.2222222222222222,
              "#7201a8"
             ],
             [
              0.3333333333333333,
              "#9c179e"
             ],
             [
              0.4444444444444444,
              "#bd3786"
             ],
             [
              0.5555555555555556,
              "#d8576b"
             ],
             [
              0.6666666666666666,
              "#ed7953"
             ],
             [
              0.7777777777777778,
              "#fb9f3a"
             ],
             [
              0.8888888888888888,
              "#fdca26"
             ],
             [
              1,
              "#f0f921"
             ]
            ],
            "type": "contour"
           }
          ],
          "contourcarpet": [
           {
            "colorbar": {
             "outlinewidth": 0,
             "ticks": ""
            },
            "type": "contourcarpet"
           }
          ],
          "heatmap": [
           {
            "colorbar": {
             "outlinewidth": 0,
             "ticks": ""
            },
            "colorscale": [
             [
              0,
              "#0d0887"
             ],
             [
              0.1111111111111111,
              "#46039f"
             ],
             [
              0.2222222222222222,
              "#7201a8"
             ],
             [
              0.3333333333333333,
              "#9c179e"
             ],
             [
              0.4444444444444444,
              "#bd3786"
             ],
             [
              0.5555555555555556,
              "#d8576b"
             ],
             [
              0.6666666666666666,
              "#ed7953"
             ],
             [
              0.7777777777777778,
              "#fb9f3a"
             ],
             [
              0.8888888888888888,
              "#fdca26"
             ],
             [
              1,
              "#f0f921"
             ]
            ],
            "type": "heatmap"
           }
          ],
          "heatmapgl": [
           {
            "colorbar": {
             "outlinewidth": 0,
             "ticks": ""
            },
            "colorscale": [
             [
              0,
              "#0d0887"
             ],
             [
              0.1111111111111111,
              "#46039f"
             ],
             [
              0.2222222222222222,
              "#7201a8"
             ],
             [
              0.3333333333333333,
              "#9c179e"
             ],
             [
              0.4444444444444444,
              "#bd3786"
             ],
             [
              0.5555555555555556,
              "#d8576b"
             ],
             [
              0.6666666666666666,
              "#ed7953"
             ],
             [
              0.7777777777777778,
              "#fb9f3a"
             ],
             [
              0.8888888888888888,
              "#fdca26"
             ],
             [
              1,
              "#f0f921"
             ]
            ],
            "type": "heatmapgl"
           }
          ],
          "histogram": [
           {
            "marker": {
             "pattern": {
              "fillmode": "overlay",
              "size": 10,
              "solidity": 0.2
             }
            },
            "type": "histogram"
           }
          ],
          "histogram2d": [
           {
            "colorbar": {
             "outlinewidth": 0,
             "ticks": ""
            },
            "colorscale": [
             [
              0,
              "#0d0887"
             ],
             [
              0.1111111111111111,
              "#46039f"
             ],
             [
              0.2222222222222222,
              "#7201a8"
             ],
             [
              0.3333333333333333,
              "#9c179e"
             ],
             [
              0.4444444444444444,
              "#bd3786"
             ],
             [
              0.5555555555555556,
              "#d8576b"
             ],
             [
              0.6666666666666666,
              "#ed7953"
             ],
             [
              0.7777777777777778,
              "#fb9f3a"
             ],
             [
              0.8888888888888888,
              "#fdca26"
             ],
             [
              1,
              "#f0f921"
             ]
            ],
            "type": "histogram2d"
           }
          ],
          "histogram2dcontour": [
           {
            "colorbar": {
             "outlinewidth": 0,
             "ticks": ""
            },
            "colorscale": [
             [
              0,
              "#0d0887"
             ],
             [
              0.1111111111111111,
              "#46039f"
             ],
             [
              0.2222222222222222,
              "#7201a8"
             ],
             [
              0.3333333333333333,
              "#9c179e"
             ],
             [
              0.4444444444444444,
              "#bd3786"
             ],
             [
              0.5555555555555556,
              "#d8576b"
             ],
             [
              0.6666666666666666,
              "#ed7953"
             ],
             [
              0.7777777777777778,
              "#fb9f3a"
             ],
             [
              0.8888888888888888,
              "#fdca26"
             ],
             [
              1,
              "#f0f921"
             ]
            ],
            "type": "histogram2dcontour"
           }
          ],
          "mesh3d": [
           {
            "colorbar": {
             "outlinewidth": 0,
             "ticks": ""
            },
            "type": "mesh3d"
           }
          ],
          "parcoords": [
           {
            "line": {
             "colorbar": {
              "outlinewidth": 0,
              "ticks": ""
             }
            },
            "type": "parcoords"
           }
          ],
          "pie": [
           {
            "automargin": true,
            "type": "pie"
           }
          ],
          "scatter": [
           {
            "marker": {
             "colorbar": {
              "outlinewidth": 0,
              "ticks": ""
             }
            },
            "type": "scatter"
           }
          ],
          "scatter3d": [
           {
            "line": {
             "colorbar": {
              "outlinewidth": 0,
              "ticks": ""
             }
            },
            "marker": {
             "colorbar": {
              "outlinewidth": 0,
              "ticks": ""
             }
            },
            "type": "scatter3d"
           }
          ],
          "scattercarpet": [
           {
            "marker": {
             "colorbar": {
              "outlinewidth": 0,
              "ticks": ""
             }
            },
            "type": "scattercarpet"
           }
          ],
          "scattergeo": [
           {
            "marker": {
             "colorbar": {
              "outlinewidth": 0,
              "ticks": ""
             }
            },
            "type": "scattergeo"
           }
          ],
          "scattergl": [
           {
            "marker": {
             "colorbar": {
              "outlinewidth": 0,
              "ticks": ""
             }
            },
            "type": "scattergl"
           }
          ],
          "scattermapbox": [
           {
            "marker": {
             "colorbar": {
              "outlinewidth": 0,
              "ticks": ""
             }
            },
            "type": "scattermapbox"
           }
          ],
          "scatterpolar": [
           {
            "marker": {
             "colorbar": {
              "outlinewidth": 0,
              "ticks": ""
             }
            },
            "type": "scatterpolar"
           }
          ],
          "scatterpolargl": [
           {
            "marker": {
             "colorbar": {
              "outlinewidth": 0,
              "ticks": ""
             }
            },
            "type": "scatterpolargl"
           }
          ],
          "scatterternary": [
           {
            "marker": {
             "colorbar": {
              "outlinewidth": 0,
              "ticks": ""
             }
            },
            "type": "scatterternary"
           }
          ],
          "surface": [
           {
            "colorbar": {
             "outlinewidth": 0,
             "ticks": ""
            },
            "colorscale": [
             [
              0,
              "#0d0887"
             ],
             [
              0.1111111111111111,
              "#46039f"
             ],
             [
              0.2222222222222222,
              "#7201a8"
             ],
             [
              0.3333333333333333,
              "#9c179e"
             ],
             [
              0.4444444444444444,
              "#bd3786"
             ],
             [
              0.5555555555555556,
              "#d8576b"
             ],
             [
              0.6666666666666666,
              "#ed7953"
             ],
             [
              0.7777777777777778,
              "#fb9f3a"
             ],
             [
              0.8888888888888888,
              "#fdca26"
             ],
             [
              1,
              "#f0f921"
             ]
            ],
            "type": "surface"
           }
          ],
          "table": [
           {
            "cells": {
             "fill": {
              "color": "#EBF0F8"
             },
             "line": {
              "color": "white"
             }
            },
            "header": {
             "fill": {
              "color": "#C8D4E3"
             },
             "line": {
              "color": "white"
             }
            },
            "type": "table"
           }
          ]
         },
         "layout": {
          "annotationdefaults": {
           "arrowcolor": "#2a3f5f",
           "arrowhead": 0,
           "arrowwidth": 1
          },
          "autotypenumbers": "strict",
          "coloraxis": {
           "colorbar": {
            "outlinewidth": 0,
            "ticks": ""
           }
          },
          "colorscale": {
           "diverging": [
            [
             0,
             "#8e0152"
            ],
            [
             0.1,
             "#c51b7d"
            ],
            [
             0.2,
             "#de77ae"
            ],
            [
             0.3,
             "#f1b6da"
            ],
            [
             0.4,
             "#fde0ef"
            ],
            [
             0.5,
             "#f7f7f7"
            ],
            [
             0.6,
             "#e6f5d0"
            ],
            [
             0.7,
             "#b8e186"
            ],
            [
             0.8,
             "#7fbc41"
            ],
            [
             0.9,
             "#4d9221"
            ],
            [
             1,
             "#276419"
            ]
           ],
           "sequential": [
            [
             0,
             "#0d0887"
            ],
            [
             0.1111111111111111,
             "#46039f"
            ],
            [
             0.2222222222222222,
             "#7201a8"
            ],
            [
             0.3333333333333333,
             "#9c179e"
            ],
            [
             0.4444444444444444,
             "#bd3786"
            ],
            [
             0.5555555555555556,
             "#d8576b"
            ],
            [
             0.6666666666666666,
             "#ed7953"
            ],
            [
             0.7777777777777778,
             "#fb9f3a"
            ],
            [
             0.8888888888888888,
             "#fdca26"
            ],
            [
             1,
             "#f0f921"
            ]
           ],
           "sequentialminus": [
            [
             0,
             "#0d0887"
            ],
            [
             0.1111111111111111,
             "#46039f"
            ],
            [
             0.2222222222222222,
             "#7201a8"
            ],
            [
             0.3333333333333333,
             "#9c179e"
            ],
            [
             0.4444444444444444,
             "#bd3786"
            ],
            [
             0.5555555555555556,
             "#d8576b"
            ],
            [
             0.6666666666666666,
             "#ed7953"
            ],
            [
             0.7777777777777778,
             "#fb9f3a"
            ],
            [
             0.8888888888888888,
             "#fdca26"
            ],
            [
             1,
             "#f0f921"
            ]
           ]
          },
          "colorway": [
           "#636efa",
           "#EF553B",
           "#00cc96",
           "#ab63fa",
           "#FFA15A",
           "#19d3f3",
           "#FF6692",
           "#B6E880",
           "#FF97FF",
           "#FECB52"
          ],
          "font": {
           "color": "#2a3f5f"
          },
          "geo": {
           "bgcolor": "white",
           "lakecolor": "white",
           "landcolor": "#E5ECF6",
           "showlakes": true,
           "showland": true,
           "subunitcolor": "white"
          },
          "hoverlabel": {
           "align": "left"
          },
          "hovermode": "closest",
          "mapbox": {
           "style": "light"
          },
          "paper_bgcolor": "white",
          "plot_bgcolor": "#E5ECF6",
          "polar": {
           "angularaxis": {
            "gridcolor": "white",
            "linecolor": "white",
            "ticks": ""
           },
           "bgcolor": "#E5ECF6",
           "radialaxis": {
            "gridcolor": "white",
            "linecolor": "white",
            "ticks": ""
           }
          },
          "scene": {
           "xaxis": {
            "backgroundcolor": "#E5ECF6",
            "gridcolor": "white",
            "gridwidth": 2,
            "linecolor": "white",
            "showbackground": true,
            "ticks": "",
            "zerolinecolor": "white"
           },
           "yaxis": {
            "backgroundcolor": "#E5ECF6",
            "gridcolor": "white",
            "gridwidth": 2,
            "linecolor": "white",
            "showbackground": true,
            "ticks": "",
            "zerolinecolor": "white"
           },
           "zaxis": {
            "backgroundcolor": "#E5ECF6",
            "gridcolor": "white",
            "gridwidth": 2,
            "linecolor": "white",
            "showbackground": true,
            "ticks": "",
            "zerolinecolor": "white"
           }
          },
          "shapedefaults": {
           "line": {
            "color": "#2a3f5f"
           }
          },
          "ternary": {
           "aaxis": {
            "gridcolor": "white",
            "linecolor": "white",
            "ticks": ""
           },
           "baxis": {
            "gridcolor": "white",
            "linecolor": "white",
            "ticks": ""
           },
           "bgcolor": "#E5ECF6",
           "caxis": {
            "gridcolor": "white",
            "linecolor": "white",
            "ticks": ""
           }
          },
          "title": {
           "x": 0.05
          },
          "xaxis": {
           "automargin": true,
           "gridcolor": "white",
           "linecolor": "white",
           "ticks": "",
           "title": {
            "standoff": 15
           },
           "zerolinecolor": "white",
           "zerolinewidth": 2
          },
          "yaxis": {
           "automargin": true,
           "gridcolor": "white",
           "linecolor": "white",
           "ticks": "",
           "title": {
            "standoff": 15
           },
           "zerolinecolor": "white",
           "zerolinewidth": 2
          }
         }
        },
        "xaxis": {
         "anchor": "y",
         "domain": [
          0,
          1
         ],
         "title": {
          "text": "reviews"
         }
        },
        "yaxis": {
         "anchor": "x",
         "domain": [
          0,
          1
         ],
         "title": {
          "text": "normalized_rating_reviews"
         }
        }
       }
      }
     },
     "metadata": {},
     "output_type": "display_data"
    }
   ],
   "source": [
    "px.scatter(data_frame=hotel_df, x = 'reviews', y='normalized_rating_reviews', color= 'rating')"
   ]
  },
  {
   "cell_type": "markdown",
   "metadata": {},
   "source": [
    "# Pubs"
   ]
  },
  {
   "cell_type": "code",
   "execution_count": 36,
   "metadata": {},
   "outputs": [
    {
     "name": "stdout",
     "output_type": "stream",
     "text": [
      "Index(['Scobies Irish Pub', 'H1898 Rooftopbar', 'L’Ovella Negra',\n",
      "       'Bobby’s Free', 'Madame George', 'Nevermind', 'The Michael Collins',\n",
      "       'Bar Rubí', 'Old Fashioned', 'The Bollocks',\n",
      "       ...\n",
      "       'Tripode', 'La Pubilla del Taulat', 'Piacere Caffe', 'D9', 'Vanguard',\n",
      "       'El Ciclista', 'That’s the Way', 'Pipa', 'Sifó', 'Kè?'],\n",
      "      dtype='object', length=232)\n",
      "Index(['0', '10', '20', '30', '40', '50', '60', '70', '80', '90', '100', '110',\n",
      "       '120', '130', '140', '150', '160', '170', '180', '190', '200', '210',\n",
      "       '220', '230'],\n",
      "      dtype='object')\n"
     ]
    }
   ],
   "source": [
    "pub_soup = pd.read_csv('pub_soup.csv').drop(columns='Unnamed: 0').squeeze()\n",
    "pub_soup2 = pd.read_csv('pub_soup2.csv').drop(columns='Unnamed: 0').squeeze()\n",
    "print(pub_soup2.index)\n",
    "print(pub_soup.index)"
   ]
  },
  {
   "cell_type": "markdown",
   "metadata": {},
   "source": [
    "#### Name"
   ]
  },
  {
   "cell_type": "code",
   "execution_count": 37,
   "metadata": {},
   "outputs": [],
   "source": [
    "#### Name\n",
    "name = []\n",
    "for row in pub_soup:  # row contain 10 restaurants\n",
    "    soup = BeautifulSoup(row, 'html.parser')\n",
    "    result = soup.select('.css-1egxyvc .css-1m051bw')\n",
    "    for tag in result:\n",
    "        # print(tag.text)\n",
    "        name.append(tag.text)\n"
   ]
  },
  {
   "cell_type": "code",
   "execution_count": 38,
   "metadata": {},
   "outputs": [
    {
     "data": {
      "text/plain": [
       "Bloomsday Literary Pub        2\n",
       "The Cottage                   2\n",
       "The Fastnet                   2\n",
       "El Rouge                      2\n",
       "Cheers                        2\n",
       "                             ..\n",
       "Barna Brew                    1\n",
       "Bodegon del Norte - Marzan    1\n",
       "Ina                           1\n",
       "Never More                    1\n",
       "Hemingway                     1\n",
       "Length: 232, dtype: int64"
      ]
     },
     "execution_count": 38,
     "metadata": {},
     "output_type": "execute_result"
    }
   ],
   "source": [
    "# It's like there are duplicates\n",
    "pd.Series(name).value_counts()"
   ]
  },
  {
   "cell_type": "markdown",
   "metadata": {},
   "source": [
    "#### Price range"
   ]
  },
  {
   "cell_type": "code",
   "execution_count": 39,
   "metadata": {},
   "outputs": [
    {
     "name": "stdout",
     "output_type": "stream",
     "text": [
      "Scobies Irish Pub €\n",
      "H1898 Rooftopbar €€\n",
      "L’Ovella Negra €\n",
      "Bobby’s Free €\n",
      "Madame George €\n",
      "Nevermind €\n",
      "The Michael Collins €€\n",
      "Bar Rubí €\n",
      "Old Fashioned €€\n",
      "The Bollocks €\n",
      "Biercab €\n",
      "Flaherty’s €\n",
      "Dow Jones €€\n",
      "El Bosc de les Fades €€\n",
      "Obama €€\n",
      "Tandem €€\n",
      "Hemingway €€€\n",
      "Samba Brasil €€\n",
      "The George Payne €€\n",
      "Snooker €€\n",
      "Limerick nan\n",
      "Otto Zutz €€\n",
      "My Bar €€\n",
      "McCarthy’s nan\n",
      "Garage Beer Co €\n",
      "Chill Bar €\n",
      "JazzMan €€\n",
      "Polaroid €\n",
      "George & Dragon €€€\n",
      "La Cinemateca €€\n",
      "La Pepita €€\n",
      "London Bar €\n",
      "Marsella €\n",
      "The Black Horse €€\n",
      "The Philharmonic €€\n",
      "Elephanta €€\n",
      "La Birreria €\n",
      "First Bar €\n",
      "Hogan’s Australian Pub €€\n",
      "The Black Lion €\n",
      "The Lime House €€\n",
      "Bonavida €\n",
      "Dublin Sports €€\n",
      "Musical María €€\n",
      "Dunne’s Irish Bar €€\n",
      "Xixbar €€\n",
      "Gato Negro €\n",
      "Lennox nan\n",
      "Le Standard nan\n",
      "Belushi’s €\n",
      "Craft Barcelona €\n",
      "Stoke Bar €€\n",
      "Fizz Barcelona nan\n",
      "Bloomsday Irish Pub nan\n",
      "Barna Brew €\n",
      "Pippermint €€\n",
      "Obama Gastropub nan\n",
      "Oviso €\n",
      "Touch Music Karaoke €€\n",
      "Sor Rita €\n",
      "La Barrica €\n",
      "Arcano €€€\n",
      "Bar Zodiaco €\n",
      "Big Bang Bar €\n",
      "Maestró €€\n",
      "Belchica €€\n",
      "Xpressing Underground Club €€\n",
      "Lunatic €€\n",
      "Temple Bar €\n",
      "Ina €\n",
      "Espai d’Art Tinta Roja €€\n",
      "Flann O’Brien €\n",
      "Mojito Rock €\n",
      "Never More nan\n",
      "Mingus €€\n",
      "Black Lab €€\n",
      "Pepe Bar nan\n",
      "La Concha Barcelona €\n",
      "Stereo €\n",
      "Vicente Emilio Barcelona Villen nan\n",
      "Ryans Beach nan\n",
      "Bar Ardevol €€\n",
      "Two Schmucks €€\n",
      "Bernie’s €€\n",
      "Bonobo nan\n",
      "Veronica Griselda Villafan Zea nan\n",
      "cactus bar €€€\n",
      "absentha nan\n",
      "Bodega €\n",
      "El Vaso de Oro €€\n",
      "La Catedra €€\n",
      "Cheers €\n",
      "Belice Cocktail Bar €€\n",
      "Bodega Saltó €\n",
      "La Cervesera Artesana €€\n",
      "Ale&Hop €\n",
      "Hendrix €\n",
      "Sonora €\n",
      "Ya lo sabes nan\n",
      "The Cottage nan\n",
      "Kentucky €€\n",
      "Hell Awaits nan\n",
      "Pepe’s Bar €\n",
      "New York Café €\n",
      "Enigma nan\n",
      "El Pony nan\n",
      "Dirty Dick’s nan\n",
      "Irish Sailing Pub €€\n",
      "Bloody Mary €€\n",
      "Paspartú €€\n",
      "Kahiki €€€\n",
      "The Cottage nan\n",
      "Zim €€\n",
      "Cervecería Jazz €€€\n",
      "Bubblic €€\n",
      "Elephant €€€\n",
      "Rocksound €€\n",
      "Koitton Club €€\n",
      "Bobby Gin €€\n",
      "Filomena €€\n",
      "Woody Bar nan\n",
      "The End nan\n",
      "La Principal €\n",
      "Tequila 44 €€\n",
      "Insòlita Gea nan\n",
      "Filomena €€\n",
      "Blondie €€\n",
      "Set Barcelona nan\n",
      "Coctelería Cooler €€\n",
      "El Rouge €€€\n",
      "Inch Bar €\n",
      "El Rouge €€€\n",
      "Bar International Beer €\n",
      "Bongo’s nan\n",
      "Marula Café €€\n",
      "Pub Fiction €€\n",
      "Le Cyrano €\n",
      "Rare nan\n",
      "La Beata nan\n",
      "Barcelona Pipa Club nan\n",
      "Velcro Bar €€€\n",
      "Bar Fidel €\n",
      "DiSapore Bar nan\n",
      "Ballbreaker nan\n",
      "Kimera nan\n",
      "La Gorda €€\n",
      "La República €€\n",
      "Marmalade €€\n",
      "A Viva Voz nan\n",
      "Colombo €€\n",
      "Versailles €\n",
      "Garage 442 €\n",
      "Living Barcelona 1925 nan\n",
      "Ginger €€\n",
      "Milk Bar & Bistro €€\n",
      "Exterior nan\n",
      "Butyklan €€\n",
      "Bar Do nan\n",
      "The Fastnet €\n",
      "Bar Prasoa €\n",
      "El Jardinet d’Aribau €€\n",
      "Alpaca´s €€\n",
      "The Fastnet €\n",
      "Síncopa €€\n",
      "Alfa Bar €€\n",
      "Ende €€\n",
      "Kioto nan\n",
      "Botanic nan\n",
      "El Zoo nan\n",
      "Sensi €€\n",
      "Rabipelao €\n",
      "La Bodeguita Bright €\n",
      "Victor Gomez Hidalgo nan\n",
      "Bar Mut €€€\n",
      "Bodegon del Norte - Marzan €€\n",
      "Soho nan\n",
      "Caribbean Club €€€\n",
      "Grill Room Bar Thonet nan\n",
      "Gracia Latina €€\n",
      "33/45 €\n",
      "33/45 €\n",
      "Mil Estones nan\n",
      "Pesca Salada €€\n",
      "Bar Dúrcal nan\n",
      "Nello’s €€\n",
      "Armony Cocktails Gintonics €€\n",
      "3011 Hosteleria y Restauracion, S.C.P. nan\n",
      "Kaizen Afterwork €€\n",
      "Smoking Dog nan\n",
      "La Guayra nan\n",
      "Manchester €\n",
      "Bar Malasang €€\n",
      "Mandri €€\n",
      "No Sweat Bar €€\n",
      "Tropical nan\n",
      "El Garaje Hermético nan\n",
      "Mar de Copas nan\n",
      "Bodega del Onze nan\n",
      "Els Tres Porquets €€€\n",
      "Quilombo €€\n",
      "Pastís €€\n",
      "Bar Pastis nan\n",
      "Coppelia Club nan\n",
      "Opera Samfaina €€\n",
      "Black Velvet €€\n",
      "Night and Day nan\n",
      "Thales €\n",
      "Homo Sibaris €\n",
      "El Circulo €€\n",
      "Um Que Rico nan\n",
      "Um Que Rico nan\n",
      "Gente de Pasta nan\n",
      "Gris nan\n",
      "Bar Manolo nan\n",
      "Foxy Bar €€\n",
      "BeeriVins €€\n",
      "Central 134 €\n",
      "Bar la Maquinista nan\n",
      "Aloha nan\n",
      "Pasapalo €€\n",
      "Mora nan\n",
      "Wild Rover Barcelona €€\n",
      "Red Rocket nan\n",
      "Cheers nan\n",
      "Mexcla €\n",
      "La Abadiba nan\n",
      "No Sé €€\n",
      "Vic-Lor Scp nan\n",
      "Bloomsday Literary Pub nan\n",
      "Tripode nan\n",
      "La Pubilla del Taulat €€\n",
      "Bloomsday Literary Pub nan\n",
      "Piacere Caffe €\n",
      "D9 €\n",
      "Vanguard €€\n",
      "El Ciclista €€\n",
      "That’s the Way nan\n",
      "Pipa nan\n",
      "Sifó €\n",
      "Kè? €\n"
     ]
    }
   ],
   "source": [
    "#### Price range\n",
    "price_range = []\n",
    "container_class = 'container__09f24__mpR8_ hoverable__09f24__wQ_on margin-t3__09f24__riq4X margin-b3__09f24__l9v5d padding-t3__09f24__TMrIW padding-r3__09f24__eaF7p padding-b3__09f24__S8R2d padding-l3__09f24__IOjKY border--top__09f24__exYYb border--right__09f24__X7Tln border--bottom__09f24___mg5X border--left__09f24__DMOkM border-color--default__09f24__NPAKY'\n",
    "for row in pub_soup:\n",
    "    soup = BeautifulSoup(row, 'html.parser')\n",
    "    result = soup.find_all(class_ = container_class)\n",
    "    for tag in result:\n",
    "        header_text = tag.div.div.div.nextSibling.div\n",
    "        price = header_text.select_one('.css-1s7bx9e')\n",
    "        if price is not None:\n",
    "            price_range.append(price.text)\n",
    "        else:\n",
    "            price_range.append(np.nan)\n",
    "\n",
    "# test\n",
    "for n, price in zip(name, price_range):\n",
    "    print(n, price) "
   ]
  },
  {
   "cell_type": "markdown",
   "metadata": {},
   "source": [
    "#### Rating"
   ]
  },
  {
   "cell_type": "code",
   "execution_count": 40,
   "metadata": {},
   "outputs": [
    {
     "name": "stdout",
     "output_type": "stream",
     "text": [
      "Scobies Irish Pub 4.5\n",
      "H1898 Rooftopbar 4\n",
      "L’Ovella Negra 4\n",
      "Bobby’s Free 4.5\n",
      "Madame George 5\n",
      "Nevermind 4.5\n",
      "The Michael Collins 4\n",
      "Bar Rubí 4.5\n",
      "Old Fashioned 5\n",
      "The Bollocks 4\n",
      "Biercab 4.5\n",
      "Flaherty’s 4\n",
      "Dow Jones 3.5\n",
      "El Bosc de les Fades 4\n",
      "Obama 3.5\n",
      "Tandem 5\n",
      "Hemingway 5\n",
      "Samba Brasil 4\n",
      "The George Payne 3.5\n",
      "Snooker 4\n",
      "Limerick 4\n",
      "Otto Zutz 3.5\n",
      "My Bar 4.5\n",
      "McCarthy’s 4\n",
      "Garage Beer Co 4.5\n",
      "Chill Bar 4.5\n",
      "JazzMan 4.5\n",
      "Polaroid 4\n",
      "George & Dragon 3.5\n",
      "La Cinemateca 4\n",
      "La Pepita 4.5\n",
      "London Bar 4\n",
      "Marsella 4\n",
      "The Black Horse 4\n",
      "The Philharmonic 4\n",
      "Elephanta 4.5\n",
      "La Birreria 4.5\n",
      "First Bar 4.5\n",
      "Hogan’s Australian Pub 4\n",
      "The Black Lion 3.5\n",
      "The Lime House 4\n",
      "Bonavida 4.5\n",
      "Dublin Sports 3.5\n",
      "Musical María 4.5\n",
      "Dunne’s Irish Bar 3.5\n",
      "Xixbar 4.5\n",
      "Gato Negro 4.5\n",
      "Lennox 4\n",
      "Le Standard 4.5\n",
      "Belushi’s 3.5\n",
      "Craft Barcelona 4\n",
      "Stoke Bar 4\n",
      "Fizz Barcelona 4.5\n",
      "Bloomsday Irish Pub 5\n",
      "Barna Brew 4.5\n",
      "Pippermint 3\n",
      "Obama Gastropub 3.5\n",
      "Oviso 4\n",
      "Touch Music Karaoke 4.5\n",
      "Sor Rita 4.5\n",
      "La Barrica 3\n",
      "Arcano 4.5\n",
      "Bar Zodiaco 4\n",
      "Big Bang Bar 4\n",
      "Maestró 4\n",
      "Belchica 3.5\n",
      "Xpressing Underground Club 4\n",
      "Lunatic 4.5\n",
      "Temple Bar 3.5\n",
      "Ina 4.5\n",
      "Espai d’Art Tinta Roja 3.5\n",
      "Flann O’Brien 3.5\n",
      "Mojito Rock 4\n",
      "Never More 5\n",
      "Mingus 4\n",
      "Black Lab 4\n",
      "Pepe Bar 5\n",
      "La Concha Barcelona 4.5\n",
      "Stereo 4.5\n",
      "Vicente Emilio Barcelona Villen 5\n",
      "Ryans Beach 4\n",
      "Bar Ardevol 4\n",
      "Two Schmucks 5\n",
      "Bernie’s 4\n",
      "Bonobo 4\n",
      "Veronica Griselda Villafan Zea 5\n",
      "cactus bar 4\n",
      "absentha 4\n",
      "Bodega 5\n",
      "El Vaso de Oro 4.5\n",
      "La Catedra 4.5\n",
      "Cheers 3\n",
      "Belice Cocktail Bar 5\n",
      "Bodega Saltó 4\n",
      "La Cervesera Artesana 4\n",
      "Ale&Hop 4.5\n",
      "Hendrix 4.5\n",
      "Sonora 3\n",
      "Ya lo sabes 4\n",
      "The Cottage 5\n",
      "Kentucky 4\n",
      "Hell Awaits 4\n",
      "Pepe’s Bar 3.5\n",
      "New York Café 4\n",
      "Enigma 4\n",
      "El Pony 4\n",
      "Dirty Dick’s 2.5\n",
      "Irish Sailing Pub 3.5\n",
      "Bloody Mary 4.5\n",
      "Paspartú 5\n",
      "Kahiki 2.5\n",
      "The Cottage 5\n",
      "Zim 4.5\n",
      "Cervecería Jazz 4.5\n",
      "Bubblic 4\n",
      "Elephant 4\n",
      "Rocksound 4.5\n",
      "Koitton Club 4.5\n",
      "Bobby Gin 4.5\n",
      "Filomena 4.5\n",
      "Woody Bar 4\n",
      "The End 4\n",
      "La Principal 3.5\n",
      "Tequila 44 4\n",
      "Insòlita Gea 4.5\n",
      "Filomena 4.5\n",
      "Blondie 5\n",
      "Set Barcelona 5\n",
      "Coctelería Cooler 4\n",
      "El Rouge 4\n",
      "Inch Bar 4.5\n",
      "El Rouge 4\n",
      "Bar International Beer 2.5\n",
      "Bongo’s 5\n",
      "Marula Café 4\n",
      "Pub Fiction 4.5\n",
      "Le Cyrano 4\n",
      "Rare 4\n",
      "La Beata 4.5\n",
      "Barcelona Pipa Club 5\n",
      "Velcro Bar 4\n",
      "Bar Fidel 4.5\n",
      "DiSapore Bar 4.5\n",
      "Ballbreaker 4\n",
      "Kimera 4\n",
      "La Gorda 4\n",
      "La República 4\n",
      "Marmalade 4\n",
      "A Viva Voz 3\n",
      "Colombo 4\n",
      "Versailles 4.5\n",
      "Garage 442 nan\n",
      "Living Barcelona 1925 4\n",
      "Ginger 4\n",
      "Milk Bar & Bistro 4.5\n",
      "Exterior 5\n",
      "Butyklan 3.5\n",
      "Bar Do nan\n",
      "The Fastnet 3.5\n",
      "Bar Prasoa 3.5\n",
      "El Jardinet d’Aribau 2\n",
      "Alpaca´s nan\n",
      "The Fastnet 3.5\n",
      "Síncopa 3.5\n",
      "Alfa Bar 4\n",
      "Ende 4\n",
      "Kioto 5\n",
      "Botanic 3.5\n",
      "El Zoo 3\n",
      "Sensi 4.5\n",
      "Rabipelao 3.5\n",
      "La Bodeguita Bright 4.5\n",
      "Victor Gomez Hidalgo 5\n",
      "Bar Mut 4.5\n",
      "Bodegon del Norte - Marzan 3\n",
      "Soho nan\n",
      "Caribbean Club 5\n",
      "Grill Room Bar Thonet 5\n",
      "Gracia Latina 3.5\n",
      "33/45 4\n",
      "33/45 4\n",
      "Mil Estones 4\n",
      "Pesca Salada 4.5\n",
      "Bar Dúrcal 5\n",
      "Nello’s 2\n",
      "Armony Cocktails Gintonics nan\n",
      "3011 Hosteleria y Restauracion, S.C.P. 3\n",
      "Kaizen Afterwork 5\n",
      "Smoking Dog 3\n",
      "La Guayra 3\n",
      "Manchester 3.5\n",
      "Bar Malasang 4.5\n",
      "Mandri 4\n",
      "No Sweat Bar 3.5\n",
      "Tropical 5\n",
      "El Garaje Hermético 3\n",
      "Mar de Copas nan\n",
      "Bodega del Onze 4\n",
      "Els Tres Porquets 4\n",
      "Quilombo 4\n",
      "Pastís 3.5\n",
      "Bar Pastis 5\n",
      "Coppelia Club nan\n",
      "Opera Samfaina 4\n",
      "Black Velvet 4\n",
      "Night and Day nan\n",
      "Thales 3.5\n",
      "Homo Sibaris 4\n",
      "El Circulo 5\n",
      "Um Que Rico 5\n",
      "Um Que Rico 5\n",
      "Gente de Pasta 5\n",
      "Gris 3\n",
      "Bar Manolo 4\n",
      "Foxy Bar 4\n",
      "BeeriVins 5\n",
      "Central 134 nan\n",
      "Bar la Maquinista 4\n",
      "Aloha 4\n",
      "Pasapalo 5\n",
      "Mora 3\n",
      "Wild Rover Barcelona 2\n",
      "Red Rocket 4\n",
      "Cheers 3\n",
      "Mexcla 4\n",
      "La Abadiba nan\n",
      "No Sé 4\n",
      "Vic-Lor Scp 5\n",
      "Bloomsday Literary Pub 2.5\n",
      "Tripode 3.5\n",
      "La Pubilla del Taulat 4.5\n",
      "Bloomsday Literary Pub 2.5\n",
      "Piacere Caffe 3.5\n",
      "D9 4\n",
      "Vanguard 4\n",
      "El Ciclista 4\n",
      "That’s the Way nan\n",
      "Pipa 4\n",
      "Sifó 4\n",
      "Kè? 3.5\n"
     ]
    }
   ],
   "source": [
    "#### Rating\n",
    "rating = []\n",
    "container_class = 'container__09f24__mpR8_ hoverable__09f24__wQ_on margin-t3__09f24__riq4X margin-b3__09f24__l9v5d padding-t3__09f24__TMrIW padding-r3__09f24__eaF7p padding-b3__09f24__S8R2d padding-l3__09f24__IOjKY border--top__09f24__exYYb border--right__09f24__X7Tln border--bottom__09f24___mg5X border--left__09f24__DMOkM border-color--default__09f24__NPAKY'\n",
    "for row in pub_soup:\n",
    "    soup = BeautifulSoup(row, 'html.parser')\n",
    "    result = soup.find_all(class_ = container_class)\n",
    "    for tag in result:\n",
    "        header_text = tag.div.div.div.nextSibling.div\n",
    "        rat = header_text.select_one('.overflow--hidden__09f24___ayzG')\n",
    "        \n",
    "        if rat is not None:\n",
    "            rating.append(rat['aria-label'].split()[0])\n",
    "\n",
    "            # print(rat['aria-label'])\n",
    "\n",
    "        else:\n",
    "            rating.append(np.nan)\n",
    "        \n",
    "# test\n",
    "for n, rat in zip(name, rating):\n",
    "    print(n, rat) "
   ]
  },
  {
   "cell_type": "markdown",
   "metadata": {},
   "source": [
    "#### Location"
   ]
  },
  {
   "cell_type": "code",
   "execution_count": 41,
   "metadata": {},
   "outputs": [
    {
     "data": {
      "text/plain": [
       "(232,)"
      ]
     },
     "execution_count": 41,
     "metadata": {},
     "output_type": "execute_result"
    }
   ],
   "source": [
    "pub_soup2.shape"
   ]
  },
  {
   "cell_type": "code",
   "execution_count": 42,
   "metadata": {},
   "outputs": [],
   "source": [
    "#### Location\n",
    "\n",
    "location = [] \n",
    "for row in pub_soup2:\n",
    "    soup = BeautifulSoup(row, 'html.parser')\n",
    "    result = soup.select('address .raw__09f24__T4Ezm')\n",
    "    adress_elements = []\n",
    "    for tag in result:\n",
    "        adress_elements.append(tag.text)\n",
    "    location.append( '--'.join(adress_elements) )"
   ]
  },
  {
   "cell_type": "code",
   "execution_count": 43,
   "metadata": {},
   "outputs": [
    {
     "name": "stdout",
     "output_type": "stream",
     "text": [
      "Scobies Irish Pub Ronda de la Universidad, 8--08007 Barcelona--Spain\n",
      "H1898 Rooftopbar Les Rambles, 109--08002 Barcelona--Spain\n",
      "L’Ovella Negra Carrer de les Sitges, 5--08001 Barcelona--Spain\n",
      "Bobby’s Free Carrer de Pau Claris, 85--08010 Barcelona--Spain\n",
      "Madame George Carrer de Pujades, 179--08005 Barcelona--Spain\n",
      "Nevermind Carrer dels Tallers, 68--08001 Barcelona--Spain\n",
      "The Michael Collins Plaça de la Sagrada Família, 4--08013 Barcelona--Spain\n",
      "Bar Rubí Carrer Banys Vells, 6--08003 Barcelona--Spain\n",
      "Old Fashioned Carrer de Santa Teresa, 1--08012 Barcelona--Spain\n",
      "The Bollocks Carrer Ample, 46--08002 Barcelona--Spain\n",
      "Biercab Carrer de Muntaner, 55--08011 Barcelona--Spain\n",
      "Flaherty’s Plaça de Joaquim Xirau, s/n--08002 Barcelona--Spain\n",
      "Dow Jones Carrer del Bruc, 97--08009 Barcelona--Spain\n",
      "El Bosc de les Fades Passatge de la Banca, 5--08002 Barcelona--Spain\n",
      "Obama Gran Via de les Corts Catalanes, 603--08007 Barcelona--Spain\n",
      "Tandem Carrer d'Aribau, 86--08036 Barcelona--Spain\n",
      "Hemingway Carrer de Muntaner, 114--08036 Barcelona--Spain\n",
      "Samba Brasil Carrer de Lepant, 297--08025 Barcelona--Spain\n",
      "The George Payne Plaça d'Urquinaona, 5--08010 Barcelona--Spain\n",
      "Snooker Carrer de Roger de Llúria, 42--08009 Barcelona--Spain\n",
      "Limerick Carrer del Bruc, 55--08009 Barcelona--Spain\n",
      "Otto Zutz Carrer de Lincoln, 15--08006 Barcelona--Spain\n",
      "My Bar Carrer de Ferran, 8--08002 Barcelona--Spain\n",
      "McCarthy’s Via Laietana, 44--08002 Barcelona--Spain\n",
      "Garage Beer Co \n",
      "Chill Bar Carrer Provença, 424--08025 Barcelona--Spain\n",
      "JazzMan Carrer de Roger de Flor, 238--08025 Barcelona--Spain\n",
      "Polaroid Carrer dels Còdols, 29--08002 Barcelona--Spain\n",
      "George & Dragon \n",
      "La Cinemateca Carrer de Pau Claris, 120--08009 Barcelona--Spain\n",
      "La Pepita Carrer de Còrsega, 343--08037 Barcelona--Spain\n",
      "London Bar Carrer Nou de la Ramba, 34--08001 Barcelona--Spain\n",
      "Marsella Carrer de Sant Pau, 65--08001 Barcelona--Spain\n",
      "The Black Horse Carrer de l'Allada-Vermell, 16--08003 Barcelona--Spain\n",
      "The Philharmonic Carrer de Mallorca, 204--08036 Barcelona--Spain\n",
      "Elephanta Carrer del Torrent d'en Vidalet, 37--08012 Barcelona--Spain\n",
      "La Birreria Carrer de la Riera de Sant Miquel, 70--08006 Barcelona--Spain\n",
      "First Bar Carrer d'en Rauric, 9--08002 Barcelona--Spain\n",
      "Hogan’s Australian Pub La Rambla, 81--08001 Barcelona--Spain\n",
      "The Black Lion Carrer d'Evarist Arnús, 70--08014 Barcelona--Spain\n",
      "The Lime House Carrer dels Carders, 31--08003 Barcelona--Spain\n",
      "Bonavida Carrer de Casp, 22--08010 Barcelona--Spain\n",
      "Dublin Sports Plaça de Joan Llongueras, 5--08021 Barcelona--Spain\n",
      "Musical María Carrer de Maria, 5--08012 Barcelona--Spain\n",
      "Dunne’s Irish Bar Via Laietana, 19-21--08003 Barcelona--Spain\n",
      "Xixbar Carrer de Rocafort, 19--08015 Barcelona--Spain\n",
      "Gato Negro Carrer de Sant Lluís,47--08012 Barcelona--Spain\n",
      "Lennox Pla de Palau, 9--08003 Barcelona--Spain\n",
      "Le Standard Carrer del Topazi, 24--08012 Barcelona--Spain\n",
      "Belushi’s Carrer de Bergara, 3--08001 Barcelona--Spain\n",
      "Craft Barcelona Carrer del Paradis, 4--08002 Barcelona--Spain\n",
      "Stoke Bar Carrer dels Banys Nous, 8--08002 Barcelona--Spain\n",
      "Fizz Barcelona Carrer de Balmes, 83--08008 Barcelona--Spain\n",
      "Bloomsday Irish Pub Carrer La Rambla, 21--08002 Barcelona--Spain\n",
      "Barna Brew Carrer del Parlament, 45--08015 Barcelona--Spain\n",
      "Pippermint Carrer de Borí i Fonestà, 20--08021 Barcelona--Spain\n",
      "Obama Gastropub Carrer Bruniquer, 30--08012 Barcelona--Spain\n",
      "Oviso Carrer d'Arai, 5--08002 Barcelona--Spain\n",
      "Touch Music Karaoke Carrer de Joan Miró, 8--08005 Barcelona--Spain\n",
      "Sor Rita Carrer de La Mercé, 27--08002 Barcelona--Spain\n",
      "La Barrica Carrer Concell de Cent, 313--08007 Barcelona--Spain\n",
      "Arcano Carrer dels Mercaders, 10--08003 Barcelona--Spain\n",
      "Bar Zodiaco Carrer de Margarit, 17--08004 Barcelona--Spain\n",
      "Big Bang Bar Carrer Botella, 7--08001 Barcelona--Spain\n",
      "Maestró Rambla de Catalunya, 79--08007 Barcelona--Spain\n",
      "Belchica Carrer de Villarroel, 60--08011 Barcelona--Spain\n",
      "Xpressing Underground Club Carrer de Balmes, 69--08007 Barcelona--Spain\n",
      "Lunatic Carrer Regent Mendieta, 38--08028 Barcelona--Spain\n",
      "Temple Bar Carrer de Ferran, 6--08002 Barcelona--Spain\n",
      "Ina Carrer dels Carders, 44--08003 Barcelona--Spain\n",
      "Espai d’Art Tinta Roja Carrer de la Creu dels  Molers, 17--Poble Sec--08004 Barcelona--Spain\n",
      "Flann O’Brien Carrer de Casanova, 264--08021 Barcelona--Spain\n",
      "Mojito Rock Carrer Valldonzella, 30--08001 Barcelona--Spain\n",
      "Never More Carrer de la Cera, 17--08001 Barcelona--Spain\n",
      "Mingus Carrer de la Comtessa de Sobradel, 9--08002 Barcelona--Spain\n",
      "Black Lab Plaça Pau Vila, 1--08039 Barcelona--Spain\n",
      "Pepe Bar Calle Pelai, 40--08001 Barcelona--Spain\n",
      "La Concha Barcelona Carrer de Guàrdia, 14--08001 Barcelona--Spain\n",
      "Stereo Calle Nou de la Rambla, 119--08004 Barcelona--Spain\n",
      "Vicente Emilio Barcelona Villen Calle de la Marina 261--08025 Barcelona--Spain\n",
      "Ryans Beach Carrer del Judici, 15--08003 Barcelona--Spain\n",
      "Bar Ardevol \n",
      "Two Schmucks Carrer de Joaquin Costa, 52--08001 Barcelona--Spain\n",
      "Bernie’s Via Laietana, 20--08003 Barcelona--Spain\n",
      "Bonobo Carrer de Santa Rosa, 14--08012 Barcelona--Spain\n",
      "Veronica Griselda Villafan Zea Calle Comtes de Bell Lloc 172--08014 Barcelona--Spain\n",
      "cactus bar jaume1--08002 Barcelona--Spain\n",
      "absentha carrer de sant carles--Barcelona--Spain\n",
      "Bodega Carrer dels Mirallers, 15--08003 Barcelona--Spain\n",
      "El Vaso de Oro Carrer de Balboa, 6--08003 Barcelona--Spain\n",
      "La Catedra Gran Via de les Corts Catalanes 578--Eixample--08011 Barcelona--Spain\n",
      "Cheers Carrer Santa Mónica, 2--08001 Barcelona--Spain\n",
      "Belice Cocktail Bar Carrer de Santaló, 36--08021 Barcelona--Spain\n",
      "Bodega Saltó Carrer de Blesa, 36--08004 Barcelona--Spain\n",
      "La Cervesera Artesana Carrer de Sant Agustí, 14--08012 Barcelona--Spain\n",
      "Ale&Hop Carrer de les Basses de Sant Pere, 10--08003 Barcelona--Spain\n",
      "Hendrix Travessera de Gràcia, 86--08006 Barcelona--Spain\n",
      "Sonora Carrer de Pamplona, 96--08018 Barcelona--Spain\n",
      "Ya lo sabes Diputació  340--08011 Barcelona--Spain\n",
      "The Cottage \n",
      "Kentucky Carrer de l'Arc del Teatre, 11--08001 Barcelona--Spain\n",
      "Hell Awaits Carrer de les Tàpies, 21--08001 Barcelona--Spain\n",
      "Pepe’s Bar Carrer de Pamplona, 91--08018 Barcelona--Spain\n",
      "New York Café Carrer de Diputacio, 88--08015 Barcelona--Spain\n",
      "Enigma Carrer del Taquígraf Garriga, 106--08029 Barcelona--Spain\n",
      "El Pony Carrer del Portal Nou, 23--08003 Barcelona--Spain\n",
      "Dirty Dick’s \n",
      "Irish Sailing Pub Moll de Mestral 26--08005 Barcelona--Spain\n",
      "Bloody Mary Carrer de Ferrer de Blanes, 3--08012 Barcelona--Spain\n",
      "Paspartú Carrer de les Basses de Sant Pere, 12-14--08003 Barcelona--Spain\n",
      "Kahiki Gran Via de les Corts Catalanes, 581--08011 Barcelona--Spain\n",
      "Zim Carrer de la Dagueria, 20--08002 Barcelona--Spain\n",
      "Cervecería Jazz Carrer de Margarit, 43--08004 Barcelona--Spain\n",
      "Bubblic Carrer de Marià Cubí, 183--08021 Barcelona--Spain\n",
      "Elephant Carrer de Pau Claris, 92--08010 Barcelona--Spain\n",
      "Rocksound Carrer de Almogàvers, 116--08018 Barcelona--Spain\n",
      "Koitton Club Carrer de Rossend Arús, 9--08014 Barcelona--Spain\n",
      "Bobby Gin Carrer de Francisco Giner, 47--08012 Barcelona--Spain\n",
      "Filomena Carrer d'Aldana, 8--08015 Barcelona--Spain\n",
      "Woody Bar Plaça del Sol, 7-8--08012 Barcelona--Spain\n",
      "The End Carrer de Santaló, 34--08021 Barcelona--Spain\n",
      "La Principal Carrer de Sepúlveda, 186--08011 Barcelona--Spain\n",
      "Tequila 44 Carrer dels Escudellers, 28--08002 Barcelona--Spain\n",
      "Insòlita Gea Carrer Sant Antoni Maria Claret, 220--08025 Barcelona--Spain\n",
      "Blondie Carrer d'en Roca, 14--08002 Barcelona--Spain\n",
      "Set Barcelona Calle Enamorats, 90--08026 Barcelona--Spain\n",
      "Coctelería Cooler Carrer de Mallorca, 196--08036 Barcelona--Spain\n",
      "El Rouge Carrer del Poeta Cabanyes, 21--08004 Barcelona--Spain\n",
      "Inch Bar Carrer de I'Escorial, 117--08024 Barcelona--Spain\n",
      "Bar International Beer Carrer del Cardenal Casanas, 4--08002 Barcelona--Spain\n",
      "Bongo’s Moll del Gregal, 1-3--08005 Barcelona--Spain\n",
      "Marula Café Carrer dels Escudellers, 49--08002 Barcelona--Spain\n",
      "Pub Fiction Carrer de Casanova, 96--08011 Barcelona--Spain\n",
      "Le Cyrano Carrer d'Aribau, 154--08036 Barcelona--Spain\n",
      "Rare Carrer de Casp, 55--08010 Barcelona--Spain\n",
      "La Beata Carrer de Jesús, 16--08012 Barcelona--Spain\n",
      "Barcelona Pipa Club Carrer Santa Eulàlia , 21--08012 Barcelona--Spain\n",
      "Velcro Bar Carrer de Vallfogona, 10--08012 Barcelona--Spain\n",
      "Bar Fidel Carrer de Ferlandina, 24--08001 Barcelona--Spain\n",
      "DiSapore Bar Carrer del Pintor Fortuny, 15--08001 Barcelona--Spain\n",
      "Ballbreaker Carrer Matilde, 7--08012 Barcelona--Spain\n",
      "Kimera Carrer de Mozart, 16--08012 Barcelona--Spain\n",
      "La Gorda Carrer de Riego, 29--08014 Barcelona--Spain\n",
      "La República Carrer de la Mercè, 13--08002 Barcelona--Spain\n",
      "Marmalade Carrer de la Riera Alta, 4-6--08001 Barcelona--Spain\n",
      "A Viva Voz Carrer d'Aribau 103--08036 Barcelona--Spain\n",
      "Colombo Calle L'escar, 4--08039 Barcelona--Spain\n",
      "Versailles Pasaje Valeri Serra, 3--08011 Barcelona--Spain\n",
      "Garage 442 Avinguda Diagonal, 442--08037 Barcelona--Spain\n",
      "Living Barcelona 1925 Ramblas, 122--08002 Barcelona--Spain\n",
      "Ginger Carrer de la Palma de Sant Just, 1--08002 Barcelona--Spain\n",
      "Milk Bar & Bistro Carrer d'en Gignàs, 21--08002 Barcelona--Spain\n",
      "Exterior Playa de Ocata -----Barcelona--Spain\n",
      "Butyklan Carrer d'Aragó, 343--08009 Barcelona--Spain\n",
      "Bar Do Rogen 45--08026 Barcelona--Spain\n",
      "The Fastnet Passeig de Joan de Borbó, 22--08003 Barcelona--Spain\n",
      "Bar Prasoa Calle Sardenya 317--08025 Barcelona--Spain\n",
      "El Jardinet d’Aribau Carrer d'Aribau, 133--08036 Barcelona--Spain\n",
      "Alpaca´s Carrer dels Sombrerers, 7--08003 Barcelona--Spain\n",
      "Síncopa Carrer d'Avinyó, 35--08002 Barcelona--Spain\n",
      "Alfa Bar Carrer Gran de Gràcia, 36--08012 Barcelona--Spain\n",
      "Ende Carrer de Casanova 210--08036 Barcelona--Spain\n",
      "Kioto Calle Guinardo, 200--08041 Barcelona--Spain\n",
      "Botanic Carrer de Muntaner, 64--08011 Barcelona--Spain\n",
      "El Zoo Carrer del Torrent de l'Olla, 145--08012 Barcelona--Spain\n",
      "Sensi Carrer Ample, 26--08002 Barcelona--Spain\n",
      "Rabipelao Carrer de la Mercè, 26--08002 Barcelona--Spain\n",
      "La Bodeguita Bright Carrer del Comte Borrell, 18--08015 Barcelona--Spain\n",
      "Victor Gomez Hidalgo Calle Sicilia 125--08013 Barcelona--Spain\n",
      "Bar Mut Carrer de Pau Claris, 192--08037 Barcelona--Spain\n",
      "Bodegon del Norte - Marzan Calle Valencia 207--08007 Barcelona--Spain\n",
      "Soho Calle Aribau, 195--08021 Barcelona--Spain\n",
      "Caribbean Club Carrer de les Sitges, 5--08001 Barcelona--Spain\n",
      "Grill Room Bar Thonet Carrer dels Escudellers, 8--08002 Barcelona--Spain\n",
      "Gracia Latina Carrer De L'Or,19--08012 Barcelona--Spain\n",
      "33/45 Carrer de Joaquín Costa, 4--08001 Barcelona--Spain\n",
      "Mil Estones Carrer de Saragossa, 89--08006 Barcelona--Spain\n",
      "Pesca Salada Carrer de la Cera, 32--08001 Barcelona--Spain\n",
      "Bar Dúrcal Carrer de Càceres, 34--08028 Barcelona--Spain\n",
      "Nello’s Rosselló, 255--08008 Barcelona--Spain\n",
      "Armony Cocktails Gintonics Calle Indústria, 135--08025 Barcelona--Spain\n",
      "3011 Hosteleria y Restauracion, S.C.P. Calle Valencia 194--08011 Barcelona--Spain\n",
      "Kaizen Afterwork Carrer de Castella, 1--08018 Barcelona--Spain\n",
      "Smoking Dog Carrer de París, 191--08036 Barcelona--Spain\n",
      "La Guayra Carrer de Provença, 243--08008 Barcelona--Spain\n",
      "Manchester Carrer de Milans, 5--08002 Barcelona--Spain\n",
      "Bar Malasang Carrer de Comte Borrell, 148--08015 Barcelona--Spain\n",
      "Mandri Carrer de Mandri, 60--08022 Barcelona--Spain\n",
      "No Sweat Bar Carrer de Vic, 19--08006 Barcelona--Spain\n",
      "Tropical Calle Paloma 19--08001 Barcelona--Spain\n",
      "El Garaje Hermético Avinguda Diagonal, 442--08037 Barcelona--Spain\n",
      "Mar de Copas Carrer de Marià Cubí, 55--08006 Barcelona--Spain\n",
      "Bodega del Onze Carrer de Blai, 8--08004 Barcelona--Spain\n",
      "Els Tres Porquets Rambla Poblenou, 165--08005 Barcelona--Spain\n",
      "Quilombo Carrer d'Aribau, 149--08036 Barcelona--Spain\n",
      "Pastís Carrer de Santa Mónica, 4--08001 Barcelona--Spain\n",
      "Bar Pastis Rambla de Santa Mónica, 4--08002 Barcelona--Spain\n",
      "Coppelia Club Carrer Rera Palau, 4--08003 Barcelona--Spain\n",
      "Opera Samfaina La Rambla, 51-59--08001 Barcelona--Spain\n",
      "Black Velvet Nou de la Rambla, 130--08004 Barcelona--Spain\n",
      "Night and Day Carrer dels Almogàvers, 62--08018 Barcelona--Spain\n",
      "Thales Carrer dels Templers, 16--08002 Barcelona--Spain\n",
      "Homo Sibaris Plaça Osca, 4--08014 Barcelona--Spain\n",
      "El Circulo Carrer Banys Vells, 11--08003 Barcelona--Spain\n",
      "Um Que Rico Carrer Sant Joan de Malta 150--08018 Barcelona--Spain\n",
      "Gente de Pasta Calle Enric Granados 67--08008 Barcelona--Spain\n",
      "Gris Passeig de Sant Antoni, 23--08014 Barcelona--Spain\n",
      "Bar Manolo Carrer de Lancaster, 3--08001 Barcelona--Spain\n",
      "Foxy Bar Carrer de la Riera Alta, 59--08001 Barcelona--Spain\n",
      "BeeriVins Carrer de Còrsega, 589-591--08025 Barcelona--Spain\n",
      "Central 134 \n",
      "Bar la Maquinista Calle Maquinista 13--08003 Barcelona--Spain\n",
      "Aloha Carrer de Provença, 159--08036 Barcelona--Spain\n",
      "Pasapalo Carrer del Poeta Cabanyes, 6--08004 Barcelona--Spain\n",
      "Mora Carrer Rossello, 495--08025 Barcelona--Spain\n",
      "Wild Rover Barcelona Carrer de Santa Mònica, 2--08001 Barcelona--Spain\n",
      "Red Rocket Carrer dels Còdols, 21--08002 Barcelona--Spain\n",
      "Mexcla Carrer Ramón y Cajal, 35--08012 Barcelona--Spain\n",
      "La Abadiba Carrer del Rosselló, 174--08036 Barcelona--Spain\n",
      "No Sé Passeig del Born, 21--08003 Barcelona--Spain\n",
      "Vic-Lor Scp Calle Poblenou 149--08018 Barcelona--Spain\n",
      "Bloomsday Literary Pub Rambla de Santa Mònica 23--08002 Barcelona--Spain\n",
      "Tripode Calle Born 17--08003 Barcelona--Spain\n",
      "La Pubilla del Taulat Carrer de Marià Aguiló, 131--08005 Barcelona--Spain\n",
      "Piacere Caffe Plaça de la Sagrada Família, 6--08013 Barcelona--Spain\n",
      "D9 Carrer de Pallars, 122--08018 Barcelona--Spain\n",
      "Vanguard Carrer de Llull, 155--08005 Barcelona--Spain\n",
      "El Ciclista Carrer Mozart , 18--08012 Barcelona--Spain\n",
      "That’s the Way Calle Entença, 85--08015 Barcelona--Spain\n",
      "Pipa Calle Llull 159--08005 Barcelona--Spain\n",
      "Sifó Carrer d'Espalter, 4--08001 Barcelona--Spain\n",
      "Kè? Carrer del Baluart, 54--08003 Barcelona--Spain\n"
     ]
    }
   ],
   "source": [
    "for n, loc in zip(pub_soup2.index, location):\n",
    "    print(n,loc)"
   ]
  },
  {
   "cell_type": "markdown",
   "metadata": {},
   "source": [
    "#### Website"
   ]
  },
  {
   "cell_type": "code",
   "execution_count": 44,
   "metadata": {},
   "outputs": [],
   "source": [
    "#### Website\n",
    "website = []\n",
    "for row in pub_soup2:\n",
    "    soup = BeautifulSoup(row, 'html.parser')\n",
    "    result = soup.select_one('.css-na3oda+ .css-1p9ibgf .css-1um3nx')\n",
    "    # for tag in result:\n",
    "    if result is not None:\n",
    "        website.append( result.text ) \n",
    "\n",
    "    else:\n",
    "        website.append(np.nan)\n",
    "\n"
   ]
  },
  {
   "cell_type": "code",
   "execution_count": 45,
   "metadata": {},
   "outputs": [
    {
     "name": "stdout",
     "output_type": "stream",
     "text": [
      "Scobies Irish Pub http://scobiesirishpub.com/ind…\n",
      "H1898 Rooftopbar http://www.hotel1898.com/es/\n",
      "L’Ovella Negra http://www.ovellanegra.com\n",
      "Bobby’s Free http://www.bobbysfree.com/en/\n",
      "Madame George http://www.madamegeorgebar.com\n",
      "Nevermind nan\n",
      "The Michael Collins http://www.michaelcollinspubs.…\n",
      "Bar Rubí nan\n",
      "Old Fashioned http://cocktailsbarcelona.oldf…\n",
      "The Bollocks http://www.bollocksbcn.com\n",
      "Biercab http://biercab.com/\n",
      "Flaherty’s http://www.pflaherty.com/barce…\n",
      "Dow Jones http://www.dowjonesbar.com\n",
      "El Bosc de les Fades http://www.museocerabcn.com/bo…\n",
      "Obama http://www.obamabcn.com\n",
      "Tandem nan\n",
      "Hemingway http://www.hemingwaybcn.com\n",
      "Samba Brasil nan\n",
      "The George Payne http://www.thegeorgepayne.com\n",
      "Snooker http://www.snookerbarcelona.co…\n",
      "Limerick nan\n",
      "Otto Zutz http://www.ottozutz.com\n",
      "My Bar http://mybarcelona.es/\n",
      "McCarthy’s http://mccarthysbarbarcelona.c…\n",
      "Garage Beer Co nan\n",
      "Chill Bar http://www.chillbarcelona.com\n",
      "JazzMan http://www.jazzmanbcn.com\n",
      "Polaroid http://www.polaroidbar.es/\n",
      "George & Dragon nan\n",
      "La Cinemateca http://www.cinematecabar.com/e…\n",
      "La Pepita http://www.lapepitabcn.com\n",
      "London Bar nan\n",
      "Marsella nan\n",
      "The Black Horse nan\n",
      "The Philharmonic http://www.the-philharmonic.co…\n",
      "Elephanta http://www.elephanta.cat\n",
      "La Birreria nan\n",
      "First Bar nan\n",
      "Hogan’s Australian Pub nan\n",
      "The Black Lion http://blacklionbcn.wix.com/th…\n",
      "The Lime House nan\n",
      "Bonavida nan\n",
      "Dublin Sports nan\n",
      "Musical María nan\n",
      "Dunne’s Irish Bar http://www.dunnesirishbar.com/\n",
      "Xixbar https://xixbar.com\n",
      "Gato Negro nan\n",
      "Lennox http://www.lennox-thepub.com\n",
      "Le Standard nan\n",
      "Belushi’s http://www.belushis.com/bars/b…\n",
      "Craft Barcelona http://www.craftbarcelona.com\n",
      "Stoke Bar http://www.stoketravel.com/\n",
      "Fizz Barcelona http://www.fizzbarcelona.com/\n",
      "Bloomsday Irish Pub http://www.barinbarcelona.com\n",
      "Barna Brew nan\n",
      "Pippermint http://www.pippermintbcn.com\n",
      "Obama Gastropub nan\n",
      "Oviso http://www.barnawood.com\n",
      "Touch Music Karaoke http://www.karaokebarcelona.co…\n",
      "Sor Rita http://www.sorritabar.es/\n",
      "La Barrica nan\n",
      "Arcano http://www.arcanobcn.com\n",
      "Bar Zodiaco nan\n",
      "Big Bang Bar http://www.bigbangbarcelona.co…\n",
      "Maestró http://www.maestrobcn.com/\n",
      "Belchica http://belchica.be\n",
      "Xpressing Underground Club http://www.xpressingundergroun…\n",
      "Lunatic nan\n",
      "Temple Bar http://templebarbcn.com/\n",
      "Ina nan\n",
      "Espai d’Art Tinta Roja http://www.tintaroja.cat\n",
      "Flann O’Brien nan\n",
      "Mojito Rock nan\n",
      "Never More nan\n",
      "Mingus nan\n",
      "Black Lab http://www.blacklab.es\n",
      "Pepe Bar nan\n",
      "La Concha Barcelona http://laconchadelraval.com/\n",
      "Stereo nan\n",
      "Vicente Emilio Barcelona Villen nan\n",
      "Ryans Beach http://www.ryanspubs.com\n",
      "Bar Ardevol nan\n",
      "Two Schmucks https://indianobarsl.wixsite.c…\n",
      "Bernie’s http://www.berniesdiner.com\n",
      "Bonobo nan\n",
      "Veronica Griselda Villafan Zea nan\n",
      "cactus bar nan\n",
      "absentha nan\n",
      "Bodega nan\n",
      "El Vaso de Oro http://vasodeoro.com/\n",
      "La Catedra nan\n",
      "Cheers http://www.cheersbarcelona.com…\n",
      "Belice Cocktail Bar nan\n",
      "Bodega Saltó http://bodegasalto.net\n",
      "La Cervesera Artesana http://www.lacervesera.net/\n",
      "Ale&Hop nan\n",
      "Hendrix http://www.hendrixbcn.es\n",
      "Sonora http://www.tabernasonora.com\n",
      "Ya lo sabes nan\n",
      "The Cottage nan\n",
      "Kentucky nan\n",
      "Hell Awaits http://www.hellawaitsmetalbar.…\n",
      "Pepe’s Bar nan\n",
      "New York Café nan\n",
      "Enigma nan\n",
      "El Pony nan\n",
      "Dirty Dick’s nan\n",
      "Irish Sailing Pub nan\n",
      "Bloody Mary http://bloodymarybcn.es\n",
      "Paspartú nan\n",
      "Kahiki nan\n",
      "Zim http://www.barzimbcn.com\n",
      "Cervecería Jazz nan\n",
      "Bubblic http://www.bubblicbar.com\n",
      "Elephant http://www.elephantbcn.com/\n",
      "Rocksound nan\n",
      "Koitton Club nan\n",
      "Bobby Gin http://www.bobbygin.com/\n",
      "Filomena http://www.filomenagastrobar.c…\n",
      "Woody Bar nan\n",
      "The End nan\n",
      "La Principal nan\n",
      "Tequila 44 nan\n",
      "Insòlita Gea nan\n",
      "Blondie nan\n",
      "Set Barcelona nan\n",
      "Coctelería Cooler http://www.cocteleriacooler.co…\n",
      "El Rouge nan\n",
      "Inch Bar nan\n",
      "Bar International Beer nan\n",
      "Bongo’s http://www.monchos.com\n",
      "Marula Café http://www.marulacafe.com\n",
      "Pub Fiction nan\n",
      "Le Cyrano nan\n",
      "Rare http://www.rarebcn.com\n",
      "La Beata http://barlabeata.com\n",
      "Barcelona Pipa Club http://www.bpipaclub.com\n",
      "Velcro Bar nan\n",
      "Bar Fidel nan\n",
      "DiSapore Bar nan\n",
      "Ballbreaker nan\n",
      "Kimera nan\n",
      "La Gorda nan\n",
      "La República nan\n",
      "Marmalade http://www.marmaladebarcelona.…\n",
      "A Viva Voz http://www.karaokebarcelona.co…\n",
      "Colombo nan\n",
      "Versailles nan\n",
      "Garage 442 nan\n",
      "Living Barcelona 1925 http://www.living-barcelona.co…\n",
      "Ginger http://www.ginger.cat\n",
      "Milk Bar & Bistro http://www.milkbarcelona.com/\n",
      "Exterior nan\n",
      "Butyklan nan\n",
      "Bar Do nan\n",
      "The Fastnet nan\n",
      "Bar Prasoa nan\n",
      "El Jardinet d’Aribau http://www.jardinetaribau.com/\n",
      "Alpaca´s nan\n",
      "Síncopa nan\n",
      "Alfa Bar http://alfabar.cat\n",
      "Ende http://www.musicende.com\n",
      "Kioto nan\n",
      "Botanic http://www.botanicbarcafe.com\n",
      "El Zoo nan\n",
      "Sensi http://www.sensi.es\n",
      "Rabipelao https://www.elrabipelao.com\n",
      "La Bodeguita Bright nan\n",
      "Victor Gomez Hidalgo nan\n",
      "Bar Mut http://www.barmut.com/\n",
      "Bodegon del Norte - Marzan nan\n",
      "Soho http://www.sohobcn.com/\n",
      "Caribbean Club nan\n",
      "Grill Room Bar Thonet https://grillroom-barthonet.co…\n",
      "Gracia Latina nan\n",
      "33/45 http://3345.struments.com/\n",
      "Mil Estones nan\n",
      "Pesca Salada nan\n",
      "Bar Dúrcal nan\n",
      "Nello’s http://www.nellosbar.com\n",
      "Armony Cocktails Gintonics nan\n",
      "3011 Hosteleria y Restauracion, S.C.P. nan\n",
      "Kaizen Afterwork http://www.kaizenafterwork.com\n",
      "Smoking Dog nan\n",
      "La Guayra nan\n",
      "Manchester http://www.manchesterbar.com\n",
      "Bar Malasang nan\n",
      "Mandri nan\n",
      "No Sweat Bar http://www.barnosweat.com\n",
      "Tropical nan\n",
      "El Garaje Hermético nan\n",
      "Mar de Copas nan\n",
      "Bodega del Onze nan\n",
      "Els Tres Porquets http://www.elstresporquets.es\n",
      "Quilombo nan\n",
      "Pastís http://www.barpastis.com\n",
      "Bar Pastis nan\n",
      "Coppelia Club http://www.coppeliaclub.com\n",
      "Opera Samfaina http://www.operasamfaina.com\n",
      "Black Velvet nan\n",
      "Night and Day nan\n",
      "Thales nan\n",
      "Homo Sibaris http://www.homosibaris.com\n",
      "El Circulo nan\n",
      "Um Que Rico nan\n",
      "Gente de Pasta nan\n",
      "Gris nan\n",
      "Bar Manolo nan\n",
      "Foxy Bar http://wearefoxy.com/\n",
      "BeeriVins nan\n",
      "Central 134 nan\n",
      "Bar la Maquinista nan\n",
      "Aloha nan\n",
      "Pasapalo http://pasapalobarcelona.es\n",
      "Mora nan\n",
      "Wild Rover Barcelona http://www.wildroverbarcelona.…\n",
      "Red Rocket nan\n",
      "Mexcla http://mexcla.es/\n",
      "La Abadiba nan\n",
      "No Sé nan\n",
      "Vic-Lor Scp nan\n",
      "Bloomsday Literary Pub nan\n",
      "Tripode nan\n",
      "La Pubilla del Taulat http://www.lapubilladeltaulat.…\n",
      "Piacere Caffe nan\n",
      "D9 http://denou.bar/\n",
      "Vanguard nan\n",
      "El Ciclista nan\n",
      "That’s the Way nan\n",
      "Pipa nan\n",
      "Sifó http://www.sifo.es\n",
      "Kè? nan\n"
     ]
    }
   ],
   "source": [
    "for n, web in zip(pub_soup2.index, website):\n",
    "    print(n,web)"
   ]
  },
  {
   "cell_type": "markdown",
   "metadata": {},
   "source": [
    "#### Number of photos"
   ]
  },
  {
   "cell_type": "code",
   "execution_count": 46,
   "metadata": {},
   "outputs": [],
   "source": [
    "#### Number of photos\n",
    "nb_photos = []\n",
    "photo_header_class = 'photo-header-content-container__09f24__jDLBB border-color--default__09f24__NPAKY'\n",
    "for row in pub_soup2:\n",
    "    soup = BeautifulSoup(row, 'html.parser')\n",
    "    photo_header = soup.find(class_ = photo_header_class)\n",
    "    if photo_header is not None:\n",
    "\n",
    "        nb_photos.append(  pd.Series(photo_header.text).str.extract(r'See (\\d+) photos').squeeze()  )\n",
    "        # print('-'*100)\n",
    "\n",
    "    else:\n",
    "        nb_photos.append(np.nan)\n",
    "    \n",
    "\n"
   ]
  },
  {
   "cell_type": "code",
   "execution_count": 47,
   "metadata": {},
   "outputs": [
    {
     "name": "stdout",
     "output_type": "stream",
     "text": [
      "Scobies Irish Pub 17\n",
      "H1898 Rooftopbar 14\n",
      "L’Ovella Negra 50\n",
      "Bobby’s Free 42\n",
      "Madame George 35\n",
      "Nevermind 26\n",
      "The Michael Collins 47\n",
      "Bar Rubí 71\n",
      "Old Fashioned 218\n",
      "The Bollocks 22\n",
      "Biercab 215\n",
      "Flaherty’s 69\n",
      "Dow Jones 56\n",
      "El Bosc de les Fades 100\n",
      "Obama 66\n",
      "Tandem 53\n",
      "Hemingway 45\n",
      "Samba Brasil 4\n",
      "The George Payne 40\n",
      "Snooker 9\n",
      "Limerick 6\n",
      "Otto Zutz 18\n",
      "My Bar 6\n",
      "McCarthy’s nan\n",
      "Garage Beer Co nan\n",
      "Chill Bar 213\n",
      "JazzMan 32\n",
      "Polaroid 36\n",
      "George & Dragon nan\n",
      "La Cinemateca 5\n",
      "La Pepita 1065\n",
      "London Bar 56\n",
      "Marsella 55\n",
      "The Black Horse 8\n",
      "The Philharmonic 6\n",
      "Elephanta 41\n",
      "La Birreria 5\n",
      "First Bar 21\n",
      "Hogan’s Australian Pub 34\n",
      "The Black Lion 23\n",
      "The Lime House 11\n",
      "Bonavida 31\n",
      "Dublin Sports 7\n",
      "Musical María 5\n",
      "Dunne’s Irish Bar 17\n",
      "Xixbar 199\n",
      "Gato Negro 20\n",
      "Lennox 9\n",
      "Le Standard nan\n",
      "Belushi’s 26\n",
      "Craft Barcelona 45\n",
      "Stoke Bar 36\n",
      "Fizz Barcelona nan\n",
      "Bloomsday Irish Pub 4\n",
      "Barna Brew 14\n",
      "Pippermint 31\n",
      "Obama Gastropub 8\n",
      "Oviso 70\n",
      "Touch Music Karaoke 38\n",
      "Sor Rita 51\n",
      "La Barrica 15\n",
      "Arcano 555\n",
      "Bar Zodiaco 25\n",
      "Big Bang Bar 43\n",
      "Maestró 119\n",
      "Belchica 23\n",
      "Xpressing Underground Club 9\n",
      "Lunatic 9\n",
      "Temple Bar 29\n",
      "Ina 10\n",
      "Espai d’Art Tinta Roja 11\n",
      "Flann O’Brien nan\n",
      "Mojito Rock 5\n",
      "Never More 7\n",
      "Mingus 15\n",
      "Black Lab 172\n",
      "Pepe Bar nan\n",
      "La Concha Barcelona 10\n",
      "Stereo 11\n",
      "Vicente Emilio Barcelona Villen nan\n",
      "Ryans Beach nan\n",
      "Bar Ardevol nan\n",
      "Two Schmucks 29\n",
      "Bernie’s 121\n",
      "Bonobo 5\n",
      "Veronica Griselda Villafan Zea nan\n",
      "cactus bar nan\n",
      "absentha 7\n",
      "Bodega 11\n",
      "El Vaso de Oro 359\n",
      "La Catedra 9\n",
      "Cheers 4\n",
      "Belice Cocktail Bar 8\n",
      "Bodega Saltó 11\n",
      "La Cervesera Artesana 34\n",
      "Ale&Hop 106\n",
      "Hendrix 9\n",
      "Sonora 21\n",
      "Ya lo sabes nan\n",
      "The Cottage nan\n",
      "Kentucky 15\n",
      "Hell Awaits 8\n",
      "Pepe’s Bar nan\n",
      "New York Café nan\n",
      "Enigma nan\n",
      "El Pony nan\n",
      "Dirty Dick’s nan\n",
      "Irish Sailing Pub nan\n",
      "Bloody Mary 54\n",
      "Paspartú 8\n",
      "Kahiki 7\n",
      "Zim 5\n",
      "Cervecería Jazz 13\n",
      "Bubblic 8\n",
      "Elephant nan\n",
      "Rocksound nan\n",
      "Koitton Club 4\n",
      "Bobby Gin 77\n",
      "Filomena 36\n",
      "Woody Bar nan\n",
      "The End nan\n",
      "La Principal 41\n",
      "Tequila 44 23\n",
      "Insòlita Gea 62\n",
      "Blondie nan\n",
      "Set Barcelona 8\n",
      "Coctelería Cooler 40\n",
      "El Rouge 9\n",
      "Inch Bar 11\n",
      "Bar International Beer 30\n",
      "Bongo’s nan\n",
      "Marula Café 17\n",
      "Pub Fiction nan\n",
      "Le Cyrano 4\n",
      "Rare 12\n",
      "La Beata 4\n",
      "Barcelona Pipa Club nan\n",
      "Velcro Bar nan\n",
      "Bar Fidel 18\n",
      "DiSapore Bar 15\n",
      "Ballbreaker 8\n",
      "Kimera nan\n",
      "La Gorda 5\n",
      "La República 64\n",
      "Marmalade 125\n",
      "A Viva Voz 18\n",
      "Colombo 11\n",
      "Versailles 17\n",
      "Garage 442 nan\n",
      "Living Barcelona 1925 43\n",
      "Ginger 21\n",
      "Milk Bar & Bistro 649\n",
      "Exterior nan\n",
      "Butyklan 6\n",
      "Bar Do nan\n",
      "The Fastnet 6\n",
      "Bar Prasoa nan\n",
      "El Jardinet d’Aribau 58\n",
      "Alpaca´s nan\n",
      "Síncopa 12\n",
      "Alfa Bar 11\n",
      "Ende nan\n",
      "Kioto nan\n",
      "Botanic 76\n",
      "El Zoo nan\n",
      "Sensi 681\n",
      "Rabipelao 17\n",
      "La Bodeguita Bright 48\n",
      "Victor Gomez Hidalgo nan\n",
      "Bar Mut 294\n",
      "Bodegon del Norte - Marzan nan\n",
      "Soho nan\n",
      "Caribbean Club 18\n",
      "Grill Room Bar Thonet 21\n",
      "Gracia Latina 13\n",
      "33/45 11\n",
      "Mil Estones nan\n",
      "Pesca Salada 10\n",
      "Bar Dúrcal nan\n",
      "Nello’s 14\n",
      "Armony Cocktails Gintonics 5\n",
      "3011 Hosteleria y Restauracion, S.C.P. nan\n",
      "Kaizen Afterwork 28\n",
      "Smoking Dog nan\n",
      "La Guayra 10\n",
      "Manchester 6\n",
      "Bar Malasang 24\n",
      "Mandri 10\n",
      "No Sweat Bar nan\n",
      "Tropical nan\n",
      "El Garaje Hermético nan\n",
      "Mar de Copas 6\n",
      "Bodega del Onze 5\n",
      "Els Tres Porquets 114\n",
      "Quilombo 5\n",
      "Pastís 4\n",
      "Bar Pastis nan\n",
      "Coppelia Club 9\n",
      "Opera Samfaina 65\n",
      "Black Velvet 10\n",
      "Night and Day 45\n",
      "Thales 14\n",
      "Homo Sibaris 49\n",
      "El Circulo 11\n",
      "Um Que Rico nan\n",
      "Gente de Pasta nan\n",
      "Gris nan\n",
      "Bar Manolo 4\n",
      "Foxy Bar 9\n",
      "BeeriVins 4\n",
      "Central 134 nan\n",
      "Bar la Maquinista nan\n",
      "Aloha 18\n",
      "Pasapalo 52\n",
      "Mora nan\n",
      "Wild Rover Barcelona 24\n",
      "Red Rocket nan\n",
      "Mexcla 93\n",
      "La Abadiba nan\n",
      "No Sé 10\n",
      "Vic-Lor Scp nan\n",
      "Bloomsday Literary Pub nan\n",
      "Tripode nan\n",
      "La Pubilla del Taulat 22\n",
      "Piacere Caffe 4\n",
      "D9 1497\n",
      "Vanguard nan\n",
      "El Ciclista 7\n",
      "That’s the Way 12\n",
      "Pipa nan\n",
      "Sifó 5\n",
      "Kè? 9\n"
     ]
    }
   ],
   "source": [
    "for n, photo in zip(pub_soup2.index, nb_photos):\n",
    "    print(n, photo)"
   ]
  },
  {
   "cell_type": "markdown",
   "metadata": {},
   "source": [
    "#### Opening hours\n"
   ]
  },
  {
   "cell_type": "code",
   "execution_count": 48,
   "metadata": {},
   "outputs": [],
   "source": [
    "opening_hours = {'name':list(), 'day':list(), 'opening':list(), 'closing':list()}\n",
    "for row, name in zip(pub_soup2, pub_soup2.index):\n",
    "    soup = BeautifulSoup(row, 'html.parser')\n",
    "    days = []\n",
    "    days_container = soup.select('.day-of-the-week__09f24__JJea_')\n",
    "    time_container = soup.select('.no-wrap__09f24__c3plq.css-1p9ibgf')\n",
    "    for day, time in zip(days_container, time_container):\n",
    "\n",
    "        opening_hours['name'].append(name)\n",
    "        opening_hours['day'].append(day.text)\n",
    "        opening_hours['opening'].append(   pd.Series(time.text).str.extract(r'(\\d+:\\d+ \\w+) - \\d+:\\d+ \\w+').squeeze()   )\n",
    "        opening_hours['closing'].append( pd.Series(time.text).str.extract(r'\\d+:\\d+ \\w+ - (\\d+:\\d+ \\w+)').squeeze() )"
   ]
  },
  {
   "cell_type": "code",
   "execution_count": 49,
   "metadata": {},
   "outputs": [
    {
     "name": "stdout",
     "output_type": "stream",
     "text": [
      "['Scobies Irish Pub', 'Mon', '5:00 PM', '2:30 AM']\n",
      "['Scobies Irish Pub', 'Tue', '5:00 PM', '2:30 AM']\n",
      "['Scobies Irish Pub', 'Wed', '5:00 PM', '2:30 AM']\n",
      "['Scobies Irish Pub', 'Thu', '5:00 PM', '2:30 AM']\n",
      "['Scobies Irish Pub', 'Fri', '2:00 PM', '3:00 AM']\n",
      "['Scobies Irish Pub', 'Sat', '2:00 PM', '3:00 AM']\n",
      "['Scobies Irish Pub', 'Sun', '5:00 PM', '2:30 AM']\n",
      "['L’Ovella Negra', 'Mon', '9:00 AM', '3:00 AM']\n",
      "['L’Ovella Negra', 'Tue', '9:00 AM', '3:00 AM']\n",
      "['L’Ovella Negra', 'Wed', '9:00 AM', '3:00 AM']\n",
      "['L’Ovella Negra', 'Thu', '9:00 AM', '3:00 AM']\n",
      "['L’Ovella Negra', 'Fri', '9:00 AM', '3:00 AM']\n",
      "['L’Ovella Negra', 'Sat', '5:00 PM', '3:00 AM']\n",
      "['L’Ovella Negra', 'Sun', '5:00 PM', '3:00 AM']\n",
      "['Bobby’s Free', 'Mon', nan, nan]\n",
      "['Bobby’s Free', 'Tue', nan, nan]\n",
      "['Bobby’s Free', 'Wed', '7:00 PM', '3:00 AM']\n",
      "['Bobby’s Free', 'Thu', '7:00 PM', '3:00 AM']\n",
      "['Bobby’s Free', 'Fri', '7:00 PM', '3:00 AM']\n",
      "['Bobby’s Free', 'Sat', '7:00 PM', '3:00 AM']\n",
      "['Bobby’s Free', 'Sun', '7:00 PM', '3:00 AM']\n",
      "['Madame George', 'Mon', '6:00 PM', '2:00 AM']\n",
      "['Madame George', 'Tue', '7:00 PM', '1:00 AM']\n",
      "['Madame George', 'Wed', '6:00 PM', '2:00 AM']\n",
      "['Madame George', 'Thu', '6:00 PM', '2:00 AM']\n",
      "['Madame George', 'Fri', '6:00 PM', '3:00 AM']\n",
      "['Madame George', 'Sat', '6:00 PM', '3:00 AM']\n",
      "['Madame George', 'Sun', '7:00 PM', '1:30 AM']\n",
      "['Nevermind', 'Mon', '5:00 PM', '2:30 AM']\n",
      "['Nevermind', 'Tue', '5:00 PM', '2:30 AM']\n",
      "['Nevermind', 'Wed', '5:00 PM', '2:30 AM']\n",
      "['Nevermind', 'Thu', '5:00 PM', '2:30 AM']\n",
      "['Nevermind', 'Fri', '5:00 PM', '3:00 AM']\n",
      "['Nevermind', 'Sat', '5:00 PM', '3:00 AM']\n",
      "['Nevermind', 'Sun', '5:00 PM', '2:30 AM']\n",
      "['The Michael Collins', 'Mon', '1:00 PM', '2:30 AM']\n",
      "['The Michael Collins', 'Tue', '1:00 PM', '2:30 AM']\n",
      "['The Michael Collins', 'Wed', '1:00 PM', '2:30 AM']\n",
      "['The Michael Collins', 'Thu', '1:00 PM', '2:30 AM']\n",
      "['The Michael Collins', 'Fri', '1:00 PM', '3:00 AM']\n",
      "['The Michael Collins', 'Sat', '1:00 PM', '3:00 AM']\n",
      "['The Michael Collins', 'Sun', '1:00 PM', '2:30 AM']\n",
      "['Bar Rubí', 'Mon', '7:30 PM', '2:30 AM']\n",
      "['Bar Rubí', 'Tue', '7:30 PM', '2:30 AM']\n",
      "['Bar Rubí', 'Wed', '7:30 PM', '2:30 AM']\n",
      "['Bar Rubí', 'Thu', '7:30 PM', '2:30 AM']\n",
      "['Bar Rubí', 'Fri', '7:30 PM', '3:00 AM']\n",
      "['Bar Rubí', 'Sat', '7:30 PM', '3:00 AM']\n",
      "['Bar Rubí', 'Sun', '7:30 PM', '2:30 AM']\n",
      "['Old Fashioned', 'Mon', '5:00 PM', '2:00 AM']\n",
      "['Old Fashioned', 'Tue', '12:00 PM', '2:00 AM']\n",
      "['Old Fashioned', 'Wed', '12:00 PM', '2:00 AM']\n",
      "['Old Fashioned', 'Thu', '12:00 PM', '2:00 AM']\n",
      "['Old Fashioned', 'Fri', '12:00 PM', '3:00 AM']\n",
      "['Old Fashioned', 'Sat', '5:00 PM', '3:00 AM']\n",
      "['Old Fashioned', 'Sun', '5:00 PM', '2:00 AM']\n",
      "['The Bollocks', 'Mon', '7:00 PM', '3:00 AM']\n",
      "['The Bollocks', 'Tue', '7:00 PM', '3:00 AM']\n",
      "['The Bollocks', 'Wed', '7:00 PM', '3:00 AM']\n",
      "['The Bollocks', 'Thu', '7:00 PM', '3:00 AM']\n",
      "['The Bollocks', 'Fri', '7:00 PM', '3:30 AM']\n",
      "['The Bollocks', 'Sat', '7:00 PM', '3:30 AM']\n",
      "['The Bollocks', 'Sun', '7:00 PM', '3:00 AM']\n",
      "['Biercab', 'Mon', '12:00 PM', '12:00 AM']\n",
      "['Biercab', 'Tue', '12:00 PM', '12:00 AM']\n",
      "['Biercab', 'Wed', '12:00 PM', '12:00 AM']\n",
      "['Biercab', 'Thu', '12:00 PM', '12:00 AM']\n",
      "['Biercab', 'Fri', '12:00 PM', '2:00 AM']\n",
      "['Biercab', 'Sat', '12:00 PM', '2:00 AM']\n",
      "['Biercab', 'Sun', nan, nan]\n",
      "['Flaherty’s', 'Mon', '9:00 AM', '2:00 AM']\n",
      "['Flaherty’s', 'Tue', '9:00 AM', '2:00 AM']\n",
      "['Flaherty’s', 'Wed', '9:00 AM', '2:00 AM']\n",
      "['Flaherty’s', 'Thu', '9:00 AM', '2:00 AM']\n",
      "['Flaherty’s', 'Fri', '9:00 AM', '3:00 AM']\n",
      "['Flaherty’s', 'Sat', '9:00 AM', '3:00 AM']\n",
      "['Flaherty’s', 'Sun', '9:00 AM', '3:00 AM']\n",
      "['Dow Jones', 'Mon', '4:00 PM', '2:30 AM']\n",
      "['Dow Jones', 'Tue', '4:00 PM', '2:30 AM']\n",
      "['Dow Jones', 'Wed', '4:00 PM', '2:30 AM']\n",
      "['Dow Jones', 'Thu', '4:00 PM', '2:30 AM']\n",
      "['Dow Jones', 'Fri', '4:00 PM', '3:00 AM']\n",
      "['Dow Jones', 'Sat', '12:00 PM', '3:00 AM']\n",
      "['Dow Jones', 'Sun', '12:00 PM', '2:30 AM']\n",
      "['El Bosc de les Fades', 'Mon', '10:00 AM', '1:30 AM']\n",
      "['El Bosc de les Fades', 'Tue', '10:00 AM', '1:30 AM']\n",
      "['El Bosc de les Fades', 'Wed', '10:00 AM', '1:30 AM']\n",
      "['El Bosc de les Fades', 'Thu', '10:00 AM', '1:30 AM']\n",
      "['El Bosc de les Fades', 'Fri', '10:00 AM', '2:00 AM']\n",
      "['El Bosc de les Fades', 'Sat', '10:00 AM', '2:00 AM']\n",
      "['El Bosc de les Fades', 'Sun', '10:00 AM', '1:30 AM']\n",
      "['Obama', 'Mon', '9:00 AM', '3:00 AM']\n",
      "['Obama', 'Tue', '9:00 AM', '3:00 AM']\n",
      "['Obama', 'Wed', '9:00 AM', '3:00 AM']\n",
      "['Obama', 'Thu', '9:00 AM', '3:00 AM']\n",
      "['Obama', 'Fri', '9:00 AM', '3:00 AM']\n",
      "['Obama', 'Sat', '9:00 AM', '3:00 AM']\n",
      "['Obama', 'Sun', '9:00 AM', '3:00 AM']\n",
      "['Tandem', 'Mon', '12:30 PM', '2:00 AM']\n",
      "['Tandem', 'Tue', '12:30 PM', '2:00 AM']\n",
      "['Tandem', 'Wed', '12:30 PM', '2:00 AM']\n",
      "['Tandem', 'Thu', '12:30 PM', '2:00 AM']\n",
      "['Tandem', 'Fri', '12:30 PM', '2:30 AM']\n",
      "['Tandem', 'Sat', '6:00 PM', '2:30 AM']\n",
      "['Tandem', 'Sun', '6:00 PM', '11:00 PM']\n",
      "['Hemingway', 'Mon', '4:00 PM', '2:00 AM']\n",
      "['Hemingway', 'Tue', '4:00 PM', '2:00 AM']\n",
      "['Hemingway', 'Wed', '4:00 PM', '2:00 AM']\n",
      "['Hemingway', 'Thu', '4:00 PM', '2:00 AM']\n",
      "['Hemingway', 'Fri', '4:00 PM', '3:00 AM']\n",
      "['Hemingway', 'Sat', '4:00 PM', '3:00 AM']\n",
      "['Hemingway', 'Sun', '4:00 PM', '2:00 AM']\n",
      "['Samba Brasil', 'Mon', '6:00 PM', '1:30 AM']\n",
      "['Samba Brasil', 'Tue', '6:00 PM', '1:30 AM']\n",
      "['Samba Brasil', 'Wed', '6:00 PM', '1:30 AM']\n",
      "['Samba Brasil', 'Thu', '6:00 PM', '1:30 AM']\n",
      "['Samba Brasil', 'Fri', '6:00 PM', '3:00 AM']\n",
      "['Samba Brasil', 'Sat', '6:00 PM', '3:00 AM']\n",
      "['Samba Brasil', 'Sun', '6:00 PM', '3:00 AM']\n",
      "['The George Payne', 'Mon', '12:00 PM', '3:00 AM']\n",
      "['The George Payne', 'Tue', '12:00 PM', '3:00 AM']\n",
      "['The George Payne', 'Wed', '12:00 PM', '3:00 AM']\n",
      "['The George Payne', 'Thu', '12:00 PM', '3:00 AM']\n",
      "['The George Payne', 'Fri', '12:00 PM', '3:00 AM']\n",
      "['The George Payne', 'Sat', '12:00 PM', '3:00 AM']\n",
      "['The George Payne', 'Sun', '12:00 PM', '3:00 AM']\n",
      "['Snooker', 'Mon', '6:00 PM', '3:00 AM']\n",
      "['Snooker', 'Tue', '6:00 PM', '3:00 AM']\n",
      "['Snooker', 'Wed', '6:00 PM', '3:00 AM']\n",
      "['Snooker', 'Thu', '6:00 PM', '3:00 AM']\n",
      "['Snooker', 'Fri', '6:00 PM', '3:30 AM']\n",
      "['Snooker', 'Sat', '6:00 PM', '3:30 AM']\n",
      "['Snooker', 'Sun', '6:00 PM', '3:00 AM']\n",
      "['Otto Zutz', 'Mon', nan, nan]\n",
      "['Otto Zutz', 'Tue', nan, nan]\n",
      "['Otto Zutz', 'Wed', '11:30 PM', '6:00 AM']\n",
      "['Otto Zutz', 'Thu', '11:30 PM', '6:00 AM']\n",
      "['Otto Zutz', 'Fri', '11:30 PM', '6:00 AM']\n",
      "['Otto Zutz', 'Sat', '11:30 PM', '6:00 AM']\n",
      "['Otto Zutz', 'Sun', nan, nan]\n",
      "['My Bar', 'Mon', '12:00 PM', '2:00 AM']\n",
      "['My Bar', 'Tue', '12:00 PM', '2:00 AM']\n",
      "['My Bar', 'Wed', '12:00 PM', '2:00 AM']\n",
      "['My Bar', 'Thu', '12:00 PM', '2:00 AM']\n",
      "['My Bar', 'Fri', '12:00 PM', '3:00 AM']\n",
      "['My Bar', 'Sat', '12:00 PM', '3:00 AM']\n",
      "['My Bar', 'Sun', '12:00 PM', '2:00 AM']\n",
      "['Chill Bar', 'Mon', '10:00 AM', '1:00 AM']\n",
      "['Chill Bar', 'Tue', '10:00 AM', '1:00 AM']\n",
      "['Chill Bar', 'Wed', '10:00 AM', '1:00 AM']\n",
      "['Chill Bar', 'Thu', '10:00 AM', '1:00 AM']\n",
      "['Chill Bar', 'Fri', '10:00 AM', '3:00 AM']\n",
      "['Chill Bar', 'Sat', '10:00 AM', '3:00 AM']\n",
      "['Chill Bar', 'Sun', '10:00 AM', '1:00 AM']\n",
      "['JazzMan', 'Mon', '9:00 PM', '2:30 AM']\n",
      "['JazzMan', 'Tue', '9:00 PM', '2:30 AM']\n",
      "['JazzMan', 'Wed', '9:00 PM', '2:30 AM']\n",
      "['JazzMan', 'Thu', '9:00 PM', '2:30 AM']\n",
      "['JazzMan', 'Fri', '8:00 PM', '3:00 AM']\n",
      "['JazzMan', 'Sat', '10:30 PM', '3:00 AM']\n",
      "['JazzMan', 'Sun', nan, nan]\n",
      "['Polaroid', 'Mon', '7:30 AM', '3:00 AM']\n",
      "['Polaroid', 'Tue', '7:30 AM', '3:00 AM']\n",
      "['Polaroid', 'Wed', '7:30 AM', '3:00 AM']\n",
      "['Polaroid', 'Thu', '7:30 AM', '3:00 AM']\n",
      "['Polaroid', 'Fri', '7:30 AM', '3:30 AM']\n",
      "['Polaroid', 'Sat', '7:30 AM', '3:30 AM']\n",
      "['Polaroid', 'Sun', '7:30 AM', '3:00 AM']\n",
      "['La Cinemateca', 'Mon', '8:00 AM', '3:00 AM']\n",
      "['La Cinemateca', 'Tue', '8:00 AM', '3:00 AM']\n",
      "['La Cinemateca', 'Wed', '8:00 AM', '3:00 AM']\n",
      "['La Cinemateca', 'Thu', '8:00 AM', '3:00 AM']\n",
      "['La Cinemateca', 'Fri', '8:00 AM', '3:00 AM']\n",
      "['La Cinemateca', 'Sat', '11:00 PM', '3:00 AM']\n",
      "['La Cinemateca', 'Sun', '4:00 PM', '3:00 AM']\n",
      "['La Pepita', 'Mon', '1:00 PM', '4:00 PM']\n",
      "['La Pepita', 'Tue', '1:00 PM', '4:00 PM']\n",
      "['La Pepita', 'Wed', '10:00 AM', '4:00 PM']\n",
      "['La Pepita', 'Thu', '10:00 AM', '12:00 AM']\n",
      "['La Pepita', 'Fri', '1:00 PM', '4:00 PM']\n",
      "['La Pepita', 'Sat', '7:30 PM', '12:00 AM']\n",
      "['La Pepita', 'Sun', '1:00 PM', '4:00 PM']\n",
      "['London Bar', 'Mon', '1:00 PM', '3:00 AM']\n",
      "['London Bar', 'Tue', '1:00 PM', '3:00 AM']\n",
      "['London Bar', 'Wed', '1:00 PM', '3:00 AM']\n",
      "['London Bar', 'Thu', '1:00 PM', '3:00 AM']\n",
      "['London Bar', 'Fri', '1:00 PM', '3:30 AM']\n",
      "['London Bar', 'Sat', '1:00 PM', '3:30 AM']\n",
      "['London Bar', 'Sun', '1:00 PM', '3:00 AM']\n",
      "['Marsella', 'Mon', '6:00 PM', '2:30 AM']\n",
      "['Marsella', 'Tue', '6:00 PM', '2:30 AM']\n",
      "['Marsella', 'Wed', '6:00 PM', '2:30 AM']\n",
      "['Marsella', 'Thu', '6:00 PM', '2:30 AM']\n",
      "['Marsella', 'Fri', '6:00 PM', '3:00 AM']\n",
      "['Marsella', 'Sat', '6:00 PM', '3:00 AM']\n",
      "['Marsella', 'Sun', '6:00 PM', '2:30 AM']\n",
      "['The Black Horse', 'Mon', '6:00 PM', '2:00 AM']\n",
      "['The Black Horse', 'Tue', '6:00 PM', '2:00 AM']\n",
      "['The Black Horse', 'Wed', '6:00 PM', '2:00 AM']\n",
      "['The Black Horse', 'Thu', '6:00 PM', '2:00 AM']\n",
      "['The Black Horse', 'Fri', '6:00 PM', '2:00 AM']\n",
      "['The Black Horse', 'Sat', '1:00 PM', '2:00 AM']\n",
      "['The Black Horse', 'Sun', '1:00 PM', '2:00 AM']\n",
      "['The Philharmonic', 'Mon', '9:00 AM', '3:00 AM']\n",
      "['The Philharmonic', 'Tue', '9:00 AM', '3:00 AM']\n",
      "['The Philharmonic', 'Wed', '9:00 AM', '3:00 AM']\n",
      "['The Philharmonic', 'Thu', '9:00 AM', '3:00 AM']\n",
      "['The Philharmonic', 'Fri', '9:00 AM', '3:00 AM']\n",
      "['The Philharmonic', 'Sat', '12:00 PM', '3:00 AM']\n",
      "['The Philharmonic', 'Sun', '12:00 PM', '3:00 AM']\n",
      "['Elephanta', 'Mon', '6:00 PM', '1:30 AM']\n",
      "['Elephanta', 'Tue', '6:00 PM', '1:30 AM']\n",
      "['Elephanta', 'Wed', '6:00 PM', '1:30 AM']\n",
      "['Elephanta', 'Thu', '6:00 PM', '2:30 AM']\n",
      "['Elephanta', 'Fri', '6:00 PM', '3:00 AM']\n",
      "['Elephanta', 'Sat', '6:00 PM', '3:00 AM']\n",
      "['Elephanta', 'Sun', '5:00 PM', '1:00 AM']\n",
      "['La Birreria', 'Mon', nan, nan]\n",
      "['La Birreria', 'Tue', '7:00 PM', '2:30 AM']\n",
      "['La Birreria', 'Wed', '7:00 PM', '2:30 AM']\n",
      "['La Birreria', 'Thu', '7:00 PM', '2:30 AM']\n",
      "['La Birreria', 'Fri', '7:00 PM', '3:00 AM']\n",
      "['La Birreria', 'Sat', '7:00 PM', '3:00 AM']\n",
      "['La Birreria', 'Sun', nan, nan]\n",
      "['First Bar', 'Mon', '7:00 PM', '2:30 AM']\n",
      "['First Bar', 'Tue', '7:00 PM', '2:30 AM']\n",
      "['First Bar', 'Wed', '7:00 PM', '2:30 AM']\n",
      "['First Bar', 'Thu', '7:00 PM', '2:30 AM']\n",
      "['First Bar', 'Fri', '7:00 PM', '3:00 AM']\n",
      "['First Bar', 'Sat', '7:00 PM', '3:00 AM']\n",
      "['First Bar', 'Sun', '7:00 PM', '2:30 AM']\n",
      "['Hogan’s Australian Pub', 'Mon', '11:00 AM', '2:00 AM']\n",
      "['Hogan’s Australian Pub', 'Tue', '11:00 AM', '2:00 AM']\n",
      "['Hogan’s Australian Pub', 'Wed', '11:00 AM', '2:00 AM']\n",
      "['Hogan’s Australian Pub', 'Thu', '11:00 AM', '2:00 AM']\n",
      "['Hogan’s Australian Pub', 'Fri', '11:00 AM', '2:30 AM']\n",
      "['Hogan’s Australian Pub', 'Sat', '11:00 AM', '2:30 AM']\n",
      "['Hogan’s Australian Pub', 'Sun', '11:00 AM', '2:30 AM']\n",
      "['The Black Lion', 'Mon', nan, nan]\n",
      "['The Black Lion', 'Tue', '8:00 PM', '1:00 AM']\n",
      "['The Black Lion', 'Wed', '8:00 PM', '1:00 AM']\n",
      "['The Black Lion', 'Thu', '8:00 PM', '2:00 AM']\n",
      "['The Black Lion', 'Fri', '8:00 PM', '3:00 AM']\n",
      "['The Black Lion', 'Sat', '8:00 PM', '3:00 AM']\n",
      "['The Black Lion', 'Sun', '8:00 PM', '12:00 AM']\n",
      "['The Lime House', 'Mon', '7:30 PM', '2:30 AM']\n",
      "['The Lime House', 'Tue', '7:30 PM', '2:30 AM']\n",
      "['The Lime House', 'Wed', '7:30 PM', '2:30 AM']\n",
      "['The Lime House', 'Thu', '7:30 PM', '2:30 AM']\n",
      "['The Lime House', 'Fri', '7:30 PM', '3:00 AM']\n",
      "['The Lime House', 'Sat', '7:30 PM', '3:00 AM']\n",
      "['The Lime House', 'Sun', '7:30 PM', '2:30 AM']\n",
      "['Bonavida', 'Mon', '7:30 AM', '3:00 AM']\n",
      "['Bonavida', 'Tue', '7:30 AM', '3:00 AM']\n",
      "['Bonavida', 'Wed', '7:30 AM', '3:00 AM']\n",
      "['Bonavida', 'Thu', '7:30 AM', '3:00 AM']\n",
      "['Bonavida', 'Fri', '7:30 AM', '3:00 AM']\n",
      "['Bonavida', 'Sat', '7:30 AM', '3:00 AM']\n",
      "['Bonavida', 'Sun', '7:30 AM', '3:00 AM']\n",
      "['Dublin Sports', 'Mon', '8:00 AM', '2:30 AM']\n",
      "['Dublin Sports', 'Tue', '8:00 AM', '2:30 AM']\n",
      "['Dublin Sports', 'Wed', '8:00 AM', '2:30 AM']\n",
      "['Dublin Sports', 'Thu', '8:00 AM', '2:30 AM']\n",
      "['Dublin Sports', 'Fri', '8:00 AM', '3:00 AM']\n",
      "['Dublin Sports', 'Sat', '6:00 PM', '3:00 AM']\n",
      "['Dublin Sports', 'Sun', '6:00 PM', '3:00 AM']\n",
      "['Musical María', 'Mon', '9:30 PM', '3:00 AM']\n",
      "['Musical María', 'Tue', '9:30 PM', '3:00 AM']\n",
      "['Musical María', 'Wed', '9:30 PM', '3:00 AM']\n",
      "['Musical María', 'Thu', '9:30 PM', '3:00 AM']\n",
      "['Musical María', 'Fri', '9:30 PM', '3:00 AM']\n",
      "['Musical María', 'Sat', '9:30 PM', '3:00 AM']\n",
      "['Musical María', 'Sun', '9:30 PM', '3:00 AM']\n",
      "['Dunne’s Irish Bar', 'Mon', '10:00 AM', '2:00 AM']\n",
      "['Dunne’s Irish Bar', 'Tue', '10:00 AM', '2:00 AM']\n",
      "['Dunne’s Irish Bar', 'Wed', '10:00 AM', '2:00 AM']\n",
      "['Dunne’s Irish Bar', 'Thu', '10:00 AM', '3:00 AM']\n",
      "['Dunne’s Irish Bar', 'Fri', '10:00 AM', '3:00 AM']\n",
      "['Dunne’s Irish Bar', 'Sat', '10:00 AM', '3:00 AM']\n",
      "['Dunne’s Irish Bar', 'Sun', '10:00 AM', '2:00 AM']\n",
      "['Xixbar', 'Mon', '6:30 PM', '2:30 AM']\n",
      "['Xixbar', 'Tue', '6:00 PM', '2:30 AM']\n",
      "['Xixbar', 'Wed', '6:00 PM', '2:30 AM']\n",
      "['Xixbar', 'Thu', '5:00 PM', '2:30 AM']\n",
      "['Xixbar', 'Fri', '5:00 PM', '3:00 AM']\n",
      "['Xixbar', 'Sat', '5:00 PM', '3:00 AM']\n",
      "['Xixbar', 'Sun', nan, nan]\n",
      "['Gato Negro', 'Mon', '7:00 PM', '2:30 AM']\n",
      "['Gato Negro', 'Tue', '7:00 PM', '2:30 AM']\n",
      "['Gato Negro', 'Wed', '7:00 PM', '2:30 AM']\n",
      "['Gato Negro', 'Thu', '7:00 PM', '2:30 AM']\n",
      "['Gato Negro', 'Fri', '7:00 PM', '2:30 AM']\n",
      "['Gato Negro', 'Sat', '7:00 PM', '2:30 AM']\n",
      "['Gato Negro', 'Sun', '7:00 PM', '2:30 AM']\n",
      "['Le Standard', 'Mon', '6:00 PM', '1:00 AM']\n",
      "['Le Standard', 'Tue', '6:00 PM', '1:00 AM']\n",
      "['Le Standard', 'Wed', '6:00 PM', '1:00 AM']\n",
      "['Le Standard', 'Thu', '6:00 PM', '1:00 AM']\n",
      "['Le Standard', 'Fri', '6:00 PM', '3:00 AM']\n",
      "['Le Standard', 'Sat', '6:00 PM', '3:00 AM']\n",
      "['Le Standard', 'Sun', nan, nan]\n",
      "['Belushi’s', 'Mon', '11:00 AM', '2:00 AM']\n",
      "['Belushi’s', 'Tue', '11:00 AM', '2:00 AM']\n",
      "['Belushi’s', 'Wed', '11:00 AM', '2:00 AM']\n",
      "['Belushi’s', 'Thu', '11:00 AM', '2:00 AM']\n",
      "['Belushi’s', 'Fri', '11:00 AM', '2:00 AM']\n",
      "['Belushi’s', 'Sat', '11:00 AM', '2:00 AM']\n",
      "['Belushi’s', 'Sun', '11:00 AM', '2:00 AM']\n",
      "['Craft Barcelona', 'Mon', '12:00 PM', '12:00 AM']\n",
      "['Craft Barcelona', 'Tue', '12:00 PM', '12:00 AM']\n",
      "['Craft Barcelona', 'Wed', '12:00 PM', '12:00 AM']\n",
      "['Craft Barcelona', 'Thu', '12:00 PM', '2:00 AM']\n",
      "['Craft Barcelona', 'Fri', '12:00 PM', '3:00 AM']\n",
      "['Craft Barcelona', 'Sat', '12:00 PM', '3:00 AM']\n",
      "['Craft Barcelona', 'Sun', '12:00 PM', '12:00 AM']\n",
      "['Stoke Bar', 'Mon', '12:00 PM', '2:00 AM']\n",
      "['Stoke Bar', 'Tue', '12:00 PM', '2:00 AM']\n",
      "['Stoke Bar', 'Wed', '12:00 PM', '2:00 AM']\n",
      "['Stoke Bar', 'Thu', '12:00 PM', '2:00 AM']\n",
      "['Stoke Bar', 'Fri', '12:00 PM', '3:00 AM']\n",
      "['Stoke Bar', 'Sat', '12:00 PM', '3:00 AM']\n",
      "['Stoke Bar', 'Sun', '12:00 PM', '2:00 AM']\n",
      "['Bloomsday Irish Pub', 'Mon', '5:00 PM', '2:30 AM']\n",
      "['Bloomsday Irish Pub', 'Tue', '5:00 PM', '2:30 AM']\n",
      "['Bloomsday Irish Pub', 'Wed', '5:00 PM', '2:30 AM']\n",
      "['Bloomsday Irish Pub', 'Thu', '5:00 PM', '2:30 AM']\n",
      "['Bloomsday Irish Pub', 'Fri', '5:00 PM', '3:00 AM']\n",
      "['Bloomsday Irish Pub', 'Sat', '2:00 PM', '3:00 AM']\n",
      "['Bloomsday Irish Pub', 'Sun', '2:00 PM', '3:00 AM']\n",
      "['Barna Brew', 'Mon', nan, nan]\n",
      "['Barna Brew', 'Tue', '5:30 PM', '11:30 PM']\n",
      "['Barna Brew', 'Wed', '5:30 PM', '11:30 PM']\n",
      "['Barna Brew', 'Thu', '5:30 PM', '11:30 PM']\n",
      "['Barna Brew', 'Fri', '5:30 PM', '1:30 AM']\n",
      "['Barna Brew', 'Sat', '5:30 PM', '1:30 AM']\n",
      "['Barna Brew', 'Sun', '5:30 PM', '11:30 PM']\n",
      "['Pippermint', 'Mon', '7:15 AM', '2:30 AM']\n",
      "['Pippermint', 'Tue', '7:15 AM', '2:30 AM']\n",
      "['Pippermint', 'Wed', '7:15 AM', '3:00 AM']\n",
      "['Pippermint', 'Thu', '7:15 AM', '3:00 AM']\n",
      "['Pippermint', 'Fri', '7:15 AM', '3:30 AM']\n",
      "['Pippermint', 'Sat', '9:30 AM', '3:30 AM']\n",
      "['Pippermint', 'Sun', '4:30 PM', '2:30 AM']\n",
      "['Oviso', 'Mon', '9:00 AM', '2:30 AM']\n",
      "['Oviso', 'Tue', '9:00 AM', '2:30 AM']\n",
      "['Oviso', 'Wed', '9:00 AM', '2:30 AM']\n",
      "['Oviso', 'Thu', '9:00 AM', '2:30 AM']\n",
      "['Oviso', 'Fri', '9:00 AM', '3:00 AM']\n",
      "['Oviso', 'Sat', '9:00 AM', '3:00 AM']\n",
      "['Oviso', 'Sun', '9:00 AM', '2:30 AM']\n",
      "['Touch Music Karaoke', 'Mon', '10:00 PM', '5:00 AM']\n",
      "['Touch Music Karaoke', 'Tue', '10:00 PM', '5:00 AM']\n",
      "['Touch Music Karaoke', 'Wed', '10:00 PM', '5:00 AM']\n",
      "['Touch Music Karaoke', 'Thu', '10:00 PM', '5:00 AM']\n",
      "['Touch Music Karaoke', 'Fri', '10:00 PM', '6:00 AM']\n",
      "['Touch Music Karaoke', 'Sat', '7:00 PM', '6:00 AM']\n",
      "['Touch Music Karaoke', 'Sun', '7:00 PM', '5:00 AM']\n",
      "['Sor Rita', 'Mon', '7:00 PM', '3:00 AM']\n",
      "['Sor Rita', 'Tue', '7:00 PM', '3:00 AM']\n",
      "['Sor Rita', 'Wed', '7:00 PM', '3:00 AM']\n",
      "['Sor Rita', 'Thu', '7:00 PM', '3:00 AM']\n",
      "['Sor Rita', 'Fri', '7:00 PM', '3:30 AM']\n",
      "['Sor Rita', 'Sat', '7:00 PM', '3:30 AM']\n",
      "['Sor Rita', 'Sun', '7:00 PM', '3:00 AM']\n",
      "['Arcano', 'Mon', '12:00 PM', '12:00 AM']\n",
      "['Arcano', 'Tue', '12:00 PM', '12:00 AM']\n",
      "['Arcano', 'Wed', '12:00 PM', '12:00 AM']\n",
      "['Arcano', 'Thu', '12:00 PM', '12:00 AM']\n",
      "['Arcano', 'Fri', '12:00 PM', '12:00 AM']\n",
      "['Arcano', 'Sat', '12:00 PM', '12:00 AM']\n",
      "['Arcano', 'Sun', '12:00 PM', '12:00 AM']\n",
      "['Bar Zodiaco', 'Mon', '6:00 PM', '1:30 AM']\n",
      "['Bar Zodiaco', 'Tue', '6:00 PM', '1:30 AM']\n",
      "['Bar Zodiaco', 'Wed', '6:00 PM', '1:30 AM']\n",
      "['Bar Zodiaco', 'Thu', '6:00 PM', '1:30 AM']\n",
      "['Bar Zodiaco', 'Fri', '6:00 PM', '1:30 AM']\n",
      "['Bar Zodiaco', 'Sat', '12:30 PM', '1:30 AM']\n",
      "['Bar Zodiaco', 'Sun', '12:30 PM', '1:30 AM']\n",
      "['Big Bang Bar', 'Mon', nan, nan]\n",
      "['Big Bang Bar', 'Tue', nan, nan]\n",
      "['Big Bang Bar', 'Wed', '8:00 PM', '3:00 AM']\n",
      "['Big Bang Bar', 'Thu', '8:00 PM', '3:00 AM']\n",
      "['Big Bang Bar', 'Fri', '8:00 PM', '3:00 AM']\n",
      "['Big Bang Bar', 'Sat', '8:00 PM', '3:00 AM']\n",
      "['Big Bang Bar', 'Sun', '7:30 PM', '3:00 AM']\n",
      "['Maestró', 'Mon', '8:30 AM', '1:00 AM']\n",
      "['Maestró', 'Tue', '8:30 AM', '1:00 AM']\n",
      "['Maestró', 'Wed', '8:30 AM', '1:00 AM']\n",
      "['Maestró', 'Thu', '8:30 AM', '1:00 AM']\n",
      "['Maestró', 'Fri', '8:30 AM', '2:00 AM']\n",
      "['Maestró', 'Sat', '10:00 AM', '2:00 AM']\n",
      "['Maestró', 'Sun', '10:00 AM', '1:00 AM']\n",
      "['Belchica', 'Mon', '5:00 PM', '3:00 AM']\n",
      "['Belchica', 'Tue', '5:00 PM', '3:00 AM']\n",
      "['Belchica', 'Wed', '5:00 PM', '3:00 AM']\n",
      "['Belchica', 'Thu', '5:00 PM', '3:00 AM']\n",
      "['Belchica', 'Fri', '5:00 PM', '3:00 AM']\n",
      "['Belchica', 'Sat', '7:00 PM', '3:00 AM']\n",
      "['Belchica', 'Sun', nan, nan]\n",
      "['Xpressing Underground Club', 'Mon', '10:00 PM', '3:00 AM']\n",
      "['Xpressing Underground Club', 'Tue', '10:00 PM', '3:00 AM']\n",
      "['Xpressing Underground Club', 'Wed', '10:00 PM', '3:00 AM']\n",
      "['Xpressing Underground Club', 'Thu', '10:00 PM', '3:00 AM']\n",
      "['Xpressing Underground Club', 'Fri', '10:00 PM', '3:00 AM']\n",
      "['Xpressing Underground Club', 'Sat', '10:00 PM', '3:00 AM']\n",
      "['Xpressing Underground Club', 'Sun', '10:00 PM', '3:00 AM']\n",
      "['Lunatic', 'Mon', '10:00 PM', '2:30 AM']\n",
      "['Lunatic', 'Tue', '10:00 PM', '2:30 AM']\n",
      "['Lunatic', 'Wed', '10:00 PM', '2:30 AM']\n",
      "['Lunatic', 'Thu', '10:00 PM', '2:30 AM']\n",
      "['Lunatic', 'Fri', '10:00 PM', '3:00 AM']\n",
      "['Lunatic', 'Sat', '10:00 PM', '3:00 AM']\n",
      "['Lunatic', 'Sun', nan, nan]\n",
      "['Temple Bar', 'Mon', nan, nan]\n",
      "['Temple Bar', 'Tue', '12:00 PM', '2:00 AM']\n",
      "['Temple Bar', 'Wed', '12:00 PM', '2:00 AM']\n",
      "['Temple Bar', 'Thu', '12:00 PM', '2:00 AM']\n",
      "['Temple Bar', 'Fri', '12:00 PM', '3:00 AM']\n",
      "['Temple Bar', 'Sat', '12:00 PM', '3:00 AM']\n",
      "['Temple Bar', 'Sun', '12:00 PM', '2:00 AM']\n",
      "['Espai d’Art Tinta Roja', 'Mon', nan, nan]\n",
      "['Espai d’Art Tinta Roja', 'Tue', nan, nan]\n",
      "['Espai d’Art Tinta Roja', 'Wed', '8:30 PM', '1:00 AM']\n",
      "['Espai d’Art Tinta Roja', 'Thu', '8:30 PM', '2:00 AM']\n",
      "['Espai d’Art Tinta Roja', 'Fri', '8:30 PM', '3:00 AM']\n",
      "['Espai d’Art Tinta Roja', 'Sat', '8:30 PM', '3:00 AM']\n",
      "['Espai d’Art Tinta Roja', 'Sun', nan, nan]\n",
      "['Flann O’Brien', 'Mon', nan, nan]\n",
      "['Flann O’Brien', 'Tue', '6:00 PM', '2:00 AM']\n",
      "['Flann O’Brien', 'Wed', '6:00 PM', '2:00 AM']\n",
      "['Flann O’Brien', 'Thu', '6:00 PM', '2:30 AM']\n",
      "['Flann O’Brien', 'Fri', '6:00 PM', '3:00 AM']\n",
      "['Flann O’Brien', 'Sat', '6:00 PM', '3:00 AM']\n",
      "['Flann O’Brien', 'Sun', nan, nan]\n",
      "['Mojito Rock', 'Mon', '8:00 AM', '2:30 AM']\n",
      "['Mojito Rock', 'Tue', '8:00 AM', '2:30 AM']\n",
      "['Mojito Rock', 'Wed', '8:00 AM', '2:30 AM']\n",
      "['Mojito Rock', 'Thu', '8:00 AM', '2:30 AM']\n",
      "['Mojito Rock', 'Fri', '8:00 AM', '2:30 AM']\n",
      "['Mojito Rock', 'Sat', '4:30 PM', '3:00 AM']\n",
      "['Mojito Rock', 'Sun', '4:30 PM', '3:00 AM']\n",
      "['Mingus', 'Mon', '7:30 PM', '1:30 AM']\n",
      "['Mingus', 'Tue', '7:30 PM', '1:30 AM']\n",
      "['Mingus', 'Wed', '7:30 PM', '1:30 AM']\n",
      "['Mingus', 'Thu', '7:30 PM', '2:30 AM']\n",
      "['Mingus', 'Fri', '7:30 PM', '3:00 AM']\n",
      "['Mingus', 'Sat', '7:30 PM', '3:00 AM']\n",
      "['Mingus', 'Sun', nan, nan]\n",
      "['Black Lab', 'Mon', '12:00 PM', '2:00 AM']\n",
      "['Black Lab', 'Tue', '12:00 PM', '2:00 AM']\n",
      "['Black Lab', 'Wed', '12:00 PM', '2:00 AM']\n",
      "['Black Lab', 'Thu', '12:00 PM', '2:00 AM']\n",
      "['Black Lab', 'Fri', '12:00 PM', '3:00 AM']\n",
      "['Black Lab', 'Sat', '10:00 AM', '3:00 AM']\n",
      "['Black Lab', 'Sun', '10:00 AM', '12:00 AM']\n",
      "['La Concha Barcelona', 'Mon', '5:00 PM', '2:30 AM']\n",
      "['La Concha Barcelona', 'Tue', '5:00 PM', '2:30 AM']\n",
      "['La Concha Barcelona', 'Wed', '5:00 PM', '2:30 AM']\n",
      "['La Concha Barcelona', 'Thu', '5:00 PM', '2:30 AM']\n",
      "['La Concha Barcelona', 'Fri', '5:00 PM', '3:30 AM']\n",
      "['La Concha Barcelona', 'Sat', '5:00 PM', '3:30 AM']\n",
      "['La Concha Barcelona', 'Sun', '5:00 PM', '2:30 AM']\n",
      "['Stereo', 'Mon', '9:00 PM', '3:00 AM']\n",
      "['Stereo', 'Tue', '9:00 PM', '3:00 AM']\n",
      "['Stereo', 'Wed', '9:00 PM', '3:00 AM']\n",
      "['Stereo', 'Thu', '9:00 PM', '3:00 AM']\n",
      "['Stereo', 'Fri', '9:00 PM', '3:30 AM']\n",
      "['Stereo', 'Sat', '9:00 PM', '3:30 AM']\n",
      "['Stereo', 'Sun', nan, nan]\n",
      "['Ryans Beach', 'Mon', '1:00 PM', '3:00 AM']\n",
      "['Ryans Beach', 'Tue', '1:00 PM', '3:00 AM']\n",
      "['Ryans Beach', 'Wed', '1:00 PM', '3:00 AM']\n",
      "['Ryans Beach', 'Thu', '1:00 PM', '3:00 AM']\n",
      "['Ryans Beach', 'Fri', '1:00 PM', '3:00 AM']\n",
      "['Ryans Beach', 'Sat', '1:00 PM', '3:00 AM']\n",
      "['Ryans Beach', 'Sun', '1:00 PM', '3:00 AM']\n",
      "['Two Schmucks', 'Mon', '5:00 PM', '2:00 AM']\n",
      "['Two Schmucks', 'Tue', '5:00 PM', '2:00 AM']\n",
      "['Two Schmucks', 'Wed', '5:00 PM', '2:00 AM']\n",
      "['Two Schmucks', 'Thu', '5:00 PM', '2:00 AM']\n",
      "['Two Schmucks', 'Fri', '5:00 PM', '2:00 AM']\n",
      "['Two Schmucks', 'Sat', '5:00 PM', '2:30 AM']\n",
      "['Two Schmucks', 'Sun', '5:00 PM', '2:00 AM']\n",
      "['Bernie’s', 'Mon', '9:00 AM', '1:00 AM']\n",
      "['Bernie’s', 'Tue', '9:00 AM', '1:00 AM']\n",
      "['Bernie’s', 'Wed', '9:00 AM', '1:00 AM']\n",
      "['Bernie’s', 'Thu', '9:00 AM', '1:00 AM']\n",
      "['Bernie’s', 'Fri', '9:00 AM', '2:00 AM']\n",
      "['Bernie’s', 'Sat', '9:00 AM', '2:00 AM']\n",
      "['Bernie’s', 'Sun', '9:00 AM', '1:00 AM']\n",
      "['Bonobo', 'Mon', nan, nan]\n",
      "['Bonobo', 'Tue', nan, nan]\n",
      "['Bonobo', 'Wed', '9:30 PM', '3:00 AM']\n",
      "['Bonobo', 'Thu', '9:30 PM', '3:00 AM']\n",
      "['Bonobo', 'Fri', '9:30 PM', '3:00 AM']\n",
      "['Bonobo', 'Sat', '9:30 PM', '3:00 AM']\n",
      "['Bonobo', 'Sun', nan, nan]\n",
      "['El Vaso de Oro', 'Mon', '11:00 AM', '12:00 AM']\n",
      "['El Vaso de Oro', 'Tue', '11:00 AM', '12:00 AM']\n",
      "['El Vaso de Oro', 'Wed', '11:00 AM', '12:00 AM']\n",
      "['El Vaso de Oro', 'Thu', '11:00 AM', '12:00 AM']\n",
      "['El Vaso de Oro', 'Fri', '11:00 AM', '12:00 AM']\n",
      "['El Vaso de Oro', 'Sat', '11:00 AM', '12:00 AM']\n",
      "['El Vaso de Oro', 'Sun', '11:00 AM', '12:00 AM']\n",
      "['Cheers', 'Mon', '1:00 PM', '3:00 AM']\n",
      "['Cheers', 'Tue', '1:00 PM', '3:00 AM']\n",
      "['Cheers', 'Wed', '1:00 PM', '3:00 AM']\n",
      "['Cheers', 'Thu', '1:00 PM', '3:00 AM']\n",
      "['Cheers', 'Fri', '1:00 PM', '3:00 AM']\n",
      "['Cheers', 'Sat', '1:00 PM', '3:00 AM']\n",
      "['Cheers', 'Sun', '1:00 PM', '3:00 AM']\n",
      "['Belice Cocktail Bar', 'Mon', '6:00 PM', '2:00 AM']\n",
      "['Belice Cocktail Bar', 'Tue', '6:00 PM', '2:00 AM']\n",
      "['Belice Cocktail Bar', 'Wed', '6:00 PM', '2:00 AM']\n",
      "['Belice Cocktail Bar', 'Thu', '6:00 PM', '2:00 AM']\n",
      "['Belice Cocktail Bar', 'Fri', '6:00 PM', '3:00 AM']\n",
      "['Belice Cocktail Bar', 'Sat', '6:00 PM', '3:00 AM']\n",
      "['Belice Cocktail Bar', 'Sun', '6:00 PM', '2:00 AM']\n",
      "['Bodega Saltó', 'Mon', '7:00 PM', '2:00 AM']\n",
      "['Bodega Saltó', 'Tue', '7:00 PM', '2:00 AM']\n",
      "['Bodega Saltó', 'Wed', '7:00 PM', '2:00 AM']\n",
      "['Bodega Saltó', 'Thu', '7:00 PM', '2:00 AM']\n",
      "['Bodega Saltó', 'Fri', '12:00 PM', '3:00 AM']\n",
      "['Bodega Saltó', 'Sat', '12:00 PM', '3:00 AM']\n",
      "['Bodega Saltó', 'Sun', '12:00 PM', '12:00 AM']\n",
      "['La Cervesera Artesana', 'Mon', '6:00 PM', '2:00 AM']\n",
      "['La Cervesera Artesana', 'Tue', '6:00 PM', '2:00 AM']\n",
      "['La Cervesera Artesana', 'Wed', '6:00 PM', '2:00 AM']\n",
      "['La Cervesera Artesana', 'Thu', '6:00 PM', '2:00 AM']\n",
      "['La Cervesera Artesana', 'Fri', '6:00 PM', '3:00 AM']\n",
      "['La Cervesera Artesana', 'Sat', '6:00 PM', '3:00 AM']\n",
      "['La Cervesera Artesana', 'Sun', '6:00 PM', '2:00 AM']\n",
      "['Ale&Hop', 'Mon', '5:00 PM', '1:30 AM']\n",
      "['Ale&Hop', 'Tue', '5:00 PM', '1:30 AM']\n",
      "['Ale&Hop', 'Wed', '5:00 PM', '1:30 AM']\n",
      "['Ale&Hop', 'Thu', '5:00 PM', '2:30 AM']\n",
      "['Ale&Hop', 'Fri', '5:00 PM', '3:00 AM']\n",
      "['Ale&Hop', 'Sat', '1:00 PM', '3:00 AM']\n",
      "['Ale&Hop', 'Sun', '1:00 PM', '1:30 AM']\n",
      "['Hendrix', 'Mon', '8:00 AM', '12:00 AM']\n",
      "['Hendrix', 'Tue', '8:00 AM', '12:00 AM']\n",
      "['Hendrix', 'Wed', '8:00 AM', '12:00 AM']\n",
      "['Hendrix', 'Thu', '8:00 AM', '12:00 AM']\n",
      "['Hendrix', 'Fri', '8:00 AM', '3:00 AM']\n",
      "['Hendrix', 'Sat', '8:00 PM', '3:00 AM']\n",
      "['Hendrix', 'Sun', nan, nan]\n",
      "['Sonora', 'Mon', '8:00 AM', '2:30 AM']\n",
      "['Sonora', 'Tue', '8:00 AM', '2:30 AM']\n",
      "['Sonora', 'Wed', '8:00 AM', '2:30 AM']\n",
      "['Sonora', 'Thu', '8:00 AM', '2:30 AM']\n",
      "['Sonora', 'Fri', '8:00 AM', '3:00 AM']\n",
      "['Sonora', 'Sat', '5:00 PM', '3:00 AM']\n",
      "['Sonora', 'Sun', '5:00 PM', '3:00 AM']\n",
      "['Kentucky', 'Mon', nan, nan]\n",
      "['Kentucky', 'Tue', '8:00 PM', '2:30 AM']\n",
      "['Kentucky', 'Wed', '8:00 PM', '2:30 AM']\n",
      "['Kentucky', 'Thu', '8:00 PM', '2:30 AM']\n",
      "['Kentucky', 'Fri', '8:00 PM', '2:30 AM']\n",
      "['Kentucky', 'Sat', '8:00 PM', '2:30 AM']\n",
      "['Kentucky', 'Sun', nan, nan]\n",
      "['Hell Awaits', 'Mon', nan, nan]\n",
      "['Hell Awaits', 'Tue', nan, nan]\n",
      "['Hell Awaits', 'Wed', '6:00 PM', '3:00 AM']\n",
      "['Hell Awaits', 'Thu', '6:00 PM', '3:00 AM']\n",
      "['Hell Awaits', 'Fri', '6:00 PM', '3:30 AM']\n",
      "['Hell Awaits', 'Sat', '6:00 PM', '3:30 AM']\n",
      "['Hell Awaits', 'Sun', '6:00 PM', '3:00 AM']\n",
      "['Pepe’s Bar', 'Mon', nan, nan]\n",
      "['Pepe’s Bar', 'Tue', nan, nan]\n",
      "['Pepe’s Bar', 'Wed', nan, nan]\n",
      "['Pepe’s Bar', 'Thu', '5:00 PM', '3:00 AM']\n",
      "['Pepe’s Bar', 'Fri', '5:00 PM', '3:00 AM']\n",
      "['Pepe’s Bar', 'Sat', '5:00 PM', '3:00 AM']\n",
      "['Pepe’s Bar', 'Sun', nan, nan]\n",
      "['New York Café', 'Mon', '7:00 AM', '1:00 AM']\n",
      "['New York Café', 'Tue', '7:00 AM', '1:00 AM']\n",
      "['New York Café', 'Wed', '7:00 AM', '1:00 AM']\n",
      "['New York Café', 'Thu', '7:00 AM', '1:00 AM']\n",
      "['New York Café', 'Fri', '7:00 AM', '3:00 AM']\n",
      "['New York Café', 'Sat', '5:00 PM', '3:00 AM']\n",
      "['New York Café', 'Sun', '5:00 PM', '1:00 AM']\n",
      "['Enigma', 'Mon', nan, nan]\n",
      "['Enigma', 'Tue', nan, nan]\n",
      "['Enigma', 'Wed', nan, nan]\n",
      "['Enigma', 'Thu', '7:00 PM', '3:00 AM']\n",
      "['Enigma', 'Fri', '7:00 PM', '3:00 AM']\n",
      "['Enigma', 'Sat', '7:00 PM', '3:00 AM']\n",
      "['Enigma', 'Sun', nan, nan]\n",
      "['El Pony', 'Mon', nan, nan]\n",
      "['El Pony', 'Tue', '6:00 PM', '2:30 AM']\n",
      "['El Pony', 'Wed', '6:00 PM', '2:30 AM']\n",
      "['El Pony', 'Thu', '6:00 PM', '2:30 AM']\n",
      "['El Pony', 'Fri', '6:00 PM', '3:00 AM']\n",
      "['El Pony', 'Sat', '6:00 PM', '3:00 AM']\n",
      "['El Pony', 'Sun', nan, nan]\n",
      "['Bloody Mary', 'Mon', '7:00 PM', '1:00 AM']\n",
      "['Bloody Mary', 'Tue', '6:00 PM', '2:00 AM']\n",
      "['Bloody Mary', 'Wed', '6:00 PM', '2:00 AM']\n",
      "['Bloody Mary', 'Thu', '6:00 PM', '2:00 AM']\n",
      "['Bloody Mary', 'Fri', '6:00 PM', '3:00 AM']\n",
      "['Bloody Mary', 'Sat', '6:00 PM', '3:00 AM']\n",
      "['Bloody Mary', 'Sun', '7:00 PM', '1:00 AM']\n",
      "['Paspartú', 'Mon', '8:00 PM', '3:00 AM']\n",
      "['Paspartú', 'Tue', '8:00 PM', '3:00 AM']\n",
      "['Paspartú', 'Wed', '8:00 PM', '3:00 AM']\n",
      "['Paspartú', 'Thu', '8:00 PM', '3:00 AM']\n",
      "['Paspartú', 'Fri', '8:00 PM', '3:00 AM']\n",
      "['Paspartú', 'Sat', '8:00 PM', '3:00 AM']\n",
      "['Paspartú', 'Sun', '8:00 PM', '3:00 AM']\n",
      "['Kahiki', 'Mon', '6:30 PM', '3:00 AM']\n",
      "['Kahiki', 'Tue', '6:30 PM', '3:00 AM']\n",
      "['Kahiki', 'Wed', '6:30 PM', '3:00 AM']\n",
      "['Kahiki', 'Thu', '6:30 PM', '3:00 AM']\n",
      "['Kahiki', 'Fri', '6:30 PM', '3:00 AM']\n",
      "['Kahiki', 'Sat', '6:30 PM', '3:00 AM']\n",
      "['Kahiki', 'Sun', '6:30 PM', '3:00 AM']\n",
      "['Cervecería Jazz', 'Mon', nan, nan]\n",
      "['Cervecería Jazz', 'Tue', '7:00 PM', '2:30 AM']\n",
      "['Cervecería Jazz', 'Wed', '7:00 PM', '2:30 AM']\n",
      "['Cervecería Jazz', 'Thu', '7:00 PM', '2:30 AM']\n",
      "['Cervecería Jazz', 'Fri', '7:00 PM', '2:30 AM']\n",
      "['Cervecería Jazz', 'Sat', '7:00 PM', '2:30 AM']\n",
      "['Cervecería Jazz', 'Sun', nan, nan]\n",
      "['Bubblic', 'Mon', nan, nan]\n",
      "['Bubblic', 'Tue', nan, nan]\n",
      "['Bubblic', 'Wed', nan, nan]\n",
      "['Bubblic', 'Thu', '11:00 PM', '3:00 AM']\n",
      "['Bubblic', 'Fri', '11:00 PM', '3:30 AM']\n",
      "['Bubblic', 'Sat', '11:00 PM', '3:30 AM']\n",
      "['Bubblic', 'Sun', nan, nan]\n",
      "['Elephant', 'Mon', nan, nan]\n",
      "['Elephant', 'Tue', '8:00 PM', '2:00 AM']\n",
      "['Elephant', 'Wed', '8:00 PM', '2:00 AM']\n",
      "['Elephant', 'Thu', '8:00 PM', '2:00 AM']\n",
      "['Elephant', 'Fri', '8:00 PM', '3:00 AM']\n",
      "['Elephant', 'Sat', '8:00 PM', '3:00 AM']\n",
      "['Elephant', 'Sun', nan, nan]\n",
      "['Rocksound', 'Mon', nan, nan]\n",
      "['Rocksound', 'Tue', nan, nan]\n",
      "['Rocksound', 'Wed', nan, nan]\n",
      "['Rocksound', 'Thu', nan, nan]\n",
      "['Rocksound', 'Fri', '10:00 PM', '3:00 AM']\n",
      "['Rocksound', 'Sat', '10:00 PM', '3:00 AM']\n",
      "['Rocksound', 'Sun', nan, nan]\n",
      "['Koitton Club', 'Mon', '7:30 PM', '2:30 AM']\n",
      "['Koitton Club', 'Tue', '7:30 PM', '2:30 AM']\n",
      "['Koitton Club', 'Wed', '7:30 PM', '2:30 AM']\n",
      "['Koitton Club', 'Thu', '7:30 PM', '2:30 AM']\n",
      "['Koitton Club', 'Fri', '7:30 PM', '2:30 AM']\n",
      "['Koitton Club', 'Sat', '7:30 PM', '2:30 AM']\n",
      "['Koitton Club', 'Sun', '7:30 PM', '2:30 AM']\n",
      "['Bobby Gin', 'Mon', '6:00 PM', '12:30 AM']\n",
      "['Bobby Gin', 'Tue', '6:00 PM', '12:30 AM']\n",
      "['Bobby Gin', 'Wed', '6:00 PM', '12:30 AM']\n",
      "['Bobby Gin', 'Thu', '6:00 PM', '12:30 AM']\n",
      "['Bobby Gin', 'Fri', '6:00 PM', '12:30 AM']\n",
      "['Bobby Gin', 'Sat', '6:00 PM', '12:30 AM']\n",
      "['Bobby Gin', 'Sun', '6:00 AM', '12:30 AM']\n",
      "['Filomena', 'Mon', '7:00 PM', '12:00 AM']\n",
      "['Filomena', 'Tue', '7:00 PM', '12:30 AM']\n",
      "['Filomena', 'Wed', '7:00 PM', '12:30 AM']\n",
      "['Filomena', 'Thu', '7:00 PM', '12:30 AM']\n",
      "['Filomena', 'Fri', '7:00 PM', '1:30 AM']\n",
      "['Filomena', 'Sat', '7:00 PM', '1:30 AM']\n",
      "['Filomena', 'Sun', nan, nan]\n",
      "['Woody Bar', 'Mon', '7:00 PM', '2:00 AM']\n",
      "['Woody Bar', 'Tue', '7:00 PM', '2:00 AM']\n",
      "['Woody Bar', 'Wed', '7:00 PM', '2:00 AM']\n",
      "['Woody Bar', 'Thu', '7:00 PM', '2:00 AM']\n",
      "['Woody Bar', 'Fri', '7:00 PM', '3:00 AM']\n",
      "['Woody Bar', 'Sat', '7:00 PM', '3:00 AM']\n",
      "['Woody Bar', 'Sun', '7:00 PM', '2:00 AM']\n",
      "['The End', 'Mon', nan, nan]\n",
      "['The End', 'Tue', nan, nan]\n",
      "['The End', 'Wed', nan, nan]\n",
      "['The End', 'Thu', '6:00 PM', '3:00 AM']\n",
      "['The End', 'Fri', '6:00 PM', '3:00 AM']\n",
      "['The End', 'Sat', '6:00 PM', '3:00 AM']\n",
      "['The End', 'Sun', nan, nan]\n",
      "['La Principal', 'Mon', nan, nan]\n",
      "['La Principal', 'Tue', '6:00 PM', '2:30 AM']\n",
      "['La Principal', 'Wed', '5:00 PM', '2:30 AM']\n",
      "['La Principal', 'Thu', '5:00 PM', '2:30 AM']\n",
      "['La Principal', 'Fri', '5:00 PM', '3:00 AM']\n",
      "['La Principal', 'Sat', '12:00 PM', '3:00 AM']\n",
      "['La Principal', 'Sun', '12:00 PM', '2:30 AM']\n",
      "['Tequila 44', 'Mon', '8:00 PM', '2:30 AM']\n",
      "['Tequila 44', 'Tue', '8:00 PM', '2:30 AM']\n",
      "['Tequila 44', 'Wed', '8:00 PM', '2:30 AM']\n",
      "['Tequila 44', 'Thu', '8:00 PM', '2:30 AM']\n",
      "['Tequila 44', 'Fri', '6:00 PM', '3:00 AM']\n",
      "['Tequila 44', 'Sat', '6:00 PM', '3:00 AM']\n",
      "['Tequila 44', 'Sun', '6:00 PM', '2:30 AM']\n",
      "['Insòlita Gea', 'Mon', '8:00 AM', '12:00 AM']\n",
      "['Insòlita Gea', 'Tue', '8:00 AM', '12:00 AM']\n",
      "['Insòlita Gea', 'Wed', '8:00 AM', '12:00 AM']\n",
      "['Insòlita Gea', 'Thu', '8:00 AM', '12:00 AM']\n",
      "['Insòlita Gea', 'Fri', '8:00 AM', '12:00 AM']\n",
      "['Insòlita Gea', 'Sat', '11:00 AM', '12:00 AM']\n",
      "['Insòlita Gea', 'Sun', nan, nan]\n",
      "['Blondie', 'Mon', nan, nan]\n",
      "['Blondie', 'Tue', '10:00 PM', '3:00 AM']\n",
      "['Blondie', 'Wed', '10:00 PM', '3:00 AM']\n",
      "['Blondie', 'Thu', '10:00 PM', '3:00 AM']\n",
      "['Blondie', 'Fri', '10:00 PM', '3:00 AM']\n",
      "['Blondie', 'Sat', '10:00 PM', '3:00 AM']\n",
      "['Blondie', 'Sun', '10:00 PM', '3:00 AM']\n",
      "['Set Barcelona', 'Mon', '6:00 AM', '3:00 AM']\n",
      "['Set Barcelona', 'Tue', '6:00 AM', '3:00 AM']\n",
      "['Set Barcelona', 'Wed', '6:00 AM', '3:00 AM']\n",
      "['Set Barcelona', 'Thu', '6:00 AM', '3:00 AM']\n",
      "['Set Barcelona', 'Fri', '6:00 AM', '3:00 AM']\n",
      "['Set Barcelona', 'Sat', '6:00 AM', '3:00 AM']\n",
      "['Set Barcelona', 'Sun', '6:00 AM', '3:00 AM']\n",
      "['Coctelería Cooler', 'Mon', nan, nan]\n",
      "['Coctelería Cooler', 'Tue', '12:00 PM', '1:00 AM']\n",
      "['Coctelería Cooler', 'Wed', '12:00 PM', '1:00 AM']\n",
      "['Coctelería Cooler', 'Thu', '12:00 PM', '1:00 AM']\n",
      "['Coctelería Cooler', 'Fri', '12:00 PM', '3:00 AM']\n",
      "['Coctelería Cooler', 'Sat', '7:00 PM', '3:00 AM']\n",
      "['Coctelería Cooler', 'Sun', nan, nan]\n",
      "['El Rouge', 'Mon', nan, nan]\n",
      "['El Rouge', 'Tue', nan, nan]\n",
      "['El Rouge', 'Wed', '9:00 AM', '2:00 PM']\n",
      "['El Rouge', 'Thu', '9:00 PM', '2:00 AM']\n",
      "['El Rouge', 'Fri', '9:00 PM', '3:00 AM']\n",
      "['El Rouge', 'Sat', '9:00 PM', '3:00 AM']\n",
      "['El Rouge', 'Sun', nan, nan]\n",
      "['Inch Bar', 'Mon', '9:00 AM', '2:30 AM']\n",
      "['Inch Bar', 'Tue', '9:00 AM', '2:30 AM']\n",
      "['Inch Bar', 'Wed', '9:00 AM', '2:30 AM']\n",
      "['Inch Bar', 'Thu', '9:00 AM', '2:30 AM']\n",
      "['Inch Bar', 'Fri', '9:00 AM', '2:30 AM']\n",
      "['Inch Bar', 'Sat', '7:00 PM', '2:30 AM']\n",
      "['Inch Bar', 'Sun', '12:00 PM', '10:00 PM']\n",
      "['Bar International Beer', 'Mon', '12:00 PM', '12:00 AM']\n",
      "['Bar International Beer', 'Tue', '12:00 PM', '12:00 AM']\n",
      "['Bar International Beer', 'Wed', '12:00 PM', '12:00 AM']\n",
      "['Bar International Beer', 'Thu', '12:00 PM', '12:00 AM']\n",
      "['Bar International Beer', 'Fri', '12:00 PM', '12:00 AM']\n",
      "['Bar International Beer', 'Sat', '12:00 PM', '12:00 AM']\n",
      "['Bar International Beer', 'Sun', '12:00 PM', '12:00 AM']\n",
      "['Bongo’s', 'Mon', '5:00 PM', '2:00 AM']\n",
      "['Bongo’s', 'Tue', '5:00 PM', '2:00 AM']\n",
      "['Bongo’s', 'Wed', '5:00 PM', '2:00 AM']\n",
      "['Bongo’s', 'Thu', '5:00 PM', '2:00 AM']\n",
      "['Bongo’s', 'Fri', '5:00 PM', '2:00 AM']\n",
      "['Bongo’s', 'Sat', '5:00 PM', '2:00 AM']\n",
      "['Bongo’s', 'Sun', '5:00 PM', '2:00 AM']\n",
      "['Marula Café', 'Mon', nan, nan]\n",
      "['Marula Café', 'Tue', nan, nan]\n",
      "['Marula Café', 'Wed', '11:00 PM', '5:00 AM']\n",
      "['Marula Café', 'Thu', '11:00 PM', '5:00 AM']\n",
      "['Marula Café', 'Fri', '11:30 PM', '5:30 AM']\n",
      "['Marula Café', 'Sat', '11:30 PM', '5:30 AM']\n",
      "['Marula Café', 'Sun', '11:00 PM', '5:00 AM']\n",
      "['Pub Fiction', 'Mon', nan, nan]\n",
      "['Pub Fiction', 'Tue', '9:30 PM', '2:15 AM']\n",
      "['Pub Fiction', 'Wed', '9:30 PM', '2:15 AM']\n",
      "['Pub Fiction', 'Thu', '9:30 PM', '2:15 AM']\n",
      "['Pub Fiction', 'Fri', '9:30 PM', '3:00 AM']\n",
      "['Pub Fiction', 'Sat', '9:30 PM', '3:00 AM']\n",
      "['Pub Fiction', 'Sun', nan, nan]\n",
      "['Le Cyrano', 'Mon', nan, nan]\n",
      "['Le Cyrano', 'Tue', nan, nan]\n",
      "['Le Cyrano', 'Wed', nan, nan]\n",
      "['Le Cyrano', 'Thu', '10:30 PM', '2:30 AM']\n",
      "['Le Cyrano', 'Fri', '10:30 PM', '2:30 AM']\n",
      "['Le Cyrano', 'Sat', '10:30 PM', '2:30 AM']\n",
      "['Le Cyrano', 'Sun', nan, nan]\n",
      "['Rare', 'Mon', '12:00 PM', '12:00 AM']\n",
      "['Rare', 'Tue', '12:00 PM', '12:00 AM']\n",
      "['Rare', 'Wed', '12:00 PM', '12:00 AM']\n",
      "['Rare', 'Thu', '12:00 PM', '3:00 AM']\n",
      "['Rare', 'Fri', '12:00 PM', '3:00 AM']\n",
      "['Rare', 'Sat', '7:00 PM', '3:00 AM']\n",
      "['Rare', 'Sun', nan, nan]\n",
      "['La Beata', 'Mon', '6:00 PM', '1:00 AM']\n",
      "['La Beata', 'Tue', '6:00 PM', '1:00 AM']\n",
      "['La Beata', 'Wed', '6:00 PM', '1:00 AM']\n",
      "['La Beata', 'Thu', '6:00 PM', '2:00 AM']\n",
      "['La Beata', 'Fri', '6:00 PM', '3:00 AM']\n",
      "['La Beata', 'Sat', '6:00 PM', '3:00 AM']\n",
      "['La Beata', 'Sun', nan, nan]\n",
      "['Barcelona Pipa Club', 'Mon', nan, nan]\n",
      "['Barcelona Pipa Club', 'Tue', nan, nan]\n",
      "['Barcelona Pipa Club', 'Wed', nan, nan]\n",
      "['Barcelona Pipa Club', 'Thu', '10:00 PM', '2:00 AM']\n",
      "['Barcelona Pipa Club', 'Fri', '10:00 PM', '2:00 AM']\n",
      "['Barcelona Pipa Club', 'Sat', '10:00 PM', '2:00 AM']\n",
      "['Barcelona Pipa Club', 'Sun', '10:00 PM', '2:00 AM']\n",
      "['Velcro Bar', 'Mon', '7:00 PM', '2:30 AM']\n",
      "['Velcro Bar', 'Tue', '7:00 PM', '2:30 AM']\n",
      "['Velcro Bar', 'Wed', '7:00 PM', '2:30 AM']\n",
      "['Velcro Bar', 'Thu', '7:00 PM', '2:30 AM']\n",
      "['Velcro Bar', 'Fri', '7:00 PM', '3:00 AM']\n",
      "['Velcro Bar', 'Sat', '7:00 PM', '3:00 AM']\n",
      "['Velcro Bar', 'Sun', '7:00 PM', '2:30 AM']\n",
      "['Bar Fidel', 'Mon', '1:00 PM', '5:30 PM']\n",
      "['Bar Fidel', 'Tue', '7:30 PM', '1:00 AM']\n",
      "['Bar Fidel', 'Wed', '1:00 PM', '5:30 PM']\n",
      "['Bar Fidel', 'Thu', '7:30 PM', '1:00 AM']\n",
      "['Bar Fidel', 'Fri', '1:00 PM', '5:30 PM']\n",
      "['Bar Fidel', 'Sat', '7:30 PM', '1:00 AM']\n",
      "['Bar Fidel', 'Sun', '1:00 PM', '5:30 PM']\n",
      "['DiSapore Bar', 'Mon', '1:00 PM', '2:00 AM']\n",
      "['DiSapore Bar', 'Tue', '1:00 PM', '2:00 AM']\n",
      "['DiSapore Bar', 'Wed', '1:00 PM', '2:00 AM']\n",
      "['DiSapore Bar', 'Thu', '1:00 PM', '2:00 AM']\n",
      "['DiSapore Bar', 'Fri', '1:00 PM', '3:00 AM']\n",
      "['DiSapore Bar', 'Sat', '1:00 PM', '3:00 AM']\n",
      "['DiSapore Bar', 'Sun', nan, nan]\n",
      "['Ballbreaker', 'Mon', nan, nan]\n",
      "['Ballbreaker', 'Tue', '7:00 PM', '2:30 AM']\n",
      "['Ballbreaker', 'Wed', '7:00 PM', '2:30 AM']\n",
      "['Ballbreaker', 'Thu', '7:00 PM', '2:30 AM']\n",
      "['Ballbreaker', 'Fri', '7:00 PM', '3:00 AM']\n",
      "['Ballbreaker', 'Sat', '7:00 PM', '3:00 AM']\n",
      "['Ballbreaker', 'Sun', nan, nan]\n",
      "['Kimera', 'Mon', '12:00 PM', '2:00 AM']\n",
      "['Kimera', 'Tue', '6:00 PM', '2:00 AM']\n",
      "['Kimera', 'Wed', '6:00 PM', '2:00 AM']\n",
      "['Kimera', 'Thu', '6:00 PM', '2:00 AM']\n",
      "['Kimera', 'Fri', '6:00 PM', '3:00 AM']\n",
      "['Kimera', 'Sat', '7:00 PM', '3:00 AM']\n",
      "['Kimera', 'Sun', '7:00 PM', '12:00 AM']\n",
      "['La Gorda', 'Mon', nan, nan]\n",
      "['La Gorda', 'Tue', '6:00 PM', '1:00 AM']\n",
      "['La Gorda', 'Wed', '6:00 PM', '1:00 AM']\n",
      "['La Gorda', 'Thu', '6:00 PM', '1:00 AM']\n",
      "['La Gorda', 'Fri', '6:00 PM', '2:00 AM']\n",
      "['La Gorda', 'Sat', '6:00 PM', '2:00 AM']\n",
      "['La Gorda', 'Sun', '7:00 PM', '12:00 AM']\n",
      "['La República', 'Mon', '7:00 PM', '1:00 AM']\n",
      "['La República', 'Tue', '7:00 PM', '1:00 AM']\n",
      "['La República', 'Wed', '7:00 PM', '1:00 AM']\n",
      "['La República', 'Thu', '7:00 PM', '1:00 AM']\n",
      "['La República', 'Fri', '7:00 PM', '3:00 AM']\n",
      "['La República', 'Sat', '1:00 PM', '3:00 AM']\n",
      "['La República', 'Sun', '1:00 PM', '1:00 AM']\n",
      "['Marmalade', 'Mon', '7:00 PM', '2:00 AM']\n",
      "['Marmalade', 'Tue', '7:00 PM', '2:00 AM']\n",
      "['Marmalade', 'Wed', '7:00 PM', '2:00 AM']\n",
      "['Marmalade', 'Thu', '7:00 PM', '2:00 AM']\n",
      "['Marmalade', 'Fri', '10:00 AM', '2:30 AM']\n",
      "['Marmalade', 'Sat', '10:00 AM', '2:30 AM']\n",
      "['Marmalade', 'Sun', '10:00 AM', '2:00 AM']\n",
      "['A Viva Voz', 'Mon', '7:00 PM', '3:00 AM']\n",
      "['A Viva Voz', 'Tue', '7:00 PM', '3:00 AM']\n",
      "['A Viva Voz', 'Wed', '7:00 PM', '3:00 AM']\n",
      "['A Viva Voz', 'Thu', '7:00 PM', '3:00 AM']\n",
      "['A Viva Voz', 'Fri', '7:00 PM', '3:30 AM']\n",
      "['A Viva Voz', 'Sat', '7:00 PM', '3:30 AM']\n",
      "['A Viva Voz', 'Sun', '7:00 PM', '3:00 AM']\n",
      "['Colombo', 'Mon', '9:00 AM', '2:30 AM']\n",
      "['Colombo', 'Tue', '9:00 AM', '2:30 AM']\n",
      "['Colombo', 'Wed', '9:00 AM', '2:30 AM']\n",
      "['Colombo', 'Thu', '9:00 AM', '2:30 AM']\n",
      "['Colombo', 'Fri', '9:00 AM', '2:30 AM']\n",
      "['Colombo', 'Sat', '9:00 AM', '2:30 AM']\n",
      "['Colombo', 'Sun', '9:00 AM', '2:30 AM']\n",
      "['Versailles', 'Mon', nan, nan]\n",
      "['Versailles', 'Tue', '7:00 PM', '2:30 AM']\n",
      "['Versailles', 'Wed', '7:00 PM', '2:30 AM']\n",
      "['Versailles', 'Thu', '7:00 PM', '2:30 AM']\n",
      "['Versailles', 'Fri', '7:00 PM', '3:00 AM']\n",
      "['Versailles', 'Sat', '7:00 PM', '3:00 AM']\n",
      "['Versailles', 'Sun', '7:00 PM', '2:30 AM']\n",
      "['Garage 442', 'Mon', nan, nan]\n",
      "['Garage 442', 'Tue', nan, nan]\n",
      "['Garage 442', 'Wed', '10:30 PM', '2:30 AM']\n",
      "['Garage 442', 'Thu', '10:30 PM', '2:30 AM']\n",
      "['Garage 442', 'Fri', '10:30 PM', '3:00 AM']\n",
      "['Garage 442', 'Sat', '10:30 PM', '3:00 AM']\n",
      "['Garage 442', 'Sun', '8:00 PM', '1:00 AM']\n",
      "['Living Barcelona 1925', 'Mon', '12:00 PM', '3:00 AM']\n",
      "['Living Barcelona 1925', 'Tue', '12:00 PM', '3:00 AM']\n",
      "['Living Barcelona 1925', 'Wed', '12:00 PM', '3:00 AM']\n",
      "['Living Barcelona 1925', 'Thu', '12:00 PM', '3:00 AM']\n",
      "['Living Barcelona 1925', 'Fri', '12:00 PM', '3:00 AM']\n",
      "['Living Barcelona 1925', 'Sat', '12:00 PM', '3:00 AM']\n",
      "['Living Barcelona 1925', 'Sun', '12:00 PM', '3:00 AM']\n",
      "['Ginger', 'Mon', nan, nan]\n",
      "['Ginger', 'Tue', '7:30 PM', '2:30 AM']\n",
      "['Ginger', 'Wed', '7:30 PM', '2:30 AM']\n",
      "['Ginger', 'Thu', '7:30 PM', '2:30 AM']\n",
      "['Ginger', 'Fri', '7:30 PM', '3:00 AM']\n",
      "['Ginger', 'Sat', '7:30 PM', '3:00 AM']\n",
      "['Ginger', 'Sun', nan, nan]\n",
      "['Milk Bar & Bistro', 'Mon', '9:00 AM', '4:30 PM']\n",
      "['Milk Bar & Bistro', 'Tue', '9:00 AM', '4:30 PM']\n",
      "['Milk Bar & Bistro', 'Wed', '9:00 AM', '4:30 PM']\n",
      "['Milk Bar & Bistro', 'Thu', '9:00 AM', '2:00 AM']\n",
      "['Milk Bar & Bistro', 'Fri', '9:00 AM', '2:00 AM']\n",
      "['Milk Bar & Bistro', 'Sat', '9:00 AM', '2:00 AM']\n",
      "['Milk Bar & Bistro', 'Sun', '9:00 AM', '2:00 AM']\n",
      "['Butyklan', 'Mon', '6:00 PM', '3:00 AM']\n",
      "['Butyklan', 'Tue', '6:00 PM', '3:00 AM']\n",
      "['Butyklan', 'Wed', '6:00 PM', '3:00 AM']\n",
      "['Butyklan', 'Thu', '6:00 PM', '3:00 AM']\n",
      "['Butyklan', 'Fri', '6:00 PM', '3:00 AM']\n",
      "['Butyklan', 'Sat', '6:00 PM', '3:00 AM']\n",
      "['Butyklan', 'Sun', '6:00 PM', '3:00 AM']\n",
      "['The Fastnet', 'Mon', '12:00 PM', '2:00 AM']\n",
      "['The Fastnet', 'Tue', '12:00 PM', '2:00 AM']\n",
      "['The Fastnet', 'Wed', '12:00 PM', '2:00 AM']\n",
      "['The Fastnet', 'Thu', '12:00 PM', '2:00 AM']\n",
      "['The Fastnet', 'Fri', '12:00 PM', '2:00 AM']\n",
      "['The Fastnet', 'Sat', '12:00 PM', '2:00 AM']\n",
      "['The Fastnet', 'Sun', '12:00 PM', '2:00 AM']\n",
      "['El Jardinet d’Aribau', 'Mon', '5:00 PM', '2:00 AM']\n",
      "['El Jardinet d’Aribau', 'Tue', '5:00 PM', '2:00 AM']\n",
      "['El Jardinet d’Aribau', 'Wed', '5:00 PM', '2:00 AM']\n",
      "['El Jardinet d’Aribau', 'Thu', '5:00 PM', '2:00 AM']\n",
      "['El Jardinet d’Aribau', 'Fri', '5:00 PM', '3:00 AM']\n",
      "['El Jardinet d’Aribau', 'Sat', '5:00 PM', '3:00 AM']\n",
      "['El Jardinet d’Aribau', 'Sun', '5:00 PM', '2:00 AM']\n",
      "['Alpaca´s', 'Mon', nan, nan]\n",
      "['Alpaca´s', 'Tue', '2:00 PM', '3:00 AM']\n",
      "['Alpaca´s', 'Wed', '2:00 PM', '3:00 AM']\n",
      "['Alpaca´s', 'Thu', '2:00 PM', '3:00 AM']\n",
      "['Alpaca´s', 'Fri', '2:00 PM', '3:00 AM']\n",
      "['Alpaca´s', 'Sat', '2:00 PM', '3:00 AM']\n",
      "['Alpaca´s', 'Sun', '2:00 PM', '3:00 AM']\n",
      "['Síncopa', 'Mon', '6:00 PM', '2:30 AM']\n",
      "['Síncopa', 'Tue', '6:00 PM', '2:30 AM']\n",
      "['Síncopa', 'Wed', '6:00 PM', '2:30 AM']\n",
      "['Síncopa', 'Thu', '6:00 PM', '2:30 AM']\n",
      "['Síncopa', 'Fri', '6:00 PM', '3:00 AM']\n",
      "['Síncopa', 'Sat', '6:00 PM', '3:00 AM']\n",
      "['Síncopa', 'Sun', '6:00 PM', '2:30 AM']\n",
      "['Alfa Bar', 'Mon', nan, nan]\n",
      "['Alfa Bar', 'Tue', nan, nan]\n",
      "['Alfa Bar', 'Wed', '9:30 PM', '2:30 AM']\n",
      "['Alfa Bar', 'Thu', '9:30 PM', '2:30 AM']\n",
      "['Alfa Bar', 'Fri', '7:00 PM', '3:15 AM']\n",
      "['Alfa Bar', 'Sat', '9:30 PM', '3:15 AM']\n",
      "['Alfa Bar', 'Sun', nan, nan]\n",
      "['Botanic', 'Mon', '4:00 PM', '3:00 AM']\n",
      "['Botanic', 'Tue', '4:00 PM', '3:00 AM']\n",
      "['Botanic', 'Wed', '4:00 PM', '3:00 AM']\n",
      "['Botanic', 'Thu', '4:00 PM', '3:00 AM']\n",
      "['Botanic', 'Fri', '4:00 PM', '3:30 AM']\n",
      "['Botanic', 'Sat', '4:00 PM', '3:30 AM']\n",
      "['Botanic', 'Sun', '4:00 PM', '3:00 AM']\n",
      "['Sensi', 'Mon', '6:30 PM', '12:00 AM']\n",
      "['Sensi', 'Tue', '6:30 PM', '12:00 AM']\n",
      "['Sensi', 'Wed', '6:30 PM', '12:00 AM']\n",
      "['Sensi', 'Thu', '6:30 PM', '12:00 AM']\n",
      "['Sensi', 'Fri', '6:30 PM', '12:00 AM']\n",
      "['Sensi', 'Sat', '6:30 PM', '12:00 AM']\n",
      "['Sensi', 'Sun', '6:30 PM', '12:00 AM']\n",
      "['Rabipelao', 'Mon', '8:00 PM', '2:30 AM']\n",
      "['Rabipelao', 'Tue', '8:00 PM', '2:30 AM']\n",
      "['Rabipelao', 'Wed', '8:00 PM', '2:30 AM']\n",
      "['Rabipelao', 'Thu', '8:00 PM', '2:30 AM']\n",
      "['Rabipelao', 'Fri', nan, nan]\n",
      "['Rabipelao', 'Sat', '8:00 PM', '3:00 AM']\n",
      "['Rabipelao', 'Sun', '8:00 PM', '3:00 AM']\n",
      "['La Bodeguita Bright', 'Mon', '8:00 PM', '2:30 AM']\n",
      "['La Bodeguita Bright', 'Tue', '8:00 PM', '2:30 AM']\n",
      "['La Bodeguita Bright', 'Wed', '8:00 PM', '2:30 AM']\n",
      "['La Bodeguita Bright', 'Thu', '8:00 PM', '2:30 AM']\n",
      "['La Bodeguita Bright', 'Fri', '8:00 PM', '3:00 AM']\n",
      "['La Bodeguita Bright', 'Sat', '8:00 PM', '3:00 AM']\n",
      "['La Bodeguita Bright', 'Sun', '8:00 PM', '2:30 AM']\n",
      "['Bar Mut', 'Mon', '12:30 PM', '12:00 AM']\n",
      "['Bar Mut', 'Tue', '12:30 PM', '12:00 AM']\n",
      "['Bar Mut', 'Wed', '12:30 PM', '12:00 AM']\n",
      "['Bar Mut', 'Thu', '12:30 PM', '12:00 AM']\n",
      "['Bar Mut', 'Fri', '12:30 PM', '12:00 AM']\n",
      "['Bar Mut', 'Sat', '11:30 AM', '12:00 AM']\n",
      "['Bar Mut', 'Sun', '11:30 AM', '12:00 AM']\n",
      "['Caribbean Club', 'Mon', nan, nan]\n",
      "['Caribbean Club', 'Tue', '7:00 PM', '2:00 AM']\n",
      "['Caribbean Club', 'Wed', '7:00 PM', '2:00 AM']\n",
      "['Caribbean Club', 'Thu', '7:00 PM', '2:00 AM']\n",
      "['Caribbean Club', 'Fri', '7:00 PM', '2:00 AM']\n",
      "['Caribbean Club', 'Sat', '7:00 PM', '2:00 AM']\n",
      "['Caribbean Club', 'Sun', nan, nan]\n",
      "['Grill Room Bar Thonet', 'Mon', '12:00 PM', '2:00 AM']\n",
      "['Grill Room Bar Thonet', 'Tue', '12:00 PM', '2:00 AM']\n",
      "['Grill Room Bar Thonet', 'Wed', '12:00 PM', '2:00 AM']\n",
      "['Grill Room Bar Thonet', 'Thu', '12:00 PM', '2:00 AM']\n",
      "['Grill Room Bar Thonet', 'Fri', '12:00 PM', '2:00 AM']\n",
      "['Grill Room Bar Thonet', 'Sat', '12:00 PM', '2:00 AM']\n",
      "['Grill Room Bar Thonet', 'Sun', '12:00 PM', '2:00 AM']\n",
      "['Gracia Latina', 'Mon', '8:00 AM', '2:30 AM']\n",
      "['Gracia Latina', 'Tue', '8:00 AM', '2:30 AM']\n",
      "['Gracia Latina', 'Wed', '8:00 AM', '2:30 AM']\n",
      "['Gracia Latina', 'Thu', '8:00 AM', '2:30 AM']\n",
      "['Gracia Latina', 'Fri', '8:00 AM', '2:30 AM']\n",
      "['Gracia Latina', 'Sat', '8:00 AM', '2:30 AM']\n",
      "['Gracia Latina', 'Sun', '8:00 AM', '2:30 AM']\n",
      "['Mil Estones', 'Mon', '7:00 PM', '12:00 AM']\n",
      "['Mil Estones', 'Tue', '7:00 PM', '12:00 AM']\n",
      "['Mil Estones', 'Wed', '7:00 PM', '12:00 AM']\n",
      "['Mil Estones', 'Thu', '7:00 PM', '12:00 AM']\n",
      "['Mil Estones', 'Fri', '7:00 PM', '2:00 AM']\n",
      "['Mil Estones', 'Sat', '7:00 PM', '2:00 AM']\n",
      "['Mil Estones', 'Sun', '7:00 PM', '12:00 AM']\n",
      "['Pesca Salada', 'Mon', nan, nan]\n",
      "['Pesca Salada', 'Tue', '7:30 PM', '2:00 AM']\n",
      "['Pesca Salada', 'Wed', '7:30 PM', '2:00 AM']\n",
      "['Pesca Salada', 'Thu', '7:30 PM', '2:00 AM']\n",
      "['Pesca Salada', 'Fri', '7:30 PM', '3:00 AM']\n",
      "['Pesca Salada', 'Sat', '7:30 PM', '3:00 AM']\n",
      "['Pesca Salada', 'Sun', nan, nan]\n",
      "['Kaizen Afterwork', 'Mon', nan, nan]\n",
      "['Kaizen Afterwork', 'Tue', '6:00 PM', '2:30 AM']\n",
      "['Kaizen Afterwork', 'Wed', '6:00 PM', '2:30 AM']\n",
      "['Kaizen Afterwork', 'Thu', '6:00 PM', '2:30 AM']\n",
      "['Kaizen Afterwork', 'Fri', '6:00 PM', '3:00 AM']\n",
      "['Kaizen Afterwork', 'Sat', '6:00 PM', '3:00 AM']\n",
      "['Kaizen Afterwork', 'Sun', '6:00 PM', '2:30 AM']\n",
      "['Smoking Dog', 'Mon', '8:00 PM', '3:00 AM']\n",
      "['Smoking Dog', 'Tue', '8:00 PM', '3:00 AM']\n",
      "['Smoking Dog', 'Wed', '8:00 PM', '3:00 AM']\n",
      "['Smoking Dog', 'Thu', '8:00 PM', '3:00 AM']\n",
      "['Smoking Dog', 'Fri', '8:00 PM', '3:00 AM']\n",
      "['Smoking Dog', 'Sat', '8:00 PM', '3:00 AM']\n",
      "['Smoking Dog', 'Sun', '8:00 PM', '3:00 AM']\n",
      "['La Guayra', 'Mon', '7:30 AM', '7:00 PM']\n",
      "['La Guayra', 'Tue', '7:30 AM', '7:00 PM']\n",
      "['La Guayra', 'Wed', '7:30 AM', '7:00 PM']\n",
      "['La Guayra', 'Thu', '7:30 AM', '7:00 PM']\n",
      "['La Guayra', 'Fri', '7:30 AM', '7:00 PM']\n",
      "['La Guayra', 'Sat', '7:30 AM', '7:00 PM']\n",
      "['La Guayra', 'Sun', nan, nan]\n",
      "['Manchester', 'Mon', '7:00 PM', '2:30 AM']\n",
      "['Manchester', 'Tue', '7:00 PM', '2:30 AM']\n",
      "['Manchester', 'Wed', '7:00 PM', '2:30 AM']\n",
      "['Manchester', 'Thu', '7:00 PM', '2:30 AM']\n",
      "['Manchester', 'Fri', '7:00 PM', '3:00 AM']\n",
      "['Manchester', 'Sat', '7:00 PM', '3:00 AM']\n",
      "['Manchester', 'Sun', '7:00 PM', '2:30 AM']\n",
      "['Bar Malasang', 'Mon', nan, nan]\n",
      "['Bar Malasang', 'Tue', '9:00 AM', '12:30 AM']\n",
      "['Bar Malasang', 'Wed', '9:00 AM', '12:30 AM']\n",
      "['Bar Malasang', 'Thu', '9:00 AM', '12:30 AM']\n",
      "['Bar Malasang', 'Fri', '9:00 AM', '2:30 AM']\n",
      "['Bar Malasang', 'Sat', '11:00 AM', '2:30 AM']\n",
      "['Bar Malasang', 'Sun', '11:00 AM', '6:00 PM']\n",
      "['Mandri', 'Mon', '7:30 AM', '1:30 AM']\n",
      "['Mandri', 'Tue', '7:30 AM', '1:30 AM']\n",
      "['Mandri', 'Wed', '7:30 AM', '1:30 AM']\n",
      "['Mandri', 'Thu', '7:30 AM', '3:00 AM']\n",
      "['Mandri', 'Fri', '7:30 AM', '3:00 AM']\n",
      "['Mandri', 'Sat', '7:30 AM', '4:00 PM']\n",
      "['Mandri', 'Sun', '7:30 AM', '4:00 PM']\n",
      "['No Sweat Bar', 'Mon', '6:00 PM', '3:00 AM']\n",
      "['No Sweat Bar', 'Tue', '6:00 PM', '3:00 AM']\n",
      "['No Sweat Bar', 'Wed', '6:00 PM', '3:00 AM']\n",
      "['No Sweat Bar', 'Thu', '6:00 PM', '3:00 AM']\n",
      "['No Sweat Bar', 'Fri', '6:00 PM', '3:00 AM']\n",
      "['No Sweat Bar', 'Sat', '6:00 PM', '3:00 AM']\n",
      "['No Sweat Bar', 'Sun', '6:00 PM', '3:00 AM']\n",
      "['Mar de Copas', 'Mon', nan, nan]\n",
      "['Mar de Copas', 'Tue', nan, nan]\n",
      "['Mar de Copas', 'Wed', nan, nan]\n",
      "['Mar de Copas', 'Thu', '11:30 PM', '3:30 AM']\n",
      "['Mar de Copas', 'Fri', '11:30 PM', '3:30 AM']\n",
      "['Mar de Copas', 'Sat', '11:30 PM', '3:30 AM']\n",
      "['Mar de Copas', 'Sun', nan, nan]\n",
      "['Bodega del Onze', 'Mon', '7:00 PM', '2:00 AM']\n",
      "['Bodega del Onze', 'Tue', '7:00 PM', '2:00 AM']\n",
      "['Bodega del Onze', 'Wed', '7:00 PM', '2:00 AM']\n",
      "['Bodega del Onze', 'Thu', '7:00 PM', '2:00 AM']\n",
      "['Bodega del Onze', 'Fri', '7:00 PM', '3:00 AM']\n",
      "['Bodega del Onze', 'Sat', '7:00 PM', '3:00 AM']\n",
      "['Bodega del Onze', 'Sun', nan, nan]\n",
      "['Quilombo', 'Mon', nan, nan]\n",
      "['Quilombo', 'Tue', nan, nan]\n",
      "['Quilombo', 'Wed', '10:30 PM', '3:00 AM']\n",
      "['Quilombo', 'Thu', '10:30 PM', '3:00 AM']\n",
      "['Quilombo', 'Fri', '10:30 PM', '3:00 AM']\n",
      "['Quilombo', 'Sat', '10:30 PM', '3:00 AM']\n",
      "['Quilombo', 'Sun', nan, nan]\n",
      "['Pastís', 'Mon', '7:30 PM', '2:30 AM']\n",
      "['Pastís', 'Tue', '7:30 PM', '2:30 AM']\n",
      "['Pastís', 'Wed', '7:30 PM', '2:30 AM']\n",
      "['Pastís', 'Thu', '7:30 PM', '2:30 AM']\n",
      "['Pastís', 'Fri', '7:30 PM', '2:30 AM']\n",
      "['Pastís', 'Sat', '7:30 PM', '2:30 AM']\n",
      "['Pastís', 'Sun', nan, nan]\n",
      "['Coppelia Club', 'Mon', '7:00 PM', '3:00 AM']\n",
      "['Coppelia Club', 'Tue', '7:00 PM', '3:00 AM']\n",
      "['Coppelia Club', 'Wed', '7:00 PM', '3:00 AM']\n",
      "['Coppelia Club', 'Thu', '7:00 PM', '3:00 AM']\n",
      "['Coppelia Club', 'Fri', '7:00 PM', '3:00 AM']\n",
      "['Coppelia Club', 'Sat', '7:00 PM', '3:00 AM']\n",
      "['Coppelia Club', 'Sun', '7:00 PM', '3:00 AM']\n",
      "['Opera Samfaina', 'Mon', '7:00 PM', '12:30 AM']\n",
      "['Opera Samfaina', 'Tue', '7:00 PM', '12:30 AM']\n",
      "['Opera Samfaina', 'Wed', '7:00 PM', '12:30 AM']\n",
      "['Opera Samfaina', 'Thu', '7:00 PM', '1:30 AM']\n",
      "['Opera Samfaina', 'Fri', '1:00 PM', '1:30 AM']\n",
      "['Opera Samfaina', 'Sat', '1:00 PM', '1:30 AM']\n",
      "['Opera Samfaina', 'Sun', '1:00 PM', '12:30 AM']\n",
      "['Black Velvet', 'Mon', '6:00 PM', '3:00 AM']\n",
      "['Black Velvet', 'Tue', '6:00 PM', '3:00 AM']\n",
      "['Black Velvet', 'Wed', '6:00 PM', '3:00 AM']\n",
      "['Black Velvet', 'Thu', '6:00 PM', '3:00 AM']\n",
      "['Black Velvet', 'Fri', '6:00 PM', '3:00 AM']\n",
      "['Black Velvet', 'Sat', '6:00 PM', '3:00 AM']\n",
      "['Black Velvet', 'Sun', '6:00 PM', '3:00 AM']\n",
      "['Night and Day', 'Mon', '8:00 PM', '2:30 AM']\n",
      "['Night and Day', 'Tue', '8:00 PM', '2:30 AM']\n",
      "['Night and Day', 'Wed', '8:00 PM', '2:30 AM']\n",
      "['Night and Day', 'Thu', '8:00 PM', '2:30 AM']\n",
      "['Night and Day', 'Fri', '8:00 PM', '2:30 AM']\n",
      "['Night and Day', 'Sat', '8:00 PM', '2:30 AM']\n",
      "['Night and Day', 'Sun', '8:00 PM', '2:30 AM']\n",
      "['Thales', 'Mon', '8:30 AM', '2:00 AM']\n",
      "['Thales', 'Tue', '8:30 AM', '2:00 AM']\n",
      "['Thales', 'Wed', '8:30 AM', '2:00 AM']\n",
      "['Thales', 'Thu', '8:30 AM', '2:00 AM']\n",
      "['Thales', 'Fri', '8:30 AM', '2:00 AM']\n",
      "['Thales', 'Sat', '8:30 AM', '2:00 AM']\n",
      "['Thales', 'Sun', '8:30 AM', '2:00 AM']\n",
      "['Homo Sibaris', 'Mon', '5:30 PM', '12:00 AM']\n",
      "['Homo Sibaris', 'Tue', '5:30 PM', '12:00 AM']\n",
      "['Homo Sibaris', 'Wed', '5:30 PM', '12:00 AM']\n",
      "['Homo Sibaris', 'Thu', '5:30 PM', '12:00 AM']\n",
      "['Homo Sibaris', 'Fri', '5:30 PM', '2:00 AM']\n",
      "['Homo Sibaris', 'Sat', '5:30 PM', '2:00 AM']\n",
      "['Homo Sibaris', 'Sun', '5:30 PM', '12:00 AM']\n",
      "['El Circulo', 'Mon', nan, nan]\n",
      "['El Circulo', 'Tue', '7:00 PM', '3:00 AM']\n",
      "['El Circulo', 'Wed', '7:00 PM', '3:00 AM']\n",
      "['El Circulo', 'Thu', '7:00 PM', '3:00 AM']\n",
      "['El Circulo', 'Fri', '7:00 PM', '3:00 AM']\n",
      "['El Circulo', 'Sat', '7:00 PM', '3:00 AM']\n",
      "['El Circulo', 'Sun', '7:00 PM', '3:00 AM']\n",
      "['Gris', 'Mon', '7:00 PM', '3:00 AM']\n",
      "['Gris', 'Tue', '7:00 PM', '3:00 AM']\n",
      "['Gris', 'Wed', '7:00 PM', '3:00 AM']\n",
      "['Gris', 'Thu', '7:00 PM', '3:00 AM']\n",
      "['Gris', 'Fri', '7:00 PM', '3:00 AM']\n",
      "['Gris', 'Sat', '7:00 PM', '3:00 AM']\n",
      "['Gris', 'Sun', '7:00 PM', '3:00 AM']\n",
      "['Bar Manolo', 'Mon', '10:00 PM', '2:30 AM']\n",
      "['Bar Manolo', 'Tue', '10:00 PM', '2:30 AM']\n",
      "['Bar Manolo', 'Wed', '10:00 PM', '2:30 AM']\n",
      "['Bar Manolo', 'Thu', '10:00 PM', '2:30 AM']\n",
      "['Bar Manolo', 'Fri', '10:00 PM', '3:00 AM']\n",
      "['Bar Manolo', 'Sat', '10:00 PM', '3:00 AM']\n",
      "['Bar Manolo', 'Sun', '10:00 PM', '2:30 AM']\n",
      "['Foxy Bar', 'Mon', '4:00 PM', '2:00 AM']\n",
      "['Foxy Bar', 'Tue', '4:00 PM', '2:00 AM']\n",
      "['Foxy Bar', 'Wed', '4:00 PM', '2:00 AM']\n",
      "['Foxy Bar', 'Thu', '4:00 PM', '2:00 AM']\n",
      "['Foxy Bar', 'Fri', '5:00 PM', '3:00 AM']\n",
      "['Foxy Bar', 'Sat', '5:00 PM', '3:00 AM']\n",
      "['Foxy Bar', 'Sun', '4:00 PM', '2:00 AM']\n",
      "['BeeriVins', 'Mon', nan, nan]\n",
      "['BeeriVins', 'Tue', '10:00 AM', '2:30 PM']\n",
      "['BeeriVins', 'Wed', '5:00 PM', '10:00 PM']\n",
      "['BeeriVins', 'Thu', '10:00 AM', '2:30 PM']\n",
      "['BeeriVins', 'Fri', '5:00 PM', '10:00 PM']\n",
      "['BeeriVins', 'Sat', '10:00 AM', '2:30 PM']\n",
      "['BeeriVins', 'Sun', '5:00 PM', '10:00 PM']\n",
      "['Aloha', 'Mon', '6:00 PM', '2:30 AM']\n",
      "['Aloha', 'Tue', '6:00 PM', '2:30 AM']\n",
      "['Aloha', 'Wed', '6:00 PM', '2:30 AM']\n",
      "['Aloha', 'Thu', '6:00 PM', '2:30 AM']\n",
      "['Aloha', 'Fri', '6:00 PM', '3:00 AM']\n",
      "['Aloha', 'Sat', '6:00 PM', '3:00 AM']\n",
      "['Aloha', 'Sun', '6:00 PM', '2:30 AM']\n",
      "['Pasapalo', 'Mon', '7:00 AM', '2:30 AM']\n",
      "['Pasapalo', 'Tue', '7:00 AM', '2:30 AM']\n",
      "['Pasapalo', 'Wed', '7:00 AM', '2:30 AM']\n",
      "['Pasapalo', 'Thu', '7:00 AM', '2:30 AM']\n",
      "['Pasapalo', 'Fri', '7:00 PM', '3:00 AM']\n",
      "['Pasapalo', 'Sat', '7:00 PM', '3:00 AM']\n",
      "['Pasapalo', 'Sun', '1:30 PM', '1:00 AM']\n",
      "['Wild Rover Barcelona', 'Mon', '1:00 PM', '2:30 AM']\n",
      "['Wild Rover Barcelona', 'Tue', '1:00 PM', '2:30 AM']\n",
      "['Wild Rover Barcelona', 'Wed', '11:00 AM', '2:30 AM']\n",
      "['Wild Rover Barcelona', 'Thu', '11:00 AM', '2:30 AM']\n",
      "['Wild Rover Barcelona', 'Fri', '11:00 AM', '3:00 AM']\n",
      "['Wild Rover Barcelona', 'Sat', '11:00 AM', '3:00 AM']\n",
      "['Wild Rover Barcelona', 'Sun', '11:00 AM', '2:30 AM']\n",
      "['Red Rocket', 'Mon', nan, nan]\n",
      "['Red Rocket', 'Tue', '7:30 PM', '2:30 AM']\n",
      "['Red Rocket', 'Wed', '7:30 PM', '2:30 AM']\n",
      "['Red Rocket', 'Thu', '7:30 PM', '2:30 AM']\n",
      "['Red Rocket', 'Fri', '7:30 PM', '3:00 AM']\n",
      "['Red Rocket', 'Sat', '7:30 PM', '3:00 AM']\n",
      "['Red Rocket', 'Sun', '6:00 AM', '10:00 AM']\n",
      "['Mexcla', 'Mon', nan, nan]\n",
      "['Mexcla', 'Tue', '6:00 PM', '12:00 AM']\n",
      "['Mexcla', 'Wed', '6:00 PM', '12:00 AM']\n",
      "['Mexcla', 'Thu', '6:00 PM', '12:00 AM']\n",
      "['Mexcla', 'Fri', '1:00 PM', '1:00 AM']\n",
      "['Mexcla', 'Sat', '1:00 PM', '1:00 AM']\n",
      "['Mexcla', 'Sun', '1:00 PM', '4:00 PM']\n",
      "['No Sé', 'Mon', '8:00 PM', '2:30 AM']\n",
      "['No Sé', 'Tue', '8:00 PM', '2:30 AM']\n",
      "['No Sé', 'Wed', '8:00 PM', '2:30 AM']\n",
      "['No Sé', 'Thu', '8:00 PM', '2:30 AM']\n",
      "['No Sé', 'Fri', '8:00 PM', '2:30 AM']\n",
      "['No Sé', 'Sat', '8:00 PM', '2:30 AM']\n",
      "['No Sé', 'Sun', '8:00 PM', '2:30 AM']\n",
      "['Bloomsday Literary Pub', 'Mon', '5:00 PM', '2:00 AM']\n",
      "['Bloomsday Literary Pub', 'Tue', '5:00 PM', '2:00 AM']\n",
      "['Bloomsday Literary Pub', 'Wed', '5:00 PM', '2:00 AM']\n",
      "['Bloomsday Literary Pub', 'Thu', '5:00 PM', '2:00 AM']\n",
      "['Bloomsday Literary Pub', 'Fri', '5:00 PM', '3:00 AM']\n",
      "['Bloomsday Literary Pub', 'Sat', '12:00 PM', '3:00 AM']\n",
      "['Bloomsday Literary Pub', 'Sun', '12:00 PM', '2:00 AM']\n",
      "['La Pubilla del Taulat', 'Mon', nan, nan]\n",
      "['La Pubilla del Taulat', 'Tue', '10:00 AM', '10:00 PM']\n",
      "['La Pubilla del Taulat', 'Wed', '10:00 AM', '10:00 PM']\n",
      "['La Pubilla del Taulat', 'Thu', '10:00 AM', '10:00 PM']\n",
      "['La Pubilla del Taulat', 'Fri', '10:00 AM', '12:00 AM']\n",
      "['La Pubilla del Taulat', 'Sat', '10:00 AM', '5:00 PM']\n",
      "['La Pubilla del Taulat', 'Sun', '10:00 AM', '5:00 PM']\n",
      "['Piacere Caffe', 'Mon', '2:00 PM', '12:00 AM']\n",
      "['Piacere Caffe', 'Tue', '10:00 AM', '12:30 AM']\n",
      "['Piacere Caffe', 'Wed', '10:00 AM', '12:30 AM']\n",
      "['Piacere Caffe', 'Thu', '10:00 AM', '12:30 AM']\n",
      "['Piacere Caffe', 'Fri', '10:00 AM', '2:00 AM']\n",
      "['Piacere Caffe', 'Sat', '10:00 AM', '2:00 AM']\n",
      "['Piacere Caffe', 'Sun', '10:00 AM', '12:00 AM']\n",
      "['D9', 'Mon', '6:00 PM', '2:30 AM']\n",
      "['D9', 'Tue', '6:00 PM', '2:30 AM']\n",
      "['D9', 'Wed', '6:00 PM', '2:30 AM']\n",
      "['D9', 'Thu', '6:00 PM', '2:30 AM']\n",
      "['D9', 'Fri', '6:00 PM', '3:00 AM']\n",
      "['D9', 'Sat', '6:00 PM', '3:00 AM']\n",
      "['D9', 'Sun', '6:00 PM', '2:30 AM']\n",
      "['Vanguard', 'Mon', '7:00 AM', '5:00 PM']\n",
      "['Vanguard', 'Tue', '7:30 PM', '12:00 AM']\n",
      "['Vanguard', 'Wed', '7:00 AM', '5:00 PM']\n",
      "['Vanguard', 'Thu', '7:30 PM', '12:00 AM']\n",
      "['Vanguard', 'Fri', '7:00 AM', '5:00 PM']\n",
      "['Vanguard', 'Sat', '7:30 PM', '12:00 AM']\n",
      "['Vanguard', 'Sun', '7:00 AM', '5:00 PM']\n",
      "['That’s the Way', 'Mon', '6:30 PM', '2:30 AM']\n",
      "['That’s the Way', 'Tue', '6:30 PM', '2:30 AM']\n",
      "['That’s the Way', 'Wed', '6:30 PM', '2:30 AM']\n",
      "['That’s the Way', 'Thu', '6:30 PM', '2:30 AM']\n",
      "['That’s the Way', 'Fri', '6:00 PM', '3:00 AM']\n",
      "['That’s the Way', 'Sat', '6:00 PM', '3:00 AM']\n",
      "['That’s the Way', 'Sun', '6:30 PM', '2:30 AM']\n",
      "['Sifó', 'Mon', '9:00 AM', '2:30 AM']\n",
      "['Sifó', 'Tue', '9:00 AM', '2:30 AM']\n",
      "['Sifó', 'Wed', '9:00 AM', '2:30 AM']\n",
      "['Sifó', 'Thu', '9:00 AM', '2:30 AM']\n",
      "['Sifó', 'Fri', '9:00 AM', '3:00 AM']\n",
      "['Sifó', 'Sat', '9:00 AM', '3:00 AM']\n",
      "['Sifó', 'Sun', '9:00 AM', '2:30 AM']\n",
      "['Kè?', 'Mon', '11:00 AM', '2:30 AM']\n",
      "['Kè?', 'Tue', '11:00 AM', '2:30 AM']\n",
      "['Kè?', 'Wed', '11:00 AM', '2:30 AM']\n",
      "['Kè?', 'Thu', '11:00 AM', '2:30 AM']\n",
      "['Kè?', 'Fri', '11:00 AM', '3:00 AM']\n",
      "['Kè?', 'Sat', '12:00 PM', '3:00 AM']\n",
      "['Kè?', 'Sun', '12:00 PM', '2:30 AM']\n"
     ]
    }
   ],
   "source": [
    "opening_hours_df = pd.DataFrame(opening_hours)\n",
    "\n",
    "for i in range(len(opening_hours_df)):\n",
    "    print( list(opening_hours_df.iloc[i, :]) ) "
   ]
  },
  {
   "cell_type": "markdown",
   "metadata": {},
   "source": [
    "#### Amenities"
   ]
  },
  {
   "cell_type": "markdown",
   "metadata": {},
   "source": [
    "#### Pub dataset"
   ]
  }
 ],
 "metadata": {
  "interpreter": {
   "hash": "db4d94f7962dcc818ea238f62a69636fa41bd28f5daf8a9f9234f6ae986cf5d4"
  },
  "kernelspec": {
   "display_name": "Python 3.8.12 ('strive')",
   "language": "python",
   "name": "python3"
  },
  "language_info": {
   "codemirror_mode": {
    "name": "ipython",
    "version": 3
   },
   "file_extension": ".py",
   "mimetype": "text/x-python",
   "name": "python",
   "nbconvert_exporter": "python",
   "pygments_lexer": "ipython3",
   "version": "3.8.12"
  },
  "orig_nbformat": 4
 },
 "nbformat": 4,
 "nbformat_minor": 2
}
